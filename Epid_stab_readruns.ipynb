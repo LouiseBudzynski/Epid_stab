{
 "cells": [
  {
   "cell_type": "code",
   "execution_count": 1,
   "metadata": {},
   "outputs": [],
   "source": [
    "using DelimitedFiles, Plots, Statistics"
   ]
  },
  {
   "cell_type": "code",
   "execution_count": 2,
   "metadata": {},
   "outputs": [],
   "source": [
    "using CurveFit, LaTeXStrings"
   ]
  },
  {
   "cell_type": "markdown",
   "metadata": {},
   "source": [
    "# read 1 run"
   ]
  },
  {
   "cell_type": "code",
   "execution_count": null,
   "metadata": {},
   "outputs": [],
   "source": []
  },
  {
   "cell_type": "code",
   "execution_count": null,
   "metadata": {
    "scrolled": true
   },
   "outputs": [],
   "source": [
    "path = \"tmp_stab/res_epid_stab/\""
   ]
  },
  {
   "cell_type": "code",
   "execution_count": null,
   "metadata": {},
   "outputs": [],
   "source": [
    "extension= \"_run101\"\n",
    "#extension = \"\"\n",
    "T=8\n",
    "LAM=1.0\n",
    "GAM=0.0155\n",
    "N=50000\n",
    "iter=500\n",
    "\n",
    "TIT = \"T=\"*string(T)*\", λ=\"*string(LAM)*\", γ=\"*string(GAM)*\", N=\"*string(N)\n",
    "@show TIT\n",
    "foldergam=\"gam\"*string(GAM)*\"/\"\n",
    "nameparams=\"T\"*string(T)*\"_LAM\"*string(LAM)*\"_GAM\"*string(GAM)*\"_N\"*string(N)*\"_iter\"*string(iter)\n",
    "\n",
    "namefile = path*foldergam*\"fileres_epid_stab_\"*nameparams*extension\n",
    "@show namefile\n",
    "file = readdlm(namefile);\n",
    "res = file[3:end,1:4];\n",
    "\n",
    "iter_full=findall(.!isnan.(res[:,1]));\n",
    "@show iter_full[end]\n",
    "\n",
    "pF=plot(xaxis=\"iter\", yaxis=\"free energy\", title=TIT);\n",
    "plot!(pF,res[iter_full,3], label=\"\")\n",
    "\n",
    "perr = plot(xaxis=\"iter\", yaxis=\"err\");\n",
    "plot!(perr, res[iter_full[12:end],2], label=\"\")\n",
    "\n",
    "plot(pF, perr, layout=(1,2), size=(800,300), margin=5*Plots.mm)"
   ]
  },
  {
   "cell_type": "code",
   "execution_count": null,
   "metadata": {},
   "outputs": [],
   "source": []
  },
  {
   "cell_type": "code",
   "execution_count": null,
   "metadata": {
    "scrolled": true
   },
   "outputs": [],
   "source": [
    "halfiter=Int64(iter/2)+2\n",
    "@show halfiter\n",
    "\n",
    "iter_Δ = findall([(!isinf(res[j,4])&&!isnan(res[j,4])) for j in iter_full])\n",
    "@show  res[iter_Δ[end],4]\n",
    "log_Δ = log.(res[iter_Δ[halfiter:end],4])\n",
    "pΔ = plot(xaxis=\"iter\", yaxis=\"ln(Δ)\");\n",
    "plot!(pΔ, log_Δ, label=\"\")\n",
    "\n",
    "if res[iter_Δ[end],4] < 1\n",
    "    ratio_Δ = [abs(res[i,4]/res[i-1,4]) for i in iter_Δ[halfiter:end]]\n",
    "    frac_cut = 3\n",
    "    lsta = Int64(round(length(ratio_Δ)/frac_cut))\n",
    "    lend = length(ratio_Δ)-lsta\n",
    "    lmid=Int64(round((lend+lsta)/2))\n",
    "    vline!(pΔ, [lsta], color=4, label=\"\")\n",
    "    vline!(pΔ, [lend], color=4, label=\"\")\n",
    "\n",
    "    #geometrical mean\n",
    "    gmΔ = prod(ratio_Δ[lsta:lend])^(1/length(lsta:lend))\n",
    "    #@show gmΔ\n",
    "    diff = log(gmΔ)*lmid - log_Δ[lmid] \n",
    "    #plot!(pΔ, log(gmΔ).*(1:length(ratio_Δ)).-diff, label=\"\")\n",
    "    \n",
    "    #linear fit\n",
    "    log_Δ_cut = log_Δ[lsta:lend]\n",
    "    (a,b)=linear_fit(lsta:lend, log_Δ_cut)\n",
    "    sfitΔ = exp(b)\n",
    "    @show sfitΔ\n",
    "    diff_fit = b*lmid - log_Δ[lmid]  \n",
    "    plot!(pΔ, b.*(1:length(ratio_Δ)).-diff_fit, label=\"fit\")\n",
    "\n",
    "    pratio = plot();\n",
    "    plot!(pratio,ratio_Δ)\n",
    "    hline!(pratio, [gmΔ], label=\"geo mean\")\n",
    "    vline!(pratio, [lsta], color=4, label=\"\")\n",
    "    vline!(pratio, [lend], color=4, label=\"\")\n",
    "\n",
    "    plot(pΔ)#, pratio, layout=(1,2), size=(800,300), margin=5*Plots.mm)\n",
    "else\n",
    "    gmΔ=Inf\n",
    "    plot(pΔ)\n",
    "end"
   ]
  },
  {
   "cell_type": "code",
   "execution_count": null,
   "metadata": {},
   "outputs": [],
   "source": [
    "p1run = plot(pF, perr, pΔ, layout=(1,3), size=(1000,300), margin=5*Plots.mm)"
   ]
  },
  {
   "cell_type": "code",
   "execution_count": null,
   "metadata": {},
   "outputs": [],
   "source": [
    "mean(res[halfiter:end-1,3]), std(res[halfiter:end-1,3])"
   ]
  },
  {
   "cell_type": "code",
   "execution_count": null,
   "metadata": {},
   "outputs": [],
   "source": [
    "#savefig(p1run, \"freen_err_stab_T\"*string(T)*\"_λ\"*string(LAM)*\"_γ\"*string(GAM)*\"_N\"*string(N)*\".pdf\")"
   ]
  },
  {
   "cell_type": "markdown",
   "metadata": {},
   "source": [
    "# loop on γ (10 runs per γ)"
   ]
  },
  {
   "cell_type": "code",
   "execution_count": 3,
   "metadata": {},
   "outputs": [
    {
     "data": {
      "text/plain": [
       "10"
      ]
     },
     "execution_count": 3,
     "metadata": {},
     "output_type": "execute_result"
    }
   ],
   "source": [
    "T=8\n",
    "LAM=1.0\n",
    "path = \"tmp_stab/res_epid_stab/\"\n",
    "pfits = plot(xaxis=\"γ\", title=\"stability parameter: T=\"*string(T)*\", λ=\"*string(LAM));\n",
    "N=50000\n",
    "iter=500\n",
    "\n",
    "runs_range = 101:110\n",
    "γ16 = [0.016, 0.0165, 0.0167, 0.0168]\n",
    "γ17 = [0.017, 0.0172, 0.0173, 0.0175, 0.0177, 0.0178]\n",
    "γ18 = [0.018, 0.0181, 0.0182, 0.0183, 0.0185]\n",
    "γ_range=vcat([0.0155], γ16, γ17, γ18, [0.019, 0.02, 0.021]);\n",
    "nbruns = length(runs_range)"
   ]
  },
  {
   "cell_type": "code",
   "execution_count": 4,
   "metadata": {},
   "outputs": [],
   "source": [
    "gam_res = zeros(length(γ_range), length(runs_range));\n",
    "err_res = zeros(length(γ_range), length(runs_range));\n",
    "for iγ in 1:length(γ_range)\n",
    "    for irun in 1:length(runs_range)\n",
    "        run=runs_range[irun]\n",
    "        GAM=γ_range[iγ]\n",
    "\n",
    "        foldergam=\"gam\"*string(GAM)*\"/\"\n",
    "        nameparams = \"_T\"*string(T)*\"_LAM\"*string(LAM)*\"_GAM\"*string(GAM)*\"_N\"*string(N)*\"_iter\"*string(iter)\n",
    "        extension = \"_run\"\n",
    "        namefile = path*foldergam*\"fileres_epid_stab\"*nameparams*extension*string(run)\n",
    "\n",
    "        file = readdlm(namefile);\n",
    "        \n",
    "        res = file[3:end,1:4]\n",
    "        iter_full=findall(.!isnan.(res[:,1]))\n",
    "        halfiter=Int64(iter/2)+2\n",
    "        iter_Δ = findall([(!isinf(res[j,4])&&!isnan(res[j,4])) for j in iter_full])\n",
    "\n",
    "        if res[iter_Δ[end],4] < 1\n",
    "            #linear fit\n",
    "            ratio_Δ = [abs(res[i,4]/res[i-1,4]) for i in iter_Δ[halfiter:end]]\n",
    "            frac_cut = 3\n",
    "            lsta = Int64(round(length(ratio_Δ)/frac_cut))\n",
    "            lend = length(ratio_Δ)-lsta\n",
    "            log_Δ = log.(res[iter_Δ[halfiter:end],4])\n",
    "            log_Δ_cut = log_Δ[lsta:lend]\n",
    "            (a,b)=linear_fit(lsta:lend, log_Δ_cut)\n",
    "            sfitΔ = exp(b)\n",
    "        else\n",
    "            sfitΔ=Inf\n",
    "        end\n",
    "        \n",
    "        if (run==108 && GAM==0.0183) sfitΔ = Inf end #remove runs with jump in the slope\n",
    "\n",
    "        err=std(res[halfiter:end-1,3]) #res[end-1,2]\n",
    "        err_res[iγ,irun]=err\n",
    "        #@show GAM, run, err, sfitΔ\n",
    "        \n",
    "        gam_res[iγ,irun]=sfitΔ\n",
    "    end\n",
    "end"
   ]
  },
  {
   "cell_type": "code",
   "execution_count": 5,
   "metadata": {},
   "outputs": [],
   "source": [
    "mean_err = zeros(length(γ_range))\n",
    "std_err = zeros(length(γ_range));\n",
    "for iγ in 1:length(γ_range)\n",
    "    γ=γ_range[iγ]\n",
    "    mean_err[iγ]=mean(err_res[iγ,:])\n",
    "    std_err[iγ]=std(err_res[iγ,:])\n",
    "end"
   ]
  },
  {
   "cell_type": "code",
   "execution_count": 6,
   "metadata": {},
   "outputs": [
    {
     "data": {
      "text/plain": [
       "10×19 Matrix{Float64}:\n",
       " Inf        Inf         0.850123   0.831416  …  0.63554   0.567681  0.509293\n",
       " Inf         0.902744   0.861454  Inf           0.634477  0.569053  0.508746\n",
       " Inf        Inf         0.851928   0.829432     0.635395  0.568571  0.50865\n",
       " Inf         0.902816   0.851136   0.83021      0.635916  0.567801  0.508484\n",
       " Inf        Inf        Inf         0.830722     0.635467  0.56795   0.509062\n",
       " Inf        Inf        Inf         0.829266  …  0.634206  0.56764   0.508799\n",
       "  0.972545  Inf        Inf        Inf           0.634965  0.568139  0.508814\n",
       " Inf        Inf         0.849459   0.829914     0.634667  0.568408  0.509098\n",
       "  0.962111   0.910097  Inf         0.830856     0.635236  0.568025  0.510173\n",
       " Inf        Inf        Inf         0.829662     0.636548  0.568533  0.508632"
      ]
     },
     "execution_count": 6,
     "metadata": {},
     "output_type": "execute_result"
    }
   ],
   "source": [
    "permutedims(gam_res)"
   ]
  },
  {
   "cell_type": "code",
   "execution_count": 7,
   "metadata": {},
   "outputs": [
    {
     "name": "stdout",
     "output_type": "stream",
     "text": [
      "(γ, indicesconv) = (0.0155, Bool[0, 0, 0, 0, 0, 0, 1, 0, 1, 0])\n",
      "(γ, indicesconv) = (0.016, Bool[0, 1, 0, 1, 0, 0, 0, 0, 1, 0])\n",
      "(γ, indicesconv) = (0.0165, Bool[1, 1, 1, 1, 0, 0, 0, 1, 0, 0])\n",
      "(γ, indicesconv) = (0.0167, Bool[1, 0, 1, 1, 1, 1, 0, 1, 1, 1])\n",
      "(γ, indicesconv) = (0.0168, Bool[1, 1, 1, 1, 1, 1, 0, 0, 0, 1])\n",
      "(γ, indicesconv) = (0.017, Bool[1, 1, 1, 1, 0, 1, 1, 1, 1, 0])\n",
      "(γ, indicesconv) = (0.0172, Bool[1, 1, 1, 1, 1, 1, 1, 1, 1, 1])\n",
      "(γ, indicesconv) = (0.0173, Bool[0, 1, 1, 1, 0, 1, 1, 1, 1, 1])\n",
      "(γ, indicesconv) = (0.0175, Bool[1, 1, 1, 1, 1, 1, 1, 1, 1, 1])\n",
      "(γ, indicesconv) = (0.0177, Bool[1, 1, 1, 1, 1, 1, 1, 1, 1, 1])\n",
      "(γ, indicesconv) = (0.0178, Bool[1, 1, 1, 1, 0, 1, 1, 1, 1, 1])\n",
      "(γ, indicesconv) = (0.018, Bool[1, 1, 1, 1, 1, 1, 1, 0, 1, 1])\n",
      "(γ, indicesconv) = (0.0181, Bool[1, 1, 1, 1, 1, 1, 1, 1, 1, 1])\n",
      "(γ, indicesconv) = (0.0182, Bool[1, 1, 1, 1, 1, 1, 1, 0, 1, 1])\n",
      "(γ, indicesconv) = (0.0183, Bool[1, 1, 1, 1, 1, 1, 1, 0, 1, 1])\n",
      "(γ, indicesconv) = (0.0185, Bool[1, 1, 1, 1, 1, 1, 1, 1, 1, 1])\n",
      "(γ, indicesconv) = (0.019, Bool[1, 1, 1, 1, 1, 1, 1, 1, 1, 1])\n",
      "(γ, indicesconv) = (0.02, Bool[1, 1, 1, 1, 1, 1, 1, 1, 1, 1])\n",
      "(γ, indicesconv) = (0.021, Bool[1, 1, 1, 1, 1, 1, 1, 1, 1, 1])\n"
     ]
    }
   ],
   "source": [
    "frac_conv = sum(.!isinf.(gam_res), dims=2)./length(runs_range)\n",
    "mean_stab = zeros(length(γ_range))\n",
    "std_stab = zeros(length(γ_range));\n",
    "for iγ in 1:length(γ_range)\n",
    "    γ=γ_range[iγ]\n",
    "    indicesconv=.!isinf.(gam_res[iγ,:])\n",
    "    @show γ, indicesconv\n",
    "    mean_stab[iγ]=mean(gam_res[iγ,indicesconv])\n",
    "    std_stab[iγ]=std(gam_res[iγ,indicesconv])\n",
    "end"
   ]
  },
  {
   "cell_type": "code",
   "execution_count": 8,
   "metadata": {},
   "outputs": [
    {
     "data": {
      "text/plain": [
       "19×3 Matrix{Float64}:\n",
       " 0.0155  0.967328  0.00737751\n",
       " 0.016   0.905219  0.00422493\n",
       " 0.0165  0.85282   0.00491798\n",
       " 0.0167  0.830185  0.00075717\n",
       " 0.0168  0.821375  0.00146457\n",
       " 0.017   0.800748  0.000845929\n",
       " 0.0172  0.782139  0.000712235\n",
       " 0.0173  0.772935  0.000516044\n",
       " 0.0175  0.75538   0.000793635\n",
       " 0.0177  0.737301  0.000724937\n",
       " 0.0178  0.729219  0.000836892\n",
       " 0.018   0.711964  0.000845549\n",
       " 0.0181  0.703807  0.000920449\n",
       " 0.0182  0.696023  0.000561499\n",
       " 0.0183  0.687711  0.000743967\n",
       " 0.0185  0.672027  0.000674383\n",
       " 0.019   0.635242  0.00069829\n",
       " 0.02    0.56818   0.000453875\n",
       " 0.021   0.508975  0.000486742"
      ]
     },
     "execution_count": 8,
     "metadata": {},
     "output_type": "execute_result"
    }
   ],
   "source": [
    "hcat(γ_range, mean_stab,std_stab)"
   ]
  },
  {
   "cell_type": "code",
   "execution_count": 9,
   "metadata": {},
   "outputs": [
    {
     "data": {
      "text/plain": [
       "3-element Vector{Float64}:\n",
       "    4.232104324063489\n",
       " -306.0917638003853\n",
       " 6139.609261523196"
      ]
     },
     "execution_count": 9,
     "metadata": {},
     "output_type": "execute_result"
    }
   ],
   "source": [
    "fit_range_plot=0.015:0.001:0.021;\n",
    "(a0,a1,a2)=poly_fit(γ_range, mean_stab, 2)"
   ]
  },
  {
   "cell_type": "code",
   "execution_count": 10,
   "metadata": {},
   "outputs": [
    {
     "data": {
      "text/plain": [
       "(0.015183311081921688, 0.03467194041081679)"
      ]
     },
     "execution_count": 10,
     "metadata": {},
     "output_type": "execute_result"
    }
   ],
   "source": [
    "discrim=a1^2-4*a2*(a0-1)\n",
    "solm, solp = (-a1-sqrt(discrim))/(2*a2), (-a1+sqrt(discrim))/(2*a2)"
   ]
  },
  {
   "cell_type": "code",
   "execution_count": 11,
   "metadata": {},
   "outputs": [
    {
     "data": {
      "image/svg+xml": [
       "<?xml version=\"1.0\" encoding=\"utf-8\"?>\n",
       "<svg xmlns=\"http://www.w3.org/2000/svg\" xmlns:xlink=\"http://www.w3.org/1999/xlink\" width=\"800\" height=\"400\" viewBox=\"0 0 3200 1600\">\n",
       "<defs>\n",
       "  <clipPath id=\"clip900\">\n",
       "    <rect x=\"0\" y=\"0\" width=\"3200\" height=\"1600\"/>\n",
       "  </clipPath>\n",
       "</defs>\n",
       "<path clip-path=\"url(#clip900)\" d=\"M0 1600 L3200 1600 L3200 0 L0 0  Z\" fill=\"#ffffff\" fill-rule=\"evenodd\" fill-opacity=\"1\"/>\n",
       "<defs>\n",
       "  <clipPath id=\"clip901\">\n",
       "    <rect x=\"640\" y=\"0\" width=\"2241\" height=\"1600\"/>\n",
       "  </clipPath>\n",
       "</defs>\n",
       "<path clip-path=\"url(#clip900)\" d=\"M294.402 1364.96 L1443.69 1364.96 L1443.69 125.984 L294.402 125.984  Z\" fill=\"#ffffff\" fill-rule=\"evenodd\" fill-opacity=\"1\"/>\n",
       "<defs>\n",
       "  <clipPath id=\"clip902\">\n",
       "    <rect x=\"294\" y=\"125\" width=\"1150\" height=\"1240\"/>\n",
       "  </clipPath>\n",
       "</defs>\n",
       "<polyline clip-path=\"url(#clip902)\" style=\"stroke:#000000; stroke-linecap:round; stroke-linejoin:round; stroke-width:2; stroke-opacity:0.1; fill:none\" points=\"326.929,1364.96 326.929,125.984 \"/>\n",
       "<polyline clip-path=\"url(#clip902)\" style=\"stroke:#000000; stroke-linecap:round; stroke-linejoin:round; stroke-width:2; stroke-opacity:0.1; fill:none\" points=\"507.635,1364.96 507.635,125.984 \"/>\n",
       "<polyline clip-path=\"url(#clip902)\" style=\"stroke:#000000; stroke-linecap:round; stroke-linejoin:round; stroke-width:2; stroke-opacity:0.1; fill:none\" points=\"688.341,1364.96 688.341,125.984 \"/>\n",
       "<polyline clip-path=\"url(#clip902)\" style=\"stroke:#000000; stroke-linecap:round; stroke-linejoin:round; stroke-width:2; stroke-opacity:0.1; fill:none\" points=\"869.047,1364.96 869.047,125.984 \"/>\n",
       "<polyline clip-path=\"url(#clip902)\" style=\"stroke:#000000; stroke-linecap:round; stroke-linejoin:round; stroke-width:2; stroke-opacity:0.1; fill:none\" points=\"1049.75,1364.96 1049.75,125.984 \"/>\n",
       "<polyline clip-path=\"url(#clip902)\" style=\"stroke:#000000; stroke-linecap:round; stroke-linejoin:round; stroke-width:2; stroke-opacity:0.1; fill:none\" points=\"1230.46,1364.96 1230.46,125.984 \"/>\n",
       "<polyline clip-path=\"url(#clip902)\" style=\"stroke:#000000; stroke-linecap:round; stroke-linejoin:round; stroke-width:2; stroke-opacity:0.1; fill:none\" points=\"1411.16,1364.96 1411.16,125.984 \"/>\n",
       "<polyline clip-path=\"url(#clip900)\" style=\"stroke:#000000; stroke-linecap:round; stroke-linejoin:round; stroke-width:4; stroke-opacity:1; fill:none\" points=\"294.402,1364.96 1443.69,1364.96 \"/>\n",
       "<polyline clip-path=\"url(#clip900)\" style=\"stroke:#000000; stroke-linecap:round; stroke-linejoin:round; stroke-width:4; stroke-opacity:1; fill:none\" points=\"326.929,1364.96 326.929,1346.06 \"/>\n",
       "<polyline clip-path=\"url(#clip900)\" style=\"stroke:#000000; stroke-linecap:round; stroke-linejoin:round; stroke-width:4; stroke-opacity:1; fill:none\" points=\"507.635,1364.96 507.635,1346.06 \"/>\n",
       "<polyline clip-path=\"url(#clip900)\" style=\"stroke:#000000; stroke-linecap:round; stroke-linejoin:round; stroke-width:4; stroke-opacity:1; fill:none\" points=\"688.341,1364.96 688.341,1346.06 \"/>\n",
       "<polyline clip-path=\"url(#clip900)\" style=\"stroke:#000000; stroke-linecap:round; stroke-linejoin:round; stroke-width:4; stroke-opacity:1; fill:none\" points=\"869.047,1364.96 869.047,1346.06 \"/>\n",
       "<polyline clip-path=\"url(#clip900)\" style=\"stroke:#000000; stroke-linecap:round; stroke-linejoin:round; stroke-width:4; stroke-opacity:1; fill:none\" points=\"1049.75,1364.96 1049.75,1346.06 \"/>\n",
       "<polyline clip-path=\"url(#clip900)\" style=\"stroke:#000000; stroke-linecap:round; stroke-linejoin:round; stroke-width:4; stroke-opacity:1; fill:none\" points=\"1230.46,1364.96 1230.46,1346.06 \"/>\n",
       "<polyline clip-path=\"url(#clip900)\" style=\"stroke:#000000; stroke-linecap:round; stroke-linejoin:round; stroke-width:4; stroke-opacity:1; fill:none\" points=\"1411.16,1364.96 1411.16,1346.06 \"/>\n",
       "<path clip-path=\"url(#clip900)\" d=\"M274.65 1402.28 Q271.039 1402.28 269.21 1405.84 Q267.404 1409.38 267.404 1416.51 Q267.404 1423.62 269.21 1427.19 Q271.039 1430.73 274.65 1430.73 Q278.284 1430.73 280.089 1427.19 Q281.918 1423.62 281.918 1416.51 Q281.918 1409.38 280.089 1405.84 Q278.284 1402.28 274.65 1402.28 M274.65 1398.57 Q280.46 1398.57 283.515 1403.18 Q286.594 1407.76 286.594 1416.51 Q286.594 1425.24 283.515 1429.85 Q280.46 1434.43 274.65 1434.43 Q268.839 1434.43 265.761 1429.85 Q262.705 1425.24 262.705 1416.51 Q262.705 1407.76 265.761 1403.18 Q268.839 1398.57 274.65 1398.57 Z\" fill=\"#000000\" fill-rule=\"nonzero\" fill-opacity=\"1\" /><path clip-path=\"url(#clip900)\" d=\"M294.812 1427.88 L299.696 1427.88 L299.696 1433.76 L294.812 1433.76 L294.812 1427.88 Z\" fill=\"#000000\" fill-rule=\"nonzero\" fill-opacity=\"1\" /><path clip-path=\"url(#clip900)\" d=\"M319.881 1402.28 Q316.27 1402.28 314.441 1405.84 Q312.636 1409.38 312.636 1416.51 Q312.636 1423.62 314.441 1427.19 Q316.27 1430.73 319.881 1430.73 Q323.515 1430.73 325.321 1427.19 Q327.149 1423.62 327.149 1416.51 Q327.149 1409.38 325.321 1405.84 Q323.515 1402.28 319.881 1402.28 M319.881 1398.57 Q325.691 1398.57 328.747 1403.18 Q331.825 1407.76 331.825 1416.51 Q331.825 1425.24 328.747 1429.85 Q325.691 1434.43 319.881 1434.43 Q314.071 1434.43 310.992 1429.85 Q307.936 1425.24 307.936 1416.51 Q307.936 1407.76 310.992 1403.18 Q314.071 1398.57 319.881 1398.57 Z\" fill=\"#000000\" fill-rule=\"nonzero\" fill-opacity=\"1\" /><path clip-path=\"url(#clip900)\" d=\"M340.853 1429.82 L348.492 1429.82 L348.492 1403.46 L340.182 1405.13 L340.182 1400.87 L348.446 1399.2 L353.121 1399.2 L353.121 1429.82 L360.76 1429.82 L360.76 1433.76 L340.853 1433.76 L340.853 1429.82 Z\" fill=\"#000000\" fill-rule=\"nonzero\" fill-opacity=\"1\" /><path clip-path=\"url(#clip900)\" d=\"M370.251 1399.2 L388.607 1399.2 L388.607 1403.13 L374.533 1403.13 L374.533 1411.61 Q375.552 1411.26 376.57 1411.1 Q377.589 1410.91 378.607 1410.91 Q384.394 1410.91 387.774 1414.08 Q391.154 1417.26 391.154 1422.67 Q391.154 1428.25 387.681 1431.35 Q384.209 1434.43 377.89 1434.43 Q375.714 1434.43 373.445 1434.06 Q371.2 1433.69 368.793 1432.95 L368.793 1428.25 Q370.876 1429.38 373.098 1429.94 Q375.32 1430.5 377.797 1430.5 Q381.802 1430.5 384.14 1428.39 Q386.478 1426.28 386.478 1422.67 Q386.478 1419.06 384.14 1416.95 Q381.802 1414.85 377.797 1414.85 Q375.922 1414.85 374.047 1415.26 Q372.195 1415.68 370.251 1416.56 L370.251 1399.2 Z\" fill=\"#000000\" fill-rule=\"nonzero\" fill-opacity=\"1\" /><path clip-path=\"url(#clip900)\" d=\"M454.777 1402.28 Q451.166 1402.28 449.337 1405.84 Q447.531 1409.38 447.531 1416.51 Q447.531 1423.62 449.337 1427.19 Q451.166 1430.73 454.777 1430.73 Q458.411 1430.73 460.217 1427.19 Q462.045 1423.62 462.045 1416.51 Q462.045 1409.38 460.217 1405.84 Q458.411 1402.28 454.777 1402.28 M454.777 1398.57 Q460.587 1398.57 463.642 1403.18 Q466.721 1407.76 466.721 1416.51 Q466.721 1425.24 463.642 1429.85 Q460.587 1434.43 454.777 1434.43 Q448.967 1434.43 445.888 1429.85 Q442.832 1425.24 442.832 1416.51 Q442.832 1407.76 445.888 1403.18 Q448.967 1398.57 454.777 1398.57 Z\" fill=\"#000000\" fill-rule=\"nonzero\" fill-opacity=\"1\" /><path clip-path=\"url(#clip900)\" d=\"M474.939 1427.88 L479.823 1427.88 L479.823 1433.76 L474.939 1433.76 L474.939 1427.88 Z\" fill=\"#000000\" fill-rule=\"nonzero\" fill-opacity=\"1\" /><path clip-path=\"url(#clip900)\" d=\"M500.008 1402.28 Q496.397 1402.28 494.568 1405.84 Q492.763 1409.38 492.763 1416.51 Q492.763 1423.62 494.568 1427.19 Q496.397 1430.73 500.008 1430.73 Q503.642 1430.73 505.448 1427.19 Q507.277 1423.62 507.277 1416.51 Q507.277 1409.38 505.448 1405.84 Q503.642 1402.28 500.008 1402.28 M500.008 1398.57 Q505.818 1398.57 508.874 1403.18 Q511.952 1407.76 511.952 1416.51 Q511.952 1425.24 508.874 1429.85 Q505.818 1434.43 500.008 1434.43 Q494.198 1434.43 491.119 1429.85 Q488.064 1425.24 488.064 1416.51 Q488.064 1407.76 491.119 1403.18 Q494.198 1398.57 500.008 1398.57 Z\" fill=\"#000000\" fill-rule=\"nonzero\" fill-opacity=\"1\" /><path clip-path=\"url(#clip900)\" d=\"M520.98 1429.82 L528.619 1429.82 L528.619 1403.46 L520.309 1405.13 L520.309 1400.87 L528.573 1399.2 L533.249 1399.2 L533.249 1429.82 L540.887 1429.82 L540.887 1433.76 L520.98 1433.76 L520.98 1429.82 Z\" fill=\"#000000\" fill-rule=\"nonzero\" fill-opacity=\"1\" /><path clip-path=\"url(#clip900)\" d=\"M560.91 1414.62 Q557.762 1414.62 555.911 1416.77 Q554.082 1418.92 554.082 1422.67 Q554.082 1426.4 555.911 1428.57 Q557.762 1430.73 560.91 1430.73 Q564.059 1430.73 565.887 1428.57 Q567.739 1426.4 567.739 1422.67 Q567.739 1418.92 565.887 1416.77 Q564.059 1414.62 560.91 1414.62 M570.193 1399.96 L570.193 1404.22 Q568.434 1403.39 566.628 1402.95 Q564.846 1402.51 563.086 1402.51 Q558.457 1402.51 556.003 1405.63 Q553.573 1408.76 553.225 1415.08 Q554.591 1413.07 556.651 1412 Q558.711 1410.91 561.188 1410.91 Q566.397 1410.91 569.406 1414.08 Q572.438 1417.23 572.438 1422.67 Q572.438 1428 569.29 1431.21 Q566.142 1434.43 560.91 1434.43 Q554.915 1434.43 551.744 1429.85 Q548.573 1425.24 548.573 1416.51 Q548.573 1408.32 552.461 1403.46 Q556.35 1398.57 562.901 1398.57 Q564.66 1398.57 566.443 1398.92 Q568.248 1399.27 570.193 1399.96 Z\" fill=\"#000000\" fill-rule=\"nonzero\" fill-opacity=\"1\" /><path clip-path=\"url(#clip900)\" d=\"M636.015 1402.28 Q632.404 1402.28 630.575 1405.84 Q628.77 1409.38 628.77 1416.51 Q628.77 1423.62 630.575 1427.19 Q632.404 1430.73 636.015 1430.73 Q639.649 1430.73 641.455 1427.19 Q643.284 1423.62 643.284 1416.51 Q643.284 1409.38 641.455 1405.84 Q639.649 1402.28 636.015 1402.28 M636.015 1398.57 Q641.825 1398.57 644.881 1403.18 Q647.959 1407.76 647.959 1416.51 Q647.959 1425.24 644.881 1429.85 Q641.825 1434.43 636.015 1434.43 Q630.205 1434.43 627.126 1429.85 Q624.071 1425.24 624.071 1416.51 Q624.071 1407.76 627.126 1403.18 Q630.205 1398.57 636.015 1398.57 Z\" fill=\"#000000\" fill-rule=\"nonzero\" fill-opacity=\"1\" /><path clip-path=\"url(#clip900)\" d=\"M656.177 1427.88 L661.061 1427.88 L661.061 1433.76 L656.177 1433.76 L656.177 1427.88 Z\" fill=\"#000000\" fill-rule=\"nonzero\" fill-opacity=\"1\" /><path clip-path=\"url(#clip900)\" d=\"M681.246 1402.28 Q677.635 1402.28 675.807 1405.84 Q674.001 1409.38 674.001 1416.51 Q674.001 1423.62 675.807 1427.19 Q677.635 1430.73 681.246 1430.73 Q684.881 1430.73 686.686 1427.19 Q688.515 1423.62 688.515 1416.51 Q688.515 1409.38 686.686 1405.84 Q684.881 1402.28 681.246 1402.28 M681.246 1398.57 Q687.056 1398.57 690.112 1403.18 Q693.191 1407.76 693.191 1416.51 Q693.191 1425.24 690.112 1429.85 Q687.056 1434.43 681.246 1434.43 Q675.436 1434.43 672.357 1429.85 Q669.302 1425.24 669.302 1416.51 Q669.302 1407.76 672.357 1403.18 Q675.436 1398.57 681.246 1398.57 Z\" fill=\"#000000\" fill-rule=\"nonzero\" fill-opacity=\"1\" /><path clip-path=\"url(#clip900)\" d=\"M702.218 1429.82 L709.857 1429.82 L709.857 1403.46 L701.547 1405.13 L701.547 1400.87 L709.811 1399.2 L714.487 1399.2 L714.487 1429.82 L722.126 1429.82 L722.126 1433.76 L702.218 1433.76 L702.218 1429.82 Z\" fill=\"#000000\" fill-rule=\"nonzero\" fill-opacity=\"1\" /><path clip-path=\"url(#clip900)\" d=\"M730.39 1399.2 L752.612 1399.2 L752.612 1401.19 L740.065 1433.76 L735.181 1433.76 L746.987 1403.13 L730.39 1403.13 L730.39 1399.2 Z\" fill=\"#000000\" fill-rule=\"nonzero\" fill-opacity=\"1\" /><path clip-path=\"url(#clip900)\" d=\"M816.316 1402.28 Q812.705 1402.28 810.876 1405.84 Q809.071 1409.38 809.071 1416.51 Q809.071 1423.62 810.876 1427.19 Q812.705 1430.73 816.316 1430.73 Q819.95 1430.73 821.756 1427.19 Q823.584 1423.62 823.584 1416.51 Q823.584 1409.38 821.756 1405.84 Q819.95 1402.28 816.316 1402.28 M816.316 1398.57 Q822.126 1398.57 825.182 1403.18 Q828.26 1407.76 828.26 1416.51 Q828.26 1425.24 825.182 1429.85 Q822.126 1434.43 816.316 1434.43 Q810.506 1434.43 807.427 1429.85 Q804.372 1425.24 804.372 1416.51 Q804.372 1407.76 807.427 1403.18 Q810.506 1398.57 816.316 1398.57 Z\" fill=\"#000000\" fill-rule=\"nonzero\" fill-opacity=\"1\" /><path clip-path=\"url(#clip900)\" d=\"M836.478 1427.88 L841.362 1427.88 L841.362 1433.76 L836.478 1433.76 L836.478 1427.88 Z\" fill=\"#000000\" fill-rule=\"nonzero\" fill-opacity=\"1\" /><path clip-path=\"url(#clip900)\" d=\"M861.547 1402.28 Q857.936 1402.28 856.107 1405.84 Q854.302 1409.38 854.302 1416.51 Q854.302 1423.62 856.107 1427.19 Q857.936 1430.73 861.547 1430.73 Q865.181 1430.73 866.987 1427.19 Q868.816 1423.62 868.816 1416.51 Q868.816 1409.38 866.987 1405.84 Q865.181 1402.28 861.547 1402.28 M861.547 1398.57 Q867.357 1398.57 870.413 1403.18 Q873.492 1407.76 873.492 1416.51 Q873.492 1425.24 870.413 1429.85 Q867.357 1434.43 861.547 1434.43 Q855.737 1434.43 852.658 1429.85 Q849.603 1425.24 849.603 1416.51 Q849.603 1407.76 852.658 1403.18 Q855.737 1398.57 861.547 1398.57 Z\" fill=\"#000000\" fill-rule=\"nonzero\" fill-opacity=\"1\" /><path clip-path=\"url(#clip900)\" d=\"M882.519 1429.82 L890.158 1429.82 L890.158 1403.46 L881.848 1405.13 L881.848 1400.87 L890.112 1399.2 L894.788 1399.2 L894.788 1429.82 L902.427 1429.82 L902.427 1433.76 L882.519 1433.76 L882.519 1429.82 Z\" fill=\"#000000\" fill-rule=\"nonzero\" fill-opacity=\"1\" /><path clip-path=\"url(#clip900)\" d=\"M921.871 1417.35 Q918.538 1417.35 916.616 1419.13 Q914.718 1420.91 914.718 1424.04 Q914.718 1427.16 916.616 1428.94 Q918.538 1430.73 921.871 1430.73 Q925.204 1430.73 927.125 1428.94 Q929.047 1427.14 929.047 1424.04 Q929.047 1420.91 927.125 1419.13 Q925.227 1417.35 921.871 1417.35 M917.195 1415.36 Q914.186 1414.62 912.496 1412.56 Q910.829 1410.5 910.829 1407.53 Q910.829 1403.39 913.769 1400.98 Q916.732 1398.57 921.871 1398.57 Q927.033 1398.57 929.973 1400.98 Q932.912 1403.39 932.912 1407.53 Q932.912 1410.5 931.223 1412.56 Q929.556 1414.62 926.57 1415.36 Q929.95 1416.14 931.825 1418.44 Q933.723 1420.73 933.723 1424.04 Q933.723 1429.06 930.644 1431.75 Q927.588 1434.43 921.871 1434.43 Q916.153 1434.43 913.075 1431.75 Q910.019 1429.06 910.019 1424.04 Q910.019 1420.73 911.917 1418.44 Q913.815 1416.14 917.195 1415.36 M915.482 1407.97 Q915.482 1410.66 917.149 1412.16 Q918.838 1413.67 921.871 1413.67 Q924.88 1413.67 926.57 1412.16 Q928.283 1410.66 928.283 1407.97 Q928.283 1405.29 926.57 1403.78 Q924.88 1402.28 921.871 1402.28 Q918.838 1402.28 917.149 1403.78 Q915.482 1405.29 915.482 1407.97 Z\" fill=\"#000000\" fill-rule=\"nonzero\" fill-opacity=\"1\" /><path clip-path=\"url(#clip900)\" d=\"M997.068 1402.28 Q993.457 1402.28 991.628 1405.84 Q989.823 1409.38 989.823 1416.51 Q989.823 1423.62 991.628 1427.19 Q993.457 1430.73 997.068 1430.73 Q1000.7 1430.73 1002.51 1427.19 Q1004.34 1423.62 1004.34 1416.51 Q1004.34 1409.38 1002.51 1405.84 Q1000.7 1402.28 997.068 1402.28 M997.068 1398.57 Q1002.88 1398.57 1005.93 1403.18 Q1009.01 1407.76 1009.01 1416.51 Q1009.01 1425.24 1005.93 1429.85 Q1002.88 1434.43 997.068 1434.43 Q991.258 1434.43 988.179 1429.85 Q985.124 1425.24 985.124 1416.51 Q985.124 1407.76 988.179 1403.18 Q991.258 1398.57 997.068 1398.57 Z\" fill=\"#000000\" fill-rule=\"nonzero\" fill-opacity=\"1\" /><path clip-path=\"url(#clip900)\" d=\"M1017.23 1427.88 L1022.11 1427.88 L1022.11 1433.76 L1017.23 1433.76 L1017.23 1427.88 Z\" fill=\"#000000\" fill-rule=\"nonzero\" fill-opacity=\"1\" /><path clip-path=\"url(#clip900)\" d=\"M1042.3 1402.28 Q1038.69 1402.28 1036.86 1405.84 Q1035.05 1409.38 1035.05 1416.51 Q1035.05 1423.62 1036.86 1427.19 Q1038.69 1430.73 1042.3 1430.73 Q1045.93 1430.73 1047.74 1427.19 Q1049.57 1423.62 1049.57 1416.51 Q1049.57 1409.38 1047.74 1405.84 Q1045.93 1402.28 1042.3 1402.28 M1042.3 1398.57 Q1048.11 1398.57 1051.17 1403.18 Q1054.24 1407.76 1054.24 1416.51 Q1054.24 1425.24 1051.17 1429.85 Q1048.11 1434.43 1042.3 1434.43 Q1036.49 1434.43 1033.41 1429.85 Q1030.35 1425.24 1030.35 1416.51 Q1030.35 1407.76 1033.41 1403.18 Q1036.49 1398.57 1042.3 1398.57 Z\" fill=\"#000000\" fill-rule=\"nonzero\" fill-opacity=\"1\" /><path clip-path=\"url(#clip900)\" d=\"M1063.27 1429.82 L1070.91 1429.82 L1070.91 1403.46 L1062.6 1405.13 L1062.6 1400.87 L1070.86 1399.2 L1075.54 1399.2 L1075.54 1429.82 L1083.18 1429.82 L1083.18 1433.76 L1063.27 1433.76 L1063.27 1429.82 Z\" fill=\"#000000\" fill-rule=\"nonzero\" fill-opacity=\"1\" /><path clip-path=\"url(#clip900)\" d=\"M1092.76 1433.04 L1092.76 1428.78 Q1094.52 1429.62 1096.33 1430.06 Q1098.13 1430.5 1099.87 1430.5 Q1104.5 1430.5 1106.93 1427.39 Q1109.38 1424.27 1109.73 1417.93 Q1108.39 1419.92 1106.33 1420.98 Q1104.27 1422.05 1101.77 1422.05 Q1096.58 1422.05 1093.55 1418.92 Q1090.54 1415.77 1090.54 1410.33 Q1090.54 1405.01 1093.69 1401.79 Q1096.84 1398.57 1102.07 1398.57 Q1108.06 1398.57 1111.21 1403.18 Q1114.38 1407.76 1114.38 1416.51 Q1114.38 1424.69 1110.49 1429.57 Q1106.63 1434.43 1100.08 1434.43 Q1098.32 1434.43 1096.51 1434.08 Q1094.71 1433.74 1092.76 1433.04 M1102.07 1418.39 Q1105.22 1418.39 1107.04 1416.24 Q1108.9 1414.08 1108.9 1410.33 Q1108.9 1406.61 1107.04 1404.45 Q1105.22 1402.28 1102.07 1402.28 Q1098.92 1402.28 1097.07 1404.45 Q1095.24 1406.61 1095.24 1410.33 Q1095.24 1414.08 1097.07 1416.24 Q1098.92 1418.39 1102.07 1418.39 Z\" fill=\"#000000\" fill-rule=\"nonzero\" fill-opacity=\"1\" /><path clip-path=\"url(#clip900)\" d=\"M1177.68 1402.28 Q1174.07 1402.28 1172.24 1405.84 Q1170.44 1409.38 1170.44 1416.51 Q1170.44 1423.62 1172.24 1427.19 Q1174.07 1430.73 1177.68 1430.73 Q1181.32 1430.73 1183.12 1427.19 Q1184.95 1423.62 1184.95 1416.51 Q1184.95 1409.38 1183.12 1405.84 Q1181.32 1402.28 1177.68 1402.28 M1177.68 1398.57 Q1183.49 1398.57 1186.55 1403.18 Q1189.63 1407.76 1189.63 1416.51 Q1189.63 1425.24 1186.55 1429.85 Q1183.49 1434.43 1177.68 1434.43 Q1171.87 1434.43 1168.79 1429.85 Q1165.74 1425.24 1165.74 1416.51 Q1165.74 1407.76 1168.79 1403.18 Q1171.87 1398.57 1177.68 1398.57 Z\" fill=\"#000000\" fill-rule=\"nonzero\" fill-opacity=\"1\" /><path clip-path=\"url(#clip900)\" d=\"M1197.84 1427.88 L1202.73 1427.88 L1202.73 1433.76 L1197.84 1433.76 L1197.84 1427.88 Z\" fill=\"#000000\" fill-rule=\"nonzero\" fill-opacity=\"1\" /><path clip-path=\"url(#clip900)\" d=\"M1222.91 1402.28 Q1219.3 1402.28 1217.47 1405.84 Q1215.67 1409.38 1215.67 1416.51 Q1215.67 1423.62 1217.47 1427.19 Q1219.3 1430.73 1222.91 1430.73 Q1226.55 1430.73 1228.35 1427.19 Q1230.18 1423.62 1230.18 1416.51 Q1230.18 1409.38 1228.35 1405.84 Q1226.55 1402.28 1222.91 1402.28 M1222.91 1398.57 Q1228.72 1398.57 1231.78 1403.18 Q1234.86 1407.76 1234.86 1416.51 Q1234.86 1425.24 1231.78 1429.85 Q1228.72 1434.43 1222.91 1434.43 Q1217.1 1434.43 1214.02 1429.85 Q1210.97 1425.24 1210.97 1416.51 Q1210.97 1407.76 1214.02 1403.18 Q1217.1 1398.57 1222.91 1398.57 Z\" fill=\"#000000\" fill-rule=\"nonzero\" fill-opacity=\"1\" /><path clip-path=\"url(#clip900)\" d=\"M1247.1 1429.82 L1263.42 1429.82 L1263.42 1433.76 L1241.48 1433.76 L1241.48 1429.82 Q1244.14 1427.07 1248.72 1422.44 Q1253.33 1417.79 1254.51 1416.44 Q1256.76 1413.92 1257.63 1412.19 Q1258.54 1410.43 1258.54 1408.74 Q1258.54 1405.98 1256.59 1404.25 Q1254.67 1402.51 1251.57 1402.51 Q1249.37 1402.51 1246.92 1403.27 Q1244.49 1404.04 1241.71 1405.59 L1241.71 1400.87 Q1244.53 1399.73 1246.99 1399.15 Q1249.44 1398.57 1251.48 1398.57 Q1256.85 1398.57 1260.04 1401.26 Q1263.24 1403.95 1263.24 1408.44 Q1263.24 1410.57 1262.43 1412.49 Q1261.64 1414.38 1259.53 1416.98 Q1258.95 1417.65 1255.85 1420.87 Q1252.75 1424.06 1247.1 1429.82 Z\" fill=\"#000000\" fill-rule=\"nonzero\" fill-opacity=\"1\" /><path clip-path=\"url(#clip900)\" d=\"M1283.24 1402.28 Q1279.63 1402.28 1277.8 1405.84 Q1275.99 1409.38 1275.99 1416.51 Q1275.99 1423.62 1277.8 1427.19 Q1279.63 1430.73 1283.24 1430.73 Q1286.87 1430.73 1288.68 1427.19 Q1290.5 1423.62 1290.5 1416.51 Q1290.5 1409.38 1288.68 1405.84 Q1286.87 1402.28 1283.24 1402.28 M1283.24 1398.57 Q1289.05 1398.57 1292.1 1403.18 Q1295.18 1407.76 1295.18 1416.51 Q1295.18 1425.24 1292.1 1429.85 Q1289.05 1434.43 1283.24 1434.43 Q1277.43 1434.43 1274.35 1429.85 Q1271.29 1425.24 1271.29 1416.51 Q1271.29 1407.76 1274.35 1403.18 Q1277.43 1398.57 1283.24 1398.57 Z\" fill=\"#000000\" fill-rule=\"nonzero\" fill-opacity=\"1\" /><path clip-path=\"url(#clip900)\" d=\"M1359 1402.28 Q1355.39 1402.28 1353.56 1405.84 Q1351.76 1409.38 1351.76 1416.51 Q1351.76 1423.62 1353.56 1427.19 Q1355.39 1430.73 1359 1430.73 Q1362.63 1430.73 1364.44 1427.19 Q1366.27 1423.62 1366.27 1416.51 Q1366.27 1409.38 1364.44 1405.84 Q1362.63 1402.28 1359 1402.28 M1359 1398.57 Q1364.81 1398.57 1367.87 1403.18 Q1370.95 1407.76 1370.95 1416.51 Q1370.95 1425.24 1367.87 1429.85 Q1364.81 1434.43 1359 1434.43 Q1353.19 1434.43 1350.11 1429.85 Q1347.06 1425.24 1347.06 1416.51 Q1347.06 1407.76 1350.11 1403.18 Q1353.19 1398.57 1359 1398.57 Z\" fill=\"#000000\" fill-rule=\"nonzero\" fill-opacity=\"1\" /><path clip-path=\"url(#clip900)\" d=\"M1379.16 1427.88 L1384.05 1427.88 L1384.05 1433.76 L1379.16 1433.76 L1379.16 1427.88 Z\" fill=\"#000000\" fill-rule=\"nonzero\" fill-opacity=\"1\" /><path clip-path=\"url(#clip900)\" d=\"M1404.23 1402.28 Q1400.62 1402.28 1398.79 1405.84 Q1396.99 1409.38 1396.99 1416.51 Q1396.99 1423.62 1398.79 1427.19 Q1400.62 1430.73 1404.23 1430.73 Q1407.87 1430.73 1409.67 1427.19 Q1411.5 1423.62 1411.5 1416.51 Q1411.5 1409.38 1409.67 1405.84 Q1407.87 1402.28 1404.23 1402.28 M1404.23 1398.57 Q1410.04 1398.57 1413.1 1403.18 Q1416.18 1407.76 1416.18 1416.51 Q1416.18 1425.24 1413.1 1429.85 Q1410.04 1434.43 1404.23 1434.43 Q1398.42 1434.43 1395.34 1429.85 Q1392.29 1425.24 1392.29 1416.51 Q1392.29 1407.76 1395.34 1403.18 Q1398.42 1398.57 1404.23 1398.57 Z\" fill=\"#000000\" fill-rule=\"nonzero\" fill-opacity=\"1\" /><path clip-path=\"url(#clip900)\" d=\"M1428.42 1429.82 L1444.74 1429.82 L1444.74 1433.76 L1422.8 1433.76 L1422.8 1429.82 Q1425.46 1427.07 1430.04 1422.44 Q1434.65 1417.79 1435.83 1416.44 Q1438.07 1413.92 1438.95 1412.19 Q1439.86 1410.43 1439.86 1408.74 Q1439.86 1405.98 1437.91 1404.25 Q1435.99 1402.51 1432.89 1402.51 Q1430.69 1402.51 1428.24 1403.27 Q1425.81 1404.04 1423.03 1405.59 L1423.03 1400.87 Q1425.85 1399.73 1428.31 1399.15 Q1430.76 1398.57 1432.8 1398.57 Q1438.17 1398.57 1441.36 1401.26 Q1444.56 1403.95 1444.56 1408.44 Q1444.56 1410.57 1443.75 1412.49 Q1442.96 1414.38 1440.85 1416.98 Q1440.27 1417.65 1437.17 1420.87 Q1434.07 1424.06 1428.42 1429.82 Z\" fill=\"#000000\" fill-rule=\"nonzero\" fill-opacity=\"1\" /><path clip-path=\"url(#clip900)\" d=\"M1455.37 1429.82 L1463 1429.82 L1463 1403.46 L1454.69 1405.13 L1454.69 1400.87 L1462.96 1399.2 L1467.63 1399.2 L1467.63 1429.82 L1475.27 1429.82 L1475.27 1433.76 L1455.37 1433.76 L1455.37 1429.82 Z\" fill=\"#000000\" fill-rule=\"nonzero\" fill-opacity=\"1\" /><path clip-path=\"url(#clip900)\" d=\"M886.766 1472.96 Q886.766 1473.21 885.51 1475.47 Q883.417 1479.62 880.744 1485.97 Q878.071 1492.31 876.557 1497.01 Q876.235 1498.14 876.009 1499.59 Q875.43 1504.04 873.562 1510.93 Q872.918 1513.08 872.499 1513.99 Q872.08 1514.89 871.468 1514.89 Q870.599 1514.89 870.599 1513.7 Q870.599 1512.51 871.694 1508.06 Q872.821 1503.62 874.045 1499.53 Q874.818 1497.27 874.818 1493.05 Q874.818 1491.7 874.753 1490.48 Q874.689 1489.25 874.431 1487.48 Q874.174 1485.71 873.755 1484.26 Q873.336 1482.81 872.531 1481.3 Q871.726 1479.75 870.631 1478.72 Q869.536 1477.66 867.861 1476.98 Q866.219 1476.31 864.158 1476.31 Q863.642 1476.31 862.998 1476.37 Q862.386 1476.4 860.905 1476.82 Q859.456 1477.24 858.232 1477.98 Q857.008 1478.69 855.688 1480.27 Q854.367 1481.85 853.659 1483.97 L853.401 1484.29 Q852.982 1484.29 852.757 1484.29 Q852.564 1484.26 852.338 1484.1 Q852.145 1483.94 852.145 1483.65 Q852.145 1482.97 852.66 1481.62 Q853.208 1480.27 854.303 1478.53 Q855.43 1476.79 856.879 1475.24 Q858.361 1473.7 860.518 1472.63 Q862.676 1471.57 864.995 1471.57 Q870.953 1471.57 873.787 1478.82 Q876.267 1484.97 876.493 1492.28 Q881.646 1479.3 885.188 1472.76 Q885.381 1472.28 885.961 1472.28 Q886.766 1472.31 886.766 1472.96 Z\" fill=\"#000000\" fill-rule=\"nonzero\" fill-opacity=\"1\" /><polyline clip-path=\"url(#clip902)\" style=\"stroke:#000000; stroke-linecap:round; stroke-linejoin:round; stroke-width:2; stroke-opacity:0.1; fill:none\" points=\"294.402,1349.21 1443.69,1349.21 \"/>\n",
       "<polyline clip-path=\"url(#clip902)\" style=\"stroke:#000000; stroke-linecap:round; stroke-linejoin:round; stroke-width:2; stroke-opacity:0.1; fill:none\" points=\"294.402,1121.65 1443.69,1121.65 \"/>\n",
       "<polyline clip-path=\"url(#clip902)\" style=\"stroke:#000000; stroke-linecap:round; stroke-linejoin:round; stroke-width:2; stroke-opacity:0.1; fill:none\" points=\"294.402,894.098 1443.69,894.098 \"/>\n",
       "<polyline clip-path=\"url(#clip902)\" style=\"stroke:#000000; stroke-linecap:round; stroke-linejoin:round; stroke-width:2; stroke-opacity:0.1; fill:none\" points=\"294.402,666.542 1443.69,666.542 \"/>\n",
       "<polyline clip-path=\"url(#clip902)\" style=\"stroke:#000000; stroke-linecap:round; stroke-linejoin:round; stroke-width:2; stroke-opacity:0.1; fill:none\" points=\"294.402,438.986 1443.69,438.986 \"/>\n",
       "<polyline clip-path=\"url(#clip902)\" style=\"stroke:#000000; stroke-linecap:round; stroke-linejoin:round; stroke-width:2; stroke-opacity:0.1; fill:none\" points=\"294.402,211.43 1443.69,211.43 \"/>\n",
       "<polyline clip-path=\"url(#clip900)\" style=\"stroke:#000000; stroke-linecap:round; stroke-linejoin:round; stroke-width:4; stroke-opacity:1; fill:none\" points=\"294.402,1364.96 294.402,125.984 \"/>\n",
       "<polyline clip-path=\"url(#clip900)\" style=\"stroke:#000000; stroke-linecap:round; stroke-linejoin:round; stroke-width:4; stroke-opacity:1; fill:none\" points=\"294.402,1349.21 313.3,1349.21 \"/>\n",
       "<polyline clip-path=\"url(#clip900)\" style=\"stroke:#000000; stroke-linecap:round; stroke-linejoin:round; stroke-width:4; stroke-opacity:1; fill:none\" points=\"294.402,1121.65 313.3,1121.65 \"/>\n",
       "<polyline clip-path=\"url(#clip900)\" style=\"stroke:#000000; stroke-linecap:round; stroke-linejoin:round; stroke-width:4; stroke-opacity:1; fill:none\" points=\"294.402,894.098 313.3,894.098 \"/>\n",
       "<polyline clip-path=\"url(#clip900)\" style=\"stroke:#000000; stroke-linecap:round; stroke-linejoin:round; stroke-width:4; stroke-opacity:1; fill:none\" points=\"294.402,666.542 313.3,666.542 \"/>\n",
       "<polyline clip-path=\"url(#clip900)\" style=\"stroke:#000000; stroke-linecap:round; stroke-linejoin:round; stroke-width:4; stroke-opacity:1; fill:none\" points=\"294.402,438.986 313.3,438.986 \"/>\n",
       "<polyline clip-path=\"url(#clip900)\" style=\"stroke:#000000; stroke-linecap:round; stroke-linejoin:round; stroke-width:4; stroke-opacity:1; fill:none\" points=\"294.402,211.43 313.3,211.43 \"/>\n",
       "<path clip-path=\"url(#clip900)\" d=\"M190.222 1335.01 Q186.611 1335.01 184.782 1338.57 Q182.977 1342.12 182.977 1349.24 Q182.977 1356.35 184.782 1359.92 Q186.611 1363.46 190.222 1363.46 Q193.856 1363.46 195.662 1359.92 Q197.491 1356.35 197.491 1349.24 Q197.491 1342.12 195.662 1338.57 Q193.856 1335.01 190.222 1335.01 M190.222 1331.31 Q196.032 1331.31 199.088 1335.91 Q202.166 1340.49 202.166 1349.24 Q202.166 1357.97 199.088 1362.58 Q196.032 1367.16 190.222 1367.16 Q184.412 1367.16 181.333 1362.58 Q178.278 1357.97 178.278 1349.24 Q178.278 1340.49 181.333 1335.91 Q184.412 1331.31 190.222 1331.31 Z\" fill=\"#000000\" fill-rule=\"nonzero\" fill-opacity=\"1\" /><path clip-path=\"url(#clip900)\" d=\"M210.384 1360.61 L215.268 1360.61 L215.268 1366.49 L210.384 1366.49 L210.384 1360.61 Z\" fill=\"#000000\" fill-rule=\"nonzero\" fill-opacity=\"1\" /><path clip-path=\"url(#clip900)\" d=\"M225.5 1331.93 L243.856 1331.93 L243.856 1335.87 L229.782 1335.87 L229.782 1344.34 Q230.801 1343.99 231.819 1343.83 Q232.838 1343.64 233.856 1343.64 Q239.643 1343.64 243.023 1346.81 Q246.402 1349.99 246.402 1355.4 Q246.402 1360.98 242.93 1364.08 Q239.458 1367.16 233.139 1367.16 Q230.963 1367.16 228.694 1366.79 Q226.449 1366.42 224.041 1365.68 L224.041 1360.98 Q226.125 1362.12 228.347 1362.67 Q230.569 1363.23 233.046 1363.23 Q237.051 1363.23 239.388 1361.12 Q241.726 1359.01 241.726 1355.4 Q241.726 1351.79 239.388 1349.68 Q237.051 1347.58 233.046 1347.58 Q231.171 1347.58 229.296 1347.99 Q227.444 1348.41 225.5 1349.29 L225.5 1331.93 Z\" fill=\"#000000\" fill-rule=\"nonzero\" fill-opacity=\"1\" /><path clip-path=\"url(#clip900)\" d=\"M189.065 1107.45 Q185.454 1107.45 183.625 1111.02 Q181.819 1114.56 181.819 1121.69 Q181.819 1128.8 183.625 1132.36 Q185.454 1135.9 189.065 1135.9 Q192.699 1135.9 194.504 1132.36 Q196.333 1128.8 196.333 1121.69 Q196.333 1114.56 194.504 1111.02 Q192.699 1107.45 189.065 1107.45 M189.065 1103.75 Q194.875 1103.75 197.93 1108.36 Q201.009 1112.94 201.009 1121.69 Q201.009 1130.42 197.93 1135.02 Q194.875 1139.61 189.065 1139.61 Q183.255 1139.61 180.176 1135.02 Q177.12 1130.42 177.12 1121.69 Q177.12 1112.94 180.176 1108.36 Q183.255 1103.75 189.065 1103.75 Z\" fill=\"#000000\" fill-rule=\"nonzero\" fill-opacity=\"1\" /><path clip-path=\"url(#clip900)\" d=\"M209.227 1133.05 L214.111 1133.05 L214.111 1138.93 L209.227 1138.93 L209.227 1133.05 Z\" fill=\"#000000\" fill-rule=\"nonzero\" fill-opacity=\"1\" /><path clip-path=\"url(#clip900)\" d=\"M234.875 1119.79 Q231.727 1119.79 229.875 1121.94 Q228.046 1124.1 228.046 1127.85 Q228.046 1131.57 229.875 1133.75 Q231.727 1135.9 234.875 1135.9 Q238.023 1135.9 239.851 1133.75 Q241.703 1131.57 241.703 1127.85 Q241.703 1124.1 239.851 1121.94 Q238.023 1119.79 234.875 1119.79 M244.157 1105.14 L244.157 1109.4 Q242.398 1108.56 240.592 1108.12 Q238.81 1107.68 237.051 1107.68 Q232.421 1107.68 229.967 1110.81 Q227.537 1113.93 227.189 1120.25 Q228.555 1118.24 230.615 1117.18 Q232.676 1116.09 235.152 1116.09 Q240.361 1116.09 243.37 1119.26 Q246.402 1122.41 246.402 1127.85 Q246.402 1133.17 243.254 1136.39 Q240.106 1139.61 234.875 1139.61 Q228.879 1139.61 225.708 1135.02 Q222.537 1130.42 222.537 1121.69 Q222.537 1113.49 226.426 1108.63 Q230.314 1103.75 236.865 1103.75 Q238.625 1103.75 240.407 1104.1 Q242.213 1104.44 244.157 1105.14 Z\" fill=\"#000000\" fill-rule=\"nonzero\" fill-opacity=\"1\" /><path clip-path=\"url(#clip900)\" d=\"M190.13 879.897 Q186.518 879.897 184.69 883.462 Q182.884 887.003 182.884 894.133 Q182.884 901.239 184.69 904.804 Q186.518 908.346 190.13 908.346 Q193.764 908.346 195.569 904.804 Q197.398 901.239 197.398 894.133 Q197.398 887.003 195.569 883.462 Q193.764 879.897 190.13 879.897 M190.13 876.193 Q195.94 876.193 198.995 880.8 Q202.074 885.383 202.074 894.133 Q202.074 902.86 198.995 907.466 Q195.94 912.05 190.13 912.05 Q184.319 912.05 181.241 907.466 Q178.185 902.86 178.185 894.133 Q178.185 885.383 181.241 880.8 Q184.319 876.193 190.13 876.193 Z\" fill=\"#000000\" fill-rule=\"nonzero\" fill-opacity=\"1\" /><path clip-path=\"url(#clip900)\" d=\"M210.291 905.499 L215.176 905.499 L215.176 911.378 L210.291 911.378 L210.291 905.499 Z\" fill=\"#000000\" fill-rule=\"nonzero\" fill-opacity=\"1\" /><path clip-path=\"url(#clip900)\" d=\"M224.18 876.818 L246.402 876.818 L246.402 878.809 L233.856 911.378 L228.972 911.378 L240.777 880.753 L224.18 880.753 L224.18 876.818 Z\" fill=\"#000000\" fill-rule=\"nonzero\" fill-opacity=\"1\" /><path clip-path=\"url(#clip900)\" d=\"M189.319 652.341 Q185.708 652.341 183.88 655.906 Q182.074 659.447 182.074 666.577 Q182.074 673.683 183.88 677.248 Q185.708 680.79 189.319 680.79 Q192.954 680.79 194.759 677.248 Q196.588 673.683 196.588 666.577 Q196.588 659.447 194.759 655.906 Q192.954 652.341 189.319 652.341 M189.319 648.637 Q195.129 648.637 198.185 653.244 Q201.264 657.827 201.264 666.577 Q201.264 675.304 198.185 679.91 Q195.129 684.494 189.319 684.494 Q183.509 684.494 180.43 679.91 Q177.375 675.304 177.375 666.577 Q177.375 657.827 180.43 653.244 Q183.509 648.637 189.319 648.637 Z\" fill=\"#000000\" fill-rule=\"nonzero\" fill-opacity=\"1\" /><path clip-path=\"url(#clip900)\" d=\"M209.481 677.943 L214.365 677.943 L214.365 683.822 L209.481 683.822 L209.481 677.943 Z\" fill=\"#000000\" fill-rule=\"nonzero\" fill-opacity=\"1\" /><path clip-path=\"url(#clip900)\" d=\"M234.551 667.41 Q231.217 667.41 229.296 669.193 Q227.398 670.975 227.398 674.1 Q227.398 677.225 229.296 679.007 Q231.217 680.79 234.551 680.79 Q237.884 680.79 239.805 679.007 Q241.726 677.202 241.726 674.1 Q241.726 670.975 239.805 669.193 Q237.907 667.41 234.551 667.41 M229.875 665.42 Q226.865 664.679 225.176 662.619 Q223.509 660.559 223.509 657.596 Q223.509 653.452 226.449 651.045 Q229.412 648.637 234.551 648.637 Q239.713 648.637 242.652 651.045 Q245.592 653.452 245.592 657.596 Q245.592 660.559 243.902 662.619 Q242.236 664.679 239.25 665.42 Q242.629 666.207 244.504 668.498 Q246.402 670.79 246.402 674.1 Q246.402 679.123 243.324 681.808 Q240.268 684.494 234.551 684.494 Q228.833 684.494 225.754 681.808 Q222.699 679.123 222.699 674.1 Q222.699 670.79 224.597 668.498 Q226.495 666.207 229.875 665.42 M228.162 658.035 Q228.162 660.721 229.828 662.225 Q231.518 663.73 234.551 663.73 Q237.56 663.73 239.25 662.225 Q240.963 660.721 240.963 658.035 Q240.963 655.35 239.25 653.846 Q237.56 652.341 234.551 652.341 Q231.518 652.341 229.828 653.846 Q228.162 655.35 228.162 658.035 Z\" fill=\"#000000\" fill-rule=\"nonzero\" fill-opacity=\"1\" /><path clip-path=\"url(#clip900)\" d=\"M189.412 424.785 Q185.801 424.785 183.972 428.35 Q182.167 431.891 182.167 439.021 Q182.167 446.127 183.972 449.692 Q185.801 453.234 189.412 453.234 Q193.046 453.234 194.852 449.692 Q196.68 446.127 196.68 439.021 Q196.68 431.891 194.852 428.35 Q193.046 424.785 189.412 424.785 M189.412 421.081 Q195.222 421.081 198.278 425.688 Q201.356 430.271 201.356 439.021 Q201.356 447.748 198.278 452.354 Q195.222 456.938 189.412 456.938 Q183.602 456.938 180.523 452.354 Q177.468 447.748 177.468 439.021 Q177.468 430.271 180.523 425.688 Q183.602 421.081 189.412 421.081 Z\" fill=\"#000000\" fill-rule=\"nonzero\" fill-opacity=\"1\" /><path clip-path=\"url(#clip900)\" d=\"M209.574 450.387 L214.458 450.387 L214.458 456.266 L209.574 456.266 L209.574 450.387 Z\" fill=\"#000000\" fill-rule=\"nonzero\" fill-opacity=\"1\" /><path clip-path=\"url(#clip900)\" d=\"M224.782 455.549 L224.782 451.289 Q226.541 452.123 228.347 452.563 Q230.152 453.002 231.889 453.002 Q236.518 453.002 238.949 449.901 Q241.402 446.776 241.75 440.433 Q240.407 442.424 238.347 443.489 Q236.287 444.553 233.787 444.553 Q228.602 444.553 225.569 441.428 Q222.56 438.28 222.56 432.841 Q222.56 427.516 225.708 424.299 Q228.856 421.081 234.088 421.081 Q240.083 421.081 243.231 425.688 Q246.402 430.271 246.402 439.021 Q246.402 447.192 242.513 452.077 Q238.648 456.938 232.097 456.938 Q230.338 456.938 228.532 456.59 Q226.727 456.243 224.782 455.549 M234.088 440.896 Q237.236 440.896 239.064 438.743 Q240.916 436.59 240.916 432.841 Q240.916 429.114 239.064 426.961 Q237.236 424.785 234.088 424.785 Q230.939 424.785 229.088 426.961 Q227.259 429.114 227.259 432.841 Q227.259 436.59 229.088 438.743 Q230.939 440.896 234.088 440.896 Z\" fill=\"#000000\" fill-rule=\"nonzero\" fill-opacity=\"1\" /><path clip-path=\"url(#clip900)\" d=\"M180.037 224.775 L187.676 224.775 L187.676 198.41 L179.366 200.076 L179.366 195.817 L187.63 194.15 L192.305 194.15 L192.305 224.775 L199.944 224.775 L199.944 228.71 L180.037 228.71 L180.037 224.775 Z\" fill=\"#000000\" fill-rule=\"nonzero\" fill-opacity=\"1\" /><path clip-path=\"url(#clip900)\" d=\"M209.389 222.831 L214.273 222.831 L214.273 228.71 L209.389 228.71 L209.389 222.831 Z\" fill=\"#000000\" fill-rule=\"nonzero\" fill-opacity=\"1\" /><path clip-path=\"url(#clip900)\" d=\"M234.458 197.229 Q230.847 197.229 229.018 200.794 Q227.213 204.336 227.213 211.465 Q227.213 218.572 229.018 222.136 Q230.847 225.678 234.458 225.678 Q238.092 225.678 239.898 222.136 Q241.726 218.572 241.726 211.465 Q241.726 204.336 239.898 200.794 Q238.092 197.229 234.458 197.229 M234.458 193.525 Q240.268 193.525 243.324 198.132 Q246.402 202.715 246.402 211.465 Q246.402 220.192 243.324 224.798 Q240.268 229.382 234.458 229.382 Q228.648 229.382 225.569 224.798 Q222.514 220.192 222.514 211.465 Q222.514 202.715 225.569 198.132 Q228.648 193.525 234.458 193.525 Z\" fill=\"#000000\" fill-rule=\"nonzero\" fill-opacity=\"1\" /><path clip-path=\"url(#clip900)\" d=\"M80.2667 1030.45 L85.8049 1030.45 Q84.5317 1032.93 83.8952 1035.6 Q83.2586 1038.28 83.2586 1041.14 Q83.2586 1045.5 84.5954 1047.7 Q85.9322 1049.86 88.6058 1049.86 Q90.6428 1049.86 91.8205 1048.3 Q92.9663 1046.74 94.0166 1042.03 L94.4622 1040.03 Q95.799 1033.79 98.2498 1031.18 Q100.669 1028.54 105.029 1028.54 Q109.995 1028.54 112.891 1032.49 Q115.787 1036.4 115.787 1043.28 Q115.787 1046.14 115.214 1049.26 Q114.673 1052.35 113.559 1055.78 L107.512 1055.78 Q109.199 1052.54 110.058 1049.39 Q110.886 1046.24 110.886 1043.15 Q110.886 1039.01 109.485 1036.78 Q108.053 1034.55 105.475 1034.55 Q103.088 1034.55 101.815 1036.18 Q100.541 1037.77 99.3638 1043.21 L98.8864 1045.25 Q97.7406 1050.69 95.3853 1053.11 Q92.9981 1055.53 88.8604 1055.53 Q83.8315 1055.53 81.0942 1051.96 Q78.357 1048.4 78.357 1041.84 Q78.357 1038.6 78.8344 1035.73 Q79.3118 1032.87 80.2667 1030.45 Z\" fill=\"#000000\" fill-rule=\"nonzero\" fill-opacity=\"1\" /><path clip-path=\"url(#clip900)\" d=\"M69.0949 1013.42 L79.2164 1013.42 L79.2164 1001.36 L83.7678 1001.36 L83.7678 1013.42 L103.12 1013.42 Q107.48 1013.42 108.721 1012.24 Q109.963 1011.03 109.963 1007.37 L109.963 1001.36 L114.864 1001.36 L114.864 1007.37 Q114.864 1014.15 112.35 1016.73 Q109.804 1019.31 103.12 1019.31 L83.7678 1019.31 L83.7678 1023.61 L79.2164 1023.61 L79.2164 1019.31 L69.0949 1019.31 L69.0949 1013.42 Z\" fill=\"#000000\" fill-rule=\"nonzero\" fill-opacity=\"1\" /><path clip-path=\"url(#clip900)\" d=\"M96.9449 977.454 Q96.9449 984.552 98.5681 987.289 Q100.191 990.027 104.106 990.027 Q107.225 990.027 109.072 987.989 Q110.886 985.921 110.886 982.388 Q110.886 977.518 107.448 974.59 Q103.979 971.63 98.2498 971.63 L96.9449 971.63 L96.9449 977.454 M94.5259 965.773 L114.864 965.773 L114.864 971.63 L109.453 971.63 Q112.7 973.635 114.26 976.627 Q115.787 979.619 115.787 983.947 Q115.787 989.422 112.732 992.668 Q109.644 995.883 104.488 995.883 Q98.4726 995.883 95.4171 991.873 Q92.3615 987.83 92.3615 979.841 L92.3615 971.63 L91.7886 971.63 Q87.7464 971.63 85.5502 974.303 Q83.3222 976.945 83.3222 981.751 Q83.3222 984.807 84.0543 987.703 Q84.7864 990.599 86.2505 993.273 L80.8396 993.273 Q79.5983 990.058 78.9936 987.035 Q78.357 984.011 78.357 981.146 Q78.357 973.412 82.3674 969.593 Q86.3778 965.773 94.5259 965.773 Z\" fill=\"#000000\" fill-rule=\"nonzero\" fill-opacity=\"1\" /><path clip-path=\"url(#clip900)\" d=\"M97.0722 928.12 Q90.611 928.12 86.9507 930.794 Q83.2586 933.435 83.2586 938.082 Q83.2586 942.729 86.9507 945.403 Q90.611 948.045 97.0722 948.045 Q103.533 948.045 107.225 945.403 Q110.886 942.729 110.886 938.082 Q110.886 933.435 107.225 930.794 Q103.533 928.12 97.0722 928.12 M84.6272 948.045 Q81.4444 946.199 79.9166 943.398 Q78.357 940.565 78.357 936.65 Q78.357 930.157 83.5132 926.115 Q88.6694 922.041 97.0722 922.041 Q105.475 922.041 110.631 926.115 Q115.787 930.157 115.787 936.65 Q115.787 940.565 114.26 943.398 Q112.7 946.199 109.517 948.045 L114.864 948.045 L114.864 953.933 L65.3391 953.933 L65.3391 948.045 L84.6272 948.045 Z\" fill=\"#000000\" fill-rule=\"nonzero\" fill-opacity=\"1\" /><path clip-path=\"url(#clip900)\" d=\"M79.2164 912.333 L79.2164 906.477 L114.864 906.477 L114.864 912.333 L79.2164 912.333 M65.3391 912.333 L65.3391 906.477 L72.7552 906.477 L72.7552 912.333 L65.3391 912.333 Z\" fill=\"#000000\" fill-rule=\"nonzero\" fill-opacity=\"1\" /><path clip-path=\"url(#clip900)\" d=\"M65.3391 894.223 L65.3391 888.366 L114.864 888.366 L114.864 894.223 L65.3391 894.223 Z\" fill=\"#000000\" fill-rule=\"nonzero\" fill-opacity=\"1\" /><path clip-path=\"url(#clip900)\" d=\"M79.2164 876.112 L79.2164 870.256 L114.864 870.256 L114.864 876.112 L79.2164 876.112 M65.3391 876.112 L65.3391 870.256 L72.7552 870.256 L72.7552 876.112 L65.3391 876.112 Z\" fill=\"#000000\" fill-rule=\"nonzero\" fill-opacity=\"1\" /><path clip-path=\"url(#clip900)\" d=\"M69.0949 852.209 L79.2164 852.209 L79.2164 840.146 L83.7678 840.146 L83.7678 852.209 L103.12 852.209 Q107.48 852.209 108.721 851.031 Q109.963 849.822 109.963 846.162 L109.963 840.146 L114.864 840.146 L114.864 846.162 Q114.864 852.941 112.35 855.519 Q109.804 858.097 103.12 858.097 L83.7678 858.097 L83.7678 862.394 L79.2164 862.394 L79.2164 858.097 L69.0949 858.097 L69.0949 852.209 Z\" fill=\"#000000\" fill-rule=\"nonzero\" fill-opacity=\"1\" /><path clip-path=\"url(#clip900)\" d=\"M118.174 817.611 Q124.54 820.094 126.482 822.449 Q128.423 824.805 128.423 828.751 L128.423 833.43 L123.522 833.43 L123.522 829.993 Q123.522 827.574 122.376 826.237 Q121.23 824.9 116.965 823.277 L114.291 822.226 L79.2164 836.645 L79.2164 830.438 L107.098 819.298 L79.2164 808.158 L79.2164 801.952 L118.174 817.611 Z\" fill=\"#000000\" fill-rule=\"nonzero\" fill-opacity=\"1\" /><path clip-path=\"url(#clip900)\" d=\"M109.517 767.481 L128.423 767.481 L128.423 773.37 L79.2164 773.37 L79.2164 767.481 L84.6272 767.481 Q81.4444 765.635 79.9166 762.834 Q78.357 760.002 78.357 756.087 Q78.357 749.594 83.5132 745.552 Q88.6694 741.477 97.0722 741.477 Q105.475 741.477 110.631 745.552 Q115.787 749.594 115.787 756.087 Q115.787 760.002 114.26 762.834 Q112.7 765.635 109.517 767.481 M97.0722 747.557 Q90.611 747.557 86.9507 750.23 Q83.2586 752.872 83.2586 757.519 Q83.2586 762.166 86.9507 764.84 Q90.611 767.481 97.0722 767.481 Q103.533 767.481 107.225 764.84 Q110.886 762.166 110.886 757.519 Q110.886 752.872 107.225 750.23 Q103.533 747.557 97.0722 747.557 Z\" fill=\"#000000\" fill-rule=\"nonzero\" fill-opacity=\"1\" /><path clip-path=\"url(#clip900)\" d=\"M96.9449 715.569 Q96.9449 722.667 98.5681 725.404 Q100.191 728.141 104.106 728.141 Q107.225 728.141 109.072 726.104 Q110.886 724.035 110.886 720.502 Q110.886 715.633 107.448 712.704 Q103.979 709.744 98.2498 709.744 L96.9449 709.744 L96.9449 715.569 M94.5259 703.888 L114.864 703.888 L114.864 709.744 L109.453 709.744 Q112.7 711.75 114.26 714.742 Q115.787 717.733 115.787 722.062 Q115.787 727.537 112.732 730.783 Q109.644 733.998 104.488 733.998 Q98.4726 733.998 95.4171 729.987 Q92.3615 725.945 92.3615 717.956 L92.3615 709.744 L91.7886 709.744 Q87.7464 709.744 85.5502 712.418 Q83.3222 715.06 83.3222 719.866 Q83.3222 722.921 84.0543 725.818 Q84.7864 728.714 86.2505 731.388 L80.8396 731.388 Q79.5983 728.173 78.9936 725.149 Q78.357 722.126 78.357 719.261 Q78.357 711.527 82.3674 707.707 Q86.3778 703.888 94.5259 703.888 Z\" fill=\"#000000\" fill-rule=\"nonzero\" fill-opacity=\"1\" /><path clip-path=\"url(#clip900)\" d=\"M84.6909 671.168 Q84.118 672.155 83.8633 673.333 Q83.5769 674.478 83.5769 675.879 Q83.5769 680.844 86.8234 683.518 Q90.0381 686.159 96.0855 686.159 L114.864 686.159 L114.864 692.048 L79.2164 692.048 L79.2164 686.159 L84.7545 686.159 Q81.508 684.313 79.9484 681.353 Q78.357 678.393 78.357 674.16 Q78.357 673.555 78.4525 672.823 Q78.5161 672.091 78.6753 671.2 L84.6909 671.168 Z\" fill=\"#000000\" fill-rule=\"nonzero\" fill-opacity=\"1\" /><path clip-path=\"url(#clip900)\" d=\"M96.9449 648.825 Q96.9449 655.922 98.5681 658.66 Q100.191 661.397 104.106 661.397 Q107.225 661.397 109.072 659.36 Q110.886 657.291 110.886 653.758 Q110.886 648.888 107.448 645.96 Q103.979 643 98.2498 643 L96.9449 643 L96.9449 648.825 M94.5259 637.144 L114.864 637.144 L114.864 643 L109.453 643 Q112.7 645.005 114.26 647.997 Q115.787 650.989 115.787 655.318 Q115.787 660.792 112.732 664.039 Q109.644 667.253 104.488 667.253 Q98.4726 667.253 95.4171 663.243 Q92.3615 659.201 92.3615 651.212 L92.3615 643 L91.7886 643 Q87.7464 643 85.5502 645.674 Q83.3222 648.315 83.3222 653.121 Q83.3222 656.177 84.0543 659.073 Q84.7864 661.97 86.2505 664.643 L80.8396 664.643 Q79.5983 661.429 78.9936 658.405 Q78.357 655.381 78.357 652.517 Q78.357 644.782 82.3674 640.963 Q86.3778 637.144 94.5259 637.144 Z\" fill=\"#000000\" fill-rule=\"nonzero\" fill-opacity=\"1\" /><path clip-path=\"url(#clip900)\" d=\"M86.0595 597.326 Q82.1128 595.13 80.2349 592.074 Q78.357 589.019 78.357 584.881 Q78.357 579.311 82.2719 576.287 Q86.155 573.264 93.3482 573.264 L114.864 573.264 L114.864 579.152 L93.5392 579.152 Q88.4148 579.152 85.9322 580.966 Q83.4496 582.78 83.4496 586.504 Q83.4496 591.056 86.4733 593.698 Q89.497 596.339 94.7169 596.339 L114.864 596.339 L114.864 602.228 L93.5392 602.228 Q88.383 602.228 85.9322 604.042 Q83.4496 605.856 83.4496 609.644 Q83.4496 614.132 86.5051 616.773 Q89.5288 619.415 94.7169 619.415 L114.864 619.415 L114.864 625.303 L79.2164 625.303 L79.2164 619.415 L84.7545 619.415 Q81.4762 617.41 79.9166 614.609 Q78.357 611.808 78.357 607.957 Q78.357 604.074 80.3304 601.368 Q82.3037 598.631 86.0595 597.326 Z\" fill=\"#000000\" fill-rule=\"nonzero\" fill-opacity=\"1\" /><path clip-path=\"url(#clip900)\" d=\"M95.5762 531.091 L98.4408 531.091 L98.4408 558.018 Q104.488 557.636 107.671 554.389 Q110.822 551.111 110.822 545.286 Q110.822 541.913 109.995 538.762 Q109.167 535.579 107.512 532.46 L113.05 532.46 Q114.387 535.611 115.087 538.921 Q115.787 542.231 115.787 545.637 Q115.787 554.167 110.822 559.164 Q105.857 564.129 97.3905 564.129 Q88.6376 564.129 83.5132 559.418 Q78.357 554.676 78.357 546.655 Q78.357 539.462 83.004 535.292 Q87.6191 531.091 95.5762 531.091 M93.8575 536.947 Q89.0514 537.011 86.1868 539.653 Q83.3222 542.263 83.3222 546.591 Q83.3222 551.493 86.0913 554.453 Q88.8604 557.381 93.8893 557.827 L93.8575 536.947 Z\" fill=\"#000000\" fill-rule=\"nonzero\" fill-opacity=\"1\" /><path clip-path=\"url(#clip900)\" d=\"M69.0949 515.686 L79.2164 515.686 L79.2164 503.623 L83.7678 503.623 L83.7678 515.686 L103.12 515.686 Q107.48 515.686 108.721 514.508 Q109.963 513.299 109.963 509.638 L109.963 503.623 L114.864 503.623 L114.864 509.638 Q114.864 516.418 112.35 518.996 Q109.804 521.574 103.12 521.574 L83.7678 521.574 L83.7678 525.871 L79.2164 525.871 L79.2164 521.574 L69.0949 521.574 L69.0949 515.686 Z\" fill=\"#000000\" fill-rule=\"nonzero\" fill-opacity=\"1\" /><path clip-path=\"url(#clip900)\" d=\"M95.5762 465.429 L98.4408 465.429 L98.4408 492.356 Q104.488 491.974 107.671 488.727 Q110.822 485.449 110.822 479.624 Q110.822 476.25 109.995 473.099 Q109.167 469.916 107.512 466.797 L113.05 466.797 Q114.387 469.948 115.087 473.258 Q115.787 476.569 115.787 479.974 Q115.787 488.504 110.822 493.501 Q105.857 498.467 97.3905 498.467 Q88.6376 498.467 83.5132 493.756 Q78.357 489.014 78.357 480.993 Q78.357 473.8 83.004 469.63 Q87.6191 465.429 95.5762 465.429 M93.8575 471.285 Q89.0514 471.349 86.1868 473.99 Q83.3222 476.6 83.3222 480.929 Q83.3222 485.831 86.0913 488.791 Q88.8604 491.719 93.8893 492.165 L93.8575 471.285 Z\" fill=\"#000000\" fill-rule=\"nonzero\" fill-opacity=\"1\" /><path clip-path=\"url(#clip900)\" d=\"M84.6909 435.16 Q84.118 436.146 83.8633 437.324 Q83.5769 438.47 83.5769 439.87 Q83.5769 444.836 86.8234 447.509 Q90.0381 450.151 96.0855 450.151 L114.864 450.151 L114.864 456.039 L79.2164 456.039 L79.2164 450.151 L84.7545 450.151 Q81.508 448.305 79.9484 445.345 Q78.357 442.385 78.357 438.152 Q78.357 437.547 78.4525 436.815 Q78.5161 436.083 78.6753 435.192 L84.6909 435.16 Z\" fill=\"#000000\" fill-rule=\"nonzero\" fill-opacity=\"1\" /><polyline clip-path=\"url(#clip902)\" style=\"stroke:#000000; stroke-linecap:round; stroke-linejoin:round; stroke-width:4; stroke-opacity:1; fill:none\" points=\"417.282,302.566 417.282,268.99 \"/>\n",
       "<polyline clip-path=\"url(#clip902)\" style=\"stroke:#000000; stroke-linecap:round; stroke-linejoin:round; stroke-width:4; stroke-opacity:1; fill:none\" points=\"507.635,436.724 507.635,417.496 \"/>\n",
       "<polyline clip-path=\"url(#clip902)\" style=\"stroke:#000000; stroke-linecap:round; stroke-linejoin:round; stroke-width:4; stroke-opacity:1; fill:none\" points=\"597.988,557.538 597.988,535.156 \"/>\n",
       "<polyline clip-path=\"url(#clip902)\" style=\"stroke:#000000; stroke-linecap:round; stroke-linejoin:round; stroke-width:4; stroke-opacity:1; fill:none\" points=\"634.129,599.578 634.129,596.132 \"/>\n",
       "<polyline clip-path=\"url(#clip902)\" style=\"stroke:#000000; stroke-linecap:round; stroke-linejoin:round; stroke-width:4; stroke-opacity:1; fill:none\" points=\"652.2,621.236 652.2,614.57 \"/>\n",
       "<polyline clip-path=\"url(#clip902)\" style=\"stroke:#000000; stroke-linecap:round; stroke-linejoin:round; stroke-width:4; stroke-opacity:1; fill:none\" points=\"688.341,666.766 688.341,662.916 \"/>\n",
       "<polyline clip-path=\"url(#clip902)\" style=\"stroke:#000000; stroke-linecap:round; stroke-linejoin:round; stroke-width:4; stroke-opacity:1; fill:none\" points=\"724.482,708.807 724.482,705.565 \"/>\n",
       "<polyline clip-path=\"url(#clip902)\" style=\"stroke:#000000; stroke-linecap:round; stroke-linejoin:round; stroke-width:4; stroke-opacity:1; fill:none\" points=\"742.553,729.305 742.553,726.956 \"/>\n",
       "<polyline clip-path=\"url(#clip902)\" style=\"stroke:#000000; stroke-linecap:round; stroke-linejoin:round; stroke-width:4; stroke-opacity:1; fill:none\" points=\"778.694,769.883 778.694,766.271 \"/>\n",
       "<polyline clip-path=\"url(#clip902)\" style=\"stroke:#000000; stroke-linecap:round; stroke-linejoin:round; stroke-width:4; stroke-opacity:1; fill:none\" points=\"814.835,810.867 814.835,807.567 \"/>\n",
       "<polyline clip-path=\"url(#clip902)\" style=\"stroke:#000000; stroke-linecap:round; stroke-linejoin:round; stroke-width:4; stroke-opacity:1; fill:none\" points=\"832.906,829.513 832.906,825.704 \"/>\n",
       "<polyline clip-path=\"url(#clip902)\" style=\"stroke:#000000; stroke-linecap:round; stroke-linejoin:round; stroke-width:4; stroke-opacity:1; fill:none\" points=\"869.047,868.798 869.047,864.949 \"/>\n",
       "<polyline clip-path=\"url(#clip902)\" style=\"stroke:#000000; stroke-linecap:round; stroke-linejoin:round; stroke-width:4; stroke-opacity:1; fill:none\" points=\"887.118,887.531 887.118,883.341 \"/>\n",
       "<polyline clip-path=\"url(#clip902)\" style=\"stroke:#000000; stroke-linecap:round; stroke-linejoin:round; stroke-width:4; stroke-opacity:1; fill:none\" points=\"905.188,904.425 905.188,901.87 \"/>\n",
       "<polyline clip-path=\"url(#clip902)\" style=\"stroke:#000000; stroke-linecap:round; stroke-linejoin:round; stroke-width:4; stroke-opacity:1; fill:none\" points=\"923.259,923.755 923.259,920.369 \"/>\n",
       "<polyline clip-path=\"url(#clip902)\" style=\"stroke:#000000; stroke-linecap:round; stroke-linejoin:round; stroke-width:4; stroke-opacity:1; fill:none\" points=\"959.4,959.288 959.4,956.219 \"/>\n",
       "<polyline clip-path=\"url(#clip902)\" style=\"stroke:#000000; stroke-linecap:round; stroke-linejoin:round; stroke-width:4; stroke-opacity:1; fill:none\" points=\"1049.75,1043.05 1049.75,1039.87 \"/>\n",
       "<polyline clip-path=\"url(#clip902)\" style=\"stroke:#000000; stroke-linecap:round; stroke-linejoin:round; stroke-width:4; stroke-opacity:1; fill:none\" points=\"1230.46,1195.1 1230.46,1193.03 \"/>\n",
       "<polyline clip-path=\"url(#clip902)\" style=\"stroke:#000000; stroke-linecap:round; stroke-linejoin:round; stroke-width:4; stroke-opacity:1; fill:none\" points=\"1411.16,1329.89 1411.16,1327.68 \"/>\n",
       "<line clip-path=\"url(#clip902)\" x1=\"429.282\" y1=\"302.566\" x2=\"405.282\" y2=\"302.566\" style=\"stroke:#000000; stroke-width:4; stroke-opacity:1\"/>\n",
       "<line clip-path=\"url(#clip902)\" x1=\"429.282\" y1=\"268.99\" x2=\"405.282\" y2=\"268.99\" style=\"stroke:#000000; stroke-width:4; stroke-opacity:1\"/>\n",
       "<line clip-path=\"url(#clip902)\" x1=\"519.635\" y1=\"436.724\" x2=\"495.635\" y2=\"436.724\" style=\"stroke:#000000; stroke-width:4; stroke-opacity:1\"/>\n",
       "<line clip-path=\"url(#clip902)\" x1=\"519.635\" y1=\"417.496\" x2=\"495.635\" y2=\"417.496\" style=\"stroke:#000000; stroke-width:4; stroke-opacity:1\"/>\n",
       "<line clip-path=\"url(#clip902)\" x1=\"609.988\" y1=\"557.538\" x2=\"585.988\" y2=\"557.538\" style=\"stroke:#000000; stroke-width:4; stroke-opacity:1\"/>\n",
       "<line clip-path=\"url(#clip902)\" x1=\"609.988\" y1=\"535.156\" x2=\"585.988\" y2=\"535.156\" style=\"stroke:#000000; stroke-width:4; stroke-opacity:1\"/>\n",
       "<line clip-path=\"url(#clip902)\" x1=\"646.129\" y1=\"599.578\" x2=\"622.129\" y2=\"599.578\" style=\"stroke:#000000; stroke-width:4; stroke-opacity:1\"/>\n",
       "<line clip-path=\"url(#clip902)\" x1=\"646.129\" y1=\"596.132\" x2=\"622.129\" y2=\"596.132\" style=\"stroke:#000000; stroke-width:4; stroke-opacity:1\"/>\n",
       "<line clip-path=\"url(#clip902)\" x1=\"664.2\" y1=\"621.236\" x2=\"640.2\" y2=\"621.236\" style=\"stroke:#000000; stroke-width:4; stroke-opacity:1\"/>\n",
       "<line clip-path=\"url(#clip902)\" x1=\"664.2\" y1=\"614.57\" x2=\"640.2\" y2=\"614.57\" style=\"stroke:#000000; stroke-width:4; stroke-opacity:1\"/>\n",
       "<line clip-path=\"url(#clip902)\" x1=\"700.341\" y1=\"666.766\" x2=\"676.341\" y2=\"666.766\" style=\"stroke:#000000; stroke-width:4; stroke-opacity:1\"/>\n",
       "<line clip-path=\"url(#clip902)\" x1=\"700.341\" y1=\"662.916\" x2=\"676.341\" y2=\"662.916\" style=\"stroke:#000000; stroke-width:4; stroke-opacity:1\"/>\n",
       "<line clip-path=\"url(#clip902)\" x1=\"736.482\" y1=\"708.807\" x2=\"712.482\" y2=\"708.807\" style=\"stroke:#000000; stroke-width:4; stroke-opacity:1\"/>\n",
       "<line clip-path=\"url(#clip902)\" x1=\"736.482\" y1=\"705.565\" x2=\"712.482\" y2=\"705.565\" style=\"stroke:#000000; stroke-width:4; stroke-opacity:1\"/>\n",
       "<line clip-path=\"url(#clip902)\" x1=\"754.553\" y1=\"729.305\" x2=\"730.553\" y2=\"729.305\" style=\"stroke:#000000; stroke-width:4; stroke-opacity:1\"/>\n",
       "<line clip-path=\"url(#clip902)\" x1=\"754.553\" y1=\"726.956\" x2=\"730.553\" y2=\"726.956\" style=\"stroke:#000000; stroke-width:4; stroke-opacity:1\"/>\n",
       "<line clip-path=\"url(#clip902)\" x1=\"790.694\" y1=\"769.883\" x2=\"766.694\" y2=\"769.883\" style=\"stroke:#000000; stroke-width:4; stroke-opacity:1\"/>\n",
       "<line clip-path=\"url(#clip902)\" x1=\"790.694\" y1=\"766.271\" x2=\"766.694\" y2=\"766.271\" style=\"stroke:#000000; stroke-width:4; stroke-opacity:1\"/>\n",
       "<line clip-path=\"url(#clip902)\" x1=\"826.835\" y1=\"810.867\" x2=\"802.835\" y2=\"810.867\" style=\"stroke:#000000; stroke-width:4; stroke-opacity:1\"/>\n",
       "<line clip-path=\"url(#clip902)\" x1=\"826.835\" y1=\"807.567\" x2=\"802.835\" y2=\"807.567\" style=\"stroke:#000000; stroke-width:4; stroke-opacity:1\"/>\n",
       "<line clip-path=\"url(#clip902)\" x1=\"844.906\" y1=\"829.513\" x2=\"820.906\" y2=\"829.513\" style=\"stroke:#000000; stroke-width:4; stroke-opacity:1\"/>\n",
       "<line clip-path=\"url(#clip902)\" x1=\"844.906\" y1=\"825.704\" x2=\"820.906\" y2=\"825.704\" style=\"stroke:#000000; stroke-width:4; stroke-opacity:1\"/>\n",
       "<line clip-path=\"url(#clip902)\" x1=\"881.047\" y1=\"868.798\" x2=\"857.047\" y2=\"868.798\" style=\"stroke:#000000; stroke-width:4; stroke-opacity:1\"/>\n",
       "<line clip-path=\"url(#clip902)\" x1=\"881.047\" y1=\"864.949\" x2=\"857.047\" y2=\"864.949\" style=\"stroke:#000000; stroke-width:4; stroke-opacity:1\"/>\n",
       "<line clip-path=\"url(#clip902)\" x1=\"899.118\" y1=\"887.531\" x2=\"875.118\" y2=\"887.531\" style=\"stroke:#000000; stroke-width:4; stroke-opacity:1\"/>\n",
       "<line clip-path=\"url(#clip902)\" x1=\"899.118\" y1=\"883.341\" x2=\"875.118\" y2=\"883.341\" style=\"stroke:#000000; stroke-width:4; stroke-opacity:1\"/>\n",
       "<line clip-path=\"url(#clip902)\" x1=\"917.188\" y1=\"904.425\" x2=\"893.188\" y2=\"904.425\" style=\"stroke:#000000; stroke-width:4; stroke-opacity:1\"/>\n",
       "<line clip-path=\"url(#clip902)\" x1=\"917.188\" y1=\"901.87\" x2=\"893.188\" y2=\"901.87\" style=\"stroke:#000000; stroke-width:4; stroke-opacity:1\"/>\n",
       "<line clip-path=\"url(#clip902)\" x1=\"935.259\" y1=\"923.755\" x2=\"911.259\" y2=\"923.755\" style=\"stroke:#000000; stroke-width:4; stroke-opacity:1\"/>\n",
       "<line clip-path=\"url(#clip902)\" x1=\"935.259\" y1=\"920.369\" x2=\"911.259\" y2=\"920.369\" style=\"stroke:#000000; stroke-width:4; stroke-opacity:1\"/>\n",
       "<line clip-path=\"url(#clip902)\" x1=\"971.4\" y1=\"959.288\" x2=\"947.4\" y2=\"959.288\" style=\"stroke:#000000; stroke-width:4; stroke-opacity:1\"/>\n",
       "<line clip-path=\"url(#clip902)\" x1=\"971.4\" y1=\"956.219\" x2=\"947.4\" y2=\"956.219\" style=\"stroke:#000000; stroke-width:4; stroke-opacity:1\"/>\n",
       "<line clip-path=\"url(#clip902)\" x1=\"1061.75\" y1=\"1043.05\" x2=\"1037.75\" y2=\"1043.05\" style=\"stroke:#000000; stroke-width:4; stroke-opacity:1\"/>\n",
       "<line clip-path=\"url(#clip902)\" x1=\"1061.75\" y1=\"1039.87\" x2=\"1037.75\" y2=\"1039.87\" style=\"stroke:#000000; stroke-width:4; stroke-opacity:1\"/>\n",
       "<line clip-path=\"url(#clip902)\" x1=\"1242.46\" y1=\"1195.1\" x2=\"1218.46\" y2=\"1195.1\" style=\"stroke:#000000; stroke-width:4; stroke-opacity:1\"/>\n",
       "<line clip-path=\"url(#clip902)\" x1=\"1242.46\" y1=\"1193.03\" x2=\"1218.46\" y2=\"1193.03\" style=\"stroke:#000000; stroke-width:4; stroke-opacity:1\"/>\n",
       "<line clip-path=\"url(#clip902)\" x1=\"1423.16\" y1=\"1329.89\" x2=\"1399.16\" y2=\"1329.89\" style=\"stroke:#000000; stroke-width:4; stroke-opacity:1\"/>\n",
       "<line clip-path=\"url(#clip902)\" x1=\"1423.16\" y1=\"1327.68\" x2=\"1399.16\" y2=\"1327.68\" style=\"stroke:#000000; stroke-width:4; stroke-opacity:1\"/>\n",
       "<line clip-path=\"url(#clip902)\" x1=\"417.282\" y1=\"285.778\" x2=\"417.282\" y2=\"273.778\" style=\"stroke:#009af9; stroke-width:3.2; stroke-opacity:1\"/>\n",
       "<line clip-path=\"url(#clip902)\" x1=\"417.282\" y1=\"285.778\" x2=\"405.282\" y2=\"285.778\" style=\"stroke:#009af9; stroke-width:3.2; stroke-opacity:1\"/>\n",
       "<line clip-path=\"url(#clip902)\" x1=\"417.282\" y1=\"285.778\" x2=\"417.282\" y2=\"297.778\" style=\"stroke:#009af9; stroke-width:3.2; stroke-opacity:1\"/>\n",
       "<line clip-path=\"url(#clip902)\" x1=\"417.282\" y1=\"285.778\" x2=\"429.282\" y2=\"285.778\" style=\"stroke:#009af9; stroke-width:3.2; stroke-opacity:1\"/>\n",
       "<line clip-path=\"url(#clip902)\" x1=\"507.635\" y1=\"427.11\" x2=\"507.635\" y2=\"415.11\" style=\"stroke:#009af9; stroke-width:3.2; stroke-opacity:1\"/>\n",
       "<line clip-path=\"url(#clip902)\" x1=\"507.635\" y1=\"427.11\" x2=\"495.635\" y2=\"427.11\" style=\"stroke:#009af9; stroke-width:3.2; stroke-opacity:1\"/>\n",
       "<line clip-path=\"url(#clip902)\" x1=\"507.635\" y1=\"427.11\" x2=\"507.635\" y2=\"439.11\" style=\"stroke:#009af9; stroke-width:3.2; stroke-opacity:1\"/>\n",
       "<line clip-path=\"url(#clip902)\" x1=\"507.635\" y1=\"427.11\" x2=\"519.635\" y2=\"427.11\" style=\"stroke:#009af9; stroke-width:3.2; stroke-opacity:1\"/>\n",
       "<line clip-path=\"url(#clip902)\" x1=\"597.988\" y1=\"546.347\" x2=\"597.988\" y2=\"534.347\" style=\"stroke:#009af9; stroke-width:3.2; stroke-opacity:1\"/>\n",
       "<line clip-path=\"url(#clip902)\" x1=\"597.988\" y1=\"546.347\" x2=\"585.988\" y2=\"546.347\" style=\"stroke:#009af9; stroke-width:3.2; stroke-opacity:1\"/>\n",
       "<line clip-path=\"url(#clip902)\" x1=\"597.988\" y1=\"546.347\" x2=\"597.988\" y2=\"558.347\" style=\"stroke:#009af9; stroke-width:3.2; stroke-opacity:1\"/>\n",
       "<line clip-path=\"url(#clip902)\" x1=\"597.988\" y1=\"546.347\" x2=\"609.988\" y2=\"546.347\" style=\"stroke:#009af9; stroke-width:3.2; stroke-opacity:1\"/>\n",
       "<line clip-path=\"url(#clip902)\" x1=\"634.129\" y1=\"597.855\" x2=\"634.129\" y2=\"585.855\" style=\"stroke:#009af9; stroke-width:3.2; stroke-opacity:1\"/>\n",
       "<line clip-path=\"url(#clip902)\" x1=\"634.129\" y1=\"597.855\" x2=\"622.129\" y2=\"597.855\" style=\"stroke:#009af9; stroke-width:3.2; stroke-opacity:1\"/>\n",
       "<line clip-path=\"url(#clip902)\" x1=\"634.129\" y1=\"597.855\" x2=\"634.129\" y2=\"609.855\" style=\"stroke:#009af9; stroke-width:3.2; stroke-opacity:1\"/>\n",
       "<line clip-path=\"url(#clip902)\" x1=\"634.129\" y1=\"597.855\" x2=\"646.129\" y2=\"597.855\" style=\"stroke:#009af9; stroke-width:3.2; stroke-opacity:1\"/>\n",
       "<line clip-path=\"url(#clip902)\" x1=\"652.2\" y1=\"617.903\" x2=\"652.2\" y2=\"605.903\" style=\"stroke:#009af9; stroke-width:3.2; stroke-opacity:1\"/>\n",
       "<line clip-path=\"url(#clip902)\" x1=\"652.2\" y1=\"617.903\" x2=\"640.2\" y2=\"617.903\" style=\"stroke:#009af9; stroke-width:3.2; stroke-opacity:1\"/>\n",
       "<line clip-path=\"url(#clip902)\" x1=\"652.2\" y1=\"617.903\" x2=\"652.2\" y2=\"629.903\" style=\"stroke:#009af9; stroke-width:3.2; stroke-opacity:1\"/>\n",
       "<line clip-path=\"url(#clip902)\" x1=\"652.2\" y1=\"617.903\" x2=\"664.2\" y2=\"617.903\" style=\"stroke:#009af9; stroke-width:3.2; stroke-opacity:1\"/>\n",
       "<line clip-path=\"url(#clip902)\" x1=\"688.341\" y1=\"664.841\" x2=\"688.341\" y2=\"652.841\" style=\"stroke:#009af9; stroke-width:3.2; stroke-opacity:1\"/>\n",
       "<line clip-path=\"url(#clip902)\" x1=\"688.341\" y1=\"664.841\" x2=\"676.341\" y2=\"664.841\" style=\"stroke:#009af9; stroke-width:3.2; stroke-opacity:1\"/>\n",
       "<line clip-path=\"url(#clip902)\" x1=\"688.341\" y1=\"664.841\" x2=\"688.341\" y2=\"676.841\" style=\"stroke:#009af9; stroke-width:3.2; stroke-opacity:1\"/>\n",
       "<line clip-path=\"url(#clip902)\" x1=\"688.341\" y1=\"664.841\" x2=\"700.341\" y2=\"664.841\" style=\"stroke:#009af9; stroke-width:3.2; stroke-opacity:1\"/>\n",
       "<line clip-path=\"url(#clip902)\" x1=\"724.482\" y1=\"707.186\" x2=\"724.482\" y2=\"695.186\" style=\"stroke:#009af9; stroke-width:3.2; stroke-opacity:1\"/>\n",
       "<line clip-path=\"url(#clip902)\" x1=\"724.482\" y1=\"707.186\" x2=\"712.482\" y2=\"707.186\" style=\"stroke:#009af9; stroke-width:3.2; stroke-opacity:1\"/>\n",
       "<line clip-path=\"url(#clip902)\" x1=\"724.482\" y1=\"707.186\" x2=\"724.482\" y2=\"719.186\" style=\"stroke:#009af9; stroke-width:3.2; stroke-opacity:1\"/>\n",
       "<line clip-path=\"url(#clip902)\" x1=\"724.482\" y1=\"707.186\" x2=\"736.482\" y2=\"707.186\" style=\"stroke:#009af9; stroke-width:3.2; stroke-opacity:1\"/>\n",
       "<line clip-path=\"url(#clip902)\" x1=\"742.553\" y1=\"728.131\" x2=\"742.553\" y2=\"716.131\" style=\"stroke:#009af9; stroke-width:3.2; stroke-opacity:1\"/>\n",
       "<line clip-path=\"url(#clip902)\" x1=\"742.553\" y1=\"728.131\" x2=\"730.553\" y2=\"728.131\" style=\"stroke:#009af9; stroke-width:3.2; stroke-opacity:1\"/>\n",
       "<line clip-path=\"url(#clip902)\" x1=\"742.553\" y1=\"728.131\" x2=\"742.553\" y2=\"740.131\" style=\"stroke:#009af9; stroke-width:3.2; stroke-opacity:1\"/>\n",
       "<line clip-path=\"url(#clip902)\" x1=\"742.553\" y1=\"728.131\" x2=\"754.553\" y2=\"728.131\" style=\"stroke:#009af9; stroke-width:3.2; stroke-opacity:1\"/>\n",
       "<line clip-path=\"url(#clip902)\" x1=\"778.694\" y1=\"768.077\" x2=\"778.694\" y2=\"756.077\" style=\"stroke:#009af9; stroke-width:3.2; stroke-opacity:1\"/>\n",
       "<line clip-path=\"url(#clip902)\" x1=\"778.694\" y1=\"768.077\" x2=\"766.694\" y2=\"768.077\" style=\"stroke:#009af9; stroke-width:3.2; stroke-opacity:1\"/>\n",
       "<line clip-path=\"url(#clip902)\" x1=\"778.694\" y1=\"768.077\" x2=\"778.694\" y2=\"780.077\" style=\"stroke:#009af9; stroke-width:3.2; stroke-opacity:1\"/>\n",
       "<line clip-path=\"url(#clip902)\" x1=\"778.694\" y1=\"768.077\" x2=\"790.694\" y2=\"768.077\" style=\"stroke:#009af9; stroke-width:3.2; stroke-opacity:1\"/>\n",
       "<line clip-path=\"url(#clip902)\" x1=\"814.835\" y1=\"809.217\" x2=\"814.835\" y2=\"797.217\" style=\"stroke:#009af9; stroke-width:3.2; stroke-opacity:1\"/>\n",
       "<line clip-path=\"url(#clip902)\" x1=\"814.835\" y1=\"809.217\" x2=\"802.835\" y2=\"809.217\" style=\"stroke:#009af9; stroke-width:3.2; stroke-opacity:1\"/>\n",
       "<line clip-path=\"url(#clip902)\" x1=\"814.835\" y1=\"809.217\" x2=\"814.835\" y2=\"821.217\" style=\"stroke:#009af9; stroke-width:3.2; stroke-opacity:1\"/>\n",
       "<line clip-path=\"url(#clip902)\" x1=\"814.835\" y1=\"809.217\" x2=\"826.835\" y2=\"809.217\" style=\"stroke:#009af9; stroke-width:3.2; stroke-opacity:1\"/>\n",
       "<line clip-path=\"url(#clip902)\" x1=\"832.906\" y1=\"827.608\" x2=\"832.906\" y2=\"815.608\" style=\"stroke:#009af9; stroke-width:3.2; stroke-opacity:1\"/>\n",
       "<line clip-path=\"url(#clip902)\" x1=\"832.906\" y1=\"827.608\" x2=\"820.906\" y2=\"827.608\" style=\"stroke:#009af9; stroke-width:3.2; stroke-opacity:1\"/>\n",
       "<line clip-path=\"url(#clip902)\" x1=\"832.906\" y1=\"827.608\" x2=\"832.906\" y2=\"839.608\" style=\"stroke:#009af9; stroke-width:3.2; stroke-opacity:1\"/>\n",
       "<line clip-path=\"url(#clip902)\" x1=\"832.906\" y1=\"827.608\" x2=\"844.906\" y2=\"827.608\" style=\"stroke:#009af9; stroke-width:3.2; stroke-opacity:1\"/>\n",
       "<line clip-path=\"url(#clip902)\" x1=\"869.047\" y1=\"866.873\" x2=\"869.047\" y2=\"854.873\" style=\"stroke:#009af9; stroke-width:3.2; stroke-opacity:1\"/>\n",
       "<line clip-path=\"url(#clip902)\" x1=\"869.047\" y1=\"866.873\" x2=\"857.047\" y2=\"866.873\" style=\"stroke:#009af9; stroke-width:3.2; stroke-opacity:1\"/>\n",
       "<line clip-path=\"url(#clip902)\" x1=\"869.047\" y1=\"866.873\" x2=\"869.047\" y2=\"878.873\" style=\"stroke:#009af9; stroke-width:3.2; stroke-opacity:1\"/>\n",
       "<line clip-path=\"url(#clip902)\" x1=\"869.047\" y1=\"866.873\" x2=\"881.047\" y2=\"866.873\" style=\"stroke:#009af9; stroke-width:3.2; stroke-opacity:1\"/>\n",
       "<line clip-path=\"url(#clip902)\" x1=\"887.118\" y1=\"885.436\" x2=\"887.118\" y2=\"873.436\" style=\"stroke:#009af9; stroke-width:3.2; stroke-opacity:1\"/>\n",
       "<line clip-path=\"url(#clip902)\" x1=\"887.118\" y1=\"885.436\" x2=\"875.118\" y2=\"885.436\" style=\"stroke:#009af9; stroke-width:3.2; stroke-opacity:1\"/>\n",
       "<line clip-path=\"url(#clip902)\" x1=\"887.118\" y1=\"885.436\" x2=\"887.118\" y2=\"897.436\" style=\"stroke:#009af9; stroke-width:3.2; stroke-opacity:1\"/>\n",
       "<line clip-path=\"url(#clip902)\" x1=\"887.118\" y1=\"885.436\" x2=\"899.118\" y2=\"885.436\" style=\"stroke:#009af9; stroke-width:3.2; stroke-opacity:1\"/>\n",
       "<line clip-path=\"url(#clip902)\" x1=\"905.188\" y1=\"903.148\" x2=\"905.188\" y2=\"891.148\" style=\"stroke:#009af9; stroke-width:3.2; stroke-opacity:1\"/>\n",
       "<line clip-path=\"url(#clip902)\" x1=\"905.188\" y1=\"903.148\" x2=\"893.188\" y2=\"903.148\" style=\"stroke:#009af9; stroke-width:3.2; stroke-opacity:1\"/>\n",
       "<line clip-path=\"url(#clip902)\" x1=\"905.188\" y1=\"903.148\" x2=\"905.188\" y2=\"915.148\" style=\"stroke:#009af9; stroke-width:3.2; stroke-opacity:1\"/>\n",
       "<line clip-path=\"url(#clip902)\" x1=\"905.188\" y1=\"903.148\" x2=\"917.188\" y2=\"903.148\" style=\"stroke:#009af9; stroke-width:3.2; stroke-opacity:1\"/>\n",
       "<line clip-path=\"url(#clip902)\" x1=\"923.259\" y1=\"922.062\" x2=\"923.259\" y2=\"910.062\" style=\"stroke:#009af9; stroke-width:3.2; stroke-opacity:1\"/>\n",
       "<line clip-path=\"url(#clip902)\" x1=\"923.259\" y1=\"922.062\" x2=\"911.259\" y2=\"922.062\" style=\"stroke:#009af9; stroke-width:3.2; stroke-opacity:1\"/>\n",
       "<line clip-path=\"url(#clip902)\" x1=\"923.259\" y1=\"922.062\" x2=\"923.259\" y2=\"934.062\" style=\"stroke:#009af9; stroke-width:3.2; stroke-opacity:1\"/>\n",
       "<line clip-path=\"url(#clip902)\" x1=\"923.259\" y1=\"922.062\" x2=\"935.259\" y2=\"922.062\" style=\"stroke:#009af9; stroke-width:3.2; stroke-opacity:1\"/>\n",
       "<line clip-path=\"url(#clip902)\" x1=\"959.4\" y1=\"957.753\" x2=\"959.4\" y2=\"945.753\" style=\"stroke:#009af9; stroke-width:3.2; stroke-opacity:1\"/>\n",
       "<line clip-path=\"url(#clip902)\" x1=\"959.4\" y1=\"957.753\" x2=\"947.4\" y2=\"957.753\" style=\"stroke:#009af9; stroke-width:3.2; stroke-opacity:1\"/>\n",
       "<line clip-path=\"url(#clip902)\" x1=\"959.4\" y1=\"957.753\" x2=\"959.4\" y2=\"969.753\" style=\"stroke:#009af9; stroke-width:3.2; stroke-opacity:1\"/>\n",
       "<line clip-path=\"url(#clip902)\" x1=\"959.4\" y1=\"957.753\" x2=\"971.4\" y2=\"957.753\" style=\"stroke:#009af9; stroke-width:3.2; stroke-opacity:1\"/>\n",
       "<line clip-path=\"url(#clip902)\" x1=\"1049.75\" y1=\"1041.46\" x2=\"1049.75\" y2=\"1029.46\" style=\"stroke:#009af9; stroke-width:3.2; stroke-opacity:1\"/>\n",
       "<line clip-path=\"url(#clip902)\" x1=\"1049.75\" y1=\"1041.46\" x2=\"1037.75\" y2=\"1041.46\" style=\"stroke:#009af9; stroke-width:3.2; stroke-opacity:1\"/>\n",
       "<line clip-path=\"url(#clip902)\" x1=\"1049.75\" y1=\"1041.46\" x2=\"1049.75\" y2=\"1053.46\" style=\"stroke:#009af9; stroke-width:3.2; stroke-opacity:1\"/>\n",
       "<line clip-path=\"url(#clip902)\" x1=\"1049.75\" y1=\"1041.46\" x2=\"1061.75\" y2=\"1041.46\" style=\"stroke:#009af9; stroke-width:3.2; stroke-opacity:1\"/>\n",
       "<line clip-path=\"url(#clip902)\" x1=\"1230.46\" y1=\"1194.06\" x2=\"1230.46\" y2=\"1182.06\" style=\"stroke:#009af9; stroke-width:3.2; stroke-opacity:1\"/>\n",
       "<line clip-path=\"url(#clip902)\" x1=\"1230.46\" y1=\"1194.06\" x2=\"1218.46\" y2=\"1194.06\" style=\"stroke:#009af9; stroke-width:3.2; stroke-opacity:1\"/>\n",
       "<line clip-path=\"url(#clip902)\" x1=\"1230.46\" y1=\"1194.06\" x2=\"1230.46\" y2=\"1206.06\" style=\"stroke:#009af9; stroke-width:3.2; stroke-opacity:1\"/>\n",
       "<line clip-path=\"url(#clip902)\" x1=\"1230.46\" y1=\"1194.06\" x2=\"1242.46\" y2=\"1194.06\" style=\"stroke:#009af9; stroke-width:3.2; stroke-opacity:1\"/>\n",
       "<line clip-path=\"url(#clip902)\" x1=\"1411.16\" y1=\"1328.79\" x2=\"1411.16\" y2=\"1316.79\" style=\"stroke:#009af9; stroke-width:3.2; stroke-opacity:1\"/>\n",
       "<line clip-path=\"url(#clip902)\" x1=\"1411.16\" y1=\"1328.79\" x2=\"1399.16\" y2=\"1328.79\" style=\"stroke:#009af9; stroke-width:3.2; stroke-opacity:1\"/>\n",
       "<line clip-path=\"url(#clip902)\" x1=\"1411.16\" y1=\"1328.79\" x2=\"1411.16\" y2=\"1340.79\" style=\"stroke:#009af9; stroke-width:3.2; stroke-opacity:1\"/>\n",
       "<line clip-path=\"url(#clip902)\" x1=\"1411.16\" y1=\"1328.79\" x2=\"1423.16\" y2=\"1328.79\" style=\"stroke:#009af9; stroke-width:3.2; stroke-opacity:1\"/>\n",
       "<polyline clip-path=\"url(#clip902)\" style=\"stroke:#000000; stroke-linecap:round; stroke-linejoin:round; stroke-width:4; stroke-opacity:1; fill:none\" points=\"-854.887,211.43 2592.98,211.43 \"/>\n",
       "<polyline clip-path=\"url(#clip902)\" style=\"stroke:#3da44d; stroke-linecap:round; stroke-linejoin:round; stroke-width:4; stroke-opacity:1; fill:none\" points=\"326.929,161.05 507.635,424.477 688.341,659.963 869.047,867.506 1049.75,1047.11 1230.46,1198.77 1411.16,1322.48 \"/>\n",
       "<path clip-path=\"url(#clip900)\" d=\"M1924.73 1364.96 L3074.02 1364.96 L3074.02 125.984 L1924.73 125.984  Z\" fill=\"#ffffff\" fill-rule=\"evenodd\" fill-opacity=\"1\"/>\n",
       "<defs>\n",
       "  <clipPath id=\"clip903\">\n",
       "    <rect x=\"1924\" y=\"125\" width=\"1150\" height=\"1240\"/>\n",
       "  </clipPath>\n",
       "</defs>\n",
       "<polyline clip-path=\"url(#clip903)\" style=\"stroke:#000000; stroke-linecap:round; stroke-linejoin:round; stroke-width:2; stroke-opacity:0.1; fill:none\" points=\"2055.82,1364.96 2055.82,125.984 \"/>\n",
       "<polyline clip-path=\"url(#clip903)\" style=\"stroke:#000000; stroke-linecap:round; stroke-linejoin:round; stroke-width:2; stroke-opacity:0.1; fill:none\" points=\"2252.95,1364.96 2252.95,125.984 \"/>\n",
       "<polyline clip-path=\"url(#clip903)\" style=\"stroke:#000000; stroke-linecap:round; stroke-linejoin:round; stroke-width:2; stroke-opacity:0.1; fill:none\" points=\"2450.09,1364.96 2450.09,125.984 \"/>\n",
       "<polyline clip-path=\"url(#clip903)\" style=\"stroke:#000000; stroke-linecap:round; stroke-linejoin:round; stroke-width:2; stroke-opacity:0.1; fill:none\" points=\"2647.22,1364.96 2647.22,125.984 \"/>\n",
       "<polyline clip-path=\"url(#clip903)\" style=\"stroke:#000000; stroke-linecap:round; stroke-linejoin:round; stroke-width:2; stroke-opacity:0.1; fill:none\" points=\"2844.35,1364.96 2844.35,125.984 \"/>\n",
       "<polyline clip-path=\"url(#clip903)\" style=\"stroke:#000000; stroke-linecap:round; stroke-linejoin:round; stroke-width:2; stroke-opacity:0.1; fill:none\" points=\"3041.49,1364.96 3041.49,125.984 \"/>\n",
       "<polyline clip-path=\"url(#clip900)\" style=\"stroke:#000000; stroke-linecap:round; stroke-linejoin:round; stroke-width:4; stroke-opacity:1; fill:none\" points=\"1924.73,1364.96 3074.02,1364.96 \"/>\n",
       "<polyline clip-path=\"url(#clip900)\" style=\"stroke:#000000; stroke-linecap:round; stroke-linejoin:round; stroke-width:4; stroke-opacity:1; fill:none\" points=\"2055.82,1364.96 2055.82,1346.06 \"/>\n",
       "<polyline clip-path=\"url(#clip900)\" style=\"stroke:#000000; stroke-linecap:round; stroke-linejoin:round; stroke-width:4; stroke-opacity:1; fill:none\" points=\"2252.95,1364.96 2252.95,1346.06 \"/>\n",
       "<polyline clip-path=\"url(#clip900)\" style=\"stroke:#000000; stroke-linecap:round; stroke-linejoin:round; stroke-width:4; stroke-opacity:1; fill:none\" points=\"2450.09,1364.96 2450.09,1346.06 \"/>\n",
       "<polyline clip-path=\"url(#clip900)\" style=\"stroke:#000000; stroke-linecap:round; stroke-linejoin:round; stroke-width:4; stroke-opacity:1; fill:none\" points=\"2647.22,1364.96 2647.22,1346.06 \"/>\n",
       "<polyline clip-path=\"url(#clip900)\" style=\"stroke:#000000; stroke-linecap:round; stroke-linejoin:round; stroke-width:4; stroke-opacity:1; fill:none\" points=\"2844.35,1364.96 2844.35,1346.06 \"/>\n",
       "<polyline clip-path=\"url(#clip900)\" style=\"stroke:#000000; stroke-linecap:round; stroke-linejoin:round; stroke-width:4; stroke-opacity:1; fill:none\" points=\"3041.49,1364.96 3041.49,1346.06 \"/>\n",
       "<path clip-path=\"url(#clip900)\" d=\"M2002.96 1402.28 Q1999.35 1402.28 1997.52 1405.84 Q1995.72 1409.38 1995.72 1416.51 Q1995.72 1423.62 1997.52 1427.19 Q1999.35 1430.73 2002.96 1430.73 Q2006.6 1430.73 2008.4 1427.19 Q2010.23 1423.62 2010.23 1416.51 Q2010.23 1409.38 2008.4 1405.84 Q2006.6 1402.28 2002.96 1402.28 M2002.96 1398.57 Q2008.77 1398.57 2011.83 1403.18 Q2014.91 1407.76 2014.91 1416.51 Q2014.91 1425.24 2011.83 1429.85 Q2008.77 1434.43 2002.96 1434.43 Q1997.15 1434.43 1994.07 1429.85 Q1991.02 1425.24 1991.02 1416.51 Q1991.02 1407.76 1994.07 1403.18 Q1997.15 1398.57 2002.96 1398.57 Z\" fill=\"#000000\" fill-rule=\"nonzero\" fill-opacity=\"1\" /><path clip-path=\"url(#clip900)\" d=\"M2023.12 1427.88 L2028.01 1427.88 L2028.01 1433.76 L2023.12 1433.76 L2023.12 1427.88 Z\" fill=\"#000000\" fill-rule=\"nonzero\" fill-opacity=\"1\" /><path clip-path=\"url(#clip900)\" d=\"M2048.19 1402.28 Q2044.58 1402.28 2042.75 1405.84 Q2040.95 1409.38 2040.95 1416.51 Q2040.95 1423.62 2042.75 1427.19 Q2044.58 1430.73 2048.19 1430.73 Q2051.83 1430.73 2053.63 1427.19 Q2055.46 1423.62 2055.46 1416.51 Q2055.46 1409.38 2053.63 1405.84 Q2051.83 1402.28 2048.19 1402.28 M2048.19 1398.57 Q2054 1398.57 2057.06 1403.18 Q2060.14 1407.76 2060.14 1416.51 Q2060.14 1425.24 2057.06 1429.85 Q2054 1434.43 2048.19 1434.43 Q2042.38 1434.43 2039.3 1429.85 Q2036.25 1425.24 2036.25 1416.51 Q2036.25 1407.76 2039.3 1403.18 Q2042.38 1398.57 2048.19 1398.57 Z\" fill=\"#000000\" fill-rule=\"nonzero\" fill-opacity=\"1\" /><path clip-path=\"url(#clip900)\" d=\"M2069.17 1429.82 L2076.8 1429.82 L2076.8 1403.46 L2068.49 1405.13 L2068.49 1400.87 L2076.76 1399.2 L2081.43 1399.2 L2081.43 1429.82 L2089.07 1429.82 L2089.07 1433.76 L2069.17 1433.76 L2069.17 1429.82 Z\" fill=\"#000000\" fill-rule=\"nonzero\" fill-opacity=\"1\" /><path clip-path=\"url(#clip900)\" d=\"M2109.1 1414.62 Q2105.95 1414.62 2104.1 1416.77 Q2102.27 1418.92 2102.27 1422.67 Q2102.27 1426.4 2104.1 1428.57 Q2105.95 1430.73 2109.1 1430.73 Q2112.24 1430.73 2114.07 1428.57 Q2115.92 1426.4 2115.92 1422.67 Q2115.92 1418.92 2114.07 1416.77 Q2112.24 1414.62 2109.1 1414.62 M2118.38 1399.96 L2118.38 1404.22 Q2116.62 1403.39 2114.81 1402.95 Q2113.03 1402.51 2111.27 1402.51 Q2106.64 1402.51 2104.19 1405.63 Q2101.76 1408.76 2101.41 1415.08 Q2102.78 1413.07 2104.84 1412 Q2106.9 1410.91 2109.37 1410.91 Q2114.58 1410.91 2117.59 1414.08 Q2120.62 1417.23 2120.62 1422.67 Q2120.62 1428 2117.47 1431.21 Q2114.33 1434.43 2109.1 1434.43 Q2103.1 1434.43 2099.93 1429.85 Q2096.76 1425.24 2096.76 1416.51 Q2096.76 1408.32 2100.65 1403.46 Q2104.54 1398.57 2111.09 1398.57 Q2112.85 1398.57 2114.63 1398.92 Q2116.43 1399.27 2118.38 1399.96 Z\" fill=\"#000000\" fill-rule=\"nonzero\" fill-opacity=\"1\" /><path clip-path=\"url(#clip900)\" d=\"M2200.63 1402.28 Q2197.02 1402.28 2195.19 1405.84 Q2193.38 1409.38 2193.38 1416.51 Q2193.38 1423.62 2195.19 1427.19 Q2197.02 1430.73 2200.63 1430.73 Q2204.26 1430.73 2206.07 1427.19 Q2207.9 1423.62 2207.9 1416.51 Q2207.9 1409.38 2206.07 1405.84 Q2204.26 1402.28 2200.63 1402.28 M2200.63 1398.57 Q2206.44 1398.57 2209.49 1403.18 Q2212.57 1407.76 2212.57 1416.51 Q2212.57 1425.24 2209.49 1429.85 Q2206.44 1434.43 2200.63 1434.43 Q2194.82 1434.43 2191.74 1429.85 Q2188.68 1425.24 2188.68 1416.51 Q2188.68 1407.76 2191.74 1403.18 Q2194.82 1398.57 2200.63 1398.57 Z\" fill=\"#000000\" fill-rule=\"nonzero\" fill-opacity=\"1\" /><path clip-path=\"url(#clip900)\" d=\"M2220.79 1427.88 L2225.67 1427.88 L2225.67 1433.76 L2220.79 1433.76 L2220.79 1427.88 Z\" fill=\"#000000\" fill-rule=\"nonzero\" fill-opacity=\"1\" /><path clip-path=\"url(#clip900)\" d=\"M2245.86 1402.28 Q2242.25 1402.28 2240.42 1405.84 Q2238.61 1409.38 2238.61 1416.51 Q2238.61 1423.62 2240.42 1427.19 Q2242.25 1430.73 2245.86 1430.73 Q2249.49 1430.73 2251.3 1427.19 Q2253.13 1423.62 2253.13 1416.51 Q2253.13 1409.38 2251.3 1405.84 Q2249.49 1402.28 2245.86 1402.28 M2245.86 1398.57 Q2251.67 1398.57 2254.72 1403.18 Q2257.8 1407.76 2257.8 1416.51 Q2257.8 1425.24 2254.72 1429.85 Q2251.67 1434.43 2245.86 1434.43 Q2240.05 1434.43 2236.97 1429.85 Q2233.91 1425.24 2233.91 1416.51 Q2233.91 1407.76 2236.97 1403.18 Q2240.05 1398.57 2245.86 1398.57 Z\" fill=\"#000000\" fill-rule=\"nonzero\" fill-opacity=\"1\" /><path clip-path=\"url(#clip900)\" d=\"M2266.83 1429.82 L2274.47 1429.82 L2274.47 1403.46 L2266.16 1405.13 L2266.16 1400.87 L2274.42 1399.2 L2279.1 1399.2 L2279.1 1429.82 L2286.74 1429.82 L2286.74 1433.76 L2266.83 1433.76 L2266.83 1429.82 Z\" fill=\"#000000\" fill-rule=\"nonzero\" fill-opacity=\"1\" /><path clip-path=\"url(#clip900)\" d=\"M2295 1399.2 L2317.22 1399.2 L2317.22 1401.19 L2304.68 1433.76 L2299.79 1433.76 L2311.6 1403.13 L2295 1403.13 L2295 1399.2 Z\" fill=\"#000000\" fill-rule=\"nonzero\" fill-opacity=\"1\" /><path clip-path=\"url(#clip900)\" d=\"M2397.36 1402.28 Q2393.75 1402.28 2391.92 1405.84 Q2390.11 1409.38 2390.11 1416.51 Q2390.11 1423.62 2391.92 1427.19 Q2393.75 1430.73 2397.36 1430.73 Q2400.99 1430.73 2402.8 1427.19 Q2404.62 1423.62 2404.62 1416.51 Q2404.62 1409.38 2402.8 1405.84 Q2400.99 1402.28 2397.36 1402.28 M2397.36 1398.57 Q2403.17 1398.57 2406.22 1403.18 Q2409.3 1407.76 2409.3 1416.51 Q2409.3 1425.24 2406.22 1429.85 Q2403.17 1434.43 2397.36 1434.43 Q2391.55 1434.43 2388.47 1429.85 Q2385.41 1425.24 2385.41 1416.51 Q2385.41 1407.76 2388.47 1403.18 Q2391.55 1398.57 2397.36 1398.57 Z\" fill=\"#000000\" fill-rule=\"nonzero\" fill-opacity=\"1\" /><path clip-path=\"url(#clip900)\" d=\"M2417.52 1427.88 L2422.4 1427.88 L2422.4 1433.76 L2417.52 1433.76 L2417.52 1427.88 Z\" fill=\"#000000\" fill-rule=\"nonzero\" fill-opacity=\"1\" /><path clip-path=\"url(#clip900)\" d=\"M2442.59 1402.28 Q2438.98 1402.28 2437.15 1405.84 Q2435.34 1409.38 2435.34 1416.51 Q2435.34 1423.62 2437.15 1427.19 Q2438.98 1430.73 2442.59 1430.73 Q2446.22 1430.73 2448.03 1427.19 Q2449.86 1423.62 2449.86 1416.51 Q2449.86 1409.38 2448.03 1405.84 Q2446.22 1402.28 2442.59 1402.28 M2442.59 1398.57 Q2448.4 1398.57 2451.45 1403.18 Q2454.53 1407.76 2454.53 1416.51 Q2454.53 1425.24 2451.45 1429.85 Q2448.4 1434.43 2442.59 1434.43 Q2436.78 1434.43 2433.7 1429.85 Q2430.64 1425.24 2430.64 1416.51 Q2430.64 1407.76 2433.7 1403.18 Q2436.78 1398.57 2442.59 1398.57 Z\" fill=\"#000000\" fill-rule=\"nonzero\" fill-opacity=\"1\" /><path clip-path=\"url(#clip900)\" d=\"M2463.56 1429.82 L2471.2 1429.82 L2471.2 1403.46 L2462.89 1405.13 L2462.89 1400.87 L2471.15 1399.2 L2475.83 1399.2 L2475.83 1429.82 L2483.47 1429.82 L2483.47 1433.76 L2463.56 1433.76 L2463.56 1429.82 Z\" fill=\"#000000\" fill-rule=\"nonzero\" fill-opacity=\"1\" /><path clip-path=\"url(#clip900)\" d=\"M2502.91 1417.35 Q2499.58 1417.35 2497.66 1419.13 Q2495.76 1420.91 2495.76 1424.04 Q2495.76 1427.16 2497.66 1428.94 Q2499.58 1430.73 2502.91 1430.73 Q2506.24 1430.73 2508.17 1428.94 Q2510.09 1427.14 2510.09 1424.04 Q2510.09 1420.91 2508.17 1419.13 Q2506.27 1417.35 2502.91 1417.35 M2498.24 1415.36 Q2495.23 1414.62 2493.54 1412.56 Q2491.87 1410.5 2491.87 1407.53 Q2491.87 1403.39 2494.81 1400.98 Q2497.77 1398.57 2502.91 1398.57 Q2508.07 1398.57 2511.01 1400.98 Q2513.95 1403.39 2513.95 1407.53 Q2513.95 1410.5 2512.26 1412.56 Q2510.6 1414.62 2507.61 1415.36 Q2510.99 1416.14 2512.87 1418.44 Q2514.76 1420.73 2514.76 1424.04 Q2514.76 1429.06 2511.68 1431.75 Q2508.63 1434.43 2502.91 1434.43 Q2497.19 1434.43 2494.12 1431.75 Q2491.06 1429.06 2491.06 1424.04 Q2491.06 1420.73 2492.96 1418.44 Q2494.86 1416.14 2498.24 1415.36 M2496.52 1407.97 Q2496.52 1410.66 2498.19 1412.16 Q2499.88 1413.67 2502.91 1413.67 Q2505.92 1413.67 2507.61 1412.16 Q2509.32 1410.66 2509.32 1407.97 Q2509.32 1405.29 2507.61 1403.78 Q2505.92 1402.28 2502.91 1402.28 Q2499.88 1402.28 2498.19 1403.78 Q2496.52 1405.29 2496.52 1407.97 Z\" fill=\"#000000\" fill-rule=\"nonzero\" fill-opacity=\"1\" /><path clip-path=\"url(#clip900)\" d=\"M2594.54 1402.28 Q2590.93 1402.28 2589.1 1405.84 Q2587.29 1409.38 2587.29 1416.51 Q2587.29 1423.62 2589.1 1427.19 Q2590.93 1430.73 2594.54 1430.73 Q2598.17 1430.73 2599.98 1427.19 Q2601.8 1423.62 2601.8 1416.51 Q2601.8 1409.38 2599.98 1405.84 Q2598.17 1402.28 2594.54 1402.28 M2594.54 1398.57 Q2600.35 1398.57 2603.4 1403.18 Q2606.48 1407.76 2606.48 1416.51 Q2606.48 1425.24 2603.4 1429.85 Q2600.35 1434.43 2594.54 1434.43 Q2588.73 1434.43 2585.65 1429.85 Q2582.59 1425.24 2582.59 1416.51 Q2582.59 1407.76 2585.65 1403.18 Q2588.73 1398.57 2594.54 1398.57 Z\" fill=\"#000000\" fill-rule=\"nonzero\" fill-opacity=\"1\" /><path clip-path=\"url(#clip900)\" d=\"M2614.7 1427.88 L2619.58 1427.88 L2619.58 1433.76 L2614.7 1433.76 L2614.7 1427.88 Z\" fill=\"#000000\" fill-rule=\"nonzero\" fill-opacity=\"1\" /><path clip-path=\"url(#clip900)\" d=\"M2639.77 1402.28 Q2636.16 1402.28 2634.33 1405.84 Q2632.52 1409.38 2632.52 1416.51 Q2632.52 1423.62 2634.33 1427.19 Q2636.16 1430.73 2639.77 1430.73 Q2643.4 1430.73 2645.21 1427.19 Q2647.04 1423.62 2647.04 1416.51 Q2647.04 1409.38 2645.21 1405.84 Q2643.4 1402.28 2639.77 1402.28 M2639.77 1398.57 Q2645.58 1398.57 2648.63 1403.18 Q2651.71 1407.76 2651.71 1416.51 Q2651.71 1425.24 2648.63 1429.85 Q2645.58 1434.43 2639.77 1434.43 Q2633.96 1434.43 2630.88 1429.85 Q2627.82 1425.24 2627.82 1416.51 Q2627.82 1407.76 2630.88 1403.18 Q2633.96 1398.57 2639.77 1398.57 Z\" fill=\"#000000\" fill-rule=\"nonzero\" fill-opacity=\"1\" /><path clip-path=\"url(#clip900)\" d=\"M2660.74 1429.82 L2668.38 1429.82 L2668.38 1403.46 L2660.07 1405.13 L2660.07 1400.87 L2668.33 1399.2 L2673.01 1399.2 L2673.01 1429.82 L2680.65 1429.82 L2680.65 1433.76 L2660.74 1433.76 L2660.74 1429.82 Z\" fill=\"#000000\" fill-rule=\"nonzero\" fill-opacity=\"1\" /><path clip-path=\"url(#clip900)\" d=\"M2690.23 1433.04 L2690.23 1428.78 Q2691.99 1429.62 2693.8 1430.06 Q2695.6 1430.5 2697.34 1430.5 Q2701.97 1430.5 2704.4 1427.39 Q2706.85 1424.27 2707.2 1417.93 Q2705.86 1419.92 2703.8 1420.98 Q2701.73 1422.05 2699.23 1422.05 Q2694.05 1422.05 2691.02 1418.92 Q2688.01 1415.77 2688.01 1410.33 Q2688.01 1405.01 2691.16 1401.79 Q2694.3 1398.57 2699.54 1398.57 Q2705.53 1398.57 2708.68 1403.18 Q2711.85 1407.76 2711.85 1416.51 Q2711.85 1424.69 2707.96 1429.57 Q2704.1 1434.43 2697.55 1434.43 Q2695.79 1434.43 2693.98 1434.08 Q2692.17 1433.74 2690.23 1433.04 M2699.54 1418.39 Q2702.68 1418.39 2704.51 1416.24 Q2706.36 1414.08 2706.36 1410.33 Q2706.36 1406.61 2704.51 1404.45 Q2702.68 1402.28 2699.54 1402.28 Q2696.39 1402.28 2694.54 1404.45 Q2692.71 1406.61 2692.71 1410.33 Q2692.71 1414.08 2694.54 1416.24 Q2696.39 1418.39 2699.54 1418.39 Z\" fill=\"#000000\" fill-rule=\"nonzero\" fill-opacity=\"1\" /><path clip-path=\"url(#clip900)\" d=\"M2791.58 1402.28 Q2787.97 1402.28 2786.14 1405.84 Q2784.33 1409.38 2784.33 1416.51 Q2784.33 1423.62 2786.14 1427.19 Q2787.97 1430.73 2791.58 1430.73 Q2795.21 1430.73 2797.02 1427.19 Q2798.85 1423.62 2798.85 1416.51 Q2798.85 1409.38 2797.02 1405.84 Q2795.21 1402.28 2791.58 1402.28 M2791.58 1398.57 Q2797.39 1398.57 2800.44 1403.18 Q2803.52 1407.76 2803.52 1416.51 Q2803.52 1425.24 2800.44 1429.85 Q2797.39 1434.43 2791.58 1434.43 Q2785.77 1434.43 2782.69 1429.85 Q2779.63 1425.24 2779.63 1416.51 Q2779.63 1407.76 2782.69 1403.18 Q2785.77 1398.57 2791.58 1398.57 Z\" fill=\"#000000\" fill-rule=\"nonzero\" fill-opacity=\"1\" /><path clip-path=\"url(#clip900)\" d=\"M2811.74 1427.88 L2816.62 1427.88 L2816.62 1433.76 L2811.74 1433.76 L2811.74 1427.88 Z\" fill=\"#000000\" fill-rule=\"nonzero\" fill-opacity=\"1\" /><path clip-path=\"url(#clip900)\" d=\"M2836.81 1402.28 Q2833.2 1402.28 2831.37 1405.84 Q2829.56 1409.38 2829.56 1416.51 Q2829.56 1423.62 2831.37 1427.19 Q2833.2 1430.73 2836.81 1430.73 Q2840.44 1430.73 2842.25 1427.19 Q2844.08 1423.62 2844.08 1416.51 Q2844.08 1409.38 2842.25 1405.84 Q2840.44 1402.28 2836.81 1402.28 M2836.81 1398.57 Q2842.62 1398.57 2845.67 1403.18 Q2848.75 1407.76 2848.75 1416.51 Q2848.75 1425.24 2845.67 1429.85 Q2842.62 1434.43 2836.81 1434.43 Q2831 1434.43 2827.92 1429.85 Q2824.86 1425.24 2824.86 1416.51 Q2824.86 1407.76 2827.92 1403.18 Q2831 1398.57 2836.81 1398.57 Z\" fill=\"#000000\" fill-rule=\"nonzero\" fill-opacity=\"1\" /><path clip-path=\"url(#clip900)\" d=\"M2861 1429.82 L2877.32 1429.82 L2877.32 1433.76 L2855.37 1433.76 L2855.37 1429.82 Q2858.04 1427.07 2862.62 1422.44 Q2867.23 1417.79 2868.41 1416.44 Q2870.65 1413.92 2871.53 1412.19 Q2872.43 1410.43 2872.43 1408.74 Q2872.43 1405.98 2870.49 1404.25 Q2868.57 1402.51 2865.47 1402.51 Q2863.27 1402.51 2860.81 1403.27 Q2858.38 1404.04 2855.6 1405.59 L2855.6 1400.87 Q2858.43 1399.73 2860.88 1399.15 Q2863.34 1398.57 2865.37 1398.57 Q2870.74 1398.57 2873.94 1401.26 Q2877.13 1403.95 2877.13 1408.44 Q2877.13 1410.57 2876.32 1412.49 Q2875.54 1414.38 2873.43 1416.98 Q2872.85 1417.65 2869.75 1420.87 Q2866.65 1424.06 2861 1429.82 Z\" fill=\"#000000\" fill-rule=\"nonzero\" fill-opacity=\"1\" /><path clip-path=\"url(#clip900)\" d=\"M2897.13 1402.28 Q2893.52 1402.28 2891.69 1405.84 Q2889.89 1409.38 2889.89 1416.51 Q2889.89 1423.62 2891.69 1427.19 Q2893.52 1430.73 2897.13 1430.73 Q2900.77 1430.73 2902.57 1427.19 Q2904.4 1423.62 2904.4 1416.51 Q2904.4 1409.38 2902.57 1405.84 Q2900.77 1402.28 2897.13 1402.28 M2897.13 1398.57 Q2902.94 1398.57 2906 1403.18 Q2909.08 1407.76 2909.08 1416.51 Q2909.08 1425.24 2906 1429.85 Q2902.94 1434.43 2897.13 1434.43 Q2891.32 1434.43 2888.24 1429.85 Q2885.19 1425.24 2885.19 1416.51 Q2885.19 1407.76 2888.24 1403.18 Q2891.32 1398.57 2897.13 1398.57 Z\" fill=\"#000000\" fill-rule=\"nonzero\" fill-opacity=\"1\" /><path clip-path=\"url(#clip900)\" d=\"M2989.32 1402.28 Q2985.71 1402.28 2983.88 1405.84 Q2982.08 1409.38 2982.08 1416.51 Q2982.08 1423.62 2983.88 1427.19 Q2985.71 1430.73 2989.32 1430.73 Q2992.96 1430.73 2994.76 1427.19 Q2996.59 1423.62 2996.59 1416.51 Q2996.59 1409.38 2994.76 1405.84 Q2992.96 1402.28 2989.32 1402.28 M2989.32 1398.57 Q2995.13 1398.57 2998.19 1403.18 Q3001.27 1407.76 3001.27 1416.51 Q3001.27 1425.24 2998.19 1429.85 Q2995.13 1434.43 2989.32 1434.43 Q2983.51 1434.43 2980.44 1429.85 Q2977.38 1425.24 2977.38 1416.51 Q2977.38 1407.76 2980.44 1403.18 Q2983.51 1398.57 2989.32 1398.57 Z\" fill=\"#000000\" fill-rule=\"nonzero\" fill-opacity=\"1\" /><path clip-path=\"url(#clip900)\" d=\"M3009.49 1427.88 L3014.37 1427.88 L3014.37 1433.76 L3009.49 1433.76 L3009.49 1427.88 Z\" fill=\"#000000\" fill-rule=\"nonzero\" fill-opacity=\"1\" /><path clip-path=\"url(#clip900)\" d=\"M3034.56 1402.28 Q3030.94 1402.28 3029.12 1405.84 Q3027.31 1409.38 3027.31 1416.51 Q3027.31 1423.62 3029.12 1427.19 Q3030.94 1430.73 3034.56 1430.73 Q3038.19 1430.73 3040 1427.19 Q3041.82 1423.62 3041.82 1416.51 Q3041.82 1409.38 3040 1405.84 Q3038.19 1402.28 3034.56 1402.28 M3034.56 1398.57 Q3040.37 1398.57 3043.42 1403.18 Q3046.5 1407.76 3046.5 1416.51 Q3046.5 1425.24 3043.42 1429.85 Q3040.37 1434.43 3034.56 1434.43 Q3028.75 1434.43 3025.67 1429.85 Q3022.61 1425.24 3022.61 1416.51 Q3022.61 1407.76 3025.67 1403.18 Q3028.75 1398.57 3034.56 1398.57 Z\" fill=\"#000000\" fill-rule=\"nonzero\" fill-opacity=\"1\" /><path clip-path=\"url(#clip900)\" d=\"M3058.75 1429.82 L3075.06 1429.82 L3075.06 1433.76 L3053.12 1433.76 L3053.12 1429.82 Q3055.78 1427.07 3060.37 1422.44 Q3064.97 1417.79 3066.15 1416.44 Q3068.4 1413.92 3069.28 1412.19 Q3070.18 1410.43 3070.18 1408.74 Q3070.18 1405.98 3068.24 1404.25 Q3066.31 1402.51 3063.21 1402.51 Q3061.01 1402.51 3058.56 1403.27 Q3056.13 1404.04 3053.35 1405.59 L3053.35 1400.87 Q3056.18 1399.73 3058.63 1399.15 Q3061.08 1398.57 3063.12 1398.57 Q3068.49 1398.57 3071.69 1401.26 Q3074.88 1403.95 3074.88 1408.44 Q3074.88 1410.57 3074.07 1412.49 Q3073.28 1414.38 3071.18 1416.98 Q3070.6 1417.65 3067.5 1420.87 Q3064.39 1424.06 3058.75 1429.82 Z\" fill=\"#000000\" fill-rule=\"nonzero\" fill-opacity=\"1\" /><path clip-path=\"url(#clip900)\" d=\"M3085.69 1429.82 L3093.33 1429.82 L3093.33 1403.46 L3085.02 1405.13 L3085.02 1400.87 L3093.28 1399.2 L3097.96 1399.2 L3097.96 1429.82 L3105.6 1429.82 L3105.6 1433.76 L3085.69 1433.76 L3085.69 1429.82 Z\" fill=\"#000000\" fill-rule=\"nonzero\" fill-opacity=\"1\" /><path clip-path=\"url(#clip900)\" d=\"M2517.09 1472.96 Q2517.09 1473.21 2515.83 1475.47 Q2513.74 1479.62 2511.07 1485.97 Q2508.39 1492.31 2506.88 1497.01 Q2506.56 1498.14 2506.33 1499.59 Q2505.75 1504.04 2503.89 1510.93 Q2503.24 1513.08 2502.82 1513.99 Q2502.4 1514.89 2501.79 1514.89 Q2500.92 1514.89 2500.92 1513.7 Q2500.92 1512.51 2502.02 1508.06 Q2503.15 1503.62 2504.37 1499.53 Q2505.14 1497.27 2505.14 1493.05 Q2505.14 1491.7 2505.08 1490.48 Q2505.01 1489.25 2504.76 1487.48 Q2504.5 1485.71 2504.08 1484.26 Q2503.66 1482.81 2502.86 1481.3 Q2502.05 1479.75 2500.96 1478.72 Q2499.86 1477.66 2498.19 1476.98 Q2496.54 1476.31 2494.48 1476.31 Q2493.97 1476.31 2493.32 1476.37 Q2492.71 1476.4 2491.23 1476.82 Q2489.78 1477.24 2488.56 1477.98 Q2487.33 1478.69 2486.01 1480.27 Q2484.69 1481.85 2483.98 1483.97 L2483.72 1484.29 Q2483.31 1484.29 2483.08 1484.29 Q2482.89 1484.26 2482.66 1484.1 Q2482.47 1483.94 2482.47 1483.65 Q2482.47 1482.97 2482.98 1481.62 Q2483.53 1480.27 2484.63 1478.53 Q2485.75 1476.79 2487.2 1475.24 Q2488.68 1473.7 2490.84 1472.63 Q2493 1471.57 2495.32 1471.57 Q2501.28 1471.57 2504.11 1478.82 Q2506.59 1484.97 2506.82 1492.28 Q2511.97 1479.3 2515.51 1472.76 Q2515.71 1472.28 2516.28 1472.28 Q2517.09 1472.31 2517.09 1472.96 Z\" fill=\"#000000\" fill-rule=\"nonzero\" fill-opacity=\"1\" /><polyline clip-path=\"url(#clip903)\" style=\"stroke:#000000; stroke-linecap:round; stroke-linejoin:round; stroke-width:2; stroke-opacity:0.1; fill:none\" points=\"1924.73,1120.72 3074.02,1120.72 \"/>\n",
       "<polyline clip-path=\"url(#clip903)\" style=\"stroke:#000000; stroke-linecap:round; stroke-linejoin:round; stroke-width:2; stroke-opacity:0.1; fill:none\" points=\"1924.73,789.461 3074.02,789.461 \"/>\n",
       "<polyline clip-path=\"url(#clip903)\" style=\"stroke:#000000; stroke-linecap:round; stroke-linejoin:round; stroke-width:2; stroke-opacity:0.1; fill:none\" points=\"1924.73,458.199 3074.02,458.199 \"/>\n",
       "<polyline clip-path=\"url(#clip903)\" style=\"stroke:#000000; stroke-linecap:round; stroke-linejoin:round; stroke-width:2; stroke-opacity:0.1; fill:none\" points=\"1924.73,126.936 3074.02,126.936 \"/>\n",
       "<polyline clip-path=\"url(#clip900)\" style=\"stroke:#000000; stroke-linecap:round; stroke-linejoin:round; stroke-width:4; stroke-opacity:1; fill:none\" points=\"1924.73,1364.96 1924.73,125.984 \"/>\n",
       "<polyline clip-path=\"url(#clip900)\" style=\"stroke:#000000; stroke-linecap:round; stroke-linejoin:round; stroke-width:4; stroke-opacity:1; fill:none\" points=\"1924.73,1120.72 1943.62,1120.72 \"/>\n",
       "<polyline clip-path=\"url(#clip900)\" style=\"stroke:#000000; stroke-linecap:round; stroke-linejoin:round; stroke-width:4; stroke-opacity:1; fill:none\" points=\"1924.73,789.461 1943.62,789.461 \"/>\n",
       "<polyline clip-path=\"url(#clip900)\" style=\"stroke:#000000; stroke-linecap:round; stroke-linejoin:round; stroke-width:4; stroke-opacity:1; fill:none\" points=\"1924.73,458.199 1943.62,458.199 \"/>\n",
       "<polyline clip-path=\"url(#clip900)\" style=\"stroke:#000000; stroke-linecap:round; stroke-linejoin:round; stroke-width:4; stroke-opacity:1; fill:none\" points=\"1924.73,126.936 1943.62,126.936 \"/>\n",
       "<path clip-path=\"url(#clip900)\" d=\"M1760.82 1106.52 Q1757.21 1106.52 1755.38 1110.09 Q1753.58 1113.63 1753.58 1120.76 Q1753.58 1127.86 1755.38 1131.43 Q1757.21 1134.97 1760.82 1134.97 Q1764.46 1134.97 1766.26 1131.43 Q1768.09 1127.86 1768.09 1120.76 Q1768.09 1113.63 1766.26 1110.09 Q1764.46 1106.52 1760.82 1106.52 M1760.82 1102.82 Q1766.63 1102.82 1769.69 1107.42 Q1772.77 1112.01 1772.77 1120.76 Q1772.77 1129.48 1769.69 1134.09 Q1766.63 1138.67 1760.82 1138.67 Q1755.01 1138.67 1751.94 1134.09 Q1748.88 1129.48 1748.88 1120.76 Q1748.88 1112.01 1751.94 1107.42 Q1755.01 1102.82 1760.82 1102.82 Z\" fill=\"#000000\" fill-rule=\"nonzero\" fill-opacity=\"1\" /><path clip-path=\"url(#clip900)\" d=\"M1780.99 1132.12 L1785.87 1132.12 L1785.87 1138 L1780.99 1138 L1780.99 1132.12 Z\" fill=\"#000000\" fill-rule=\"nonzero\" fill-opacity=\"1\" /><path clip-path=\"url(#clip900)\" d=\"M1806.06 1106.52 Q1802.44 1106.52 1800.62 1110.09 Q1798.81 1113.63 1798.81 1120.76 Q1798.81 1127.86 1800.62 1131.43 Q1802.44 1134.97 1806.06 1134.97 Q1809.69 1134.97 1811.5 1131.43 Q1813.32 1127.86 1813.32 1120.76 Q1813.32 1113.63 1811.5 1110.09 Q1809.69 1106.52 1806.06 1106.52 M1806.06 1102.82 Q1811.87 1102.82 1814.92 1107.42 Q1818 1112.01 1818 1120.76 Q1818 1129.48 1814.92 1134.09 Q1811.87 1138.67 1806.06 1138.67 Q1800.25 1138.67 1797.17 1134.09 Q1794.11 1129.48 1794.11 1120.76 Q1794.11 1112.01 1797.17 1107.42 Q1800.25 1102.82 1806.06 1102.82 Z\" fill=\"#000000\" fill-rule=\"nonzero\" fill-opacity=\"1\" /><path clip-path=\"url(#clip900)\" d=\"M1836.22 1106.52 Q1832.61 1106.52 1830.78 1110.09 Q1828.97 1113.63 1828.97 1120.76 Q1828.97 1127.86 1830.78 1131.43 Q1832.61 1134.97 1836.22 1134.97 Q1839.85 1134.97 1841.66 1131.43 Q1843.49 1127.86 1843.49 1120.76 Q1843.49 1113.63 1841.66 1110.09 Q1839.85 1106.52 1836.22 1106.52 M1836.22 1102.82 Q1842.03 1102.82 1845.08 1107.42 Q1848.16 1112.01 1848.16 1120.76 Q1848.16 1129.48 1845.08 1134.09 Q1842.03 1138.67 1836.22 1138.67 Q1830.41 1138.67 1827.33 1134.09 Q1824.27 1129.48 1824.27 1120.76 Q1824.27 1112.01 1827.33 1107.42 Q1830.41 1102.82 1836.22 1102.82 Z\" fill=\"#000000\" fill-rule=\"nonzero\" fill-opacity=\"1\" /><path clip-path=\"url(#clip900)\" d=\"M1860.41 1134.07 L1876.73 1134.07 L1876.73 1138 L1854.78 1138 L1854.78 1134.07 Q1857.44 1131.31 1862.03 1126.68 Q1866.63 1122.03 1867.81 1120.69 Q1870.06 1118.17 1870.94 1116.43 Q1871.84 1114.67 1871.84 1112.98 Q1871.84 1110.23 1869.9 1108.49 Q1867.98 1106.75 1864.87 1106.75 Q1862.68 1106.75 1860.22 1107.52 Q1857.79 1108.28 1855.01 1109.83 L1855.01 1105.11 Q1857.84 1103.98 1860.29 1103.4 Q1862.74 1102.82 1864.78 1102.82 Q1870.15 1102.82 1873.35 1105.5 Q1876.54 1108.19 1876.54 1112.68 Q1876.54 1114.81 1875.73 1116.73 Q1874.94 1118.63 1872.84 1121.22 Q1872.26 1121.89 1869.16 1125.11 Q1866.06 1128.3 1860.41 1134.07 Z\" fill=\"#000000\" fill-rule=\"nonzero\" fill-opacity=\"1\" /><path clip-path=\"url(#clip900)\" d=\"M1758.74 775.259 Q1755.13 775.259 1753.3 778.824 Q1751.5 782.366 1751.5 789.495 Q1751.5 796.602 1753.3 800.167 Q1755.13 803.708 1758.74 803.708 Q1762.38 803.708 1764.18 800.167 Q1766.01 796.602 1766.01 789.495 Q1766.01 782.366 1764.18 778.824 Q1762.38 775.259 1758.74 775.259 M1758.74 771.556 Q1764.55 771.556 1767.61 776.162 Q1770.69 780.746 1770.69 789.495 Q1770.69 798.222 1767.61 802.829 Q1764.55 807.412 1758.74 807.412 Q1752.93 807.412 1749.85 802.829 Q1746.8 798.222 1746.8 789.495 Q1746.8 780.746 1749.85 776.162 Q1752.93 771.556 1758.74 771.556 Z\" fill=\"#000000\" fill-rule=\"nonzero\" fill-opacity=\"1\" /><path clip-path=\"url(#clip900)\" d=\"M1778.9 800.861 L1783.79 800.861 L1783.79 806.741 L1778.9 806.741 L1778.9 800.861 Z\" fill=\"#000000\" fill-rule=\"nonzero\" fill-opacity=\"1\" /><path clip-path=\"url(#clip900)\" d=\"M1803.97 775.259 Q1800.36 775.259 1798.53 778.824 Q1796.73 782.366 1796.73 789.495 Q1796.73 796.602 1798.53 800.167 Q1800.36 803.708 1803.97 803.708 Q1807.61 803.708 1809.41 800.167 Q1811.24 796.602 1811.24 789.495 Q1811.24 782.366 1809.41 778.824 Q1807.61 775.259 1803.97 775.259 M1803.97 771.556 Q1809.78 771.556 1812.84 776.162 Q1815.92 780.746 1815.92 789.495 Q1815.92 798.222 1812.84 802.829 Q1809.78 807.412 1803.97 807.412 Q1798.16 807.412 1795.08 802.829 Q1792.03 798.222 1792.03 789.495 Q1792.03 780.746 1795.08 776.162 Q1798.16 771.556 1803.97 771.556 Z\" fill=\"#000000\" fill-rule=\"nonzero\" fill-opacity=\"1\" /><path clip-path=\"url(#clip900)\" d=\"M1834.13 775.259 Q1830.52 775.259 1828.69 778.824 Q1826.89 782.366 1826.89 789.495 Q1826.89 796.602 1828.69 800.167 Q1830.52 803.708 1834.13 803.708 Q1837.77 803.708 1839.57 800.167 Q1841.4 796.602 1841.4 789.495 Q1841.4 782.366 1839.57 778.824 Q1837.77 775.259 1834.13 775.259 M1834.13 771.556 Q1839.94 771.556 1843 776.162 Q1846.08 780.746 1846.08 789.495 Q1846.08 798.222 1843 802.829 Q1839.94 807.412 1834.13 807.412 Q1828.32 807.412 1825.25 802.829 Q1822.19 798.222 1822.19 789.495 Q1822.19 780.746 1825.25 776.162 Q1828.32 771.556 1834.13 771.556 Z\" fill=\"#000000\" fill-rule=\"nonzero\" fill-opacity=\"1\" /><path clip-path=\"url(#clip900)\" d=\"M1867.14 776.255 L1855.34 794.704 L1867.14 794.704 L1867.14 776.255 M1865.92 772.181 L1871.8 772.181 L1871.8 794.704 L1876.73 794.704 L1876.73 798.593 L1871.8 798.593 L1871.8 806.741 L1867.14 806.741 L1867.14 798.593 L1851.54 798.593 L1851.54 794.079 L1865.92 772.181 Z\" fill=\"#000000\" fill-rule=\"nonzero\" fill-opacity=\"1\" /><path clip-path=\"url(#clip900)\" d=\"M1759.06 443.997 Q1755.45 443.997 1753.63 447.562 Q1751.82 451.104 1751.82 458.233 Q1751.82 465.34 1753.63 468.904 Q1755.45 472.446 1759.06 472.446 Q1762.7 472.446 1764.5 468.904 Q1766.33 465.34 1766.33 458.233 Q1766.33 451.104 1764.5 447.562 Q1762.7 443.997 1759.06 443.997 M1759.06 440.294 Q1764.88 440.294 1767.93 444.9 Q1771.01 449.483 1771.01 458.233 Q1771.01 466.96 1767.93 471.567 Q1764.88 476.15 1759.06 476.15 Q1753.25 476.15 1750.18 471.567 Q1747.12 466.96 1747.12 458.233 Q1747.12 449.483 1750.18 444.9 Q1753.25 440.294 1759.06 440.294 Z\" fill=\"#000000\" fill-rule=\"nonzero\" fill-opacity=\"1\" /><path clip-path=\"url(#clip900)\" d=\"M1779.23 469.599 L1784.11 469.599 L1784.11 475.479 L1779.23 475.479 L1779.23 469.599 Z\" fill=\"#000000\" fill-rule=\"nonzero\" fill-opacity=\"1\" /><path clip-path=\"url(#clip900)\" d=\"M1804.3 443.997 Q1800.69 443.997 1798.86 447.562 Q1797.05 451.104 1797.05 458.233 Q1797.05 465.34 1798.86 468.904 Q1800.69 472.446 1804.3 472.446 Q1807.93 472.446 1809.74 468.904 Q1811.56 465.34 1811.56 458.233 Q1811.56 451.104 1809.74 447.562 Q1807.93 443.997 1804.3 443.997 M1804.3 440.294 Q1810.11 440.294 1813.16 444.9 Q1816.24 449.483 1816.24 458.233 Q1816.24 466.96 1813.16 471.567 Q1810.11 476.15 1804.3 476.15 Q1798.49 476.15 1795.41 471.567 Q1792.35 466.96 1792.35 458.233 Q1792.35 449.483 1795.41 444.9 Q1798.49 440.294 1804.3 440.294 Z\" fill=\"#000000\" fill-rule=\"nonzero\" fill-opacity=\"1\" /><path clip-path=\"url(#clip900)\" d=\"M1834.46 443.997 Q1830.85 443.997 1829.02 447.562 Q1827.21 451.104 1827.21 458.233 Q1827.21 465.34 1829.02 468.904 Q1830.85 472.446 1834.46 472.446 Q1838.09 472.446 1839.9 468.904 Q1841.73 465.34 1841.73 458.233 Q1841.73 451.104 1839.9 447.562 Q1838.09 443.997 1834.46 443.997 M1834.46 440.294 Q1840.27 440.294 1843.32 444.9 Q1846.4 449.483 1846.4 458.233 Q1846.4 466.96 1843.32 471.567 Q1840.27 476.15 1834.46 476.15 Q1828.65 476.15 1825.57 471.567 Q1822.51 466.96 1822.51 458.233 Q1822.51 449.483 1825.57 444.9 Q1828.65 440.294 1834.46 440.294 Z\" fill=\"#000000\" fill-rule=\"nonzero\" fill-opacity=\"1\" /><path clip-path=\"url(#clip900)\" d=\"M1865.2 456.335 Q1862.05 456.335 1860.2 458.488 Q1858.37 460.641 1858.37 464.391 Q1858.37 468.117 1860.2 470.293 Q1862.05 472.446 1865.2 472.446 Q1868.35 472.446 1870.18 470.293 Q1872.03 468.117 1872.03 464.391 Q1872.03 460.641 1870.18 458.488 Q1868.35 456.335 1865.2 456.335 M1874.48 441.682 L1874.48 445.942 Q1872.72 445.108 1870.92 444.669 Q1869.13 444.229 1867.37 444.229 Q1862.74 444.229 1860.29 447.354 Q1857.86 450.479 1857.51 456.798 Q1858.88 454.784 1860.94 453.719 Q1863 452.631 1865.48 452.631 Q1870.68 452.631 1873.69 455.803 Q1876.73 458.951 1876.73 464.391 Q1876.73 469.715 1873.58 472.932 Q1870.43 476.15 1865.2 476.15 Q1859.2 476.15 1856.03 471.567 Q1852.86 466.96 1852.86 458.233 Q1852.86 450.039 1856.75 445.178 Q1860.64 440.294 1867.19 440.294 Q1868.95 440.294 1870.73 440.641 Q1872.54 440.988 1874.48 441.682 Z\" fill=\"#000000\" fill-rule=\"nonzero\" fill-opacity=\"1\" /><path clip-path=\"url(#clip900)\" d=\"M1759.32 112.735 Q1755.71 112.735 1753.88 116.3 Q1752.07 119.841 1752.07 126.971 Q1752.07 134.077 1753.88 137.642 Q1755.71 141.184 1759.32 141.184 Q1762.95 141.184 1764.76 137.642 Q1766.59 134.077 1766.59 126.971 Q1766.59 119.841 1764.76 116.3 Q1762.95 112.735 1759.32 112.735 M1759.32 109.031 Q1765.13 109.031 1768.19 113.638 Q1771.26 118.221 1771.26 126.971 Q1771.26 135.698 1768.19 140.304 Q1765.13 144.888 1759.32 144.888 Q1753.51 144.888 1750.43 140.304 Q1747.38 135.698 1747.38 126.971 Q1747.38 118.221 1750.43 113.638 Q1753.51 109.031 1759.32 109.031 Z\" fill=\"#000000\" fill-rule=\"nonzero\" fill-opacity=\"1\" /><path clip-path=\"url(#clip900)\" d=\"M1779.48 138.337 L1784.37 138.337 L1784.37 144.216 L1779.48 144.216 L1779.48 138.337 Z\" fill=\"#000000\" fill-rule=\"nonzero\" fill-opacity=\"1\" /><path clip-path=\"url(#clip900)\" d=\"M1804.55 112.735 Q1800.94 112.735 1799.11 116.3 Q1797.31 119.841 1797.31 126.971 Q1797.31 134.077 1799.11 137.642 Q1800.94 141.184 1804.55 141.184 Q1808.18 141.184 1809.99 137.642 Q1811.82 134.077 1811.82 126.971 Q1811.82 119.841 1809.99 116.3 Q1808.18 112.735 1804.55 112.735 M1804.55 109.031 Q1810.36 109.031 1813.42 113.638 Q1816.5 118.221 1816.5 126.971 Q1816.5 135.698 1813.42 140.304 Q1810.36 144.888 1804.55 144.888 Q1798.74 144.888 1795.66 140.304 Q1792.61 135.698 1792.61 126.971 Q1792.61 118.221 1795.66 113.638 Q1798.74 109.031 1804.55 109.031 Z\" fill=\"#000000\" fill-rule=\"nonzero\" fill-opacity=\"1\" /><path clip-path=\"url(#clip900)\" d=\"M1834.71 112.735 Q1831.1 112.735 1829.27 116.3 Q1827.47 119.841 1827.47 126.971 Q1827.47 134.077 1829.27 137.642 Q1831.1 141.184 1834.71 141.184 Q1838.35 141.184 1840.15 137.642 Q1841.98 134.077 1841.98 126.971 Q1841.98 119.841 1840.15 116.3 Q1838.35 112.735 1834.71 112.735 M1834.71 109.031 Q1840.52 109.031 1843.58 113.638 Q1846.66 118.221 1846.66 126.971 Q1846.66 135.698 1843.58 140.304 Q1840.52 144.888 1834.71 144.888 Q1828.9 144.888 1825.82 140.304 Q1822.77 135.698 1822.77 126.971 Q1822.77 118.221 1825.82 113.638 Q1828.9 109.031 1834.71 109.031 Z\" fill=\"#000000\" fill-rule=\"nonzero\" fill-opacity=\"1\" /><path clip-path=\"url(#clip900)\" d=\"M1864.87 127.804 Q1861.54 127.804 1859.62 129.587 Q1857.72 131.369 1857.72 134.494 Q1857.72 137.619 1859.62 139.402 Q1861.54 141.184 1864.87 141.184 Q1868.21 141.184 1870.13 139.402 Q1872.05 137.596 1872.05 134.494 Q1872.05 131.369 1870.13 129.587 Q1868.23 127.804 1864.87 127.804 M1860.2 125.814 Q1857.19 125.073 1855.5 123.013 Q1853.83 120.953 1853.83 117.99 Q1853.83 113.846 1856.77 111.439 Q1859.74 109.031 1864.87 109.031 Q1870.04 109.031 1872.98 111.439 Q1875.92 113.846 1875.92 117.99 Q1875.92 120.953 1874.23 123.013 Q1872.56 125.073 1869.57 125.814 Q1872.95 126.601 1874.83 128.892 Q1876.73 131.184 1876.73 134.494 Q1876.73 139.517 1873.65 142.202 Q1870.59 144.888 1864.87 144.888 Q1859.16 144.888 1856.08 142.202 Q1853.02 139.517 1853.02 134.494 Q1853.02 131.184 1854.92 128.892 Q1856.82 126.601 1860.2 125.814 M1858.49 118.429 Q1858.49 121.115 1860.15 122.619 Q1861.84 124.124 1864.87 124.124 Q1867.88 124.124 1869.57 122.619 Q1871.29 121.115 1871.29 118.429 Q1871.29 115.744 1869.57 114.24 Q1867.88 112.735 1864.87 112.735 Q1861.84 112.735 1860.15 114.24 Q1858.49 115.744 1858.49 118.429 Z\" fill=\"#000000\" fill-rule=\"nonzero\" fill-opacity=\"1\" /><path clip-path=\"url(#clip900)\" d=\"M1650.26 1069.38 L1655.74 1069.38 Q1654.37 1071.86 1653.7 1074.37 Q1653 1076.85 1653 1079.4 Q1653 1085.1 1656.63 1088.25 Q1660.22 1091.4 1666.75 1091.4 Q1673.27 1091.4 1676.9 1088.25 Q1680.5 1085.1 1680.5 1079.4 Q1680.5 1076.85 1679.83 1074.37 Q1679.13 1071.86 1677.76 1069.38 L1683.17 1069.38 Q1684.32 1071.83 1684.89 1074.47 Q1685.46 1077.08 1685.46 1080.04 Q1685.46 1088.09 1680.4 1092.83 Q1675.34 1097.58 1666.75 1097.58 Q1658.03 1097.58 1653.03 1092.8 Q1648.03 1087.99 1648.03 1079.66 Q1648.03 1076.95 1648.61 1074.37 Q1649.15 1071.79 1650.26 1069.38 Z\" fill=\"#000000\" fill-rule=\"nonzero\" fill-opacity=\"1\" /><path clip-path=\"url(#clip900)\" d=\"M1653 1045.38 Q1653 1050.09 1656.69 1052.82 Q1660.35 1055.56 1666.75 1055.56 Q1673.15 1055.56 1676.84 1052.86 Q1680.5 1050.12 1680.5 1045.38 Q1680.5 1040.7 1676.81 1037.96 Q1673.11 1035.22 1666.75 1035.22 Q1660.41 1035.22 1656.72 1037.96 Q1653 1040.7 1653 1045.38 M1648.03 1045.38 Q1648.03 1037.74 1653 1033.38 Q1657.96 1029.02 1666.75 1029.02 Q1675.5 1029.02 1680.5 1033.38 Q1685.46 1037.74 1685.46 1045.38 Q1685.46 1053.05 1680.5 1057.41 Q1675.5 1061.74 1666.75 1061.74 Q1657.96 1061.74 1653 1057.41 Q1648.03 1053.05 1648.03 1045.38 Z\" fill=\"#000000\" fill-rule=\"nonzero\" fill-opacity=\"1\" /><path clip-path=\"url(#clip900)\" d=\"M1663.02 989.676 L1684.54 989.676 L1684.54 995.533 L1663.22 995.533 Q1658.15 995.533 1655.64 997.506 Q1653.13 999.48 1653.13 1003.43 Q1653.13 1008.17 1656.15 1010.91 Q1659.17 1013.64 1664.39 1013.64 L1684.54 1013.64 L1684.54 1019.53 L1648.89 1019.53 L1648.89 1013.64 L1654.43 1013.64 Q1651.22 1011.54 1649.62 1008.71 Q1648.03 1005.85 1648.03 1002.12 Q1648.03 995.978 1651.85 992.827 Q1655.64 989.676 1663.02 989.676 Z\" fill=\"#000000\" fill-rule=\"nonzero\" fill-opacity=\"1\" /><path clip-path=\"url(#clip900)\" d=\"M1648.89 982.197 L1648.89 975.99 L1678.81 964.85 L1648.89 953.71 L1648.89 947.504 L1684.54 960.872 L1684.54 968.829 L1648.89 982.197 Z\" fill=\"#000000\" fill-rule=\"nonzero\" fill-opacity=\"1\" /><path clip-path=\"url(#clip900)\" d=\"M1665.25 908.927 L1668.12 908.927 L1668.12 935.854 Q1674.16 935.472 1677.35 932.226 Q1680.5 928.948 1680.5 923.123 Q1680.5 919.749 1679.67 916.598 Q1678.84 913.415 1677.19 910.296 L1682.73 910.296 Q1684.06 913.447 1684.76 916.757 Q1685.46 920.067 1685.46 923.473 Q1685.46 932.003 1680.5 937 Q1675.53 941.965 1667.07 941.965 Q1658.31 941.965 1653.19 937.255 Q1648.03 932.512 1648.03 924.492 Q1648.03 917.298 1652.68 913.129 Q1657.3 908.927 1665.25 908.927 M1663.53 914.784 Q1658.73 914.848 1655.86 917.489 Q1653 920.099 1653 924.428 Q1653 929.329 1655.77 932.29 Q1658.54 935.218 1663.57 935.663 L1663.53 914.784 Z\" fill=\"#000000\" fill-rule=\"nonzero\" fill-opacity=\"1\" /><path clip-path=\"url(#clip900)\" d=\"M1654.37 878.658 Q1653.79 879.645 1653.54 880.823 Q1653.25 881.969 1653.25 883.369 Q1653.25 888.334 1656.5 891.008 Q1659.71 893.65 1665.76 893.65 L1684.54 893.65 L1684.54 899.538 L1648.89 899.538 L1648.89 893.65 L1654.43 893.65 Q1651.18 891.804 1649.62 888.844 Q1648.03 885.884 1648.03 881.65 Q1648.03 881.046 1648.13 880.314 Q1648.19 879.581 1648.35 878.69 L1654.37 878.658 Z\" fill=\"#000000\" fill-rule=\"nonzero\" fill-opacity=\"1\" /><path clip-path=\"url(#clip900)\" d=\"M1666.3 850.204 Q1659.94 850.204 1656.44 852.846 Q1652.93 855.455 1652.93 860.198 Q1652.93 864.909 1656.44 867.55 Q1659.94 870.16 1666.3 870.16 Q1672.64 870.16 1676.14 867.55 Q1679.64 864.909 1679.64 860.198 Q1679.64 855.455 1676.14 852.846 Q1672.64 850.204 1666.3 850.204 M1680.12 844.347 Q1689.22 844.347 1693.64 848.39 Q1698.1 852.432 1698.1 860.771 Q1698.1 863.858 1697.62 866.595 Q1697.18 869.333 1696.22 871.911 L1690.52 871.911 Q1691.92 869.333 1692.59 866.818 Q1693.26 864.304 1693.26 861.694 Q1693.26 855.933 1690.24 853.068 Q1687.25 850.204 1681.17 850.204 L1678.27 850.204 Q1681.42 852.018 1682.98 854.851 Q1684.54 857.683 1684.54 861.63 Q1684.54 868.187 1679.54 872.197 Q1674.55 876.208 1666.3 876.208 Q1658.03 876.208 1653.03 872.197 Q1648.03 868.187 1648.03 861.63 Q1648.03 857.683 1649.59 854.851 Q1651.15 852.018 1654.3 850.204 L1648.89 850.204 L1648.89 844.347 L1680.12 844.347 Z\" fill=\"#000000\" fill-rule=\"nonzero\" fill-opacity=\"1\" /><path clip-path=\"url(#clip900)\" d=\"M1665.25 801.793 L1668.12 801.793 L1668.12 828.719 Q1674.16 828.338 1677.35 825.091 Q1680.5 821.813 1680.5 815.988 Q1680.5 812.614 1679.67 809.463 Q1678.84 806.28 1677.19 803.161 L1682.73 803.161 Q1684.06 806.312 1684.76 809.622 Q1685.46 812.933 1685.46 816.338 Q1685.46 824.868 1680.5 829.865 Q1675.53 834.831 1667.07 834.831 Q1658.31 834.831 1653.19 830.12 Q1648.03 825.378 1648.03 817.357 Q1648.03 810.163 1652.68 805.994 Q1657.3 801.793 1665.25 801.793 M1663.53 807.649 Q1658.73 807.713 1655.86 810.354 Q1653 812.964 1653 817.293 Q1653 822.195 1655.77 825.155 Q1658.54 828.083 1663.57 828.529 L1663.53 807.649 Z\" fill=\"#000000\" fill-rule=\"nonzero\" fill-opacity=\"1\" /><path clip-path=\"url(#clip900)\" d=\"M1663.02 762.548 L1684.54 762.548 L1684.54 768.404 L1663.22 768.404 Q1658.15 768.404 1655.64 770.378 Q1653.13 772.351 1653.13 776.298 Q1653.13 781.04 1656.15 783.778 Q1659.17 786.515 1664.39 786.515 L1684.54 786.515 L1684.54 792.403 L1648.89 792.403 L1648.89 786.515 L1654.43 786.515 Q1651.22 784.414 1649.62 781.581 Q1648.03 778.717 1648.03 774.993 Q1648.03 768.85 1651.85 765.699 Q1655.64 762.548 1663.02 762.548 Z\" fill=\"#000000\" fill-rule=\"nonzero\" fill-opacity=\"1\" /><path clip-path=\"url(#clip900)\" d=\"M1650.26 725.213 L1655.74 725.213 Q1654.37 727.696 1653.7 730.21 Q1653 732.693 1653 735.239 Q1653 740.936 1656.63 744.087 Q1660.22 747.238 1666.75 747.238 Q1673.27 747.238 1676.9 744.087 Q1680.5 740.936 1680.5 735.239 Q1680.5 732.693 1679.83 730.21 Q1679.13 727.696 1677.76 725.213 L1683.17 725.213 Q1684.32 727.664 1684.89 730.306 Q1685.46 732.916 1685.46 735.876 Q1685.46 743.928 1680.4 748.671 Q1675.34 753.413 1666.75 753.413 Q1658.03 753.413 1653.03 748.639 Q1648.03 743.833 1648.03 735.494 Q1648.03 732.788 1648.61 730.21 Q1649.15 727.632 1650.26 725.213 Z\" fill=\"#000000\" fill-rule=\"nonzero\" fill-opacity=\"1\" /><path clip-path=\"url(#clip900)\" d=\"M1665.25 684.536 L1668.12 684.536 L1668.12 711.463 Q1674.16 711.081 1677.35 707.835 Q1680.5 704.556 1680.5 698.732 Q1680.5 695.358 1679.67 692.207 Q1678.84 689.024 1677.19 685.905 L1682.73 685.905 Q1684.06 689.056 1684.76 692.366 Q1685.46 695.676 1685.46 699.082 Q1685.46 707.612 1680.5 712.609 Q1675.53 717.574 1667.07 717.574 Q1658.31 717.574 1653.19 712.864 Q1648.03 708.121 1648.03 700.1 Q1648.03 692.907 1652.68 688.738 Q1657.3 684.536 1665.25 684.536 M1663.53 690.393 Q1658.73 690.456 1655.86 693.098 Q1653 695.708 1653 700.037 Q1653 704.938 1655.77 707.898 Q1658.54 710.827 1663.57 711.272 L1663.53 690.393 Z\" fill=\"#000000\" fill-rule=\"nonzero\" fill-opacity=\"1\" /><path clip-path=\"url(#clip900)\" d=\"M1650.26 628.55 L1655.74 628.55 Q1654.37 631.032 1653.7 633.547 Q1653 636.03 1653 638.576 Q1653 644.273 1656.63 647.424 Q1660.22 650.575 1666.75 650.575 Q1673.27 650.575 1676.9 647.424 Q1680.5 644.273 1680.5 638.576 Q1680.5 636.03 1679.83 633.547 Q1679.13 631.032 1677.76 628.55 L1683.17 628.55 Q1684.32 631.001 1684.89 633.642 Q1685.46 636.252 1685.46 639.212 Q1685.46 647.265 1680.4 652.007 Q1675.34 656.75 1666.75 656.75 Q1658.03 656.75 1653.03 651.976 Q1648.03 647.17 1648.03 638.83 Q1648.03 636.125 1648.61 633.547 Q1649.15 630.969 1650.26 628.55 Z\" fill=\"#000000\" fill-rule=\"nonzero\" fill-opacity=\"1\" /><path clip-path=\"url(#clip900)\" d=\"M1654.37 597.708 Q1653.79 598.695 1653.54 599.872 Q1653.25 601.018 1653.25 602.419 Q1653.25 607.384 1656.5 610.057 Q1659.71 612.699 1665.76 612.699 L1684.54 612.699 L1684.54 618.588 L1648.89 618.588 L1648.89 612.699 L1654.43 612.699 Q1651.18 610.853 1649.62 607.893 Q1648.03 604.933 1648.03 600.7 Q1648.03 600.095 1648.13 599.363 Q1648.19 598.631 1648.35 597.74 L1654.37 597.708 Z\" fill=\"#000000\" fill-rule=\"nonzero\" fill-opacity=\"1\" /><path clip-path=\"url(#clip900)\" d=\"M1648.89 591.565 L1648.89 585.709 L1684.54 585.709 L1684.54 591.565 L1648.89 591.565 M1635.02 591.565 L1635.02 585.709 L1642.43 585.709 L1642.43 591.565 L1635.02 591.565 Z\" fill=\"#000000\" fill-rule=\"nonzero\" fill-opacity=\"1\" /><path clip-path=\"url(#clip900)\" d=\"M1638.77 567.662 L1648.89 567.662 L1648.89 555.599 L1653.44 555.599 L1653.44 567.662 L1672.8 567.662 Q1677.16 567.662 1678.4 566.484 Q1679.64 565.275 1679.64 561.614 L1679.64 555.599 L1684.54 555.599 L1684.54 561.614 Q1684.54 568.394 1682.03 570.972 Q1679.48 573.55 1672.8 573.55 L1653.44 573.55 L1653.44 577.847 L1648.89 577.847 L1648.89 573.55 L1638.77 573.55 L1638.77 567.662 Z\" fill=\"#000000\" fill-rule=\"nonzero\" fill-opacity=\"1\" /><path clip-path=\"url(#clip900)\" d=\"M1665.25 517.405 L1668.12 517.405 L1668.12 544.332 Q1674.16 543.95 1677.35 540.703 Q1680.5 537.425 1680.5 531.6 Q1680.5 528.226 1679.67 525.075 Q1678.84 521.892 1677.19 518.773 L1682.73 518.773 Q1684.06 521.924 1684.76 525.234 Q1685.46 528.545 1685.46 531.95 Q1685.46 540.48 1680.5 545.477 Q1675.53 550.443 1667.07 550.443 Q1658.31 550.443 1653.19 545.732 Q1648.03 540.99 1648.03 532.969 Q1648.03 525.776 1652.68 521.606 Q1657.3 517.405 1665.25 517.405 M1663.53 523.261 Q1658.73 523.325 1655.86 525.966 Q1653 528.576 1653 532.905 Q1653 537.807 1655.77 540.767 Q1658.54 543.695 1663.57 544.141 L1663.53 523.261 Z\" fill=\"#000000\" fill-rule=\"nonzero\" fill-opacity=\"1\" /><path clip-path=\"url(#clip900)\" d=\"M1654.37 487.136 Q1653.79 488.122 1653.54 489.3 Q1653.25 490.446 1653.25 491.846 Q1653.25 496.812 1656.5 499.485 Q1659.71 502.127 1665.76 502.127 L1684.54 502.127 L1684.54 508.015 L1648.89 508.015 L1648.89 502.127 L1654.43 502.127 Q1651.18 500.281 1649.62 497.321 Q1648.03 494.361 1648.03 490.128 Q1648.03 489.523 1648.13 488.791 Q1648.19 488.059 1648.35 487.168 L1654.37 487.136 Z\" fill=\"#000000\" fill-rule=\"nonzero\" fill-opacity=\"1\" /><path clip-path=\"url(#clip900)\" d=\"M1648.89 480.993 L1648.89 475.136 L1684.54 475.136 L1684.54 480.993 L1648.89 480.993 M1635.02 480.993 L1635.02 475.136 L1642.43 475.136 L1642.43 480.993 L1635.02 480.993 Z\" fill=\"#000000\" fill-rule=\"nonzero\" fill-opacity=\"1\" /><path clip-path=\"url(#clip900)\" d=\"M1653 449.069 Q1653 453.779 1656.69 456.517 Q1660.35 459.254 1666.75 459.254 Q1673.15 459.254 1676.84 456.548 Q1680.5 453.811 1680.5 449.069 Q1680.5 444.39 1676.81 441.653 Q1673.11 438.915 1666.75 438.915 Q1660.41 438.915 1656.72 441.653 Q1653 444.39 1653 449.069 M1648.03 449.069 Q1648.03 441.43 1653 437.069 Q1657.96 432.709 1666.75 432.709 Q1675.5 432.709 1680.5 437.069 Q1685.46 441.43 1685.46 449.069 Q1685.46 456.739 1680.5 461.1 Q1675.5 465.429 1666.75 465.429 Q1657.96 465.429 1653 461.1 Q1648.03 456.739 1648.03 449.069 Z\" fill=\"#000000\" fill-rule=\"nonzero\" fill-opacity=\"1\" /><path clip-path=\"url(#clip900)\" d=\"M1663.02 393.369 L1684.54 393.369 L1684.54 399.225 L1663.22 399.225 Q1658.15 399.225 1655.64 401.199 Q1653.13 403.172 1653.13 407.119 Q1653.13 411.861 1656.15 414.598 Q1659.17 417.336 1664.39 417.336 L1684.54 417.336 L1684.54 423.224 L1648.89 423.224 L1648.89 417.336 L1654.43 417.336 Q1651.22 415.235 1649.62 412.402 Q1648.03 409.538 1648.03 405.814 Q1648.03 399.671 1651.85 396.52 Q1655.64 393.369 1663.02 393.369 Z\" fill=\"#000000\" fill-rule=\"nonzero\" fill-opacity=\"1\" /><polyline clip-path=\"url(#clip903)\" style=\"stroke:#000000; stroke-linecap:round; stroke-linejoin:round; stroke-width:4; stroke-opacity:1; fill:none\" points=\"1957.25,541.402 1957.25,161.05 \"/>\n",
       "<polyline clip-path=\"url(#clip903)\" style=\"stroke:#000000; stroke-linecap:round; stroke-linejoin:round; stroke-width:4; stroke-opacity:1; fill:none\" points=\"2055.82,657.318 2055.82,405.481 \"/>\n",
       "<polyline clip-path=\"url(#clip903)\" style=\"stroke:#000000; stroke-linecap:round; stroke-linejoin:round; stroke-width:4; stroke-opacity:1; fill:none\" points=\"2154.39,811.732 2154.39,624.815 \"/>\n",
       "<polyline clip-path=\"url(#clip903)\" style=\"stroke:#000000; stroke-linecap:round; stroke-linejoin:round; stroke-width:4; stroke-opacity:1; fill:none\" points=\"2193.81,842.189 2193.81,711.252 \"/>\n",
       "<polyline clip-path=\"url(#clip903)\" style=\"stroke:#000000; stroke-linecap:round; stroke-linejoin:round; stroke-width:4; stroke-opacity:1; fill:none\" points=\"2213.53,846.486 2213.53,653.765 \"/>\n",
       "<polyline clip-path=\"url(#clip903)\" style=\"stroke:#000000; stroke-linecap:round; stroke-linejoin:round; stroke-width:4; stroke-opacity:1; fill:none\" points=\"2252.95,919.479 2252.95,754.783 \"/>\n",
       "<polyline clip-path=\"url(#clip903)\" style=\"stroke:#000000; stroke-linecap:round; stroke-linejoin:round; stroke-width:4; stroke-opacity:1; fill:none\" points=\"2292.38,929.493 2292.38,799.899 \"/>\n",
       "<polyline clip-path=\"url(#clip903)\" style=\"stroke:#000000; stroke-linecap:round; stroke-linejoin:round; stroke-width:4; stroke-opacity:1; fill:none\" points=\"2312.09,981.082 2312.09,833.046 \"/>\n",
       "<polyline clip-path=\"url(#clip903)\" style=\"stroke:#000000; stroke-linecap:round; stroke-linejoin:round; stroke-width:4; stroke-opacity:1; fill:none\" points=\"2351.52,958.53 2351.52,809.674 \"/>\n",
       "<polyline clip-path=\"url(#clip903)\" style=\"stroke:#000000; stroke-linecap:round; stroke-linejoin:round; stroke-width:4; stroke-opacity:1; fill:none\" points=\"2390.95,1026.17 2390.95,902.581 \"/>\n",
       "<polyline clip-path=\"url(#clip903)\" style=\"stroke:#000000; stroke-linecap:round; stroke-linejoin:round; stroke-width:4; stroke-opacity:1; fill:none\" points=\"2410.66,1005.59 2410.66,874.722 \"/>\n",
       "<polyline clip-path=\"url(#clip903)\" style=\"stroke:#000000; stroke-linecap:round; stroke-linejoin:round; stroke-width:4; stroke-opacity:1; fill:none\" points=\"2450.09,1089.61 2450.09,963.88 \"/>\n",
       "<polyline clip-path=\"url(#clip903)\" style=\"stroke:#000000; stroke-linecap:round; stroke-linejoin:round; stroke-width:4; stroke-opacity:1; fill:none\" points=\"2469.8,1079.88 2469.8,959.872 \"/>\n",
       "<polyline clip-path=\"url(#clip903)\" style=\"stroke:#000000; stroke-linecap:round; stroke-linejoin:round; stroke-width:4; stroke-opacity:1; fill:none\" points=\"2489.51,1112.23 2489.51,986.857 \"/>\n",
       "<polyline clip-path=\"url(#clip903)\" style=\"stroke:#000000; stroke-linecap:round; stroke-linejoin:round; stroke-width:4; stroke-opacity:1; fill:none\" points=\"2509.23,1109.72 2509.23,1026.09 \"/>\n",
       "<polyline clip-path=\"url(#clip903)\" style=\"stroke:#000000; stroke-linecap:round; stroke-linejoin:round; stroke-width:4; stroke-opacity:1; fill:none\" points=\"2548.65,1121.21 2548.65,1029.37 \"/>\n",
       "<polyline clip-path=\"url(#clip903)\" style=\"stroke:#000000; stroke-linecap:round; stroke-linejoin:round; stroke-width:4; stroke-opacity:1; fill:none\" points=\"2647.22,1218.77 2647.22,1125.7 \"/>\n",
       "<polyline clip-path=\"url(#clip903)\" style=\"stroke:#000000; stroke-linecap:round; stroke-linejoin:round; stroke-width:4; stroke-opacity:1; fill:none\" points=\"2844.35,1289.7 2844.35,1199.52 \"/>\n",
       "<polyline clip-path=\"url(#clip903)\" style=\"stroke:#000000; stroke-linecap:round; stroke-linejoin:round; stroke-width:4; stroke-opacity:1; fill:none\" points=\"3041.49,1329.89 3041.49,1264.17 \"/>\n",
       "<line clip-path=\"url(#clip903)\" x1=\"1969.25\" y1=\"541.402\" x2=\"1945.25\" y2=\"541.402\" style=\"stroke:#000000; stroke-width:4; stroke-opacity:1\"/>\n",
       "<line clip-path=\"url(#clip903)\" x1=\"1969.25\" y1=\"161.05\" x2=\"1945.25\" y2=\"161.05\" style=\"stroke:#000000; stroke-width:4; stroke-opacity:1\"/>\n",
       "<line clip-path=\"url(#clip903)\" x1=\"2067.82\" y1=\"657.318\" x2=\"2043.82\" y2=\"657.318\" style=\"stroke:#000000; stroke-width:4; stroke-opacity:1\"/>\n",
       "<line clip-path=\"url(#clip903)\" x1=\"2067.82\" y1=\"405.481\" x2=\"2043.82\" y2=\"405.481\" style=\"stroke:#000000; stroke-width:4; stroke-opacity:1\"/>\n",
       "<line clip-path=\"url(#clip903)\" x1=\"2166.39\" y1=\"811.732\" x2=\"2142.39\" y2=\"811.732\" style=\"stroke:#000000; stroke-width:4; stroke-opacity:1\"/>\n",
       "<line clip-path=\"url(#clip903)\" x1=\"2166.39\" y1=\"624.815\" x2=\"2142.39\" y2=\"624.815\" style=\"stroke:#000000; stroke-width:4; stroke-opacity:1\"/>\n",
       "<line clip-path=\"url(#clip903)\" x1=\"2205.81\" y1=\"842.189\" x2=\"2181.81\" y2=\"842.189\" style=\"stroke:#000000; stroke-width:4; stroke-opacity:1\"/>\n",
       "<line clip-path=\"url(#clip903)\" x1=\"2205.81\" y1=\"711.252\" x2=\"2181.81\" y2=\"711.252\" style=\"stroke:#000000; stroke-width:4; stroke-opacity:1\"/>\n",
       "<line clip-path=\"url(#clip903)\" x1=\"2225.53\" y1=\"846.486\" x2=\"2201.53\" y2=\"846.486\" style=\"stroke:#000000; stroke-width:4; stroke-opacity:1\"/>\n",
       "<line clip-path=\"url(#clip903)\" x1=\"2225.53\" y1=\"653.765\" x2=\"2201.53\" y2=\"653.765\" style=\"stroke:#000000; stroke-width:4; stroke-opacity:1\"/>\n",
       "<line clip-path=\"url(#clip903)\" x1=\"2264.95\" y1=\"919.479\" x2=\"2240.95\" y2=\"919.479\" style=\"stroke:#000000; stroke-width:4; stroke-opacity:1\"/>\n",
       "<line clip-path=\"url(#clip903)\" x1=\"2264.95\" y1=\"754.783\" x2=\"2240.95\" y2=\"754.783\" style=\"stroke:#000000; stroke-width:4; stroke-opacity:1\"/>\n",
       "<line clip-path=\"url(#clip903)\" x1=\"2304.38\" y1=\"929.493\" x2=\"2280.38\" y2=\"929.493\" style=\"stroke:#000000; stroke-width:4; stroke-opacity:1\"/>\n",
       "<line clip-path=\"url(#clip903)\" x1=\"2304.38\" y1=\"799.899\" x2=\"2280.38\" y2=\"799.899\" style=\"stroke:#000000; stroke-width:4; stroke-opacity:1\"/>\n",
       "<line clip-path=\"url(#clip903)\" x1=\"2324.09\" y1=\"981.082\" x2=\"2300.09\" y2=\"981.082\" style=\"stroke:#000000; stroke-width:4; stroke-opacity:1\"/>\n",
       "<line clip-path=\"url(#clip903)\" x1=\"2324.09\" y1=\"833.046\" x2=\"2300.09\" y2=\"833.046\" style=\"stroke:#000000; stroke-width:4; stroke-opacity:1\"/>\n",
       "<line clip-path=\"url(#clip903)\" x1=\"2363.52\" y1=\"958.53\" x2=\"2339.52\" y2=\"958.53\" style=\"stroke:#000000; stroke-width:4; stroke-opacity:1\"/>\n",
       "<line clip-path=\"url(#clip903)\" x1=\"2363.52\" y1=\"809.674\" x2=\"2339.52\" y2=\"809.674\" style=\"stroke:#000000; stroke-width:4; stroke-opacity:1\"/>\n",
       "<line clip-path=\"url(#clip903)\" x1=\"2402.95\" y1=\"1026.17\" x2=\"2378.95\" y2=\"1026.17\" style=\"stroke:#000000; stroke-width:4; stroke-opacity:1\"/>\n",
       "<line clip-path=\"url(#clip903)\" x1=\"2402.95\" y1=\"902.581\" x2=\"2378.95\" y2=\"902.581\" style=\"stroke:#000000; stroke-width:4; stroke-opacity:1\"/>\n",
       "<line clip-path=\"url(#clip903)\" x1=\"2422.66\" y1=\"1005.59\" x2=\"2398.66\" y2=\"1005.59\" style=\"stroke:#000000; stroke-width:4; stroke-opacity:1\"/>\n",
       "<line clip-path=\"url(#clip903)\" x1=\"2422.66\" y1=\"874.722\" x2=\"2398.66\" y2=\"874.722\" style=\"stroke:#000000; stroke-width:4; stroke-opacity:1\"/>\n",
       "<line clip-path=\"url(#clip903)\" x1=\"2462.09\" y1=\"1089.61\" x2=\"2438.09\" y2=\"1089.61\" style=\"stroke:#000000; stroke-width:4; stroke-opacity:1\"/>\n",
       "<line clip-path=\"url(#clip903)\" x1=\"2462.09\" y1=\"963.88\" x2=\"2438.09\" y2=\"963.88\" style=\"stroke:#000000; stroke-width:4; stroke-opacity:1\"/>\n",
       "<line clip-path=\"url(#clip903)\" x1=\"2481.8\" y1=\"1079.88\" x2=\"2457.8\" y2=\"1079.88\" style=\"stroke:#000000; stroke-width:4; stroke-opacity:1\"/>\n",
       "<line clip-path=\"url(#clip903)\" x1=\"2481.8\" y1=\"959.872\" x2=\"2457.8\" y2=\"959.872\" style=\"stroke:#000000; stroke-width:4; stroke-opacity:1\"/>\n",
       "<line clip-path=\"url(#clip903)\" x1=\"2501.51\" y1=\"1112.23\" x2=\"2477.51\" y2=\"1112.23\" style=\"stroke:#000000; stroke-width:4; stroke-opacity:1\"/>\n",
       "<line clip-path=\"url(#clip903)\" x1=\"2501.51\" y1=\"986.857\" x2=\"2477.51\" y2=\"986.857\" style=\"stroke:#000000; stroke-width:4; stroke-opacity:1\"/>\n",
       "<line clip-path=\"url(#clip903)\" x1=\"2521.23\" y1=\"1109.72\" x2=\"2497.23\" y2=\"1109.72\" style=\"stroke:#000000; stroke-width:4; stroke-opacity:1\"/>\n",
       "<line clip-path=\"url(#clip903)\" x1=\"2521.23\" y1=\"1026.09\" x2=\"2497.23\" y2=\"1026.09\" style=\"stroke:#000000; stroke-width:4; stroke-opacity:1\"/>\n",
       "<line clip-path=\"url(#clip903)\" x1=\"2560.65\" y1=\"1121.21\" x2=\"2536.65\" y2=\"1121.21\" style=\"stroke:#000000; stroke-width:4; stroke-opacity:1\"/>\n",
       "<line clip-path=\"url(#clip903)\" x1=\"2560.65\" y1=\"1029.37\" x2=\"2536.65\" y2=\"1029.37\" style=\"stroke:#000000; stroke-width:4; stroke-opacity:1\"/>\n",
       "<line clip-path=\"url(#clip903)\" x1=\"2659.22\" y1=\"1218.77\" x2=\"2635.22\" y2=\"1218.77\" style=\"stroke:#000000; stroke-width:4; stroke-opacity:1\"/>\n",
       "<line clip-path=\"url(#clip903)\" x1=\"2659.22\" y1=\"1125.7\" x2=\"2635.22\" y2=\"1125.7\" style=\"stroke:#000000; stroke-width:4; stroke-opacity:1\"/>\n",
       "<line clip-path=\"url(#clip903)\" x1=\"2856.35\" y1=\"1289.7\" x2=\"2832.35\" y2=\"1289.7\" style=\"stroke:#000000; stroke-width:4; stroke-opacity:1\"/>\n",
       "<line clip-path=\"url(#clip903)\" x1=\"2856.35\" y1=\"1199.52\" x2=\"2832.35\" y2=\"1199.52\" style=\"stroke:#000000; stroke-width:4; stroke-opacity:1\"/>\n",
       "<line clip-path=\"url(#clip903)\" x1=\"3053.49\" y1=\"1329.89\" x2=\"3029.49\" y2=\"1329.89\" style=\"stroke:#000000; stroke-width:4; stroke-opacity:1\"/>\n",
       "<line clip-path=\"url(#clip903)\" x1=\"3053.49\" y1=\"1264.17\" x2=\"3029.49\" y2=\"1264.17\" style=\"stroke:#000000; stroke-width:4; stroke-opacity:1\"/>\n",
       "<line clip-path=\"url(#clip903)\" x1=\"1957.25\" y1=\"351.226\" x2=\"1957.25\" y2=\"339.226\" style=\"stroke:#009af9; stroke-width:3.2; stroke-opacity:1\"/>\n",
       "<line clip-path=\"url(#clip903)\" x1=\"1957.25\" y1=\"351.226\" x2=\"1945.25\" y2=\"351.226\" style=\"stroke:#009af9; stroke-width:3.2; stroke-opacity:1\"/>\n",
       "<line clip-path=\"url(#clip903)\" x1=\"1957.25\" y1=\"351.226\" x2=\"1957.25\" y2=\"363.226\" style=\"stroke:#009af9; stroke-width:3.2; stroke-opacity:1\"/>\n",
       "<line clip-path=\"url(#clip903)\" x1=\"1957.25\" y1=\"351.226\" x2=\"1969.25\" y2=\"351.226\" style=\"stroke:#009af9; stroke-width:3.2; stroke-opacity:1\"/>\n",
       "<line clip-path=\"url(#clip903)\" x1=\"2055.82\" y1=\"531.4\" x2=\"2055.82\" y2=\"519.4\" style=\"stroke:#009af9; stroke-width:3.2; stroke-opacity:1\"/>\n",
       "<line clip-path=\"url(#clip903)\" x1=\"2055.82\" y1=\"531.4\" x2=\"2043.82\" y2=\"531.4\" style=\"stroke:#009af9; stroke-width:3.2; stroke-opacity:1\"/>\n",
       "<line clip-path=\"url(#clip903)\" x1=\"2055.82\" y1=\"531.4\" x2=\"2055.82\" y2=\"543.4\" style=\"stroke:#009af9; stroke-width:3.2; stroke-opacity:1\"/>\n",
       "<line clip-path=\"url(#clip903)\" x1=\"2055.82\" y1=\"531.4\" x2=\"2067.82\" y2=\"531.4\" style=\"stroke:#009af9; stroke-width:3.2; stroke-opacity:1\"/>\n",
       "<line clip-path=\"url(#clip903)\" x1=\"2154.39\" y1=\"718.273\" x2=\"2154.39\" y2=\"706.273\" style=\"stroke:#009af9; stroke-width:3.2; stroke-opacity:1\"/>\n",
       "<line clip-path=\"url(#clip903)\" x1=\"2154.39\" y1=\"718.273\" x2=\"2142.39\" y2=\"718.273\" style=\"stroke:#009af9; stroke-width:3.2; stroke-opacity:1\"/>\n",
       "<line clip-path=\"url(#clip903)\" x1=\"2154.39\" y1=\"718.273\" x2=\"2154.39\" y2=\"730.273\" style=\"stroke:#009af9; stroke-width:3.2; stroke-opacity:1\"/>\n",
       "<line clip-path=\"url(#clip903)\" x1=\"2154.39\" y1=\"718.273\" x2=\"2166.39\" y2=\"718.273\" style=\"stroke:#009af9; stroke-width:3.2; stroke-opacity:1\"/>\n",
       "<line clip-path=\"url(#clip903)\" x1=\"2193.81\" y1=\"776.72\" x2=\"2193.81\" y2=\"764.72\" style=\"stroke:#009af9; stroke-width:3.2; stroke-opacity:1\"/>\n",
       "<line clip-path=\"url(#clip903)\" x1=\"2193.81\" y1=\"776.72\" x2=\"2181.81\" y2=\"776.72\" style=\"stroke:#009af9; stroke-width:3.2; stroke-opacity:1\"/>\n",
       "<line clip-path=\"url(#clip903)\" x1=\"2193.81\" y1=\"776.72\" x2=\"2193.81\" y2=\"788.72\" style=\"stroke:#009af9; stroke-width:3.2; stroke-opacity:1\"/>\n",
       "<line clip-path=\"url(#clip903)\" x1=\"2193.81\" y1=\"776.72\" x2=\"2205.81\" y2=\"776.72\" style=\"stroke:#009af9; stroke-width:3.2; stroke-opacity:1\"/>\n",
       "<line clip-path=\"url(#clip903)\" x1=\"2213.53\" y1=\"750.125\" x2=\"2213.53\" y2=\"738.125\" style=\"stroke:#009af9; stroke-width:3.2; stroke-opacity:1\"/>\n",
       "<line clip-path=\"url(#clip903)\" x1=\"2213.53\" y1=\"750.125\" x2=\"2201.53\" y2=\"750.125\" style=\"stroke:#009af9; stroke-width:3.2; stroke-opacity:1\"/>\n",
       "<line clip-path=\"url(#clip903)\" x1=\"2213.53\" y1=\"750.125\" x2=\"2213.53\" y2=\"762.125\" style=\"stroke:#009af9; stroke-width:3.2; stroke-opacity:1\"/>\n",
       "<line clip-path=\"url(#clip903)\" x1=\"2213.53\" y1=\"750.125\" x2=\"2225.53\" y2=\"750.125\" style=\"stroke:#009af9; stroke-width:3.2; stroke-opacity:1\"/>\n",
       "<line clip-path=\"url(#clip903)\" x1=\"2252.95\" y1=\"837.131\" x2=\"2252.95\" y2=\"825.131\" style=\"stroke:#009af9; stroke-width:3.2; stroke-opacity:1\"/>\n",
       "<line clip-path=\"url(#clip903)\" x1=\"2252.95\" y1=\"837.131\" x2=\"2240.95\" y2=\"837.131\" style=\"stroke:#009af9; stroke-width:3.2; stroke-opacity:1\"/>\n",
       "<line clip-path=\"url(#clip903)\" x1=\"2252.95\" y1=\"837.131\" x2=\"2252.95\" y2=\"849.131\" style=\"stroke:#009af9; stroke-width:3.2; stroke-opacity:1\"/>\n",
       "<line clip-path=\"url(#clip903)\" x1=\"2252.95\" y1=\"837.131\" x2=\"2264.95\" y2=\"837.131\" style=\"stroke:#009af9; stroke-width:3.2; stroke-opacity:1\"/>\n",
       "<line clip-path=\"url(#clip903)\" x1=\"2292.38\" y1=\"864.696\" x2=\"2292.38\" y2=\"852.696\" style=\"stroke:#009af9; stroke-width:3.2; stroke-opacity:1\"/>\n",
       "<line clip-path=\"url(#clip903)\" x1=\"2292.38\" y1=\"864.696\" x2=\"2280.38\" y2=\"864.696\" style=\"stroke:#009af9; stroke-width:3.2; stroke-opacity:1\"/>\n",
       "<line clip-path=\"url(#clip903)\" x1=\"2292.38\" y1=\"864.696\" x2=\"2292.38\" y2=\"876.696\" style=\"stroke:#009af9; stroke-width:3.2; stroke-opacity:1\"/>\n",
       "<line clip-path=\"url(#clip903)\" x1=\"2292.38\" y1=\"864.696\" x2=\"2304.38\" y2=\"864.696\" style=\"stroke:#009af9; stroke-width:3.2; stroke-opacity:1\"/>\n",
       "<line clip-path=\"url(#clip903)\" x1=\"2312.09\" y1=\"907.064\" x2=\"2312.09\" y2=\"895.064\" style=\"stroke:#009af9; stroke-width:3.2; stroke-opacity:1\"/>\n",
       "<line clip-path=\"url(#clip903)\" x1=\"2312.09\" y1=\"907.064\" x2=\"2300.09\" y2=\"907.064\" style=\"stroke:#009af9; stroke-width:3.2; stroke-opacity:1\"/>\n",
       "<line clip-path=\"url(#clip903)\" x1=\"2312.09\" y1=\"907.064\" x2=\"2312.09\" y2=\"919.064\" style=\"stroke:#009af9; stroke-width:3.2; stroke-opacity:1\"/>\n",
       "<line clip-path=\"url(#clip903)\" x1=\"2312.09\" y1=\"907.064\" x2=\"2324.09\" y2=\"907.064\" style=\"stroke:#009af9; stroke-width:3.2; stroke-opacity:1\"/>\n",
       "<line clip-path=\"url(#clip903)\" x1=\"2351.52\" y1=\"884.102\" x2=\"2351.52\" y2=\"872.102\" style=\"stroke:#009af9; stroke-width:3.2; stroke-opacity:1\"/>\n",
       "<line clip-path=\"url(#clip903)\" x1=\"2351.52\" y1=\"884.102\" x2=\"2339.52\" y2=\"884.102\" style=\"stroke:#009af9; stroke-width:3.2; stroke-opacity:1\"/>\n",
       "<line clip-path=\"url(#clip903)\" x1=\"2351.52\" y1=\"884.102\" x2=\"2351.52\" y2=\"896.102\" style=\"stroke:#009af9; stroke-width:3.2; stroke-opacity:1\"/>\n",
       "<line clip-path=\"url(#clip903)\" x1=\"2351.52\" y1=\"884.102\" x2=\"2363.52\" y2=\"884.102\" style=\"stroke:#009af9; stroke-width:3.2; stroke-opacity:1\"/>\n",
       "<line clip-path=\"url(#clip903)\" x1=\"2390.95\" y1=\"964.376\" x2=\"2390.95\" y2=\"952.376\" style=\"stroke:#009af9; stroke-width:3.2; stroke-opacity:1\"/>\n",
       "<line clip-path=\"url(#clip903)\" x1=\"2390.95\" y1=\"964.376\" x2=\"2378.95\" y2=\"964.376\" style=\"stroke:#009af9; stroke-width:3.2; stroke-opacity:1\"/>\n",
       "<line clip-path=\"url(#clip903)\" x1=\"2390.95\" y1=\"964.376\" x2=\"2390.95\" y2=\"976.376\" style=\"stroke:#009af9; stroke-width:3.2; stroke-opacity:1\"/>\n",
       "<line clip-path=\"url(#clip903)\" x1=\"2390.95\" y1=\"964.376\" x2=\"2402.95\" y2=\"964.376\" style=\"stroke:#009af9; stroke-width:3.2; stroke-opacity:1\"/>\n",
       "<line clip-path=\"url(#clip903)\" x1=\"2410.66\" y1=\"940.158\" x2=\"2410.66\" y2=\"928.158\" style=\"stroke:#009af9; stroke-width:3.2; stroke-opacity:1\"/>\n",
       "<line clip-path=\"url(#clip903)\" x1=\"2410.66\" y1=\"940.158\" x2=\"2398.66\" y2=\"940.158\" style=\"stroke:#009af9; stroke-width:3.2; stroke-opacity:1\"/>\n",
       "<line clip-path=\"url(#clip903)\" x1=\"2410.66\" y1=\"940.158\" x2=\"2410.66\" y2=\"952.158\" style=\"stroke:#009af9; stroke-width:3.2; stroke-opacity:1\"/>\n",
       "<line clip-path=\"url(#clip903)\" x1=\"2410.66\" y1=\"940.158\" x2=\"2422.66\" y2=\"940.158\" style=\"stroke:#009af9; stroke-width:3.2; stroke-opacity:1\"/>\n",
       "<line clip-path=\"url(#clip903)\" x1=\"2450.09\" y1=\"1026.75\" x2=\"2450.09\" y2=\"1014.75\" style=\"stroke:#009af9; stroke-width:3.2; stroke-opacity:1\"/>\n",
       "<line clip-path=\"url(#clip903)\" x1=\"2450.09\" y1=\"1026.75\" x2=\"2438.09\" y2=\"1026.75\" style=\"stroke:#009af9; stroke-width:3.2; stroke-opacity:1\"/>\n",
       "<line clip-path=\"url(#clip903)\" x1=\"2450.09\" y1=\"1026.75\" x2=\"2450.09\" y2=\"1038.75\" style=\"stroke:#009af9; stroke-width:3.2; stroke-opacity:1\"/>\n",
       "<line clip-path=\"url(#clip903)\" x1=\"2450.09\" y1=\"1026.75\" x2=\"2462.09\" y2=\"1026.75\" style=\"stroke:#009af9; stroke-width:3.2; stroke-opacity:1\"/>\n",
       "<line clip-path=\"url(#clip903)\" x1=\"2469.8\" y1=\"1019.88\" x2=\"2469.8\" y2=\"1007.88\" style=\"stroke:#009af9; stroke-width:3.2; stroke-opacity:1\"/>\n",
       "<line clip-path=\"url(#clip903)\" x1=\"2469.8\" y1=\"1019.88\" x2=\"2457.8\" y2=\"1019.88\" style=\"stroke:#009af9; stroke-width:3.2; stroke-opacity:1\"/>\n",
       "<line clip-path=\"url(#clip903)\" x1=\"2469.8\" y1=\"1019.88\" x2=\"2469.8\" y2=\"1031.88\" style=\"stroke:#009af9; stroke-width:3.2; stroke-opacity:1\"/>\n",
       "<line clip-path=\"url(#clip903)\" x1=\"2469.8\" y1=\"1019.88\" x2=\"2481.8\" y2=\"1019.88\" style=\"stroke:#009af9; stroke-width:3.2; stroke-opacity:1\"/>\n",
       "<line clip-path=\"url(#clip903)\" x1=\"2489.51\" y1=\"1049.55\" x2=\"2489.51\" y2=\"1037.55\" style=\"stroke:#009af9; stroke-width:3.2; stroke-opacity:1\"/>\n",
       "<line clip-path=\"url(#clip903)\" x1=\"2489.51\" y1=\"1049.55\" x2=\"2477.51\" y2=\"1049.55\" style=\"stroke:#009af9; stroke-width:3.2; stroke-opacity:1\"/>\n",
       "<line clip-path=\"url(#clip903)\" x1=\"2489.51\" y1=\"1049.55\" x2=\"2489.51\" y2=\"1061.55\" style=\"stroke:#009af9; stroke-width:3.2; stroke-opacity:1\"/>\n",
       "<line clip-path=\"url(#clip903)\" x1=\"2489.51\" y1=\"1049.55\" x2=\"2501.51\" y2=\"1049.55\" style=\"stroke:#009af9; stroke-width:3.2; stroke-opacity:1\"/>\n",
       "<line clip-path=\"url(#clip903)\" x1=\"2509.23\" y1=\"1067.91\" x2=\"2509.23\" y2=\"1055.91\" style=\"stroke:#009af9; stroke-width:3.2; stroke-opacity:1\"/>\n",
       "<line clip-path=\"url(#clip903)\" x1=\"2509.23\" y1=\"1067.91\" x2=\"2497.23\" y2=\"1067.91\" style=\"stroke:#009af9; stroke-width:3.2; stroke-opacity:1\"/>\n",
       "<line clip-path=\"url(#clip903)\" x1=\"2509.23\" y1=\"1067.91\" x2=\"2509.23\" y2=\"1079.91\" style=\"stroke:#009af9; stroke-width:3.2; stroke-opacity:1\"/>\n",
       "<line clip-path=\"url(#clip903)\" x1=\"2509.23\" y1=\"1067.91\" x2=\"2521.23\" y2=\"1067.91\" style=\"stroke:#009af9; stroke-width:3.2; stroke-opacity:1\"/>\n",
       "<line clip-path=\"url(#clip903)\" x1=\"2548.65\" y1=\"1075.29\" x2=\"2548.65\" y2=\"1063.29\" style=\"stroke:#009af9; stroke-width:3.2; stroke-opacity:1\"/>\n",
       "<line clip-path=\"url(#clip903)\" x1=\"2548.65\" y1=\"1075.29\" x2=\"2536.65\" y2=\"1075.29\" style=\"stroke:#009af9; stroke-width:3.2; stroke-opacity:1\"/>\n",
       "<line clip-path=\"url(#clip903)\" x1=\"2548.65\" y1=\"1075.29\" x2=\"2548.65\" y2=\"1087.29\" style=\"stroke:#009af9; stroke-width:3.2; stroke-opacity:1\"/>\n",
       "<line clip-path=\"url(#clip903)\" x1=\"2548.65\" y1=\"1075.29\" x2=\"2560.65\" y2=\"1075.29\" style=\"stroke:#009af9; stroke-width:3.2; stroke-opacity:1\"/>\n",
       "<line clip-path=\"url(#clip903)\" x1=\"2647.22\" y1=\"1172.24\" x2=\"2647.22\" y2=\"1160.24\" style=\"stroke:#009af9; stroke-width:3.2; stroke-opacity:1\"/>\n",
       "<line clip-path=\"url(#clip903)\" x1=\"2647.22\" y1=\"1172.24\" x2=\"2635.22\" y2=\"1172.24\" style=\"stroke:#009af9; stroke-width:3.2; stroke-opacity:1\"/>\n",
       "<line clip-path=\"url(#clip903)\" x1=\"2647.22\" y1=\"1172.24\" x2=\"2647.22\" y2=\"1184.24\" style=\"stroke:#009af9; stroke-width:3.2; stroke-opacity:1\"/>\n",
       "<line clip-path=\"url(#clip903)\" x1=\"2647.22\" y1=\"1172.24\" x2=\"2659.22\" y2=\"1172.24\" style=\"stroke:#009af9; stroke-width:3.2; stroke-opacity:1\"/>\n",
       "<line clip-path=\"url(#clip903)\" x1=\"2844.35\" y1=\"1244.61\" x2=\"2844.35\" y2=\"1232.61\" style=\"stroke:#009af9; stroke-width:3.2; stroke-opacity:1\"/>\n",
       "<line clip-path=\"url(#clip903)\" x1=\"2844.35\" y1=\"1244.61\" x2=\"2832.35\" y2=\"1244.61\" style=\"stroke:#009af9; stroke-width:3.2; stroke-opacity:1\"/>\n",
       "<line clip-path=\"url(#clip903)\" x1=\"2844.35\" y1=\"1244.61\" x2=\"2844.35\" y2=\"1256.61\" style=\"stroke:#009af9; stroke-width:3.2; stroke-opacity:1\"/>\n",
       "<line clip-path=\"url(#clip903)\" x1=\"2844.35\" y1=\"1244.61\" x2=\"2856.35\" y2=\"1244.61\" style=\"stroke:#009af9; stroke-width:3.2; stroke-opacity:1\"/>\n",
       "<line clip-path=\"url(#clip903)\" x1=\"3041.49\" y1=\"1297.03\" x2=\"3041.49\" y2=\"1285.03\" style=\"stroke:#009af9; stroke-width:3.2; stroke-opacity:1\"/>\n",
       "<line clip-path=\"url(#clip903)\" x1=\"3041.49\" y1=\"1297.03\" x2=\"3029.49\" y2=\"1297.03\" style=\"stroke:#009af9; stroke-width:3.2; stroke-opacity:1\"/>\n",
       "<line clip-path=\"url(#clip903)\" x1=\"3041.49\" y1=\"1297.03\" x2=\"3041.49\" y2=\"1309.03\" style=\"stroke:#009af9; stroke-width:3.2; stroke-opacity:1\"/>\n",
       "<line clip-path=\"url(#clip903)\" x1=\"3041.49\" y1=\"1297.03\" x2=\"3053.49\" y2=\"1297.03\" style=\"stroke:#009af9; stroke-width:3.2; stroke-opacity:1\"/>\n",
       "</svg>\n"
      ]
     },
     "execution_count": 11,
     "metadata": {},
     "output_type": "execute_result"
    }
   ],
   "source": [
    "pstab=plot(yaxis=\"stability parameter\", xaxis=L\"γ\")\n",
    "scatter!(pstab,γ_range,mean_stab, yerr=std_stab, label=\"\", markershape=:+, markerstrokewidth=1, markersize = 3);\n",
    "hline!(pstab, [1], color=\"black\", label=\"\")\n",
    "plot!(pstab, fit_range_plot, a2.*fit_range_plot.*fit_range_plot .+ a1.*fit_range_plot .+ a0, label=\"\")\n",
    "\n",
    "pconv=plot(yaxis=\"nb runs with Δ converged\", xaxis=L\"γ\")\n",
    "scatter!(pconv, γ_range,frac_conv.*nbruns, label=\"\", markershape=:x, markerstrokewidth=2);\n",
    "\n",
    "pTIT=\"stability parameter (\"*string(nbruns)*\"runs) (T=\"*string(T)*\", λ=\"*string(LAM)*\", N=\"*string(N)*\")\"\n",
    "\n",
    "perr=plot(yaxis=\"convergence criterion\", xaxis=L\"γ\")\n",
    "scatter!(perr,γ_range,mean_err, yerr=std_err, label=\"\", markershape=:+, markerstrokewidth=1, markersize = 3);\n",
    "\n",
    "#pγ= plot(pstab, perr, pconv, size=(1000,330), layout=(1,3), margin=6*Plots.mm, plot_title=pTIT)\n",
    "pγ= plot(pstab, perr, size=(800,400), layout=(1,2), margin=6*Plots.mm)"
   ]
  },
  {
   "cell_type": "code",
   "execution_count": 12,
   "metadata": {},
   "outputs": [
    {
     "data": {
      "text/plain": [
       "\"/home/louise/Documents/PostDoc_Turin/Projet-Epidemics/Epidemble-RSB/Git/Epid_stab/stabav_T8_λ1.0_N50000.pdf\""
      ]
     },
     "execution_count": 12,
     "metadata": {},
     "output_type": "execute_result"
    }
   ],
   "source": [
    "savefig(pγ, \"stabav_T\"*string(T)*\"_λ\"*string(LAM)*\"_N\"*string(N)*\".pdf\")"
   ]
  },
  {
   "cell_type": "markdown",
   "metadata": {},
   "source": [
    "# loop on γ on single graphs (10 runs per γ)"
   ]
  },
  {
   "cell_type": "code",
   "execution_count": 3,
   "metadata": {},
   "outputs": [
    {
     "data": {
      "text/plain": [
       "1"
      ]
     },
     "execution_count": 3,
     "metadata": {},
     "output_type": "execute_result"
    }
   ],
   "source": [
    "T=8\n",
    "LAM=1.0\n",
    "#path = \"tmp_stab/res_epid_1graph_stab/\"\n",
    "path = \"tmp_stab/\"\n",
    "pfits = plot(xaxis=\"γ\", title=\"stability parameter (10 graphs): T=\"*string(T)*\", λ=\"*string(LAM));\n",
    "N=50000\n",
    "iter=500\n",
    "\n",
    "runs_range = 1:1 #1:10\n",
    "γ_range_1=0.005:0.001:0.018;\n",
    "nbruns = length(runs_range)"
   ]
  },
  {
   "cell_type": "code",
   "execution_count": 6,
   "metadata": {},
   "outputs": [],
   "source": [
    "gam_res_1 = zeros(length(γ_range_1), length(runs_range));\n",
    "err_res_1 = zeros(length(γ_range_1), length(runs_range));\n",
    "for iγ in 1:length(γ_range_1)\n",
    "    for irun in 1:length(runs_range)\n",
    "        run=runs_range[irun]\n",
    "        GAM=γ_range_1[iγ]\n",
    "        #@show iγ, GAM, irun\n",
    "\n",
    "        #foldergam=\"gam\"*string(GAM)*\"/\"\n",
    "        foldergam=\"\"\n",
    "        nameparams = \"_T\"*string(T)*\"_LAM\"*string(LAM)*\"_GAM\"*string(GAM)*\"_N\"*string(N)*\"_iter\"*string(iter)\n",
    "        extension = \"_run\"\n",
    "        namefile = path*foldergam*\"fileres_epid_1graph_stab\"*nameparams*extension*string(run)\n",
    "\n",
    "        file = readdlm(namefile);\n",
    "        if size(file)[1]==2\n",
    "            err_res_1[iγ,irun]=Inf\n",
    "            gam_res_1[iγ,irun]=Inf\n",
    "            continue\n",
    "        end\n",
    "        res = file[3:end-1,1:3]\n",
    "        iter_full=findall(.!isnan.(res[:,1]))\n",
    "        halfiter=Int64(iter/2)+2\n",
    "        iter_Δ = findall([(!isinf(res[j,3])&&!isnan(res[j,3])) for j in iter_full])\n",
    "\n",
    "        if res[iter_Δ[end],3] < 1\n",
    "            #linear fit\n",
    "            ratio_Δ = [abs(res[i,3]/res[i-1,3]) for i in iter_Δ[halfiter:end]]\n",
    "            frac_cut = 3\n",
    "            lsta = Int64(round(length(ratio_Δ)/frac_cut))\n",
    "            lend = length(ratio_Δ)-lsta\n",
    "            log_Δ = log.(res[iter_Δ[halfiter:end],3])\n",
    "            log_Δ_cut = log_Δ[lsta:lend]\n",
    "            (a,b)=linear_fit(lsta:lend, log_Δ_cut)\n",
    "            sfitΔ = exp(b)\n",
    "        else\n",
    "            sfitΔ=Inf\n",
    "        end\n",
    "        \n",
    "        err=std(res[halfiter:end-1,2]) #res[end-1,2]\n",
    "        err_res_1[iγ,irun]=err\n",
    "        #@show GAM, run, err, sfitΔ\n",
    "        \n",
    "        gam_res_1[iγ,irun]=sfitΔ\n",
    "    end\n",
    "end"
   ]
  },
  {
   "cell_type": "code",
   "execution_count": 7,
   "metadata": {},
   "outputs": [
    {
     "name": "stdout",
     "output_type": "stream",
     "text": [
      "(γ, indicesconv) = (0.005, Bool[1])\n",
      "(γ, indicesconv) = (0.006, Bool[0])\n",
      "(γ, indicesconv) = (0.007, Bool[0])\n",
      "(γ, indicesconv) = (0.008, Bool[0])\n",
      "(γ, indicesconv) = (0.009, Bool[1])\n",
      "(γ, indicesconv) = (0.01, Bool[1])\n",
      "(γ, indicesconv) = (0.011, Bool[1])\n",
      "(γ, indicesconv) = (0.012, Bool[1])\n",
      "(γ, indicesconv) = (0.013, Bool[1])\n",
      "(γ, indicesconv) = (0.014, Bool[1])\n",
      "(γ, indicesconv) = (0.015, Bool[1])\n",
      "(γ, indicesconv) = (0.016, Bool[1])\n",
      "(γ, indicesconv) = (0.017, Bool[1])\n",
      "(γ, indicesconv) = (0.018, Bool[1])\n"
     ]
    }
   ],
   "source": [
    "frac_conv = sum(.!isinf.(gam_res_1), dims=2)./length(runs_range)\n",
    "mean_stab_1 = zeros(length(γ_range_1))\n",
    "std_stab_1 = zeros(length(γ_range_1));\n",
    "mean_err_1 = zeros(length(γ_range_1))\n",
    "std_err_1 = zeros(length(γ_range_1));\n",
    "for iγ in 1:length(γ_range_1)\n",
    "    γ=γ_range_1[iγ]\n",
    "    indicesconv=.!isinf.(gam_res_1[iγ,:])\n",
    "    @show γ, indicesconv\n",
    "    mean_stab_1[iγ]=mean(gam_res_1[iγ,indicesconv])\n",
    "    std_stab_1[iγ]=std(gam_res_1[iγ,indicesconv])\n",
    "    mean_err_1[iγ]=mean(err_res_1[iγ,indicesconv])\n",
    "    std_err_1[iγ]=std(err_res_1[iγ,indicesconv])\n",
    "end"
   ]
  },
  {
   "cell_type": "code",
   "execution_count": 9,
   "metadata": {},
   "outputs": [
    {
     "data": {
      "text/plain": [
       "14-element Vector{Float64}:\n",
       " NaN\n",
       " NaN\n",
       " NaN\n",
       " NaN\n",
       "   1.000550033540718\n",
       "   1.0001760646703648\n",
       "   0.9352498113247207\n",
       "   0.8690580568115116\n",
       "   0.7833841027346877\n",
       "   0.7742468688448758\n",
       "   0.6858701263264613\n",
       "   0.6548884807065711\n",
       "   0.5957071956311513\n",
       "   0.5536865727865747"
      ]
     },
     "execution_count": 9,
     "metadata": {},
     "output_type": "execute_result"
    }
   ],
   "source": [
    "mean_stab_1"
   ]
  },
  {
   "cell_type": "code",
   "execution_count": 8,
   "metadata": {},
   "outputs": [
    {
     "data": {
      "image/svg+xml": [
       "<?xml version=\"1.0\" encoding=\"utf-8\"?>\n",
       "<svg xmlns=\"http://www.w3.org/2000/svg\" xmlns:xlink=\"http://www.w3.org/1999/xlink\" width=\"1000\" height=\"600\" viewBox=\"0 0 4000 2400\">\n",
       "<defs>\n",
       "  <clipPath id=\"clip980\">\n",
       "    <rect x=\"0\" y=\"0\" width=\"4000\" height=\"2400\"/>\n",
       "  </clipPath>\n",
       "</defs>\n",
       "<path clip-path=\"url(#clip980)\" d=\"M0 2400 L4000 2400 L4000 0 L0 0  Z\" fill=\"#ffffff\" fill-rule=\"evenodd\" fill-opacity=\"1\"/>\n",
       "<defs>\n",
       "  <clipPath id=\"clip981\">\n",
       "    <rect x=\"800\" y=\"0\" width=\"2801\" height=\"2400\"/>\n",
       "  </clipPath>\n",
       "</defs>\n",
       "<path clip-path=\"url(#clip980)\" d=\"M309.53 2144.65 L1858.77 2144.65 L1858.77 125.984 L309.53 125.984  Z\" fill=\"#ffffff\" fill-rule=\"evenodd\" fill-opacity=\"1\"/>\n",
       "<defs>\n",
       "  <clipPath id=\"clip982\">\n",
       "    <rect x=\"309\" y=\"125\" width=\"1550\" height=\"2020\"/>\n",
       "  </clipPath>\n",
       "</defs>\n",
       "<polyline clip-path=\"url(#clip982)\" style=\"stroke:#000000; stroke-linecap:round; stroke-linejoin:round; stroke-width:2; stroke-opacity:0.1; fill:none\" points=\"465.804,2144.65 465.804,125.984 \"/>\n",
       "<polyline clip-path=\"url(#clip982)\" style=\"stroke:#000000; stroke-linecap:round; stroke-linejoin:round; stroke-width:2; stroke-opacity:0.1; fill:none\" points=\"690.657,2144.65 690.657,125.984 \"/>\n",
       "<polyline clip-path=\"url(#clip982)\" style=\"stroke:#000000; stroke-linecap:round; stroke-linejoin:round; stroke-width:2; stroke-opacity:0.1; fill:none\" points=\"915.511,2144.65 915.511,125.984 \"/>\n",
       "<polyline clip-path=\"url(#clip982)\" style=\"stroke:#000000; stroke-linecap:round; stroke-linejoin:round; stroke-width:2; stroke-opacity:0.1; fill:none\" points=\"1140.37,2144.65 1140.37,125.984 \"/>\n",
       "<polyline clip-path=\"url(#clip982)\" style=\"stroke:#000000; stroke-linecap:round; stroke-linejoin:round; stroke-width:2; stroke-opacity:0.1; fill:none\" points=\"1365.22,2144.65 1365.22,125.984 \"/>\n",
       "<polyline clip-path=\"url(#clip982)\" style=\"stroke:#000000; stroke-linecap:round; stroke-linejoin:round; stroke-width:2; stroke-opacity:0.1; fill:none\" points=\"1590.07,2144.65 1590.07,125.984 \"/>\n",
       "<polyline clip-path=\"url(#clip982)\" style=\"stroke:#000000; stroke-linecap:round; stroke-linejoin:round; stroke-width:2; stroke-opacity:0.1; fill:none\" points=\"1814.93,2144.65 1814.93,125.984 \"/>\n",
       "<polyline clip-path=\"url(#clip980)\" style=\"stroke:#000000; stroke-linecap:round; stroke-linejoin:round; stroke-width:4; stroke-opacity:1; fill:none\" points=\"309.53,2144.65 1858.77,2144.65 \"/>\n",
       "<polyline clip-path=\"url(#clip980)\" style=\"stroke:#000000; stroke-linecap:round; stroke-linejoin:round; stroke-width:4; stroke-opacity:1; fill:none\" points=\"465.804,2144.65 465.804,2125.75 \"/>\n",
       "<polyline clip-path=\"url(#clip980)\" style=\"stroke:#000000; stroke-linecap:round; stroke-linejoin:round; stroke-width:4; stroke-opacity:1; fill:none\" points=\"690.657,2144.65 690.657,2125.75 \"/>\n",
       "<polyline clip-path=\"url(#clip980)\" style=\"stroke:#000000; stroke-linecap:round; stroke-linejoin:round; stroke-width:4; stroke-opacity:1; fill:none\" points=\"915.511,2144.65 915.511,2125.75 \"/>\n",
       "<polyline clip-path=\"url(#clip980)\" style=\"stroke:#000000; stroke-linecap:round; stroke-linejoin:round; stroke-width:4; stroke-opacity:1; fill:none\" points=\"1140.37,2144.65 1140.37,2125.75 \"/>\n",
       "<polyline clip-path=\"url(#clip980)\" style=\"stroke:#000000; stroke-linecap:round; stroke-linejoin:round; stroke-width:4; stroke-opacity:1; fill:none\" points=\"1365.22,2144.65 1365.22,2125.75 \"/>\n",
       "<polyline clip-path=\"url(#clip980)\" style=\"stroke:#000000; stroke-linecap:round; stroke-linejoin:round; stroke-width:4; stroke-opacity:1; fill:none\" points=\"1590.07,2144.65 1590.07,2125.75 \"/>\n",
       "<polyline clip-path=\"url(#clip980)\" style=\"stroke:#000000; stroke-linecap:round; stroke-linejoin:round; stroke-width:4; stroke-opacity:1; fill:none\" points=\"1814.93,2144.65 1814.93,2125.75 \"/>\n",
       "<path clip-path=\"url(#clip980)\" d=\"M412.945 2188.37 Q409.334 2188.37 407.505 2191.93 Q405.7 2195.47 405.7 2202.6 Q405.7 2209.71 407.505 2213.27 Q409.334 2216.82 412.945 2216.82 Q416.579 2216.82 418.385 2213.27 Q420.214 2209.71 420.214 2202.6 Q420.214 2195.47 418.385 2191.93 Q416.579 2188.37 412.945 2188.37 M412.945 2184.66 Q418.755 2184.66 421.811 2189.27 Q424.89 2193.85 424.89 2202.6 Q424.89 2211.33 421.811 2215.94 Q418.755 2220.52 412.945 2220.52 Q407.135 2220.52 404.056 2215.94 Q401.001 2211.33 401.001 2202.6 Q401.001 2193.85 404.056 2189.27 Q407.135 2184.66 412.945 2184.66 Z\" fill=\"#000000\" fill-rule=\"nonzero\" fill-opacity=\"1\" /><path clip-path=\"url(#clip980)\" d=\"M433.107 2213.97 L437.991 2213.97 L437.991 2219.85 L433.107 2219.85 L433.107 2213.97 Z\" fill=\"#000000\" fill-rule=\"nonzero\" fill-opacity=\"1\" /><path clip-path=\"url(#clip980)\" d=\"M458.176 2188.37 Q454.565 2188.37 452.737 2191.93 Q450.931 2195.47 450.931 2202.6 Q450.931 2209.71 452.737 2213.27 Q454.565 2216.82 458.176 2216.82 Q461.811 2216.82 463.616 2213.27 Q465.445 2209.71 465.445 2202.6 Q465.445 2195.47 463.616 2191.93 Q461.811 2188.37 458.176 2188.37 M458.176 2184.66 Q463.987 2184.66 467.042 2189.27 Q470.121 2193.85 470.121 2202.6 Q470.121 2211.33 467.042 2215.94 Q463.987 2220.52 458.176 2220.52 Q452.366 2220.52 449.288 2215.94 Q446.232 2211.33 446.232 2202.6 Q446.232 2193.85 449.288 2189.27 Q452.366 2184.66 458.176 2184.66 Z\" fill=\"#000000\" fill-rule=\"nonzero\" fill-opacity=\"1\" /><path clip-path=\"url(#clip980)\" d=\"M488.338 2188.37 Q484.727 2188.37 482.899 2191.93 Q481.093 2195.47 481.093 2202.6 Q481.093 2209.71 482.899 2213.27 Q484.727 2216.82 488.338 2216.82 Q491.973 2216.82 493.778 2213.27 Q495.607 2209.71 495.607 2202.6 Q495.607 2195.47 493.778 2191.93 Q491.973 2188.37 488.338 2188.37 M488.338 2184.66 Q494.148 2184.66 497.204 2189.27 Q500.283 2193.85 500.283 2202.6 Q500.283 2211.33 497.204 2215.94 Q494.148 2220.52 488.338 2220.52 Q482.528 2220.52 479.449 2215.94 Q476.394 2211.33 476.394 2202.6 Q476.394 2193.85 479.449 2189.27 Q482.528 2184.66 488.338 2184.66 Z\" fill=\"#000000\" fill-rule=\"nonzero\" fill-opacity=\"1\" /><path clip-path=\"url(#clip980)\" d=\"M519.079 2200.7 Q515.931 2200.7 514.079 2202.86 Q512.25 2205.01 512.25 2208.76 Q512.25 2212.49 514.079 2214.66 Q515.931 2216.82 519.079 2216.82 Q522.227 2216.82 524.056 2214.66 Q525.908 2212.49 525.908 2208.76 Q525.908 2205.01 524.056 2202.86 Q522.227 2200.7 519.079 2200.7 M528.361 2186.05 L528.361 2190.31 Q526.602 2189.48 524.796 2189.04 Q523.014 2188.6 521.255 2188.6 Q516.625 2188.6 514.172 2191.72 Q511.741 2194.85 511.394 2201.17 Q512.759 2199.15 514.82 2198.09 Q516.88 2197 519.357 2197 Q524.565 2197 527.574 2200.17 Q530.607 2203.32 530.607 2208.76 Q530.607 2214.08 527.458 2217.3 Q524.31 2220.52 519.079 2220.52 Q513.084 2220.52 509.912 2215.94 Q506.741 2211.33 506.741 2202.6 Q506.741 2194.41 510.63 2189.55 Q514.519 2184.66 521.07 2184.66 Q522.829 2184.66 524.611 2185.01 Q526.417 2185.36 528.361 2186.05 Z\" fill=\"#000000\" fill-rule=\"nonzero\" fill-opacity=\"1\" /><path clip-path=\"url(#clip980)\" d=\"M637.926 2188.37 Q634.315 2188.37 632.486 2191.93 Q630.681 2195.47 630.681 2202.6 Q630.681 2209.71 632.486 2213.27 Q634.315 2216.82 637.926 2216.82 Q641.561 2216.82 643.366 2213.27 Q645.195 2209.71 645.195 2202.6 Q645.195 2195.47 643.366 2191.93 Q641.561 2188.37 637.926 2188.37 M637.926 2184.66 Q643.736 2184.66 646.792 2189.27 Q649.871 2193.85 649.871 2202.6 Q649.871 2211.33 646.792 2215.94 Q643.736 2220.52 637.926 2220.52 Q632.116 2220.52 629.037 2215.94 Q625.982 2211.33 625.982 2202.6 Q625.982 2193.85 629.037 2189.27 Q632.116 2184.66 637.926 2184.66 Z\" fill=\"#000000\" fill-rule=\"nonzero\" fill-opacity=\"1\" /><path clip-path=\"url(#clip980)\" d=\"M658.088 2213.97 L662.972 2213.97 L662.972 2219.85 L658.088 2219.85 L658.088 2213.97 Z\" fill=\"#000000\" fill-rule=\"nonzero\" fill-opacity=\"1\" /><path clip-path=\"url(#clip980)\" d=\"M683.158 2188.37 Q679.546 2188.37 677.718 2191.93 Q675.912 2195.47 675.912 2202.6 Q675.912 2209.71 677.718 2213.27 Q679.546 2216.82 683.158 2216.82 Q686.792 2216.82 688.597 2213.27 Q690.426 2209.71 690.426 2202.6 Q690.426 2195.47 688.597 2191.93 Q686.792 2188.37 683.158 2188.37 M683.158 2184.66 Q688.968 2184.66 692.023 2189.27 Q695.102 2193.85 695.102 2202.6 Q695.102 2211.33 692.023 2215.94 Q688.968 2220.52 683.158 2220.52 Q677.347 2220.52 674.269 2215.94 Q671.213 2211.33 671.213 2202.6 Q671.213 2193.85 674.269 2189.27 Q677.347 2184.66 683.158 2184.66 Z\" fill=\"#000000\" fill-rule=\"nonzero\" fill-opacity=\"1\" /><path clip-path=\"url(#clip980)\" d=\"M713.319 2188.37 Q709.708 2188.37 707.88 2191.93 Q706.074 2195.47 706.074 2202.6 Q706.074 2209.71 707.88 2213.27 Q709.708 2216.82 713.319 2216.82 Q716.954 2216.82 718.759 2213.27 Q720.588 2209.71 720.588 2202.6 Q720.588 2195.47 718.759 2191.93 Q716.954 2188.37 713.319 2188.37 M713.319 2184.66 Q719.13 2184.66 722.185 2189.27 Q725.264 2193.85 725.264 2202.6 Q725.264 2211.33 722.185 2215.94 Q719.13 2220.52 713.319 2220.52 Q707.509 2220.52 704.431 2215.94 Q701.375 2211.33 701.375 2202.6 Q701.375 2193.85 704.431 2189.27 Q707.509 2184.66 713.319 2184.66 Z\" fill=\"#000000\" fill-rule=\"nonzero\" fill-opacity=\"1\" /><path clip-path=\"url(#clip980)\" d=\"M743.481 2203.44 Q740.148 2203.44 738.227 2205.22 Q736.329 2207 736.329 2210.13 Q736.329 2213.25 738.227 2215.03 Q740.148 2216.82 743.481 2216.82 Q746.815 2216.82 748.736 2215.03 Q750.657 2213.23 750.657 2210.13 Q750.657 2207 748.736 2205.22 Q746.838 2203.44 743.481 2203.44 M738.805 2201.45 Q735.796 2200.7 734.106 2198.64 Q732.44 2196.58 732.44 2193.62 Q732.44 2189.48 735.379 2187.07 Q738.342 2184.66 743.481 2184.66 Q748.643 2184.66 751.583 2187.07 Q754.523 2189.48 754.523 2193.62 Q754.523 2196.58 752.833 2198.64 Q751.166 2200.7 748.18 2201.45 Q751.56 2202.23 753.435 2204.52 Q755.333 2206.82 755.333 2210.13 Q755.333 2215.15 752.254 2217.83 Q749.199 2220.52 743.481 2220.52 Q737.764 2220.52 734.685 2217.83 Q731.629 2215.15 731.629 2210.13 Q731.629 2206.82 733.528 2204.52 Q735.426 2202.23 738.805 2201.45 M737.092 2194.06 Q737.092 2196.75 738.759 2198.25 Q740.449 2199.76 743.481 2199.76 Q746.491 2199.76 748.18 2198.25 Q749.893 2196.75 749.893 2194.06 Q749.893 2191.38 748.18 2189.87 Q746.491 2188.37 743.481 2188.37 Q740.449 2188.37 738.759 2189.87 Q737.092 2191.38 737.092 2194.06 Z\" fill=\"#000000\" fill-rule=\"nonzero\" fill-opacity=\"1\" /><path clip-path=\"url(#clip980)\" d=\"M862.734 2188.37 Q859.123 2188.37 857.294 2191.93 Q855.488 2195.47 855.488 2202.6 Q855.488 2209.71 857.294 2213.27 Q859.123 2216.82 862.734 2216.82 Q866.368 2216.82 868.174 2213.27 Q870.002 2209.71 870.002 2202.6 Q870.002 2195.47 868.174 2191.93 Q866.368 2188.37 862.734 2188.37 M862.734 2184.66 Q868.544 2184.66 871.599 2189.27 Q874.678 2193.85 874.678 2202.6 Q874.678 2211.33 871.599 2215.94 Q868.544 2220.52 862.734 2220.52 Q856.924 2220.52 853.845 2215.94 Q850.789 2211.33 850.789 2202.6 Q850.789 2193.85 853.845 2189.27 Q856.924 2184.66 862.734 2184.66 Z\" fill=\"#000000\" fill-rule=\"nonzero\" fill-opacity=\"1\" /><path clip-path=\"url(#clip980)\" d=\"M882.896 2213.97 L887.78 2213.97 L887.78 2219.85 L882.896 2219.85 L882.896 2213.97 Z\" fill=\"#000000\" fill-rule=\"nonzero\" fill-opacity=\"1\" /><path clip-path=\"url(#clip980)\" d=\"M907.965 2188.37 Q904.354 2188.37 902.525 2191.93 Q900.72 2195.47 900.72 2202.6 Q900.72 2209.71 902.525 2213.27 Q904.354 2216.82 907.965 2216.82 Q911.599 2216.82 913.405 2213.27 Q915.233 2209.71 915.233 2202.6 Q915.233 2195.47 913.405 2191.93 Q911.599 2188.37 907.965 2188.37 M907.965 2184.66 Q913.775 2184.66 916.831 2189.27 Q919.909 2193.85 919.909 2202.6 Q919.909 2211.33 916.831 2215.94 Q913.775 2220.52 907.965 2220.52 Q902.155 2220.52 899.076 2215.94 Q896.021 2211.33 896.021 2202.6 Q896.021 2193.85 899.076 2189.27 Q902.155 2184.66 907.965 2184.66 Z\" fill=\"#000000\" fill-rule=\"nonzero\" fill-opacity=\"1\" /><path clip-path=\"url(#clip980)\" d=\"M928.937 2215.91 L936.576 2215.91 L936.576 2189.55 L928.266 2191.21 L928.266 2186.95 L936.53 2185.29 L941.206 2185.29 L941.206 2215.91 L948.844 2215.91 L948.844 2219.85 L928.937 2219.85 L928.937 2215.91 Z\" fill=\"#000000\" fill-rule=\"nonzero\" fill-opacity=\"1\" /><path clip-path=\"url(#clip980)\" d=\"M968.289 2188.37 Q964.678 2188.37 962.849 2191.93 Q961.043 2195.47 961.043 2202.6 Q961.043 2209.71 962.849 2213.27 Q964.678 2216.82 968.289 2216.82 Q971.923 2216.82 973.729 2213.27 Q975.557 2209.71 975.557 2202.6 Q975.557 2195.47 973.729 2191.93 Q971.923 2188.37 968.289 2188.37 M968.289 2184.66 Q974.099 2184.66 977.154 2189.27 Q980.233 2193.85 980.233 2202.6 Q980.233 2211.33 977.154 2215.94 Q974.099 2220.52 968.289 2220.52 Q962.479 2220.52 959.4 2215.94 Q956.344 2211.33 956.344 2202.6 Q956.344 2193.85 959.4 2189.27 Q962.479 2184.66 968.289 2184.66 Z\" fill=\"#000000\" fill-rule=\"nonzero\" fill-opacity=\"1\" /><path clip-path=\"url(#clip980)\" d=\"M1088.39 2188.37 Q1084.78 2188.37 1082.95 2191.93 Q1081.14 2195.47 1081.14 2202.6 Q1081.14 2209.71 1082.95 2213.27 Q1084.78 2216.82 1088.39 2216.82 Q1092.02 2216.82 1093.83 2213.27 Q1095.65 2209.71 1095.65 2202.6 Q1095.65 2195.47 1093.83 2191.93 Q1092.02 2188.37 1088.39 2188.37 M1088.39 2184.66 Q1094.2 2184.66 1097.25 2189.27 Q1100.33 2193.85 1100.33 2202.6 Q1100.33 2211.33 1097.25 2215.94 Q1094.2 2220.52 1088.39 2220.52 Q1082.58 2220.52 1079.5 2215.94 Q1076.44 2211.33 1076.44 2202.6 Q1076.44 2193.85 1079.5 2189.27 Q1082.58 2184.66 1088.39 2184.66 Z\" fill=\"#000000\" fill-rule=\"nonzero\" fill-opacity=\"1\" /><path clip-path=\"url(#clip980)\" d=\"M1108.55 2213.97 L1113.43 2213.97 L1113.43 2219.85 L1108.55 2219.85 L1108.55 2213.97 Z\" fill=\"#000000\" fill-rule=\"nonzero\" fill-opacity=\"1\" /><path clip-path=\"url(#clip980)\" d=\"M1133.62 2188.37 Q1130.01 2188.37 1128.18 2191.93 Q1126.37 2195.47 1126.37 2202.6 Q1126.37 2209.71 1128.18 2213.27 Q1130.01 2216.82 1133.62 2216.82 Q1137.25 2216.82 1139.06 2213.27 Q1140.89 2209.71 1140.89 2202.6 Q1140.89 2195.47 1139.06 2191.93 Q1137.25 2188.37 1133.62 2188.37 M1133.62 2184.66 Q1139.43 2184.66 1142.48 2189.27 Q1145.56 2193.85 1145.56 2202.6 Q1145.56 2211.33 1142.48 2215.94 Q1139.43 2220.52 1133.62 2220.52 Q1127.81 2220.52 1124.73 2215.94 Q1121.67 2211.33 1121.67 2202.6 Q1121.67 2193.85 1124.73 2189.27 Q1127.81 2184.66 1133.62 2184.66 Z\" fill=\"#000000\" fill-rule=\"nonzero\" fill-opacity=\"1\" /><path clip-path=\"url(#clip980)\" d=\"M1154.59 2215.91 L1162.23 2215.91 L1162.23 2189.55 L1153.92 2191.21 L1153.92 2186.95 L1162.18 2185.29 L1166.86 2185.29 L1166.86 2215.91 L1174.5 2215.91 L1174.5 2219.85 L1154.59 2219.85 L1154.59 2215.91 Z\" fill=\"#000000\" fill-rule=\"nonzero\" fill-opacity=\"1\" /><path clip-path=\"url(#clip980)\" d=\"M1187.97 2215.91 L1204.29 2215.91 L1204.29 2219.85 L1182.34 2219.85 L1182.34 2215.91 Q1185.01 2213.16 1189.59 2208.53 Q1194.2 2203.88 1195.38 2202.53 Q1197.62 2200.01 1198.5 2198.27 Q1199.4 2196.51 1199.4 2194.82 Q1199.4 2192.07 1197.46 2190.33 Q1195.54 2188.6 1192.44 2188.6 Q1190.24 2188.6 1187.78 2189.36 Q1185.35 2190.13 1182.58 2191.68 L1182.58 2186.95 Q1185.4 2185.82 1187.85 2185.24 Q1190.31 2184.66 1192.34 2184.66 Q1197.71 2184.66 1200.91 2187.35 Q1204.1 2190.03 1204.1 2194.52 Q1204.1 2196.65 1203.29 2198.57 Q1202.51 2200.47 1200.4 2203.07 Q1199.82 2203.74 1196.72 2206.95 Q1193.62 2210.15 1187.97 2215.91 Z\" fill=\"#000000\" fill-rule=\"nonzero\" fill-opacity=\"1\" /><path clip-path=\"url(#clip980)\" d=\"M1312.2 2188.37 Q1308.59 2188.37 1306.76 2191.93 Q1304.95 2195.47 1304.95 2202.6 Q1304.95 2209.71 1306.76 2213.27 Q1308.59 2216.82 1312.2 2216.82 Q1315.83 2216.82 1317.64 2213.27 Q1319.47 2209.71 1319.47 2202.6 Q1319.47 2195.47 1317.64 2191.93 Q1315.83 2188.37 1312.2 2188.37 M1312.2 2184.66 Q1318.01 2184.66 1321.06 2189.27 Q1324.14 2193.85 1324.14 2202.6 Q1324.14 2211.33 1321.06 2215.94 Q1318.01 2220.52 1312.2 2220.52 Q1306.39 2220.52 1303.31 2215.94 Q1300.25 2211.33 1300.25 2202.6 Q1300.25 2193.85 1303.31 2189.27 Q1306.39 2184.66 1312.2 2184.66 Z\" fill=\"#000000\" fill-rule=\"nonzero\" fill-opacity=\"1\" /><path clip-path=\"url(#clip980)\" d=\"M1332.36 2213.97 L1337.24 2213.97 L1337.24 2219.85 L1332.36 2219.85 L1332.36 2213.97 Z\" fill=\"#000000\" fill-rule=\"nonzero\" fill-opacity=\"1\" /><path clip-path=\"url(#clip980)\" d=\"M1357.43 2188.37 Q1353.82 2188.37 1351.99 2191.93 Q1350.18 2195.47 1350.18 2202.6 Q1350.18 2209.71 1351.99 2213.27 Q1353.82 2216.82 1357.43 2216.82 Q1361.06 2216.82 1362.87 2213.27 Q1364.7 2209.71 1364.7 2202.6 Q1364.7 2195.47 1362.87 2191.93 Q1361.06 2188.37 1357.43 2188.37 M1357.43 2184.66 Q1363.24 2184.66 1366.3 2189.27 Q1369.37 2193.85 1369.37 2202.6 Q1369.37 2211.33 1366.3 2215.94 Q1363.24 2220.52 1357.43 2220.52 Q1351.62 2220.52 1348.54 2215.94 Q1345.49 2211.33 1345.49 2202.6 Q1345.49 2193.85 1348.54 2189.27 Q1351.62 2184.66 1357.43 2184.66 Z\" fill=\"#000000\" fill-rule=\"nonzero\" fill-opacity=\"1\" /><path clip-path=\"url(#clip980)\" d=\"M1378.4 2215.91 L1386.04 2215.91 L1386.04 2189.55 L1377.73 2191.21 L1377.73 2186.95 L1385.99 2185.29 L1390.67 2185.29 L1390.67 2215.91 L1398.31 2215.91 L1398.31 2219.85 L1378.4 2219.85 L1378.4 2215.91 Z\" fill=\"#000000\" fill-rule=\"nonzero\" fill-opacity=\"1\" /><path clip-path=\"url(#clip980)\" d=\"M1420.6 2189.36 L1408.79 2207.81 L1420.6 2207.81 L1420.6 2189.36 M1419.37 2185.29 L1425.25 2185.29 L1425.25 2207.81 L1430.18 2207.81 L1430.18 2211.7 L1425.25 2211.7 L1425.25 2219.85 L1420.6 2219.85 L1420.6 2211.7 L1405 2211.7 L1405 2207.19 L1419.37 2185.29 Z\" fill=\"#000000\" fill-rule=\"nonzero\" fill-opacity=\"1\" /><path clip-path=\"url(#clip980)\" d=\"M1537.21 2188.37 Q1533.6 2188.37 1531.77 2191.93 Q1529.97 2195.47 1529.97 2202.6 Q1529.97 2209.71 1531.77 2213.27 Q1533.6 2216.82 1537.21 2216.82 Q1540.85 2216.82 1542.65 2213.27 Q1544.48 2209.71 1544.48 2202.6 Q1544.48 2195.47 1542.65 2191.93 Q1540.85 2188.37 1537.21 2188.37 M1537.21 2184.66 Q1543.02 2184.66 1546.08 2189.27 Q1549.16 2193.85 1549.16 2202.6 Q1549.16 2211.33 1546.08 2215.94 Q1543.02 2220.52 1537.21 2220.52 Q1531.4 2220.52 1528.33 2215.94 Q1525.27 2211.33 1525.27 2202.6 Q1525.27 2193.85 1528.33 2189.27 Q1531.4 2184.66 1537.21 2184.66 Z\" fill=\"#000000\" fill-rule=\"nonzero\" fill-opacity=\"1\" /><path clip-path=\"url(#clip980)\" d=\"M1557.38 2213.97 L1562.26 2213.97 L1562.26 2219.85 L1557.38 2219.85 L1557.38 2213.97 Z\" fill=\"#000000\" fill-rule=\"nonzero\" fill-opacity=\"1\" /><path clip-path=\"url(#clip980)\" d=\"M1582.45 2188.37 Q1578.83 2188.37 1577.01 2191.93 Q1575.2 2195.47 1575.2 2202.6 Q1575.2 2209.71 1577.01 2213.27 Q1578.83 2216.82 1582.45 2216.82 Q1586.08 2216.82 1587.89 2213.27 Q1589.71 2209.71 1589.71 2202.6 Q1589.71 2195.47 1587.89 2191.93 Q1586.08 2188.37 1582.45 2188.37 M1582.45 2184.66 Q1588.26 2184.66 1591.31 2189.27 Q1594.39 2193.85 1594.39 2202.6 Q1594.39 2211.33 1591.31 2215.94 Q1588.26 2220.52 1582.45 2220.52 Q1576.64 2220.52 1573.56 2215.94 Q1570.5 2211.33 1570.5 2202.6 Q1570.5 2193.85 1573.56 2189.27 Q1576.64 2184.66 1582.45 2184.66 Z\" fill=\"#000000\" fill-rule=\"nonzero\" fill-opacity=\"1\" /><path clip-path=\"url(#clip980)\" d=\"M1603.42 2215.91 L1611.06 2215.91 L1611.06 2189.55 L1602.75 2191.21 L1602.75 2186.95 L1611.01 2185.29 L1615.69 2185.29 L1615.69 2215.91 L1623.32 2215.91 L1623.32 2219.85 L1603.42 2219.85 L1603.42 2215.91 Z\" fill=\"#000000\" fill-rule=\"nonzero\" fill-opacity=\"1\" /><path clip-path=\"url(#clip980)\" d=\"M1643.35 2200.7 Q1640.2 2200.7 1638.35 2202.86 Q1636.52 2205.01 1636.52 2208.76 Q1636.52 2212.49 1638.35 2214.66 Q1640.2 2216.82 1643.35 2216.82 Q1646.5 2216.82 1648.32 2214.66 Q1650.18 2212.49 1650.18 2208.76 Q1650.18 2205.01 1648.32 2202.86 Q1646.5 2200.7 1643.35 2200.7 M1652.63 2186.05 L1652.63 2190.31 Q1650.87 2189.48 1649.07 2189.04 Q1647.28 2188.6 1645.52 2188.6 Q1640.89 2188.6 1638.44 2191.72 Q1636.01 2194.85 1635.66 2201.17 Q1637.03 2199.15 1639.09 2198.09 Q1641.15 2197 1643.63 2197 Q1648.83 2197 1651.84 2200.17 Q1654.88 2203.32 1654.88 2208.76 Q1654.88 2214.08 1651.73 2217.3 Q1648.58 2220.52 1643.35 2220.52 Q1637.35 2220.52 1634.18 2215.94 Q1631.01 2211.33 1631.01 2202.6 Q1631.01 2194.41 1634.9 2189.55 Q1638.79 2184.66 1645.34 2184.66 Q1647.1 2184.66 1648.88 2185.01 Q1650.69 2185.36 1652.63 2186.05 Z\" fill=\"#000000\" fill-rule=\"nonzero\" fill-opacity=\"1\" /><path clip-path=\"url(#clip980)\" d=\"M1762.2 2188.37 Q1758.58 2188.37 1756.76 2191.93 Q1754.95 2195.47 1754.95 2202.6 Q1754.95 2209.71 1756.76 2213.27 Q1758.58 2216.82 1762.2 2216.82 Q1765.83 2216.82 1767.63 2213.27 Q1769.46 2209.71 1769.46 2202.6 Q1769.46 2195.47 1767.63 2191.93 Q1765.83 2188.37 1762.2 2188.37 M1762.2 2184.66 Q1768.01 2184.66 1771.06 2189.27 Q1774.14 2193.85 1774.14 2202.6 Q1774.14 2211.33 1771.06 2215.94 Q1768.01 2220.52 1762.2 2220.52 Q1756.38 2220.52 1753.31 2215.94 Q1750.25 2211.33 1750.25 2202.6 Q1750.25 2193.85 1753.31 2189.27 Q1756.38 2184.66 1762.2 2184.66 Z\" fill=\"#000000\" fill-rule=\"nonzero\" fill-opacity=\"1\" /><path clip-path=\"url(#clip980)\" d=\"M1782.36 2213.97 L1787.24 2213.97 L1787.24 2219.85 L1782.36 2219.85 L1782.36 2213.97 Z\" fill=\"#000000\" fill-rule=\"nonzero\" fill-opacity=\"1\" /><path clip-path=\"url(#clip980)\" d=\"M1807.43 2188.37 Q1803.82 2188.37 1801.99 2191.93 Q1800.18 2195.47 1800.18 2202.6 Q1800.18 2209.71 1801.99 2213.27 Q1803.82 2216.82 1807.43 2216.82 Q1811.06 2216.82 1812.87 2213.27 Q1814.69 2209.71 1814.69 2202.6 Q1814.69 2195.47 1812.87 2191.93 Q1811.06 2188.37 1807.43 2188.37 M1807.43 2184.66 Q1813.24 2184.66 1816.29 2189.27 Q1819.37 2193.85 1819.37 2202.6 Q1819.37 2211.33 1816.29 2215.94 Q1813.24 2220.52 1807.43 2220.52 Q1801.62 2220.52 1798.54 2215.94 Q1795.48 2211.33 1795.48 2202.6 Q1795.48 2193.85 1798.54 2189.27 Q1801.62 2184.66 1807.43 2184.66 Z\" fill=\"#000000\" fill-rule=\"nonzero\" fill-opacity=\"1\" /><path clip-path=\"url(#clip980)\" d=\"M1828.4 2215.91 L1836.04 2215.91 L1836.04 2189.55 L1827.73 2191.21 L1827.73 2186.95 L1835.99 2185.29 L1840.67 2185.29 L1840.67 2215.91 L1848.31 2215.91 L1848.31 2219.85 L1828.4 2219.85 L1828.4 2215.91 Z\" fill=\"#000000\" fill-rule=\"nonzero\" fill-opacity=\"1\" /><path clip-path=\"url(#clip980)\" d=\"M1867.75 2203.44 Q1864.42 2203.44 1862.5 2205.22 Q1860.6 2207 1860.6 2210.13 Q1860.6 2213.25 1862.5 2215.03 Q1864.42 2216.82 1867.75 2216.82 Q1871.08 2216.82 1873 2215.03 Q1874.93 2213.23 1874.93 2210.13 Q1874.93 2207 1873 2205.22 Q1871.11 2203.44 1867.75 2203.44 M1863.07 2201.45 Q1860.06 2200.7 1858.38 2198.64 Q1856.71 2196.58 1856.71 2193.62 Q1856.71 2189.48 1859.65 2187.07 Q1862.61 2184.66 1867.75 2184.66 Q1872.91 2184.66 1875.85 2187.07 Q1878.79 2189.48 1878.79 2193.62 Q1878.79 2196.58 1877.1 2198.64 Q1875.44 2200.7 1872.45 2201.45 Q1875.83 2202.23 1877.7 2204.52 Q1879.6 2206.82 1879.6 2210.13 Q1879.6 2215.15 1876.52 2217.83 Q1873.47 2220.52 1867.75 2220.52 Q1862.03 2220.52 1858.95 2217.83 Q1855.9 2215.15 1855.9 2210.13 Q1855.9 2206.82 1857.8 2204.52 Q1859.69 2202.23 1863.07 2201.45 M1861.36 2194.06 Q1861.36 2196.75 1863.03 2198.25 Q1864.72 2199.76 1867.75 2199.76 Q1870.76 2199.76 1872.45 2198.25 Q1874.16 2196.75 1874.16 2194.06 Q1874.16 2191.38 1872.45 2189.87 Q1870.76 2188.37 1867.75 2188.37 Q1864.72 2188.37 1863.03 2189.87 Q1861.36 2191.38 1861.36 2194.06 Z\" fill=\"#000000\" fill-rule=\"nonzero\" fill-opacity=\"1\" /><path clip-path=\"url(#clip980)\" d=\"M1101.87 2264.65 Q1101.87 2264.9 1100.61 2267.16 Q1098.52 2271.31 1095.85 2277.66 Q1093.18 2284 1091.66 2288.7 Q1091.34 2289.83 1091.11 2291.28 Q1090.53 2295.73 1088.67 2302.62 Q1088.02 2304.78 1087.6 2305.68 Q1087.18 2306.58 1086.57 2306.58 Q1085.7 2306.58 1085.7 2305.39 Q1085.7 2304.2 1086.8 2299.75 Q1087.93 2295.31 1089.15 2291.22 Q1089.92 2288.96 1089.92 2284.74 Q1089.92 2283.39 1089.86 2282.17 Q1089.79 2280.94 1089.54 2279.17 Q1089.28 2277.4 1088.86 2275.95 Q1088.44 2274.5 1087.64 2272.99 Q1086.83 2271.44 1085.74 2270.41 Q1084.64 2269.35 1082.97 2268.67 Q1081.32 2268 1079.26 2268 Q1078.75 2268 1078.1 2268.06 Q1077.49 2268.09 1076.01 2268.51 Q1074.56 2268.93 1073.34 2269.67 Q1072.11 2270.38 1070.79 2271.96 Q1069.47 2273.54 1068.76 2275.66 L1068.51 2275.98 Q1068.09 2275.98 1067.86 2275.98 Q1067.67 2275.95 1067.44 2275.79 Q1067.25 2275.63 1067.25 2275.34 Q1067.25 2274.66 1067.76 2273.31 Q1068.31 2271.96 1069.41 2270.22 Q1070.53 2268.48 1071.98 2266.93 Q1073.47 2265.39 1075.62 2264.33 Q1077.78 2263.26 1080.1 2263.26 Q1086.06 2263.26 1088.89 2270.51 Q1091.37 2276.66 1091.6 2283.97 Q1096.75 2270.99 1100.29 2264.45 Q1100.49 2263.97 1101.07 2263.97 Q1101.87 2264 1101.87 2264.65 Z\" fill=\"#000000\" fill-rule=\"nonzero\" fill-opacity=\"1\" /><polyline clip-path=\"url(#clip982)\" style=\"stroke:#000000; stroke-linecap:round; stroke-linejoin:round; stroke-width:2; stroke-opacity:0.1; fill:none\" points=\"309.53,1890.14 1858.77,1890.14 \"/>\n",
       "<polyline clip-path=\"url(#clip982)\" style=\"stroke:#000000; stroke-linecap:round; stroke-linejoin:round; stroke-width:2; stroke-opacity:0.1; fill:none\" points=\"309.53,1463.97 1858.77,1463.97 \"/>\n",
       "<polyline clip-path=\"url(#clip982)\" style=\"stroke:#000000; stroke-linecap:round; stroke-linejoin:round; stroke-width:2; stroke-opacity:0.1; fill:none\" points=\"309.53,1037.8 1858.77,1037.8 \"/>\n",
       "<polyline clip-path=\"url(#clip982)\" style=\"stroke:#000000; stroke-linecap:round; stroke-linejoin:round; stroke-width:2; stroke-opacity:0.1; fill:none\" points=\"309.53,611.631 1858.77,611.631 \"/>\n",
       "<polyline clip-path=\"url(#clip982)\" style=\"stroke:#000000; stroke-linecap:round; stroke-linejoin:round; stroke-width:2; stroke-opacity:0.1; fill:none\" points=\"309.53,185.46 1858.77,185.46 \"/>\n",
       "<polyline clip-path=\"url(#clip980)\" style=\"stroke:#000000; stroke-linecap:round; stroke-linejoin:round; stroke-width:4; stroke-opacity:1; fill:none\" points=\"309.53,2144.65 309.53,125.984 \"/>\n",
       "<polyline clip-path=\"url(#clip980)\" style=\"stroke:#000000; stroke-linecap:round; stroke-linejoin:round; stroke-width:4; stroke-opacity:1; fill:none\" points=\"309.53,1890.14 328.428,1890.14 \"/>\n",
       "<polyline clip-path=\"url(#clip980)\" style=\"stroke:#000000; stroke-linecap:round; stroke-linejoin:round; stroke-width:4; stroke-opacity:1; fill:none\" points=\"309.53,1463.97 328.428,1463.97 \"/>\n",
       "<polyline clip-path=\"url(#clip980)\" style=\"stroke:#000000; stroke-linecap:round; stroke-linejoin:round; stroke-width:4; stroke-opacity:1; fill:none\" points=\"309.53,1037.8 328.428,1037.8 \"/>\n",
       "<polyline clip-path=\"url(#clip980)\" style=\"stroke:#000000; stroke-linecap:round; stroke-linejoin:round; stroke-width:4; stroke-opacity:1; fill:none\" points=\"309.53,611.631 328.428,611.631 \"/>\n",
       "<polyline clip-path=\"url(#clip980)\" style=\"stroke:#000000; stroke-linecap:round; stroke-linejoin:round; stroke-width:4; stroke-opacity:1; fill:none\" points=\"309.53,185.46 328.428,185.46 \"/>\n",
       "<path clip-path=\"url(#clip980)\" d=\"M192.193 1875.94 Q188.582 1875.94 186.753 1879.51 Q184.947 1883.05 184.947 1890.18 Q184.947 1897.28 186.753 1900.85 Q188.582 1904.39 192.193 1904.39 Q195.827 1904.39 197.632 1900.85 Q199.461 1897.28 199.461 1890.18 Q199.461 1883.05 197.632 1879.51 Q195.827 1875.94 192.193 1875.94 M192.193 1872.24 Q198.003 1872.24 201.058 1876.84 Q204.137 1881.43 204.137 1890.18 Q204.137 1898.9 201.058 1903.51 Q198.003 1908.09 192.193 1908.09 Q186.383 1908.09 183.304 1903.51 Q180.248 1898.9 180.248 1890.18 Q180.248 1881.43 183.304 1876.84 Q186.383 1872.24 192.193 1872.24 Z\" fill=\"#000000\" fill-rule=\"nonzero\" fill-opacity=\"1\" /><path clip-path=\"url(#clip980)\" d=\"M212.355 1901.54 L217.239 1901.54 L217.239 1907.42 L212.355 1907.42 L212.355 1901.54 Z\" fill=\"#000000\" fill-rule=\"nonzero\" fill-opacity=\"1\" /><path clip-path=\"url(#clip980)\" d=\"M238.003 1888.28 Q234.855 1888.28 233.003 1890.43 Q231.174 1892.58 231.174 1896.33 Q231.174 1900.06 233.003 1902.24 Q234.855 1904.39 238.003 1904.39 Q241.151 1904.39 242.979 1902.24 Q244.831 1900.06 244.831 1896.33 Q244.831 1892.58 242.979 1890.43 Q241.151 1888.28 238.003 1888.28 M247.285 1873.63 L247.285 1877.88 Q245.526 1877.05 243.72 1876.61 Q241.938 1876.17 240.179 1876.17 Q235.549 1876.17 233.095 1879.3 Q230.665 1882.42 230.317 1888.74 Q231.683 1886.73 233.743 1885.66 Q235.804 1884.57 238.28 1884.57 Q243.489 1884.57 246.498 1887.75 Q249.53 1890.89 249.53 1896.33 Q249.53 1901.66 246.382 1904.88 Q243.234 1908.09 238.003 1908.09 Q232.007 1908.09 228.836 1903.51 Q225.665 1898.9 225.665 1890.18 Q225.665 1881.98 229.554 1877.12 Q233.442 1872.24 239.993 1872.24 Q241.753 1872.24 243.535 1872.58 Q245.341 1872.93 247.285 1873.63 Z\" fill=\"#000000\" fill-rule=\"nonzero\" fill-opacity=\"1\" /><path clip-path=\"url(#clip980)\" d=\"M193.258 1449.77 Q189.646 1449.77 187.818 1453.33 Q186.012 1456.88 186.012 1464.01 Q186.012 1471.11 187.818 1474.68 Q189.646 1478.22 193.258 1478.22 Q196.892 1478.22 198.697 1474.68 Q200.526 1471.11 200.526 1464.01 Q200.526 1456.88 198.697 1453.33 Q196.892 1449.77 193.258 1449.77 M193.258 1446.07 Q199.068 1446.07 202.123 1450.67 Q205.202 1455.26 205.202 1464.01 Q205.202 1472.73 202.123 1477.34 Q199.068 1481.92 193.258 1481.92 Q187.447 1481.92 184.369 1477.34 Q181.313 1472.73 181.313 1464.01 Q181.313 1455.26 184.369 1450.67 Q187.447 1446.07 193.258 1446.07 Z\" fill=\"#000000\" fill-rule=\"nonzero\" fill-opacity=\"1\" /><path clip-path=\"url(#clip980)\" d=\"M213.419 1475.37 L218.304 1475.37 L218.304 1481.25 L213.419 1481.25 L213.419 1475.37 Z\" fill=\"#000000\" fill-rule=\"nonzero\" fill-opacity=\"1\" /><path clip-path=\"url(#clip980)\" d=\"M227.308 1446.69 L249.53 1446.69 L249.53 1448.68 L236.984 1481.25 L232.1 1481.25 L243.905 1450.63 L227.308 1450.63 L227.308 1446.69 Z\" fill=\"#000000\" fill-rule=\"nonzero\" fill-opacity=\"1\" /><path clip-path=\"url(#clip980)\" d=\"M192.447 1023.6 Q188.836 1023.6 187.008 1027.16 Q185.202 1030.71 185.202 1037.84 Q185.202 1044.94 187.008 1048.51 Q188.836 1052.05 192.447 1052.05 Q196.082 1052.05 197.887 1048.51 Q199.716 1044.94 199.716 1037.84 Q199.716 1030.71 197.887 1027.16 Q196.082 1023.6 192.447 1023.6 M192.447 1019.9 Q198.257 1019.9 201.313 1024.5 Q204.392 1029.09 204.392 1037.84 Q204.392 1046.56 201.313 1051.17 Q198.257 1055.75 192.447 1055.75 Q186.637 1055.75 183.558 1051.17 Q180.503 1046.56 180.503 1037.84 Q180.503 1029.09 183.558 1024.5 Q186.637 1019.9 192.447 1019.9 Z\" fill=\"#000000\" fill-rule=\"nonzero\" fill-opacity=\"1\" /><path clip-path=\"url(#clip980)\" d=\"M212.609 1049.2 L217.493 1049.2 L217.493 1055.08 L212.609 1055.08 L212.609 1049.2 Z\" fill=\"#000000\" fill-rule=\"nonzero\" fill-opacity=\"1\" /><path clip-path=\"url(#clip980)\" d=\"M237.679 1038.67 Q234.345 1038.67 232.424 1040.45 Q230.526 1042.23 230.526 1045.36 Q230.526 1048.48 232.424 1050.27 Q234.345 1052.05 237.679 1052.05 Q241.012 1052.05 242.933 1050.27 Q244.854 1048.46 244.854 1045.36 Q244.854 1042.23 242.933 1040.45 Q241.035 1038.67 237.679 1038.67 M233.003 1036.68 Q229.993 1035.94 228.304 1033.88 Q226.637 1031.82 226.637 1028.85 Q226.637 1024.71 229.577 1022.3 Q232.54 1019.9 237.679 1019.9 Q242.841 1019.9 245.78 1022.3 Q248.72 1024.71 248.72 1028.85 Q248.72 1031.82 247.03 1033.88 Q245.364 1035.94 242.378 1036.68 Q245.757 1037.47 247.632 1039.76 Q249.53 1042.05 249.53 1045.36 Q249.53 1050.38 246.452 1053.07 Q243.396 1055.75 237.679 1055.75 Q231.961 1055.75 228.882 1053.07 Q225.827 1050.38 225.827 1045.36 Q225.827 1042.05 227.725 1039.76 Q229.623 1037.47 233.003 1036.68 M231.29 1029.29 Q231.29 1031.98 232.956 1033.48 Q234.646 1034.99 237.679 1034.99 Q240.688 1034.99 242.378 1033.48 Q244.091 1031.98 244.091 1029.29 Q244.091 1026.61 242.378 1025.1 Q240.688 1023.6 237.679 1023.6 Q234.646 1023.6 232.956 1025.1 Q231.29 1026.61 231.29 1029.29 Z\" fill=\"#000000\" fill-rule=\"nonzero\" fill-opacity=\"1\" /><path clip-path=\"url(#clip980)\" d=\"M192.54 597.429 Q188.929 597.429 187.1 600.994 Q185.295 604.536 185.295 611.665 Q185.295 618.772 187.1 622.337 Q188.929 625.878 192.54 625.878 Q196.174 625.878 197.98 622.337 Q199.808 618.772 199.808 611.665 Q199.808 604.536 197.98 600.994 Q196.174 597.429 192.54 597.429 M192.54 593.726 Q198.35 593.726 201.406 598.332 Q204.484 602.915 204.484 611.665 Q204.484 620.392 201.406 624.999 Q198.35 629.582 192.54 629.582 Q186.73 629.582 183.651 624.999 Q180.596 620.392 180.596 611.665 Q180.596 602.915 183.651 598.332 Q186.73 593.726 192.54 593.726 Z\" fill=\"#000000\" fill-rule=\"nonzero\" fill-opacity=\"1\" /><path clip-path=\"url(#clip980)\" d=\"M212.702 623.031 L217.586 623.031 L217.586 628.911 L212.702 628.911 L212.702 623.031 Z\" fill=\"#000000\" fill-rule=\"nonzero\" fill-opacity=\"1\" /><path clip-path=\"url(#clip980)\" d=\"M227.91 628.193 L227.91 623.934 Q229.669 624.767 231.475 625.207 Q233.28 625.647 235.017 625.647 Q239.646 625.647 242.077 622.545 Q244.53 619.42 244.878 613.077 Q243.535 615.068 241.475 616.133 Q239.415 617.198 236.915 617.198 Q231.73 617.198 228.697 614.073 Q225.688 610.925 225.688 605.485 Q225.688 600.161 228.836 596.943 Q231.984 593.726 237.216 593.726 Q243.211 593.726 246.359 598.332 Q249.53 602.915 249.53 611.665 Q249.53 619.837 245.641 624.721 Q241.776 629.582 235.225 629.582 Q233.466 629.582 231.66 629.235 Q229.855 628.887 227.91 628.193 M237.216 613.54 Q240.364 613.54 242.192 611.388 Q244.044 609.235 244.044 605.485 Q244.044 601.758 242.192 599.605 Q240.364 597.429 237.216 597.429 Q234.067 597.429 232.216 599.605 Q230.387 601.758 230.387 605.485 Q230.387 609.235 232.216 611.388 Q234.067 613.54 237.216 613.54 Z\" fill=\"#000000\" fill-rule=\"nonzero\" fill-opacity=\"1\" /><path clip-path=\"url(#clip980)\" d=\"M183.165 198.805 L190.804 198.805 L190.804 172.44 L182.494 174.106 L182.494 169.847 L190.758 168.18 L195.433 168.18 L195.433 198.805 L203.072 198.805 L203.072 202.74 L183.165 202.74 L183.165 198.805 Z\" fill=\"#000000\" fill-rule=\"nonzero\" fill-opacity=\"1\" /><path clip-path=\"url(#clip980)\" d=\"M212.517 196.861 L217.401 196.861 L217.401 202.74 L212.517 202.74 L212.517 196.861 Z\" fill=\"#000000\" fill-rule=\"nonzero\" fill-opacity=\"1\" /><path clip-path=\"url(#clip980)\" d=\"M237.586 171.259 Q233.975 171.259 232.146 174.824 Q230.341 178.365 230.341 185.495 Q230.341 192.601 232.146 196.166 Q233.975 199.708 237.586 199.708 Q241.22 199.708 243.026 196.166 Q244.854 192.601 244.854 185.495 Q244.854 178.365 243.026 174.824 Q241.22 171.259 237.586 171.259 M237.586 167.555 Q243.396 167.555 246.452 172.162 Q249.53 176.745 249.53 185.495 Q249.53 194.222 246.452 198.828 Q243.396 203.412 237.586 203.412 Q231.776 203.412 228.697 198.828 Q225.642 194.222 225.642 185.495 Q225.642 176.745 228.697 172.162 Q231.776 167.555 237.586 167.555 Z\" fill=\"#000000\" fill-rule=\"nonzero\" fill-opacity=\"1\" /><path clip-path=\"url(#clip980)\" d=\"M71.3947 1292.01 L76.9329 1292.01 Q75.6597 1294.49 75.0232 1297.16 Q74.3866 1299.84 74.3866 1302.7 Q74.3866 1307.06 75.7234 1309.26 Q77.0602 1311.42 79.7338 1311.42 Q81.7708 1311.42 82.9485 1309.86 Q84.0943 1308.3 85.1446 1303.59 L85.5902 1301.59 Q86.927 1295.35 89.3778 1292.74 Q91.7968 1290.1 96.1573 1290.1 Q101.123 1290.1 104.019 1294.04 Q106.915 1297.96 106.915 1304.83 Q106.915 1307.7 106.342 1310.82 Q105.801 1313.91 104.687 1317.34 L98.6399 1317.34 Q100.327 1314.1 101.186 1310.95 Q102.014 1307.79 102.014 1304.71 Q102.014 1300.57 100.613 1298.34 Q99.181 1296.11 96.6029 1296.11 Q94.2158 1296.11 92.9426 1297.74 Q91.6695 1299.33 90.4918 1304.77 L90.0144 1306.81 Q88.8686 1312.25 86.5133 1314.67 Q84.1261 1317.09 79.9884 1317.09 Q74.9595 1317.09 72.2222 1313.52 Q69.485 1309.96 69.485 1303.4 Q69.485 1300.16 69.9624 1297.29 Q70.4398 1294.43 71.3947 1292.01 Z\" fill=\"#000000\" fill-rule=\"nonzero\" fill-opacity=\"1\" /><path clip-path=\"url(#clip980)\" d=\"M60.2229 1274.98 L70.3444 1274.98 L70.3444 1262.92 L74.8958 1262.92 L74.8958 1274.98 L94.2476 1274.98 Q98.6081 1274.98 99.8494 1273.8 Q101.091 1272.59 101.091 1268.93 L101.091 1262.92 L105.992 1262.92 L105.992 1268.93 Q105.992 1275.71 103.478 1278.29 Q100.932 1280.87 94.2476 1280.87 L74.8958 1280.87 L74.8958 1285.16 L70.3444 1285.16 L70.3444 1280.87 L60.2229 1280.87 L60.2229 1274.98 Z\" fill=\"#000000\" fill-rule=\"nonzero\" fill-opacity=\"1\" /><path clip-path=\"url(#clip980)\" d=\"M88.0729 1239.01 Q88.0729 1246.11 89.6961 1248.85 Q91.3194 1251.59 95.2343 1251.59 Q98.3535 1251.59 100.2 1249.55 Q102.014 1247.48 102.014 1243.95 Q102.014 1239.08 98.5763 1236.15 Q95.107 1233.19 89.3778 1233.19 L88.0729 1233.19 L88.0729 1239.01 M85.6539 1227.33 L105.992 1227.33 L105.992 1233.19 L100.581 1233.19 Q103.828 1235.19 105.388 1238.19 Q106.915 1241.18 106.915 1245.51 Q106.915 1250.98 103.86 1254.23 Q100.772 1257.44 95.6162 1257.44 Q89.6006 1257.44 86.5451 1253.43 Q83.4895 1249.39 83.4895 1241.4 L83.4895 1233.19 L82.9166 1233.19 Q78.8744 1233.19 76.6782 1235.86 Q74.4502 1238.5 74.4502 1243.31 Q74.4502 1246.37 75.1823 1249.26 Q75.9144 1252.16 77.3785 1254.83 L71.9676 1254.83 Q70.7263 1251.62 70.1216 1248.59 Q69.485 1245.57 69.485 1242.71 Q69.485 1234.97 73.4954 1231.15 Q77.5058 1227.33 85.6539 1227.33 Z\" fill=\"#000000\" fill-rule=\"nonzero\" fill-opacity=\"1\" /><path clip-path=\"url(#clip980)\" d=\"M88.2002 1189.68 Q81.739 1189.68 78.0787 1192.35 Q74.3866 1194.99 74.3866 1199.64 Q74.3866 1204.29 78.0787 1206.96 Q81.739 1209.6 88.2002 1209.6 Q94.6614 1209.6 98.3535 1206.96 Q102.014 1204.29 102.014 1199.64 Q102.014 1194.99 98.3535 1192.35 Q94.6614 1189.68 88.2002 1189.68 M75.7552 1209.6 Q72.5724 1207.76 71.0446 1204.96 Q69.485 1202.12 69.485 1198.21 Q69.485 1191.72 74.6412 1187.67 Q79.7974 1183.6 88.2002 1183.6 Q96.6029 1183.6 101.759 1187.67 Q106.915 1191.72 106.915 1198.21 Q106.915 1202.12 105.388 1204.96 Q103.828 1207.76 100.645 1209.6 L105.992 1209.6 L105.992 1215.49 L56.4671 1215.49 L56.4671 1209.6 L75.7552 1209.6 Z\" fill=\"#000000\" fill-rule=\"nonzero\" fill-opacity=\"1\" /><path clip-path=\"url(#clip980)\" d=\"M100.645 1147.51 L119.551 1147.51 L119.551 1153.39 L70.3444 1153.39 L70.3444 1147.51 L75.7552 1147.51 Q72.5724 1145.66 71.0446 1142.86 Q69.485 1140.03 69.485 1136.11 Q69.485 1129.62 74.6412 1125.58 Q79.7974 1121.5 88.2002 1121.5 Q96.6029 1121.5 101.759 1125.58 Q106.915 1129.62 106.915 1136.11 Q106.915 1140.03 105.388 1142.86 Q103.828 1145.66 100.645 1147.51 M88.2002 1127.58 Q81.739 1127.58 78.0787 1130.26 Q74.3866 1132.9 74.3866 1137.54 Q74.3866 1142.19 78.0787 1144.86 Q81.739 1147.51 88.2002 1147.51 Q94.6614 1147.51 98.3535 1144.86 Q102.014 1142.19 102.014 1137.54 Q102.014 1132.9 98.3535 1130.26 Q94.6614 1127.58 88.2002 1127.58 Z\" fill=\"#000000\" fill-rule=\"nonzero\" fill-opacity=\"1\" /><path clip-path=\"url(#clip980)\" d=\"M88.0729 1095.59 Q88.0729 1102.69 89.6961 1105.43 Q91.3194 1108.17 95.2343 1108.17 Q98.3535 1108.17 100.2 1106.13 Q102.014 1104.06 102.014 1100.53 Q102.014 1095.66 98.5763 1092.73 Q95.107 1089.77 89.3778 1089.77 L88.0729 1089.77 L88.0729 1095.59 M85.6539 1083.91 L105.992 1083.91 L105.992 1089.77 L100.581 1089.77 Q103.828 1091.77 105.388 1094.77 Q106.915 1097.76 106.915 1102.09 Q106.915 1107.56 103.86 1110.81 Q100.772 1114.02 95.6162 1114.02 Q89.6006 1114.02 86.5451 1110.01 Q83.4895 1105.97 83.4895 1097.98 L83.4895 1089.77 L82.9166 1089.77 Q78.8744 1089.77 76.6782 1092.44 Q74.4502 1095.08 74.4502 1099.89 Q74.4502 1102.95 75.1823 1105.84 Q75.9144 1108.74 77.3785 1111.41 L71.9676 1111.41 Q70.7263 1108.2 70.1216 1105.17 Q69.485 1102.15 69.485 1099.29 Q69.485 1091.55 73.4954 1087.73 Q77.5058 1083.91 85.6539 1083.91 Z\" fill=\"#000000\" fill-rule=\"nonzero\" fill-opacity=\"1\" /><path clip-path=\"url(#clip980)\" d=\"M75.8189 1051.19 Q75.246 1052.18 74.9913 1053.36 Q74.7049 1054.5 74.7049 1055.9 Q74.7049 1060.87 77.9514 1063.54 Q81.1661 1066.18 87.2135 1066.18 L105.992 1066.18 L105.992 1072.07 L70.3444 1072.07 L70.3444 1066.18 L75.8825 1066.18 Q72.636 1064.34 71.0764 1061.38 Q69.485 1058.42 69.485 1054.19 Q69.485 1053.58 69.5805 1052.85 Q69.6441 1052.12 69.8033 1051.22 L75.8189 1051.19 Z\" fill=\"#000000\" fill-rule=\"nonzero\" fill-opacity=\"1\" /><path clip-path=\"url(#clip980)\" d=\"M88.0729 1028.85 Q88.0729 1035.95 89.6961 1038.68 Q91.3194 1041.42 95.2343 1041.42 Q98.3535 1041.42 100.2 1039.38 Q102.014 1037.32 102.014 1033.78 Q102.014 1028.91 98.5763 1025.98 Q95.107 1023.02 89.3778 1023.02 L88.0729 1023.02 L88.0729 1028.85 M85.6539 1017.17 L105.992 1017.17 L105.992 1023.02 L100.581 1023.02 Q103.828 1025.03 105.388 1028.02 Q106.915 1031.01 106.915 1035.34 Q106.915 1040.82 103.86 1044.06 Q100.772 1047.28 95.6162 1047.28 Q89.6006 1047.28 86.5451 1043.27 Q83.4895 1039.23 83.4895 1031.24 L83.4895 1023.02 L82.9166 1023.02 Q78.8744 1023.02 76.6782 1025.7 Q74.4502 1028.34 74.4502 1033.15 Q74.4502 1036.2 75.1823 1039.1 Q75.9144 1041.99 77.3785 1044.67 L71.9676 1044.67 Q70.7263 1041.45 70.1216 1038.43 Q69.485 1035.41 69.485 1032.54 Q69.485 1024.81 73.4954 1020.99 Q77.5058 1017.17 85.6539 1017.17 Z\" fill=\"#000000\" fill-rule=\"nonzero\" fill-opacity=\"1\" /><path clip-path=\"url(#clip980)\" d=\"M77.1875 977.351 Q73.2408 975.155 71.3629 972.099 Q69.485 969.044 69.485 964.906 Q69.485 959.336 73.3999 956.312 Q77.283 953.289 84.4762 953.289 L105.992 953.289 L105.992 959.177 L84.6672 959.177 Q79.5428 959.177 77.0602 960.991 Q74.5776 962.805 74.5776 966.529 Q74.5776 971.081 77.6013 973.723 Q80.625 976.364 85.8449 976.364 L105.992 976.364 L105.992 982.253 L84.6672 982.253 Q79.511 982.253 77.0602 984.067 Q74.5776 985.881 74.5776 989.669 Q74.5776 994.156 77.6331 996.798 Q80.6568 999.44 85.8449 999.44 L105.992 999.44 L105.992 1005.33 L70.3444 1005.33 L70.3444 999.44 L75.8825 999.44 Q72.6042 997.435 71.0446 994.634 Q69.485 991.833 69.485 987.982 Q69.485 984.099 71.4584 981.393 Q73.4317 978.656 77.1875 977.351 Z\" fill=\"#000000\" fill-rule=\"nonzero\" fill-opacity=\"1\" /><line clip-path=\"url(#clip982)\" x1=\"803.084\" y1=\"183.116\" x2=\"803.084\" y2=\"171.116\" style=\"stroke:#009af9; stroke-width:4.8; stroke-opacity:1\"/>\n",
       "<line clip-path=\"url(#clip982)\" x1=\"803.084\" y1=\"183.116\" x2=\"791.084\" y2=\"183.116\" style=\"stroke:#009af9; stroke-width:4.8; stroke-opacity:1\"/>\n",
       "<line clip-path=\"url(#clip982)\" x1=\"803.084\" y1=\"183.116\" x2=\"803.084\" y2=\"195.116\" style=\"stroke:#009af9; stroke-width:4.8; stroke-opacity:1\"/>\n",
       "<line clip-path=\"url(#clip982)\" x1=\"803.084\" y1=\"183.116\" x2=\"815.084\" y2=\"183.116\" style=\"stroke:#009af9; stroke-width:4.8; stroke-opacity:1\"/>\n",
       "<line clip-path=\"url(#clip982)\" x1=\"915.511\" y1=\"184.71\" x2=\"915.511\" y2=\"172.71\" style=\"stroke:#009af9; stroke-width:4.8; stroke-opacity:1\"/>\n",
       "<line clip-path=\"url(#clip982)\" x1=\"915.511\" y1=\"184.71\" x2=\"903.511\" y2=\"184.71\" style=\"stroke:#009af9; stroke-width:4.8; stroke-opacity:1\"/>\n",
       "<line clip-path=\"url(#clip982)\" x1=\"915.511\" y1=\"184.71\" x2=\"915.511\" y2=\"196.71\" style=\"stroke:#009af9; stroke-width:4.8; stroke-opacity:1\"/>\n",
       "<line clip-path=\"url(#clip982)\" x1=\"915.511\" y1=\"184.71\" x2=\"927.511\" y2=\"184.71\" style=\"stroke:#009af9; stroke-width:4.8; stroke-opacity:1\"/>\n",
       "<line clip-path=\"url(#clip982)\" x1=\"1027.94\" y1=\"461.406\" x2=\"1027.94\" y2=\"449.406\" style=\"stroke:#009af9; stroke-width:4.8; stroke-opacity:1\"/>\n",
       "<line clip-path=\"url(#clip982)\" x1=\"1027.94\" y1=\"461.406\" x2=\"1015.94\" y2=\"461.406\" style=\"stroke:#009af9; stroke-width:4.8; stroke-opacity:1\"/>\n",
       "<line clip-path=\"url(#clip982)\" x1=\"1027.94\" y1=\"461.406\" x2=\"1027.94\" y2=\"473.406\" style=\"stroke:#009af9; stroke-width:4.8; stroke-opacity:1\"/>\n",
       "<line clip-path=\"url(#clip982)\" x1=\"1027.94\" y1=\"461.406\" x2=\"1039.94\" y2=\"461.406\" style=\"stroke:#009af9; stroke-width:4.8; stroke-opacity:1\"/>\n",
       "<line clip-path=\"url(#clip982)\" x1=\"1140.37\" y1=\"743.496\" x2=\"1140.37\" y2=\"731.496\" style=\"stroke:#009af9; stroke-width:4.8; stroke-opacity:1\"/>\n",
       "<line clip-path=\"url(#clip982)\" x1=\"1140.37\" y1=\"743.496\" x2=\"1128.37\" y2=\"743.496\" style=\"stroke:#009af9; stroke-width:4.8; stroke-opacity:1\"/>\n",
       "<line clip-path=\"url(#clip982)\" x1=\"1140.37\" y1=\"743.496\" x2=\"1140.37\" y2=\"755.496\" style=\"stroke:#009af9; stroke-width:4.8; stroke-opacity:1\"/>\n",
       "<line clip-path=\"url(#clip982)\" x1=\"1140.37\" y1=\"743.496\" x2=\"1152.37\" y2=\"743.496\" style=\"stroke:#009af9; stroke-width:4.8; stroke-opacity:1\"/>\n",
       "<line clip-path=\"url(#clip982)\" x1=\"1252.79\" y1=\"1108.61\" x2=\"1252.79\" y2=\"1096.61\" style=\"stroke:#009af9; stroke-width:4.8; stroke-opacity:1\"/>\n",
       "<line clip-path=\"url(#clip982)\" x1=\"1252.79\" y1=\"1108.61\" x2=\"1240.79\" y2=\"1108.61\" style=\"stroke:#009af9; stroke-width:4.8; stroke-opacity:1\"/>\n",
       "<line clip-path=\"url(#clip982)\" x1=\"1252.79\" y1=\"1108.61\" x2=\"1252.79\" y2=\"1120.61\" style=\"stroke:#009af9; stroke-width:4.8; stroke-opacity:1\"/>\n",
       "<line clip-path=\"url(#clip982)\" x1=\"1252.79\" y1=\"1108.61\" x2=\"1264.79\" y2=\"1108.61\" style=\"stroke:#009af9; stroke-width:4.8; stroke-opacity:1\"/>\n",
       "<line clip-path=\"url(#clip982)\" x1=\"1365.22\" y1=\"1147.55\" x2=\"1365.22\" y2=\"1135.55\" style=\"stroke:#009af9; stroke-width:4.8; stroke-opacity:1\"/>\n",
       "<line clip-path=\"url(#clip982)\" x1=\"1365.22\" y1=\"1147.55\" x2=\"1353.22\" y2=\"1147.55\" style=\"stroke:#009af9; stroke-width:4.8; stroke-opacity:1\"/>\n",
       "<line clip-path=\"url(#clip982)\" x1=\"1365.22\" y1=\"1147.55\" x2=\"1365.22\" y2=\"1159.55\" style=\"stroke:#009af9; stroke-width:4.8; stroke-opacity:1\"/>\n",
       "<line clip-path=\"url(#clip982)\" x1=\"1365.22\" y1=\"1147.55\" x2=\"1377.22\" y2=\"1147.55\" style=\"stroke:#009af9; stroke-width:4.8; stroke-opacity:1\"/>\n",
       "<line clip-path=\"url(#clip982)\" x1=\"1477.65\" y1=\"1524.19\" x2=\"1477.65\" y2=\"1512.19\" style=\"stroke:#009af9; stroke-width:4.8; stroke-opacity:1\"/>\n",
       "<line clip-path=\"url(#clip982)\" x1=\"1477.65\" y1=\"1524.19\" x2=\"1465.65\" y2=\"1524.19\" style=\"stroke:#009af9; stroke-width:4.8; stroke-opacity:1\"/>\n",
       "<line clip-path=\"url(#clip982)\" x1=\"1477.65\" y1=\"1524.19\" x2=\"1477.65\" y2=\"1536.19\" style=\"stroke:#009af9; stroke-width:4.8; stroke-opacity:1\"/>\n",
       "<line clip-path=\"url(#clip982)\" x1=\"1477.65\" y1=\"1524.19\" x2=\"1489.65\" y2=\"1524.19\" style=\"stroke:#009af9; stroke-width:4.8; stroke-opacity:1\"/>\n",
       "<line clip-path=\"url(#clip982)\" x1=\"1590.07\" y1=\"1656.22\" x2=\"1590.07\" y2=\"1644.22\" style=\"stroke:#009af9; stroke-width:4.8; stroke-opacity:1\"/>\n",
       "<line clip-path=\"url(#clip982)\" x1=\"1590.07\" y1=\"1656.22\" x2=\"1578.07\" y2=\"1656.22\" style=\"stroke:#009af9; stroke-width:4.8; stroke-opacity:1\"/>\n",
       "<line clip-path=\"url(#clip982)\" x1=\"1590.07\" y1=\"1656.22\" x2=\"1590.07\" y2=\"1668.22\" style=\"stroke:#009af9; stroke-width:4.8; stroke-opacity:1\"/>\n",
       "<line clip-path=\"url(#clip982)\" x1=\"1590.07\" y1=\"1656.22\" x2=\"1602.07\" y2=\"1656.22\" style=\"stroke:#009af9; stroke-width:4.8; stroke-opacity:1\"/>\n",
       "<line clip-path=\"url(#clip982)\" x1=\"1702.5\" y1=\"1908.44\" x2=\"1702.5\" y2=\"1896.44\" style=\"stroke:#009af9; stroke-width:4.8; stroke-opacity:1\"/>\n",
       "<line clip-path=\"url(#clip982)\" x1=\"1702.5\" y1=\"1908.44\" x2=\"1690.5\" y2=\"1908.44\" style=\"stroke:#009af9; stroke-width:4.8; stroke-opacity:1\"/>\n",
       "<line clip-path=\"url(#clip982)\" x1=\"1702.5\" y1=\"1908.44\" x2=\"1702.5\" y2=\"1920.44\" style=\"stroke:#009af9; stroke-width:4.8; stroke-opacity:1\"/>\n",
       "<line clip-path=\"url(#clip982)\" x1=\"1702.5\" y1=\"1908.44\" x2=\"1714.5\" y2=\"1908.44\" style=\"stroke:#009af9; stroke-width:4.8; stroke-opacity:1\"/>\n",
       "<line clip-path=\"url(#clip982)\" x1=\"1814.93\" y1=\"2087.52\" x2=\"1814.93\" y2=\"2075.52\" style=\"stroke:#009af9; stroke-width:4.8; stroke-opacity:1\"/>\n",
       "<line clip-path=\"url(#clip982)\" x1=\"1814.93\" y1=\"2087.52\" x2=\"1802.93\" y2=\"2087.52\" style=\"stroke:#009af9; stroke-width:4.8; stroke-opacity:1\"/>\n",
       "<line clip-path=\"url(#clip982)\" x1=\"1814.93\" y1=\"2087.52\" x2=\"1814.93\" y2=\"2099.52\" style=\"stroke:#009af9; stroke-width:4.8; stroke-opacity:1\"/>\n",
       "<line clip-path=\"url(#clip982)\" x1=\"1814.93\" y1=\"2087.52\" x2=\"1826.93\" y2=\"2087.52\" style=\"stroke:#009af9; stroke-width:4.8; stroke-opacity:1\"/>\n",
       "<path clip-path=\"url(#clip980)\" d=\"M1520.08 296.953 L1807.13 296.953 L1807.13 193.273 L1520.08 193.273  Z\" fill=\"#ffffff\" fill-rule=\"evenodd\" fill-opacity=\"1\"/>\n",
       "<polyline clip-path=\"url(#clip980)\" style=\"stroke:#000000; stroke-linecap:round; stroke-linejoin:round; stroke-width:4; stroke-opacity:1; fill:none\" points=\"1520.08,296.953 1807.13,296.953 1807.13,193.273 1520.08,193.273 1520.08,296.953 \"/>\n",
       "<line clip-path=\"url(#clip980)\" x1=\"1588.93\" y1=\"245.113\" x2=\"1588.93\" y2=\"223.17\" style=\"stroke:#009af9; stroke-width:8.77714; stroke-opacity:1\"/>\n",
       "<line clip-path=\"url(#clip980)\" x1=\"1588.93\" y1=\"245.113\" x2=\"1566.99\" y2=\"245.113\" style=\"stroke:#009af9; stroke-width:8.77714; stroke-opacity:1\"/>\n",
       "<line clip-path=\"url(#clip980)\" x1=\"1588.93\" y1=\"245.113\" x2=\"1588.93\" y2=\"267.056\" style=\"stroke:#009af9; stroke-width:8.77714; stroke-opacity:1\"/>\n",
       "<line clip-path=\"url(#clip980)\" x1=\"1588.93\" y1=\"245.113\" x2=\"1610.88\" y2=\"245.113\" style=\"stroke:#009af9; stroke-width:8.77714; stroke-opacity:1\"/>\n",
       "<path clip-path=\"url(#clip980)\" d=\"M1676.7 249.129 Q1676.7 244.5 1674.78 241.953 Q1672.88 239.407 1669.43 239.407 Q1666.01 239.407 1664.08 241.953 Q1662.19 244.5 1662.19 249.129 Q1662.19 253.736 1664.08 256.282 Q1666.01 258.828 1669.43 258.828 Q1672.88 258.828 1674.78 256.282 Q1676.7 253.736 1676.7 249.129 M1680.96 259.175 Q1680.96 265.796 1678.02 269.013 Q1675.08 272.254 1669.02 272.254 Q1666.77 272.254 1664.78 271.907 Q1662.79 271.583 1660.91 270.888 L1660.91 266.745 Q1662.79 267.763 1664.62 268.249 Q1666.45 268.736 1668.34 268.736 Q1672.53 268.736 1674.62 266.537 Q1676.7 264.361 1676.7 259.939 L1676.7 257.833 Q1675.38 260.125 1673.32 261.259 Q1671.26 262.393 1668.39 262.393 Q1663.62 262.393 1660.71 258.759 Q1657.79 255.125 1657.79 249.129 Q1657.79 243.111 1660.71 239.476 Q1663.62 235.842 1668.39 235.842 Q1671.26 235.842 1673.32 236.977 Q1675.38 238.111 1676.7 240.402 L1676.7 236.467 L1680.96 236.467 L1680.96 259.175 Z\" fill=\"#000000\" fill-rule=\"nonzero\" fill-opacity=\"1\" /><path clip-path=\"url(#clip980)\" d=\"M1704.76 240.449 Q1704.04 240.032 1703.18 239.847 Q1702.35 239.639 1701.33 239.639 Q1697.72 239.639 1695.77 242 Q1693.85 244.338 1693.85 248.736 L1693.85 262.393 L1689.57 262.393 L1689.57 236.467 L1693.85 236.467 L1693.85 240.495 Q1695.2 238.134 1697.35 237 Q1699.5 235.842 1702.58 235.842 Q1703.02 235.842 1703.55 235.912 Q1704.08 235.958 1704.73 236.074 L1704.76 240.449 Z\" fill=\"#000000\" fill-rule=\"nonzero\" fill-opacity=\"1\" /><path clip-path=\"url(#clip980)\" d=\"M1721.01 249.361 Q1715.84 249.361 1713.85 250.541 Q1711.86 251.722 1711.86 254.569 Q1711.86 256.838 1713.34 258.18 Q1714.85 259.5 1717.42 259.5 Q1720.96 259.5 1723.09 257 Q1725.24 254.476 1725.24 250.31 L1725.24 249.361 L1721.01 249.361 M1729.5 247.601 L1729.5 262.393 L1725.24 262.393 L1725.24 258.458 Q1723.78 260.819 1721.61 261.953 Q1719.43 263.064 1716.28 263.064 Q1712.3 263.064 1709.94 260.842 Q1707.6 258.597 1707.6 254.847 Q1707.6 250.472 1710.52 248.25 Q1713.46 246.027 1719.27 246.027 L1725.24 246.027 L1725.24 245.611 Q1725.24 242.671 1723.3 241.074 Q1721.38 239.453 1717.88 239.453 Q1715.66 239.453 1713.55 239.986 Q1711.45 240.518 1709.5 241.583 L1709.5 237.648 Q1711.84 236.745 1714.04 236.305 Q1716.24 235.842 1718.32 235.842 Q1723.95 235.842 1726.72 238.759 Q1729.5 241.676 1729.5 247.601 Z\" fill=\"#000000\" fill-rule=\"nonzero\" fill-opacity=\"1\" /><path clip-path=\"url(#clip980)\" d=\"M1742.39 258.504 L1742.39 272.254 L1738.11 272.254 L1738.11 236.467 L1742.39 236.467 L1742.39 240.402 Q1743.74 238.088 1745.77 236.977 Q1747.83 235.842 1750.68 235.842 Q1755.4 235.842 1758.34 239.592 Q1761.31 243.342 1761.31 249.453 Q1761.31 255.564 1758.34 259.314 Q1755.4 263.064 1750.68 263.064 Q1747.83 263.064 1745.77 261.953 Q1743.74 260.819 1742.39 258.504 M1756.89 249.453 Q1756.89 244.754 1754.94 242.092 Q1753.02 239.407 1749.64 239.407 Q1746.26 239.407 1744.32 242.092 Q1742.39 244.754 1742.39 249.453 Q1742.39 254.152 1744.32 256.838 Q1746.26 259.5 1749.64 259.5 Q1753.02 259.5 1754.94 256.838 Q1756.89 254.152 1756.89 249.453 Z\" fill=\"#000000\" fill-rule=\"nonzero\" fill-opacity=\"1\" /><path clip-path=\"url(#clip980)\" d=\"M1789.92 246.745 L1789.92 262.393 L1785.66 262.393 L1785.66 246.884 Q1785.66 243.203 1784.22 241.375 Q1782.79 239.546 1779.92 239.546 Q1776.47 239.546 1774.48 241.745 Q1772.49 243.944 1772.49 247.74 L1772.49 262.393 L1768.2 262.393 L1768.2 226.375 L1772.49 226.375 L1772.49 240.495 Q1774.01 238.157 1776.08 237 Q1778.16 235.842 1780.87 235.842 Q1785.33 235.842 1787.63 238.62 Q1789.92 241.375 1789.92 246.745 Z\" fill=\"#000000\" fill-rule=\"nonzero\" fill-opacity=\"1\" /><path clip-path=\"url(#clip980)\" d=\"M2324.77 2144.65 L3874.02 2144.65 L3874.02 125.984 L2324.77 125.984  Z\" fill=\"#ffffff\" fill-rule=\"evenodd\" fill-opacity=\"1\"/>\n",
       "<defs>\n",
       "  <clipPath id=\"clip983\">\n",
       "    <rect x=\"2324\" y=\"125\" width=\"1550\" height=\"2020\"/>\n",
       "  </clipPath>\n",
       "</defs>\n",
       "<polyline clip-path=\"url(#clip983)\" style=\"stroke:#000000; stroke-linecap:round; stroke-linejoin:round; stroke-width:2; stroke-opacity:0.1; fill:none\" points=\"2481.05,2144.65 2481.05,125.984 \"/>\n",
       "<polyline clip-path=\"url(#clip983)\" style=\"stroke:#000000; stroke-linecap:round; stroke-linejoin:round; stroke-width:2; stroke-opacity:0.1; fill:none\" points=\"2705.9,2144.65 2705.9,125.984 \"/>\n",
       "<polyline clip-path=\"url(#clip983)\" style=\"stroke:#000000; stroke-linecap:round; stroke-linejoin:round; stroke-width:2; stroke-opacity:0.1; fill:none\" points=\"2930.75,2144.65 2930.75,125.984 \"/>\n",
       "<polyline clip-path=\"url(#clip983)\" style=\"stroke:#000000; stroke-linecap:round; stroke-linejoin:round; stroke-width:2; stroke-opacity:0.1; fill:none\" points=\"3155.61,2144.65 3155.61,125.984 \"/>\n",
       "<polyline clip-path=\"url(#clip983)\" style=\"stroke:#000000; stroke-linecap:round; stroke-linejoin:round; stroke-width:2; stroke-opacity:0.1; fill:none\" points=\"3380.46,2144.65 3380.46,125.984 \"/>\n",
       "<polyline clip-path=\"url(#clip983)\" style=\"stroke:#000000; stroke-linecap:round; stroke-linejoin:round; stroke-width:2; stroke-opacity:0.1; fill:none\" points=\"3605.32,2144.65 3605.32,125.984 \"/>\n",
       "<polyline clip-path=\"url(#clip983)\" style=\"stroke:#000000; stroke-linecap:round; stroke-linejoin:round; stroke-width:2; stroke-opacity:0.1; fill:none\" points=\"3830.17,2144.65 3830.17,125.984 \"/>\n",
       "<polyline clip-path=\"url(#clip980)\" style=\"stroke:#000000; stroke-linecap:round; stroke-linejoin:round; stroke-width:4; stroke-opacity:1; fill:none\" points=\"2324.77,2144.65 3874.02,2144.65 \"/>\n",
       "<polyline clip-path=\"url(#clip980)\" style=\"stroke:#000000; stroke-linecap:round; stroke-linejoin:round; stroke-width:4; stroke-opacity:1; fill:none\" points=\"2481.05,2144.65 2481.05,2125.75 \"/>\n",
       "<polyline clip-path=\"url(#clip980)\" style=\"stroke:#000000; stroke-linecap:round; stroke-linejoin:round; stroke-width:4; stroke-opacity:1; fill:none\" points=\"2705.9,2144.65 2705.9,2125.75 \"/>\n",
       "<polyline clip-path=\"url(#clip980)\" style=\"stroke:#000000; stroke-linecap:round; stroke-linejoin:round; stroke-width:4; stroke-opacity:1; fill:none\" points=\"2930.75,2144.65 2930.75,2125.75 \"/>\n",
       "<polyline clip-path=\"url(#clip980)\" style=\"stroke:#000000; stroke-linecap:round; stroke-linejoin:round; stroke-width:4; stroke-opacity:1; fill:none\" points=\"3155.61,2144.65 3155.61,2125.75 \"/>\n",
       "<polyline clip-path=\"url(#clip980)\" style=\"stroke:#000000; stroke-linecap:round; stroke-linejoin:round; stroke-width:4; stroke-opacity:1; fill:none\" points=\"3380.46,2144.65 3380.46,2125.75 \"/>\n",
       "<polyline clip-path=\"url(#clip980)\" style=\"stroke:#000000; stroke-linecap:round; stroke-linejoin:round; stroke-width:4; stroke-opacity:1; fill:none\" points=\"3605.32,2144.65 3605.32,2125.75 \"/>\n",
       "<polyline clip-path=\"url(#clip980)\" style=\"stroke:#000000; stroke-linecap:round; stroke-linejoin:round; stroke-width:4; stroke-opacity:1; fill:none\" points=\"3830.17,2144.65 3830.17,2125.75 \"/>\n",
       "<path clip-path=\"url(#clip980)\" d=\"M2428.19 2188.37 Q2424.58 2188.37 2422.75 2191.93 Q2420.94 2195.47 2420.94 2202.6 Q2420.94 2209.71 2422.75 2213.27 Q2424.58 2216.82 2428.19 2216.82 Q2431.82 2216.82 2433.63 2213.27 Q2435.46 2209.71 2435.46 2202.6 Q2435.46 2195.47 2433.63 2191.93 Q2431.82 2188.37 2428.19 2188.37 M2428.19 2184.66 Q2434 2184.66 2437.05 2189.27 Q2440.13 2193.85 2440.13 2202.6 Q2440.13 2211.33 2437.05 2215.94 Q2434 2220.52 2428.19 2220.52 Q2422.38 2220.52 2419.3 2215.94 Q2416.24 2211.33 2416.24 2202.6 Q2416.24 2193.85 2419.3 2189.27 Q2422.38 2184.66 2428.19 2184.66 Z\" fill=\"#000000\" fill-rule=\"nonzero\" fill-opacity=\"1\" /><path clip-path=\"url(#clip980)\" d=\"M2448.35 2213.97 L2453.23 2213.97 L2453.23 2219.85 L2448.35 2219.85 L2448.35 2213.97 Z\" fill=\"#000000\" fill-rule=\"nonzero\" fill-opacity=\"1\" /><path clip-path=\"url(#clip980)\" d=\"M2473.42 2188.37 Q2469.81 2188.37 2467.98 2191.93 Q2466.17 2195.47 2466.17 2202.6 Q2466.17 2209.71 2467.98 2213.27 Q2469.81 2216.82 2473.42 2216.82 Q2477.05 2216.82 2478.86 2213.27 Q2480.69 2209.71 2480.69 2202.6 Q2480.69 2195.47 2478.86 2191.93 Q2477.05 2188.37 2473.42 2188.37 M2473.42 2184.66 Q2479.23 2184.66 2482.29 2189.27 Q2485.36 2193.85 2485.36 2202.6 Q2485.36 2211.33 2482.29 2215.94 Q2479.23 2220.52 2473.42 2220.52 Q2467.61 2220.52 2464.53 2215.94 Q2461.48 2211.33 2461.48 2202.6 Q2461.48 2193.85 2464.53 2189.27 Q2467.61 2184.66 2473.42 2184.66 Z\" fill=\"#000000\" fill-rule=\"nonzero\" fill-opacity=\"1\" /><path clip-path=\"url(#clip980)\" d=\"M2503.58 2188.37 Q2499.97 2188.37 2498.14 2191.93 Q2496.34 2195.47 2496.34 2202.6 Q2496.34 2209.71 2498.14 2213.27 Q2499.97 2216.82 2503.58 2216.82 Q2507.22 2216.82 2509.02 2213.27 Q2510.85 2209.71 2510.85 2202.6 Q2510.85 2195.47 2509.02 2191.93 Q2507.22 2188.37 2503.58 2188.37 M2503.58 2184.66 Q2509.39 2184.66 2512.45 2189.27 Q2515.53 2193.85 2515.53 2202.6 Q2515.53 2211.33 2512.45 2215.94 Q2509.39 2220.52 2503.58 2220.52 Q2497.77 2220.52 2494.69 2215.94 Q2491.64 2211.33 2491.64 2202.6 Q2491.64 2193.85 2494.69 2189.27 Q2497.77 2184.66 2503.58 2184.66 Z\" fill=\"#000000\" fill-rule=\"nonzero\" fill-opacity=\"1\" /><path clip-path=\"url(#clip980)\" d=\"M2534.32 2200.7 Q2531.17 2200.7 2529.32 2202.86 Q2527.49 2205.01 2527.49 2208.76 Q2527.49 2212.49 2529.32 2214.66 Q2531.17 2216.82 2534.32 2216.82 Q2537.47 2216.82 2539.3 2214.66 Q2541.15 2212.49 2541.15 2208.76 Q2541.15 2205.01 2539.3 2202.86 Q2537.47 2200.7 2534.32 2200.7 M2543.6 2186.05 L2543.6 2190.31 Q2541.84 2189.48 2540.04 2189.04 Q2538.26 2188.6 2536.5 2188.6 Q2531.87 2188.6 2529.41 2191.72 Q2526.98 2194.85 2526.64 2201.17 Q2528 2199.15 2530.06 2198.09 Q2532.12 2197 2534.6 2197 Q2539.81 2197 2542.82 2200.17 Q2545.85 2203.32 2545.85 2208.76 Q2545.85 2214.08 2542.7 2217.3 Q2539.55 2220.52 2534.32 2220.52 Q2528.33 2220.52 2525.16 2215.94 Q2521.98 2211.33 2521.98 2202.6 Q2521.98 2194.41 2525.87 2189.55 Q2529.76 2184.66 2536.31 2184.66 Q2538.07 2184.66 2539.85 2185.01 Q2541.66 2185.36 2543.6 2186.05 Z\" fill=\"#000000\" fill-rule=\"nonzero\" fill-opacity=\"1\" /><path clip-path=\"url(#clip980)\" d=\"M2653.17 2188.37 Q2649.56 2188.37 2647.73 2191.93 Q2645.92 2195.47 2645.92 2202.6 Q2645.92 2209.71 2647.73 2213.27 Q2649.56 2216.82 2653.17 2216.82 Q2656.8 2216.82 2658.61 2213.27 Q2660.44 2209.71 2660.44 2202.6 Q2660.44 2195.47 2658.61 2191.93 Q2656.8 2188.37 2653.17 2188.37 M2653.17 2184.66 Q2658.98 2184.66 2662.03 2189.27 Q2665.11 2193.85 2665.11 2202.6 Q2665.11 2211.33 2662.03 2215.94 Q2658.98 2220.52 2653.17 2220.52 Q2647.36 2220.52 2644.28 2215.94 Q2641.22 2211.33 2641.22 2202.6 Q2641.22 2193.85 2644.28 2189.27 Q2647.36 2184.66 2653.17 2184.66 Z\" fill=\"#000000\" fill-rule=\"nonzero\" fill-opacity=\"1\" /><path clip-path=\"url(#clip980)\" d=\"M2673.33 2213.97 L2678.22 2213.97 L2678.22 2219.85 L2673.33 2219.85 L2673.33 2213.97 Z\" fill=\"#000000\" fill-rule=\"nonzero\" fill-opacity=\"1\" /><path clip-path=\"url(#clip980)\" d=\"M2698.4 2188.37 Q2694.79 2188.37 2692.96 2191.93 Q2691.16 2195.47 2691.16 2202.6 Q2691.16 2209.71 2692.96 2213.27 Q2694.79 2216.82 2698.4 2216.82 Q2702.03 2216.82 2703.84 2213.27 Q2705.67 2209.71 2705.67 2202.6 Q2705.67 2195.47 2703.84 2191.93 Q2702.03 2188.37 2698.4 2188.37 M2698.4 2184.66 Q2704.21 2184.66 2707.27 2189.27 Q2710.34 2193.85 2710.34 2202.6 Q2710.34 2211.33 2707.27 2215.94 Q2704.21 2220.52 2698.4 2220.52 Q2692.59 2220.52 2689.51 2215.94 Q2686.46 2211.33 2686.46 2202.6 Q2686.46 2193.85 2689.51 2189.27 Q2692.59 2184.66 2698.4 2184.66 Z\" fill=\"#000000\" fill-rule=\"nonzero\" fill-opacity=\"1\" /><path clip-path=\"url(#clip980)\" d=\"M2728.56 2188.37 Q2724.95 2188.37 2723.12 2191.93 Q2721.32 2195.47 2721.32 2202.6 Q2721.32 2209.71 2723.12 2213.27 Q2724.95 2216.82 2728.56 2216.82 Q2732.2 2216.82 2734 2213.27 Q2735.83 2209.71 2735.83 2202.6 Q2735.83 2195.47 2734 2191.93 Q2732.2 2188.37 2728.56 2188.37 M2728.56 2184.66 Q2734.37 2184.66 2737.43 2189.27 Q2740.51 2193.85 2740.51 2202.6 Q2740.51 2211.33 2737.43 2215.94 Q2734.37 2220.52 2728.56 2220.52 Q2722.75 2220.52 2719.67 2215.94 Q2716.62 2211.33 2716.62 2202.6 Q2716.62 2193.85 2719.67 2189.27 Q2722.75 2184.66 2728.56 2184.66 Z\" fill=\"#000000\" fill-rule=\"nonzero\" fill-opacity=\"1\" /><path clip-path=\"url(#clip980)\" d=\"M2758.72 2203.44 Q2755.39 2203.44 2753.47 2205.22 Q2751.57 2207 2751.57 2210.13 Q2751.57 2213.25 2753.47 2215.03 Q2755.39 2216.82 2758.72 2216.82 Q2762.06 2216.82 2763.98 2215.03 Q2765.9 2213.23 2765.9 2210.13 Q2765.9 2207 2763.98 2205.22 Q2762.08 2203.44 2758.72 2203.44 M2754.05 2201.45 Q2751.04 2200.7 2749.35 2198.64 Q2747.68 2196.58 2747.68 2193.62 Q2747.68 2189.48 2750.62 2187.07 Q2753.59 2184.66 2758.72 2184.66 Q2763.89 2184.66 2766.83 2187.07 Q2769.77 2189.48 2769.77 2193.62 Q2769.77 2196.58 2768.08 2198.64 Q2766.41 2200.7 2763.42 2201.45 Q2766.8 2202.23 2768.68 2204.52 Q2770.58 2206.82 2770.58 2210.13 Q2770.58 2215.15 2767.5 2217.83 Q2764.44 2220.52 2758.72 2220.52 Q2753.01 2220.52 2749.93 2217.83 Q2746.87 2215.15 2746.87 2210.13 Q2746.87 2206.82 2748.77 2204.52 Q2750.67 2202.23 2754.05 2201.45 M2752.34 2194.06 Q2752.34 2196.75 2754 2198.25 Q2755.69 2199.76 2758.72 2199.76 Q2761.73 2199.76 2763.42 2198.25 Q2765.14 2196.75 2765.14 2194.06 Q2765.14 2191.38 2763.42 2189.87 Q2761.73 2188.37 2758.72 2188.37 Q2755.69 2188.37 2754 2189.87 Q2752.34 2191.38 2752.34 2194.06 Z\" fill=\"#000000\" fill-rule=\"nonzero\" fill-opacity=\"1\" /><path clip-path=\"url(#clip980)\" d=\"M2877.98 2188.37 Q2874.37 2188.37 2872.54 2191.93 Q2870.73 2195.47 2870.73 2202.6 Q2870.73 2209.71 2872.54 2213.27 Q2874.37 2216.82 2877.98 2216.82 Q2881.61 2216.82 2883.42 2213.27 Q2885.25 2209.71 2885.25 2202.6 Q2885.25 2195.47 2883.42 2191.93 Q2881.61 2188.37 2877.98 2188.37 M2877.98 2184.66 Q2883.79 2184.66 2886.84 2189.27 Q2889.92 2193.85 2889.92 2202.6 Q2889.92 2211.33 2886.84 2215.94 Q2883.79 2220.52 2877.98 2220.52 Q2872.17 2220.52 2869.09 2215.94 Q2866.03 2211.33 2866.03 2202.6 Q2866.03 2193.85 2869.09 2189.27 Q2872.17 2184.66 2877.98 2184.66 Z\" fill=\"#000000\" fill-rule=\"nonzero\" fill-opacity=\"1\" /><path clip-path=\"url(#clip980)\" d=\"M2898.14 2213.97 L2903.02 2213.97 L2903.02 2219.85 L2898.14 2219.85 L2898.14 2213.97 Z\" fill=\"#000000\" fill-rule=\"nonzero\" fill-opacity=\"1\" /><path clip-path=\"url(#clip980)\" d=\"M2923.21 2188.37 Q2919.6 2188.37 2917.77 2191.93 Q2915.96 2195.47 2915.96 2202.6 Q2915.96 2209.71 2917.77 2213.27 Q2919.6 2216.82 2923.21 2216.82 Q2926.84 2216.82 2928.65 2213.27 Q2930.48 2209.71 2930.48 2202.6 Q2930.48 2195.47 2928.65 2191.93 Q2926.84 2188.37 2923.21 2188.37 M2923.21 2184.66 Q2929.02 2184.66 2932.07 2189.27 Q2935.15 2193.85 2935.15 2202.6 Q2935.15 2211.33 2932.07 2215.94 Q2929.02 2220.52 2923.21 2220.52 Q2917.4 2220.52 2914.32 2215.94 Q2911.26 2211.33 2911.26 2202.6 Q2911.26 2193.85 2914.32 2189.27 Q2917.4 2184.66 2923.21 2184.66 Z\" fill=\"#000000\" fill-rule=\"nonzero\" fill-opacity=\"1\" /><path clip-path=\"url(#clip980)\" d=\"M2944.18 2215.91 L2951.82 2215.91 L2951.82 2189.55 L2943.51 2191.21 L2943.51 2186.95 L2951.77 2185.29 L2956.45 2185.29 L2956.45 2215.91 L2964.09 2215.91 L2964.09 2219.85 L2944.18 2219.85 L2944.18 2215.91 Z\" fill=\"#000000\" fill-rule=\"nonzero\" fill-opacity=\"1\" /><path clip-path=\"url(#clip980)\" d=\"M2983.53 2188.37 Q2979.92 2188.37 2978.09 2191.93 Q2976.29 2195.47 2976.29 2202.6 Q2976.29 2209.71 2978.09 2213.27 Q2979.92 2216.82 2983.53 2216.82 Q2987.17 2216.82 2988.97 2213.27 Q2990.8 2209.71 2990.8 2202.6 Q2990.8 2195.47 2988.97 2191.93 Q2987.17 2188.37 2983.53 2188.37 M2983.53 2184.66 Q2989.34 2184.66 2992.4 2189.27 Q2995.48 2193.85 2995.48 2202.6 Q2995.48 2211.33 2992.4 2215.94 Q2989.34 2220.52 2983.53 2220.52 Q2977.72 2220.52 2974.64 2215.94 Q2971.59 2211.33 2971.59 2202.6 Q2971.59 2193.85 2974.64 2189.27 Q2977.72 2184.66 2983.53 2184.66 Z\" fill=\"#000000\" fill-rule=\"nonzero\" fill-opacity=\"1\" /><path clip-path=\"url(#clip980)\" d=\"M3103.63 2188.37 Q3100.02 2188.37 3098.19 2191.93 Q3096.38 2195.47 3096.38 2202.6 Q3096.38 2209.71 3098.19 2213.27 Q3100.02 2216.82 3103.63 2216.82 Q3107.26 2216.82 3109.07 2213.27 Q3110.9 2209.71 3110.9 2202.6 Q3110.9 2195.47 3109.07 2191.93 Q3107.26 2188.37 3103.63 2188.37 M3103.63 2184.66 Q3109.44 2184.66 3112.49 2189.27 Q3115.57 2193.85 3115.57 2202.6 Q3115.57 2211.33 3112.49 2215.94 Q3109.44 2220.52 3103.63 2220.52 Q3097.82 2220.52 3094.74 2215.94 Q3091.68 2211.33 3091.68 2202.6 Q3091.68 2193.85 3094.74 2189.27 Q3097.82 2184.66 3103.63 2184.66 Z\" fill=\"#000000\" fill-rule=\"nonzero\" fill-opacity=\"1\" /><path clip-path=\"url(#clip980)\" d=\"M3123.79 2213.97 L3128.68 2213.97 L3128.68 2219.85 L3123.79 2219.85 L3123.79 2213.97 Z\" fill=\"#000000\" fill-rule=\"nonzero\" fill-opacity=\"1\" /><path clip-path=\"url(#clip980)\" d=\"M3148.86 2188.37 Q3145.25 2188.37 3143.42 2191.93 Q3141.61 2195.47 3141.61 2202.6 Q3141.61 2209.71 3143.42 2213.27 Q3145.25 2216.82 3148.86 2216.82 Q3152.49 2216.82 3154.3 2213.27 Q3156.13 2209.71 3156.13 2202.6 Q3156.13 2195.47 3154.3 2191.93 Q3152.49 2188.37 3148.86 2188.37 M3148.86 2184.66 Q3154.67 2184.66 3157.73 2189.27 Q3160.8 2193.85 3160.8 2202.6 Q3160.8 2211.33 3157.73 2215.94 Q3154.67 2220.52 3148.86 2220.52 Q3143.05 2220.52 3139.97 2215.94 Q3136.92 2211.33 3136.92 2202.6 Q3136.92 2193.85 3139.97 2189.27 Q3143.05 2184.66 3148.86 2184.66 Z\" fill=\"#000000\" fill-rule=\"nonzero\" fill-opacity=\"1\" /><path clip-path=\"url(#clip980)\" d=\"M3169.83 2215.91 L3177.47 2215.91 L3177.47 2189.55 L3169.16 2191.21 L3169.16 2186.95 L3177.42 2185.29 L3182.1 2185.29 L3182.1 2215.91 L3189.74 2215.91 L3189.74 2219.85 L3169.83 2219.85 L3169.83 2215.91 Z\" fill=\"#000000\" fill-rule=\"nonzero\" fill-opacity=\"1\" /><path clip-path=\"url(#clip980)\" d=\"M3203.21 2215.91 L3219.53 2215.91 L3219.53 2219.85 L3197.59 2219.85 L3197.59 2215.91 Q3200.25 2213.16 3204.83 2208.53 Q3209.44 2203.88 3210.62 2202.53 Q3212.86 2200.01 3213.74 2198.27 Q3214.65 2196.51 3214.65 2194.82 Q3214.65 2192.07 3212.7 2190.33 Q3210.78 2188.6 3207.68 2188.6 Q3205.48 2188.6 3203.03 2189.36 Q3200.6 2190.13 3197.82 2191.68 L3197.82 2186.95 Q3200.64 2185.82 3203.1 2185.24 Q3205.55 2184.66 3207.59 2184.66 Q3212.96 2184.66 3216.15 2187.35 Q3219.35 2190.03 3219.35 2194.52 Q3219.35 2196.65 3218.54 2198.57 Q3217.75 2200.47 3215.64 2203.07 Q3215.06 2203.74 3211.96 2206.95 Q3208.86 2210.15 3203.21 2215.91 Z\" fill=\"#000000\" fill-rule=\"nonzero\" fill-opacity=\"1\" /><path clip-path=\"url(#clip980)\" d=\"M3327.44 2188.37 Q3323.83 2188.37 3322 2191.93 Q3320.2 2195.47 3320.2 2202.6 Q3320.2 2209.71 3322 2213.27 Q3323.83 2216.82 3327.44 2216.82 Q3331.08 2216.82 3332.88 2213.27 Q3334.71 2209.71 3334.71 2202.6 Q3334.71 2195.47 3332.88 2191.93 Q3331.08 2188.37 3327.44 2188.37 M3327.44 2184.66 Q3333.25 2184.66 3336.31 2189.27 Q3339.39 2193.85 3339.39 2202.6 Q3339.39 2211.33 3336.31 2215.94 Q3333.25 2220.52 3327.44 2220.52 Q3321.63 2220.52 3318.55 2215.94 Q3315.5 2211.33 3315.5 2202.6 Q3315.5 2193.85 3318.55 2189.27 Q3321.63 2184.66 3327.44 2184.66 Z\" fill=\"#000000\" fill-rule=\"nonzero\" fill-opacity=\"1\" /><path clip-path=\"url(#clip980)\" d=\"M3347.6 2213.97 L3352.49 2213.97 L3352.49 2219.85 L3347.6 2219.85 L3347.6 2213.97 Z\" fill=\"#000000\" fill-rule=\"nonzero\" fill-opacity=\"1\" /><path clip-path=\"url(#clip980)\" d=\"M3372.67 2188.37 Q3369.06 2188.37 3367.23 2191.93 Q3365.43 2195.47 3365.43 2202.6 Q3365.43 2209.71 3367.23 2213.27 Q3369.06 2216.82 3372.67 2216.82 Q3376.31 2216.82 3378.11 2213.27 Q3379.94 2209.71 3379.94 2202.6 Q3379.94 2195.47 3378.11 2191.93 Q3376.31 2188.37 3372.67 2188.37 M3372.67 2184.66 Q3378.48 2184.66 3381.54 2189.27 Q3384.62 2193.85 3384.62 2202.6 Q3384.62 2211.33 3381.54 2215.94 Q3378.48 2220.52 3372.67 2220.52 Q3366.86 2220.52 3363.78 2215.94 Q3360.73 2211.33 3360.73 2202.6 Q3360.73 2193.85 3363.78 2189.27 Q3366.86 2184.66 3372.67 2184.66 Z\" fill=\"#000000\" fill-rule=\"nonzero\" fill-opacity=\"1\" /><path clip-path=\"url(#clip980)\" d=\"M3393.64 2215.91 L3401.28 2215.91 L3401.28 2189.55 L3392.97 2191.21 L3392.97 2186.95 L3401.24 2185.29 L3405.91 2185.29 L3405.91 2215.91 L3413.55 2215.91 L3413.55 2219.85 L3393.64 2219.85 L3393.64 2215.91 Z\" fill=\"#000000\" fill-rule=\"nonzero\" fill-opacity=\"1\" /><path clip-path=\"url(#clip980)\" d=\"M3435.84 2189.36 L3424.04 2207.81 L3435.84 2207.81 L3435.84 2189.36 M3434.62 2185.29 L3440.5 2185.29 L3440.5 2207.81 L3445.43 2207.81 L3445.43 2211.7 L3440.5 2211.7 L3440.5 2219.85 L3435.84 2219.85 L3435.84 2211.7 L3420.24 2211.7 L3420.24 2207.19 L3434.62 2185.29 Z\" fill=\"#000000\" fill-rule=\"nonzero\" fill-opacity=\"1\" /><path clip-path=\"url(#clip980)\" d=\"M3552.46 2188.37 Q3548.85 2188.37 3547.02 2191.93 Q3545.21 2195.47 3545.21 2202.6 Q3545.21 2209.71 3547.02 2213.27 Q3548.85 2216.82 3552.46 2216.82 Q3556.09 2216.82 3557.9 2213.27 Q3559.73 2209.71 3559.73 2202.6 Q3559.73 2195.47 3557.9 2191.93 Q3556.09 2188.37 3552.46 2188.37 M3552.46 2184.66 Q3558.27 2184.66 3561.32 2189.27 Q3564.4 2193.85 3564.4 2202.6 Q3564.4 2211.33 3561.32 2215.94 Q3558.27 2220.52 3552.46 2220.52 Q3546.65 2220.52 3543.57 2215.94 Q3540.51 2211.33 3540.51 2202.6 Q3540.51 2193.85 3543.57 2189.27 Q3546.65 2184.66 3552.46 2184.66 Z\" fill=\"#000000\" fill-rule=\"nonzero\" fill-opacity=\"1\" /><path clip-path=\"url(#clip980)\" d=\"M3572.62 2213.97 L3577.5 2213.97 L3577.5 2219.85 L3572.62 2219.85 L3572.62 2213.97 Z\" fill=\"#000000\" fill-rule=\"nonzero\" fill-opacity=\"1\" /><path clip-path=\"url(#clip980)\" d=\"M3597.69 2188.37 Q3594.08 2188.37 3592.25 2191.93 Q3590.44 2195.47 3590.44 2202.6 Q3590.44 2209.71 3592.25 2213.27 Q3594.08 2216.82 3597.69 2216.82 Q3601.32 2216.82 3603.13 2213.27 Q3604.96 2209.71 3604.96 2202.6 Q3604.96 2195.47 3603.13 2191.93 Q3601.32 2188.37 3597.69 2188.37 M3597.69 2184.66 Q3603.5 2184.66 3606.55 2189.27 Q3609.63 2193.85 3609.63 2202.6 Q3609.63 2211.33 3606.55 2215.94 Q3603.5 2220.52 3597.69 2220.52 Q3591.88 2220.52 3588.8 2215.94 Q3585.74 2211.33 3585.74 2202.6 Q3585.74 2193.85 3588.8 2189.27 Q3591.88 2184.66 3597.69 2184.66 Z\" fill=\"#000000\" fill-rule=\"nonzero\" fill-opacity=\"1\" /><path clip-path=\"url(#clip980)\" d=\"M3618.66 2215.91 L3626.3 2215.91 L3626.3 2189.55 L3617.99 2191.21 L3617.99 2186.95 L3626.25 2185.29 L3630.93 2185.29 L3630.93 2215.91 L3638.57 2215.91 L3638.57 2219.85 L3618.66 2219.85 L3618.66 2215.91 Z\" fill=\"#000000\" fill-rule=\"nonzero\" fill-opacity=\"1\" /><path clip-path=\"url(#clip980)\" d=\"M3658.59 2200.7 Q3655.44 2200.7 3653.59 2202.86 Q3651.76 2205.01 3651.76 2208.76 Q3651.76 2212.49 3653.59 2214.66 Q3655.44 2216.82 3658.59 2216.82 Q3661.74 2216.82 3663.57 2214.66 Q3665.42 2212.49 3665.42 2208.76 Q3665.42 2205.01 3663.57 2202.86 Q3661.74 2200.7 3658.59 2200.7 M3667.87 2186.05 L3667.87 2190.31 Q3666.11 2189.48 3664.31 2189.04 Q3662.53 2188.6 3660.77 2188.6 Q3656.14 2188.6 3653.68 2191.72 Q3651.25 2194.85 3650.91 2201.17 Q3652.27 2199.15 3654.33 2198.09 Q3656.39 2197 3658.87 2197 Q3664.08 2197 3667.09 2200.17 Q3670.12 2203.32 3670.12 2208.76 Q3670.12 2214.08 3666.97 2217.3 Q3663.82 2220.52 3658.59 2220.52 Q3652.6 2220.52 3649.42 2215.94 Q3646.25 2211.33 3646.25 2202.6 Q3646.25 2194.41 3650.14 2189.55 Q3654.03 2184.66 3660.58 2184.66 Q3662.34 2184.66 3664.12 2185.01 Q3665.93 2185.36 3667.87 2186.05 Z\" fill=\"#000000\" fill-rule=\"nonzero\" fill-opacity=\"1\" /><path clip-path=\"url(#clip980)\" d=\"M3777.44 2188.37 Q3773.83 2188.37 3772 2191.93 Q3770.19 2195.47 3770.19 2202.6 Q3770.19 2209.71 3772 2213.27 Q3773.83 2216.82 3777.44 2216.82 Q3781.07 2216.82 3782.88 2213.27 Q3784.71 2209.71 3784.71 2202.6 Q3784.71 2195.47 3782.88 2191.93 Q3781.07 2188.37 3777.44 2188.37 M3777.44 2184.66 Q3783.25 2184.66 3786.3 2189.27 Q3789.38 2193.85 3789.38 2202.6 Q3789.38 2211.33 3786.3 2215.94 Q3783.25 2220.52 3777.44 2220.52 Q3771.63 2220.52 3768.55 2215.94 Q3765.49 2211.33 3765.49 2202.6 Q3765.49 2193.85 3768.55 2189.27 Q3771.63 2184.66 3777.44 2184.66 Z\" fill=\"#000000\" fill-rule=\"nonzero\" fill-opacity=\"1\" /><path clip-path=\"url(#clip980)\" d=\"M3797.6 2213.97 L3802.48 2213.97 L3802.48 2219.85 L3797.6 2219.85 L3797.6 2213.97 Z\" fill=\"#000000\" fill-rule=\"nonzero\" fill-opacity=\"1\" /><path clip-path=\"url(#clip980)\" d=\"M3822.67 2188.37 Q3819.06 2188.37 3817.23 2191.93 Q3815.42 2195.47 3815.42 2202.6 Q3815.42 2209.71 3817.23 2213.27 Q3819.06 2216.82 3822.67 2216.82 Q3826.3 2216.82 3828.11 2213.27 Q3829.94 2209.71 3829.94 2202.6 Q3829.94 2195.47 3828.11 2191.93 Q3826.3 2188.37 3822.67 2188.37 M3822.67 2184.66 Q3828.48 2184.66 3831.53 2189.27 Q3834.61 2193.85 3834.61 2202.6 Q3834.61 2211.33 3831.53 2215.94 Q3828.48 2220.52 3822.67 2220.52 Q3816.86 2220.52 3813.78 2215.94 Q3810.72 2211.33 3810.72 2202.6 Q3810.72 2193.85 3813.78 2189.27 Q3816.86 2184.66 3822.67 2184.66 Z\" fill=\"#000000\" fill-rule=\"nonzero\" fill-opacity=\"1\" /><path clip-path=\"url(#clip980)\" d=\"M3843.64 2215.91 L3851.28 2215.91 L3851.28 2189.55 L3842.97 2191.21 L3842.97 2186.95 L3851.23 2185.29 L3855.91 2185.29 L3855.91 2215.91 L3863.55 2215.91 L3863.55 2219.85 L3843.64 2219.85 L3843.64 2215.91 Z\" fill=\"#000000\" fill-rule=\"nonzero\" fill-opacity=\"1\" /><path clip-path=\"url(#clip980)\" d=\"M3882.99 2203.44 Q3879.66 2203.44 3877.74 2205.22 Q3875.84 2207 3875.84 2210.13 Q3875.84 2213.25 3877.74 2215.03 Q3879.66 2216.82 3882.99 2216.82 Q3886.33 2216.82 3888.25 2215.03 Q3890.17 2213.23 3890.17 2210.13 Q3890.17 2207 3888.25 2205.22 Q3886.35 2203.44 3882.99 2203.44 M3878.32 2201.45 Q3875.31 2200.7 3873.62 2198.64 Q3871.95 2196.58 3871.95 2193.62 Q3871.95 2189.48 3874.89 2187.07 Q3877.85 2184.66 3882.99 2184.66 Q3888.16 2184.66 3891.09 2187.07 Q3894.03 2189.48 3894.03 2193.62 Q3894.03 2196.58 3892.34 2198.64 Q3890.68 2200.7 3887.69 2201.45 Q3891.07 2202.23 3892.95 2204.52 Q3894.84 2206.82 3894.84 2210.13 Q3894.84 2215.15 3891.77 2217.83 Q3888.71 2220.52 3882.99 2220.52 Q3877.28 2220.52 3874.2 2217.83 Q3871.14 2215.15 3871.14 2210.13 Q3871.14 2206.82 3873.04 2204.52 Q3874.94 2202.23 3878.32 2201.45 M3876.6 2194.06 Q3876.6 2196.75 3878.27 2198.25 Q3879.96 2199.76 3882.99 2199.76 Q3886 2199.76 3887.69 2198.25 Q3889.41 2196.75 3889.41 2194.06 Q3889.41 2191.38 3887.69 2189.87 Q3886 2188.37 3882.99 2188.37 Q3879.96 2188.37 3878.27 2189.87 Q3876.6 2191.38 3876.6 2194.06 Z\" fill=\"#000000\" fill-rule=\"nonzero\" fill-opacity=\"1\" /><path clip-path=\"url(#clip980)\" d=\"M3117.11 2264.65 Q3117.11 2264.9 3115.86 2267.16 Q3113.76 2271.31 3111.09 2277.66 Q3108.42 2284 3106.9 2288.7 Q3106.58 2289.83 3106.36 2291.28 Q3105.78 2295.73 3103.91 2302.62 Q3103.27 2304.78 3102.85 2305.68 Q3102.43 2306.58 3101.82 2306.58 Q3100.95 2306.58 3100.95 2305.39 Q3100.95 2304.2 3102.04 2299.75 Q3103.17 2295.31 3104.39 2291.22 Q3105.17 2288.96 3105.17 2284.74 Q3105.17 2283.39 3105.1 2282.17 Q3105.04 2280.94 3104.78 2279.17 Q3104.52 2277.4 3104.1 2275.95 Q3103.68 2274.5 3102.88 2272.99 Q3102.07 2271.44 3100.98 2270.41 Q3099.88 2269.35 3098.21 2268.67 Q3096.57 2268 3094.51 2268 Q3093.99 2268 3093.35 2268.06 Q3092.73 2268.09 3091.25 2268.51 Q3089.8 2268.93 3088.58 2269.67 Q3087.36 2270.38 3086.04 2271.96 Q3084.71 2273.54 3084.01 2275.66 L3083.75 2275.98 Q3083.33 2275.98 3083.1 2275.98 Q3082.91 2275.95 3082.69 2275.79 Q3082.49 2275.63 3082.49 2275.34 Q3082.49 2274.66 3083.01 2273.31 Q3083.56 2271.96 3084.65 2270.22 Q3085.78 2268.48 3087.23 2266.93 Q3088.71 2265.39 3090.87 2264.33 Q3093.02 2263.26 3095.34 2263.26 Q3101.3 2263.26 3104.13 2270.51 Q3106.61 2276.66 3106.84 2283.97 Q3111.99 2270.99 3115.54 2264.45 Q3115.73 2263.97 3116.31 2263.97 Q3117.11 2264 3117.11 2264.65 Z\" fill=\"#000000\" fill-rule=\"nonzero\" fill-opacity=\"1\" /><polyline clip-path=\"url(#clip983)\" style=\"stroke:#000000; stroke-linecap:round; stroke-linejoin:round; stroke-width:2; stroke-opacity:0.1; fill:none\" points=\"2324.77,2087.52 3874.02,2087.52 \"/>\n",
       "<polyline clip-path=\"url(#clip983)\" style=\"stroke:#000000; stroke-linecap:round; stroke-linejoin:round; stroke-width:2; stroke-opacity:0.1; fill:none\" points=\"2324.77,1694.96 3874.02,1694.96 \"/>\n",
       "<polyline clip-path=\"url(#clip983)\" style=\"stroke:#000000; stroke-linecap:round; stroke-linejoin:round; stroke-width:2; stroke-opacity:0.1; fill:none\" points=\"2324.77,1302.4 3874.02,1302.4 \"/>\n",
       "<polyline clip-path=\"url(#clip983)\" style=\"stroke:#000000; stroke-linecap:round; stroke-linejoin:round; stroke-width:2; stroke-opacity:0.1; fill:none\" points=\"2324.77,909.844 3874.02,909.844 \"/>\n",
       "<polyline clip-path=\"url(#clip983)\" style=\"stroke:#000000; stroke-linecap:round; stroke-linejoin:round; stroke-width:2; stroke-opacity:0.1; fill:none\" points=\"2324.77,517.286 3874.02,517.286 \"/>\n",
       "<polyline clip-path=\"url(#clip980)\" style=\"stroke:#000000; stroke-linecap:round; stroke-linejoin:round; stroke-width:4; stroke-opacity:1; fill:none\" points=\"2324.77,2144.65 2324.77,125.984 \"/>\n",
       "<polyline clip-path=\"url(#clip980)\" style=\"stroke:#000000; stroke-linecap:round; stroke-linejoin:round; stroke-width:4; stroke-opacity:1; fill:none\" points=\"2324.77,2087.52 2343.67,2087.52 \"/>\n",
       "<polyline clip-path=\"url(#clip980)\" style=\"stroke:#000000; stroke-linecap:round; stroke-linejoin:round; stroke-width:4; stroke-opacity:1; fill:none\" points=\"2324.77,1694.96 2343.67,1694.96 \"/>\n",
       "<polyline clip-path=\"url(#clip980)\" style=\"stroke:#000000; stroke-linecap:round; stroke-linejoin:round; stroke-width:4; stroke-opacity:1; fill:none\" points=\"2324.77,1302.4 2343.67,1302.4 \"/>\n",
       "<polyline clip-path=\"url(#clip980)\" style=\"stroke:#000000; stroke-linecap:round; stroke-linejoin:round; stroke-width:4; stroke-opacity:1; fill:none\" points=\"2324.77,909.844 2343.67,909.844 \"/>\n",
       "<polyline clip-path=\"url(#clip980)\" style=\"stroke:#000000; stroke-linecap:round; stroke-linejoin:round; stroke-width:4; stroke-opacity:1; fill:none\" points=\"2324.77,517.286 2343.67,517.286 \"/>\n",
       "<path clip-path=\"url(#clip980)\" d=\"M2177.44 2073.31 Q2173.82 2073.31 2172 2076.88 Q2170.19 2080.42 2170.19 2087.55 Q2170.19 2094.66 2172 2098.22 Q2173.82 2101.76 2177.44 2101.76 Q2181.07 2101.76 2182.88 2098.22 Q2184.7 2094.66 2184.7 2087.55 Q2184.7 2080.42 2182.88 2076.88 Q2181.07 2073.31 2177.44 2073.31 M2177.44 2069.61 Q2183.25 2069.61 2186.3 2074.22 Q2189.38 2078.8 2189.38 2087.55 Q2189.38 2096.28 2186.3 2100.88 Q2183.25 2105.47 2177.44 2105.47 Q2171.63 2105.47 2168.55 2100.88 Q2165.49 2096.28 2165.49 2087.55 Q2165.49 2078.8 2168.55 2074.22 Q2171.63 2069.61 2177.44 2069.61 Z\" fill=\"#000000\" fill-rule=\"nonzero\" fill-opacity=\"1\" /><path clip-path=\"url(#clip980)\" d=\"M2197.6 2098.92 L2202.48 2098.92 L2202.48 2104.8 L2197.6 2104.8 L2197.6 2098.92 Z\" fill=\"#000000\" fill-rule=\"nonzero\" fill-opacity=\"1\" /><path clip-path=\"url(#clip980)\" d=\"M2222.67 2073.31 Q2219.06 2073.31 2217.23 2076.88 Q2215.42 2080.42 2215.42 2087.55 Q2215.42 2094.66 2217.23 2098.22 Q2219.06 2101.76 2222.67 2101.76 Q2226.3 2101.76 2228.11 2098.22 Q2229.94 2094.66 2229.94 2087.55 Q2229.94 2080.42 2228.11 2076.88 Q2226.3 2073.31 2222.67 2073.31 M2222.67 2069.61 Q2228.48 2069.61 2231.53 2074.22 Q2234.61 2078.8 2234.61 2087.55 Q2234.61 2096.28 2231.53 2100.88 Q2228.48 2105.47 2222.67 2105.47 Q2216.86 2105.47 2213.78 2100.88 Q2210.72 2096.28 2210.72 2087.55 Q2210.72 2078.8 2213.78 2074.22 Q2216.86 2069.61 2222.67 2069.61 Z\" fill=\"#000000\" fill-rule=\"nonzero\" fill-opacity=\"1\" /><path clip-path=\"url(#clip980)\" d=\"M2252.83 2073.31 Q2249.22 2073.31 2247.39 2076.88 Q2245.58 2080.42 2245.58 2087.55 Q2245.58 2094.66 2247.39 2098.22 Q2249.22 2101.76 2252.83 2101.76 Q2256.46 2101.76 2258.27 2098.22 Q2260.1 2094.66 2260.1 2087.55 Q2260.1 2080.42 2258.27 2076.88 Q2256.46 2073.31 2252.83 2073.31 M2252.83 2069.61 Q2258.64 2069.61 2261.69 2074.22 Q2264.77 2078.8 2264.77 2087.55 Q2264.77 2096.28 2261.69 2100.88 Q2258.64 2105.47 2252.83 2105.47 Q2247.02 2105.47 2243.94 2100.88 Q2240.88 2096.28 2240.88 2087.55 Q2240.88 2078.8 2243.94 2074.22 Q2247.02 2069.61 2252.83 2069.61 Z\" fill=\"#000000\" fill-rule=\"nonzero\" fill-opacity=\"1\" /><path clip-path=\"url(#clip980)\" d=\"M2178.66 1680.76 Q2175.05 1680.76 2173.22 1684.32 Q2171.42 1687.86 2171.42 1694.99 Q2171.42 1702.1 2173.22 1705.66 Q2175.05 1709.21 2178.66 1709.21 Q2182.3 1709.21 2184.1 1705.66 Q2185.93 1702.1 2185.93 1694.99 Q2185.93 1687.86 2184.1 1684.32 Q2182.3 1680.76 2178.66 1680.76 M2178.66 1677.05 Q2184.47 1677.05 2187.53 1681.66 Q2190.61 1686.24 2190.61 1694.99 Q2190.61 1703.72 2187.53 1708.33 Q2184.47 1712.91 2178.66 1712.91 Q2172.85 1712.91 2169.77 1708.33 Q2166.72 1703.72 2166.72 1694.99 Q2166.72 1686.24 2169.77 1681.66 Q2172.85 1677.05 2178.66 1677.05 Z\" fill=\"#000000\" fill-rule=\"nonzero\" fill-opacity=\"1\" /><path clip-path=\"url(#clip980)\" d=\"M2198.82 1706.36 L2203.71 1706.36 L2203.71 1712.24 L2198.82 1712.24 L2198.82 1706.36 Z\" fill=\"#000000\" fill-rule=\"nonzero\" fill-opacity=\"1\" /><path clip-path=\"url(#clip980)\" d=\"M2223.89 1680.76 Q2220.28 1680.76 2218.45 1684.32 Q2216.65 1687.86 2216.65 1694.99 Q2216.65 1702.1 2218.45 1705.66 Q2220.28 1709.21 2223.89 1709.21 Q2227.53 1709.21 2229.33 1705.66 Q2231.16 1702.1 2231.16 1694.99 Q2231.16 1687.86 2229.33 1684.32 Q2227.53 1680.76 2223.89 1680.76 M2223.89 1677.05 Q2229.7 1677.05 2232.76 1681.66 Q2235.84 1686.24 2235.84 1694.99 Q2235.84 1703.72 2232.76 1708.33 Q2229.7 1712.91 2223.89 1712.91 Q2218.08 1712.91 2215.01 1708.33 Q2211.95 1703.72 2211.95 1694.99 Q2211.95 1686.24 2215.01 1681.66 Q2218.08 1677.05 2223.89 1677.05 Z\" fill=\"#000000\" fill-rule=\"nonzero\" fill-opacity=\"1\" /><path clip-path=\"url(#clip980)\" d=\"M2244.87 1708.3 L2252.5 1708.3 L2252.5 1681.94 L2244.19 1683.6 L2244.19 1679.35 L2252.46 1677.68 L2257.13 1677.68 L2257.13 1708.3 L2264.77 1708.3 L2264.77 1712.24 L2244.87 1712.24 L2244.87 1708.3 Z\" fill=\"#000000\" fill-rule=\"nonzero\" fill-opacity=\"1\" /><path clip-path=\"url(#clip980)\" d=\"M2179.03 1288.2 Q2175.42 1288.2 2173.59 1291.76 Q2171.79 1295.31 2171.79 1302.44 Q2171.79 1309.54 2173.59 1313.11 Q2175.42 1316.65 2179.03 1316.65 Q2182.67 1316.65 2184.47 1313.11 Q2186.3 1309.54 2186.3 1302.44 Q2186.3 1295.31 2184.47 1291.76 Q2182.67 1288.2 2179.03 1288.2 M2179.03 1284.5 Q2184.84 1284.5 2187.9 1289.1 Q2190.98 1293.69 2190.98 1302.44 Q2190.98 1311.16 2187.9 1315.77 Q2184.84 1320.35 2179.03 1320.35 Q2173.22 1320.35 2170.14 1315.77 Q2167.09 1311.16 2167.09 1302.44 Q2167.09 1293.69 2170.14 1289.1 Q2173.22 1284.5 2179.03 1284.5 Z\" fill=\"#000000\" fill-rule=\"nonzero\" fill-opacity=\"1\" /><path clip-path=\"url(#clip980)\" d=\"M2199.19 1313.8 L2204.08 1313.8 L2204.08 1319.68 L2199.19 1319.68 L2199.19 1313.8 Z\" fill=\"#000000\" fill-rule=\"nonzero\" fill-opacity=\"1\" /><path clip-path=\"url(#clip980)\" d=\"M2224.26 1288.2 Q2220.65 1288.2 2218.82 1291.76 Q2217.02 1295.31 2217.02 1302.44 Q2217.02 1309.54 2218.82 1313.11 Q2220.65 1316.65 2224.26 1316.65 Q2227.9 1316.65 2229.7 1313.11 Q2231.53 1309.54 2231.53 1302.44 Q2231.53 1295.31 2229.7 1291.76 Q2227.9 1288.2 2224.26 1288.2 M2224.26 1284.5 Q2230.07 1284.5 2233.13 1289.1 Q2236.21 1293.69 2236.21 1302.44 Q2236.21 1311.16 2233.13 1315.77 Q2230.07 1320.35 2224.26 1320.35 Q2218.45 1320.35 2215.38 1315.77 Q2212.32 1311.16 2212.32 1302.44 Q2212.32 1293.69 2215.38 1289.1 Q2218.45 1284.5 2224.26 1284.5 Z\" fill=\"#000000\" fill-rule=\"nonzero\" fill-opacity=\"1\" /><path clip-path=\"url(#clip980)\" d=\"M2248.45 1315.75 L2264.77 1315.75 L2264.77 1319.68 L2242.83 1319.68 L2242.83 1315.75 Q2245.49 1312.99 2250.07 1308.36 Q2254.68 1303.71 2255.86 1302.37 Q2258.11 1299.84 2258.99 1298.11 Q2259.89 1296.35 2259.89 1294.66 Q2259.89 1291.9 2257.94 1290.17 Q2256.02 1288.43 2252.92 1288.43 Q2250.72 1288.43 2248.27 1289.2 Q2245.84 1289.96 2243.06 1291.51 L2243.06 1286.79 Q2245.88 1285.65 2248.34 1285.07 Q2250.79 1284.5 2252.83 1284.5 Q2258.2 1284.5 2261.39 1287.18 Q2264.59 1289.87 2264.59 1294.36 Q2264.59 1296.49 2263.78 1298.41 Q2262.99 1300.31 2260.88 1302.9 Q2260.31 1303.57 2257.2 1306.79 Q2254.1 1309.98 2248.45 1315.75 Z\" fill=\"#000000\" fill-rule=\"nonzero\" fill-opacity=\"1\" /><path clip-path=\"url(#clip980)\" d=\"M2178.08 895.642 Q2174.47 895.642 2172.64 899.207 Q2170.84 902.749 2170.84 909.878 Q2170.84 916.985 2172.64 920.55 Q2174.47 924.091 2178.08 924.091 Q2181.72 924.091 2183.52 920.55 Q2185.35 916.985 2185.35 909.878 Q2185.35 902.749 2183.52 899.207 Q2181.72 895.642 2178.08 895.642 M2178.08 891.939 Q2183.89 891.939 2186.95 896.545 Q2190.03 901.128 2190.03 909.878 Q2190.03 918.605 2186.95 923.212 Q2183.89 927.795 2178.08 927.795 Q2172.27 927.795 2169.2 923.212 Q2166.14 918.605 2166.14 909.878 Q2166.14 901.128 2169.2 896.545 Q2172.27 891.939 2178.08 891.939 Z\" fill=\"#000000\" fill-rule=\"nonzero\" fill-opacity=\"1\" /><path clip-path=\"url(#clip980)\" d=\"M2198.25 921.244 L2203.13 921.244 L2203.13 927.124 L2198.25 927.124 L2198.25 921.244 Z\" fill=\"#000000\" fill-rule=\"nonzero\" fill-opacity=\"1\" /><path clip-path=\"url(#clip980)\" d=\"M2223.32 895.642 Q2219.7 895.642 2217.88 899.207 Q2216.07 902.749 2216.07 909.878 Q2216.07 916.985 2217.88 920.55 Q2219.7 924.091 2223.32 924.091 Q2226.95 924.091 2228.75 920.55 Q2230.58 916.985 2230.58 909.878 Q2230.58 902.749 2228.75 899.207 Q2226.95 895.642 2223.32 895.642 M2223.32 891.939 Q2229.13 891.939 2232.18 896.545 Q2235.26 901.128 2235.26 909.878 Q2235.26 918.605 2232.18 923.212 Q2229.13 927.795 2223.32 927.795 Q2217.51 927.795 2214.43 923.212 Q2211.37 918.605 2211.37 909.878 Q2211.37 901.128 2214.43 896.545 Q2217.51 891.939 2223.32 891.939 Z\" fill=\"#000000\" fill-rule=\"nonzero\" fill-opacity=\"1\" /><path clip-path=\"url(#clip980)\" d=\"M2257.64 908.489 Q2261 909.207 2262.88 911.476 Q2264.77 913.744 2264.77 917.077 Q2264.77 922.193 2261.25 924.994 Q2257.74 927.795 2251.25 927.795 Q2249.08 927.795 2246.76 927.355 Q2244.47 926.938 2242.02 926.082 L2242.02 921.568 Q2243.96 922.702 2246.28 923.281 Q2248.59 923.86 2251.12 923.86 Q2255.51 923.86 2257.81 922.124 Q2260.12 920.388 2260.12 917.077 Q2260.12 914.022 2257.97 912.309 Q2255.84 910.573 2252.02 910.573 L2247.99 910.573 L2247.99 906.73 L2252.2 906.73 Q2255.65 906.73 2257.48 905.364 Q2259.31 903.976 2259.31 901.383 Q2259.31 898.721 2257.41 897.309 Q2255.54 895.874 2252.02 895.874 Q2250.1 895.874 2247.9 896.29 Q2245.7 896.707 2243.06 897.587 L2243.06 893.42 Q2245.72 892.679 2248.04 892.309 Q2250.38 891.939 2252.44 891.939 Q2257.76 891.939 2260.86 894.369 Q2263.96 896.777 2263.96 900.897 Q2263.96 903.767 2262.32 905.758 Q2260.68 907.726 2257.64 908.489 Z\" fill=\"#000000\" fill-rule=\"nonzero\" fill-opacity=\"1\" /><path clip-path=\"url(#clip980)\" d=\"M2176.95 503.085 Q2173.34 503.085 2171.51 506.65 Q2169.7 510.191 2169.7 517.321 Q2169.7 524.427 2171.51 527.992 Q2173.34 531.534 2176.95 531.534 Q2180.58 531.534 2182.39 527.992 Q2184.22 524.427 2184.22 517.321 Q2184.22 510.191 2182.39 506.65 Q2180.58 503.085 2176.95 503.085 M2176.95 499.381 Q2182.76 499.381 2185.82 503.988 Q2188.89 508.571 2188.89 517.321 Q2188.89 526.048 2185.82 530.654 Q2182.76 535.238 2176.95 535.238 Q2171.14 535.238 2168.06 530.654 Q2165.01 526.048 2165.01 517.321 Q2165.01 508.571 2168.06 503.988 Q2171.14 499.381 2176.95 499.381 Z\" fill=\"#000000\" fill-rule=\"nonzero\" fill-opacity=\"1\" /><path clip-path=\"url(#clip980)\" d=\"M2197.11 528.687 L2202 528.687 L2202 534.566 L2197.11 534.566 L2197.11 528.687 Z\" fill=\"#000000\" fill-rule=\"nonzero\" fill-opacity=\"1\" /><path clip-path=\"url(#clip980)\" d=\"M2222.18 503.085 Q2218.57 503.085 2216.74 506.65 Q2214.94 510.191 2214.94 517.321 Q2214.94 524.427 2216.74 527.992 Q2218.57 531.534 2222.18 531.534 Q2225.82 531.534 2227.62 527.992 Q2229.45 524.427 2229.45 517.321 Q2229.45 510.191 2227.62 506.65 Q2225.82 503.085 2222.18 503.085 M2222.18 499.381 Q2227.99 499.381 2231.05 503.988 Q2234.13 508.571 2234.13 517.321 Q2234.13 526.048 2231.05 530.654 Q2227.99 535.238 2222.18 535.238 Q2216.37 535.238 2213.29 530.654 Q2210.24 526.048 2210.24 517.321 Q2210.24 508.571 2213.29 503.988 Q2216.37 499.381 2222.18 499.381 Z\" fill=\"#000000\" fill-rule=\"nonzero\" fill-opacity=\"1\" /><path clip-path=\"url(#clip980)\" d=\"M2255.19 504.08 L2243.38 522.529 L2255.19 522.529 L2255.19 504.08 M2253.96 500.006 L2259.84 500.006 L2259.84 522.529 L2264.77 522.529 L2264.77 526.418 L2259.84 526.418 L2259.84 534.566 L2255.19 534.566 L2255.19 526.418 L2239.59 526.418 L2239.59 521.904 L2253.96 500.006 Z\" fill=\"#000000\" fill-rule=\"nonzero\" fill-opacity=\"1\" /><path clip-path=\"url(#clip980)\" d=\"M2071.46 1198.02 L2074.33 1198.02 L2074.33 1224.95 Q2080.37 1224.56 2083.56 1221.32 Q2086.71 1218.04 2086.71 1212.21 Q2086.71 1208.84 2085.88 1205.69 Q2085.05 1202.51 2083.4 1199.39 L2088.94 1199.39 Q2090.27 1202.54 2090.97 1205.85 Q2091.67 1209.16 2091.67 1212.56 Q2091.67 1221.09 2086.71 1226.09 Q2081.74 1231.06 2073.28 1231.06 Q2064.52 1231.06 2059.4 1226.35 Q2054.24 1221.6 2054.24 1213.58 Q2054.24 1206.39 2058.89 1202.22 Q2063.5 1198.02 2071.46 1198.02 M2069.74 1203.87 Q2064.94 1203.94 2062.07 1206.58 Q2059.21 1209.19 2059.21 1213.52 Q2059.21 1218.42 2061.98 1221.38 Q2064.75 1224.31 2069.77 1224.75 L2069.74 1203.87 Z\" fill=\"#000000\" fill-rule=\"nonzero\" fill-opacity=\"1\" /><path clip-path=\"url(#clip980)\" d=\"M2060.58 1167.75 Q2060 1168.74 2059.75 1169.91 Q2059.46 1171.06 2059.46 1172.46 Q2059.46 1177.43 2062.71 1180.1 Q2065.92 1182.74 2071.97 1182.74 L2090.75 1182.74 L2090.75 1188.63 L2055.1 1188.63 L2055.1 1182.74 L2060.64 1182.74 Q2057.39 1180.89 2055.83 1177.93 Q2054.24 1174.97 2054.24 1170.74 Q2054.24 1170.14 2054.34 1169.4 Q2054.4 1168.67 2054.56 1167.78 L2060.58 1167.75 Z\" fill=\"#000000\" fill-rule=\"nonzero\" fill-opacity=\"1\" /><path clip-path=\"url(#clip980)\" d=\"M2060.58 1142.1 Q2060 1143.08 2059.75 1144.26 Q2059.46 1145.41 2059.46 1146.81 Q2059.46 1151.77 2062.71 1154.44 Q2065.92 1157.09 2071.97 1157.09 L2090.75 1157.09 L2090.75 1162.97 L2055.1 1162.97 L2055.1 1157.09 L2060.64 1157.09 Q2057.39 1155.24 2055.83 1152.28 Q2054.24 1149.32 2054.24 1145.09 Q2054.24 1144.48 2054.34 1143.75 Q2054.4 1143.02 2054.56 1142.13 L2060.58 1142.1 Z\" fill=\"#000000\" fill-rule=\"nonzero\" fill-opacity=\"1\" /><path clip-path=\"url(#clip980)\" d=\"M2068.06 1108.55 L2085.47 1108.55 L2085.47 1098.24 Q2085.47 1093.05 2083.33 1090.57 Q2081.17 1088.05 2076.74 1088.05 Q2072.29 1088.05 2070.19 1090.57 Q2068.06 1093.05 2068.06 1098.24 L2068.06 1108.55 M2048.51 1108.55 L2062.84 1108.55 L2062.84 1099.03 Q2062.84 1094.32 2061.09 1092.03 Q2059.3 1089.71 2055.67 1089.71 Q2052.08 1089.71 2050.3 1092.03 Q2048.51 1094.32 2048.51 1099.03 L2048.51 1108.55 M2043.23 1114.98 L2043.23 1098.55 Q2043.23 1091.2 2046.28 1087.22 Q2049.34 1083.24 2054.97 1083.24 Q2059.33 1083.24 2061.91 1085.28 Q2064.49 1087.32 2065.13 1091.27 Q2066.15 1086.52 2069.39 1083.91 Q2072.61 1081.27 2077.45 1081.27 Q2083.81 1081.27 2087.28 1085.6 Q2090.75 1089.93 2090.75 1097.92 L2090.75 1114.98 L2043.23 1114.98 Z\" fill=\"#000000\" fill-rule=\"nonzero\" fill-opacity=\"1\" /><path clip-path=\"url(#clip980)\" d=\"M2048.51 1063.83 L2066.37 1063.83 L2066.37 1055.74 Q2066.37 1051.26 2064.05 1048.81 Q2061.72 1046.36 2057.42 1046.36 Q2053.16 1046.36 2050.84 1048.81 Q2048.51 1051.26 2048.51 1055.74 L2048.51 1063.83 M2043.23 1070.26 L2043.23 1055.74 Q2043.23 1047.76 2046.86 1043.68 Q2050.45 1039.58 2057.42 1039.58 Q2064.46 1039.58 2068.06 1043.68 Q2071.65 1047.76 2071.65 1055.74 L2071.65 1063.83 L2090.75 1063.83 L2090.75 1070.26 L2043.23 1070.26 Z\" fill=\"#000000\" fill-rule=\"nonzero\" fill-opacity=\"1\" /><line clip-path=\"url(#clip983)\" x1=\"2368.62\" y1=\"2087.52\" x2=\"2368.62\" y2=\"2075.52\" style=\"stroke:#009af9; stroke-width:4.8; stroke-opacity:1\"/>\n",
       "<line clip-path=\"url(#clip983)\" x1=\"2368.62\" y1=\"2087.52\" x2=\"2356.62\" y2=\"2087.52\" style=\"stroke:#009af9; stroke-width:4.8; stroke-opacity:1\"/>\n",
       "<line clip-path=\"url(#clip983)\" x1=\"2368.62\" y1=\"2087.52\" x2=\"2368.62\" y2=\"2099.52\" style=\"stroke:#009af9; stroke-width:4.8; stroke-opacity:1\"/>\n",
       "<line clip-path=\"url(#clip983)\" x1=\"2368.62\" y1=\"2087.52\" x2=\"2380.62\" y2=\"2087.52\" style=\"stroke:#009af9; stroke-width:4.8; stroke-opacity:1\"/>\n",
       "<line clip-path=\"url(#clip983)\" x1=\"2818.33\" y1=\"183.116\" x2=\"2818.33\" y2=\"171.116\" style=\"stroke:#009af9; stroke-width:4.8; stroke-opacity:1\"/>\n",
       "<line clip-path=\"url(#clip983)\" x1=\"2818.33\" y1=\"183.116\" x2=\"2806.33\" y2=\"183.116\" style=\"stroke:#009af9; stroke-width:4.8; stroke-opacity:1\"/>\n",
       "<line clip-path=\"url(#clip983)\" x1=\"2818.33\" y1=\"183.116\" x2=\"2818.33\" y2=\"195.116\" style=\"stroke:#009af9; stroke-width:4.8; stroke-opacity:1\"/>\n",
       "<line clip-path=\"url(#clip983)\" x1=\"2818.33\" y1=\"183.116\" x2=\"2830.33\" y2=\"183.116\" style=\"stroke:#009af9; stroke-width:4.8; stroke-opacity:1\"/>\n",
       "<line clip-path=\"url(#clip983)\" x1=\"2930.75\" y1=\"1817.21\" x2=\"2930.75\" y2=\"1805.21\" style=\"stroke:#009af9; stroke-width:4.8; stroke-opacity:1\"/>\n",
       "<line clip-path=\"url(#clip983)\" x1=\"2930.75\" y1=\"1817.21\" x2=\"2918.75\" y2=\"1817.21\" style=\"stroke:#009af9; stroke-width:4.8; stroke-opacity:1\"/>\n",
       "<line clip-path=\"url(#clip983)\" x1=\"2930.75\" y1=\"1817.21\" x2=\"2930.75\" y2=\"1829.21\" style=\"stroke:#009af9; stroke-width:4.8; stroke-opacity:1\"/>\n",
       "<line clip-path=\"url(#clip983)\" x1=\"2930.75\" y1=\"1817.21\" x2=\"2942.75\" y2=\"1817.21\" style=\"stroke:#009af9; stroke-width:4.8; stroke-opacity:1\"/>\n",
       "<line clip-path=\"url(#clip983)\" x1=\"3043.18\" y1=\"2087.52\" x2=\"3043.18\" y2=\"2075.52\" style=\"stroke:#009af9; stroke-width:4.8; stroke-opacity:1\"/>\n",
       "<line clip-path=\"url(#clip983)\" x1=\"3043.18\" y1=\"2087.52\" x2=\"3031.18\" y2=\"2087.52\" style=\"stroke:#009af9; stroke-width:4.8; stroke-opacity:1\"/>\n",
       "<line clip-path=\"url(#clip983)\" x1=\"3043.18\" y1=\"2087.52\" x2=\"3043.18\" y2=\"2099.52\" style=\"stroke:#009af9; stroke-width:4.8; stroke-opacity:1\"/>\n",
       "<line clip-path=\"url(#clip983)\" x1=\"3043.18\" y1=\"2087.52\" x2=\"3055.18\" y2=\"2087.52\" style=\"stroke:#009af9; stroke-width:4.8; stroke-opacity:1\"/>\n",
       "<line clip-path=\"url(#clip983)\" x1=\"3155.61\" y1=\"2087.52\" x2=\"3155.61\" y2=\"2075.52\" style=\"stroke:#009af9; stroke-width:4.8; stroke-opacity:1\"/>\n",
       "<line clip-path=\"url(#clip983)\" x1=\"3155.61\" y1=\"2087.52\" x2=\"3143.61\" y2=\"2087.52\" style=\"stroke:#009af9; stroke-width:4.8; stroke-opacity:1\"/>\n",
       "<line clip-path=\"url(#clip983)\" x1=\"3155.61\" y1=\"2087.52\" x2=\"3155.61\" y2=\"2099.52\" style=\"stroke:#009af9; stroke-width:4.8; stroke-opacity:1\"/>\n",
       "<line clip-path=\"url(#clip983)\" x1=\"3155.61\" y1=\"2087.52\" x2=\"3167.61\" y2=\"2087.52\" style=\"stroke:#009af9; stroke-width:4.8; stroke-opacity:1\"/>\n",
       "<line clip-path=\"url(#clip983)\" x1=\"3268.03\" y1=\"2087.52\" x2=\"3268.03\" y2=\"2075.52\" style=\"stroke:#009af9; stroke-width:4.8; stroke-opacity:1\"/>\n",
       "<line clip-path=\"url(#clip983)\" x1=\"3268.03\" y1=\"2087.52\" x2=\"3256.03\" y2=\"2087.52\" style=\"stroke:#009af9; stroke-width:4.8; stroke-opacity:1\"/>\n",
       "<line clip-path=\"url(#clip983)\" x1=\"3268.03\" y1=\"2087.52\" x2=\"3268.03\" y2=\"2099.52\" style=\"stroke:#009af9; stroke-width:4.8; stroke-opacity:1\"/>\n",
       "<line clip-path=\"url(#clip983)\" x1=\"3268.03\" y1=\"2087.52\" x2=\"3280.03\" y2=\"2087.52\" style=\"stroke:#009af9; stroke-width:4.8; stroke-opacity:1\"/>\n",
       "<line clip-path=\"url(#clip983)\" x1=\"3380.46\" y1=\"2087.52\" x2=\"3380.46\" y2=\"2075.52\" style=\"stroke:#009af9; stroke-width:4.8; stroke-opacity:1\"/>\n",
       "<line clip-path=\"url(#clip983)\" x1=\"3380.46\" y1=\"2087.52\" x2=\"3368.46\" y2=\"2087.52\" style=\"stroke:#009af9; stroke-width:4.8; stroke-opacity:1\"/>\n",
       "<line clip-path=\"url(#clip983)\" x1=\"3380.46\" y1=\"2087.52\" x2=\"3380.46\" y2=\"2099.52\" style=\"stroke:#009af9; stroke-width:4.8; stroke-opacity:1\"/>\n",
       "<line clip-path=\"url(#clip983)\" x1=\"3380.46\" y1=\"2087.52\" x2=\"3392.46\" y2=\"2087.52\" style=\"stroke:#009af9; stroke-width:4.8; stroke-opacity:1\"/>\n",
       "<line clip-path=\"url(#clip983)\" x1=\"3492.89\" y1=\"2087.52\" x2=\"3492.89\" y2=\"2075.52\" style=\"stroke:#009af9; stroke-width:4.8; stroke-opacity:1\"/>\n",
       "<line clip-path=\"url(#clip983)\" x1=\"3492.89\" y1=\"2087.52\" x2=\"3480.89\" y2=\"2087.52\" style=\"stroke:#009af9; stroke-width:4.8; stroke-opacity:1\"/>\n",
       "<line clip-path=\"url(#clip983)\" x1=\"3492.89\" y1=\"2087.52\" x2=\"3492.89\" y2=\"2099.52\" style=\"stroke:#009af9; stroke-width:4.8; stroke-opacity:1\"/>\n",
       "<line clip-path=\"url(#clip983)\" x1=\"3492.89\" y1=\"2087.52\" x2=\"3504.89\" y2=\"2087.52\" style=\"stroke:#009af9; stroke-width:4.8; stroke-opacity:1\"/>\n",
       "<line clip-path=\"url(#clip983)\" x1=\"3605.32\" y1=\"2087.52\" x2=\"3605.32\" y2=\"2075.52\" style=\"stroke:#009af9; stroke-width:4.8; stroke-opacity:1\"/>\n",
       "<line clip-path=\"url(#clip983)\" x1=\"3605.32\" y1=\"2087.52\" x2=\"3593.32\" y2=\"2087.52\" style=\"stroke:#009af9; stroke-width:4.8; stroke-opacity:1\"/>\n",
       "<line clip-path=\"url(#clip983)\" x1=\"3605.32\" y1=\"2087.52\" x2=\"3605.32\" y2=\"2099.52\" style=\"stroke:#009af9; stroke-width:4.8; stroke-opacity:1\"/>\n",
       "<line clip-path=\"url(#clip983)\" x1=\"3605.32\" y1=\"2087.52\" x2=\"3617.32\" y2=\"2087.52\" style=\"stroke:#009af9; stroke-width:4.8; stroke-opacity:1\"/>\n",
       "<line clip-path=\"url(#clip983)\" x1=\"3717.74\" y1=\"2087.52\" x2=\"3717.74\" y2=\"2075.52\" style=\"stroke:#009af9; stroke-width:4.8; stroke-opacity:1\"/>\n",
       "<line clip-path=\"url(#clip983)\" x1=\"3717.74\" y1=\"2087.52\" x2=\"3705.74\" y2=\"2087.52\" style=\"stroke:#009af9; stroke-width:4.8; stroke-opacity:1\"/>\n",
       "<line clip-path=\"url(#clip983)\" x1=\"3717.74\" y1=\"2087.52\" x2=\"3717.74\" y2=\"2099.52\" style=\"stroke:#009af9; stroke-width:4.8; stroke-opacity:1\"/>\n",
       "<line clip-path=\"url(#clip983)\" x1=\"3717.74\" y1=\"2087.52\" x2=\"3729.74\" y2=\"2087.52\" style=\"stroke:#009af9; stroke-width:4.8; stroke-opacity:1\"/>\n",
       "<line clip-path=\"url(#clip983)\" x1=\"3830.17\" y1=\"2087.52\" x2=\"3830.17\" y2=\"2075.52\" style=\"stroke:#009af9; stroke-width:4.8; stroke-opacity:1\"/>\n",
       "<line clip-path=\"url(#clip983)\" x1=\"3830.17\" y1=\"2087.52\" x2=\"3818.17\" y2=\"2087.52\" style=\"stroke:#009af9; stroke-width:4.8; stroke-opacity:1\"/>\n",
       "<line clip-path=\"url(#clip983)\" x1=\"3830.17\" y1=\"2087.52\" x2=\"3830.17\" y2=\"2099.52\" style=\"stroke:#009af9; stroke-width:4.8; stroke-opacity:1\"/>\n",
       "<line clip-path=\"url(#clip983)\" x1=\"3830.17\" y1=\"2087.52\" x2=\"3842.17\" y2=\"2087.52\" style=\"stroke:#009af9; stroke-width:4.8; stroke-opacity:1\"/>\n",
       "<path clip-path=\"url(#clip980)\" d=\"M3535.32 296.953 L3822.37 296.953 L3822.37 193.273 L3535.32 193.273  Z\" fill=\"#ffffff\" fill-rule=\"evenodd\" fill-opacity=\"1\"/>\n",
       "<polyline clip-path=\"url(#clip980)\" style=\"stroke:#000000; stroke-linecap:round; stroke-linejoin:round; stroke-width:4; stroke-opacity:1; fill:none\" points=\"3535.32,296.953 3822.37,296.953 3822.37,193.273 3535.32,193.273 3535.32,296.953 \"/>\n",
       "<line clip-path=\"url(#clip980)\" x1=\"3604.18\" y1=\"245.113\" x2=\"3604.18\" y2=\"223.17\" style=\"stroke:#009af9; stroke-width:8.77714; stroke-opacity:1\"/>\n",
       "<line clip-path=\"url(#clip980)\" x1=\"3604.18\" y1=\"245.113\" x2=\"3582.23\" y2=\"245.113\" style=\"stroke:#009af9; stroke-width:8.77714; stroke-opacity:1\"/>\n",
       "<line clip-path=\"url(#clip980)\" x1=\"3604.18\" y1=\"245.113\" x2=\"3604.18\" y2=\"267.056\" style=\"stroke:#009af9; stroke-width:8.77714; stroke-opacity:1\"/>\n",
       "<line clip-path=\"url(#clip980)\" x1=\"3604.18\" y1=\"245.113\" x2=\"3626.12\" y2=\"245.113\" style=\"stroke:#009af9; stroke-width:8.77714; stroke-opacity:1\"/>\n",
       "<path clip-path=\"url(#clip980)\" d=\"M3691.94 249.129 Q3691.94 244.5 3690.02 241.953 Q3688.12 239.407 3684.68 239.407 Q3681.25 239.407 3679.33 241.953 Q3677.43 244.5 3677.43 249.129 Q3677.43 253.736 3679.33 256.282 Q3681.25 258.828 3684.68 258.828 Q3688.12 258.828 3690.02 256.282 Q3691.94 253.736 3691.94 249.129 M3696.2 259.175 Q3696.2 265.796 3693.26 269.013 Q3690.32 272.254 3684.26 272.254 Q3682.01 272.254 3680.02 271.907 Q3678.03 271.583 3676.16 270.888 L3676.16 266.745 Q3678.03 267.763 3679.86 268.249 Q3681.69 268.736 3683.59 268.736 Q3687.78 268.736 3689.86 266.537 Q3691.94 264.361 3691.94 259.939 L3691.94 257.833 Q3690.62 260.125 3688.56 261.259 Q3686.5 262.393 3683.63 262.393 Q3678.86 262.393 3675.95 258.759 Q3673.03 255.125 3673.03 249.129 Q3673.03 243.111 3675.95 239.476 Q3678.86 235.842 3683.63 235.842 Q3686.5 235.842 3688.56 236.977 Q3690.62 238.111 3691.94 240.402 L3691.94 236.467 L3696.2 236.467 L3696.2 259.175 Z\" fill=\"#000000\" fill-rule=\"nonzero\" fill-opacity=\"1\" /><path clip-path=\"url(#clip980)\" d=\"M3720 240.449 Q3719.28 240.032 3718.42 239.847 Q3717.59 239.639 3716.57 239.639 Q3712.96 239.639 3711.02 242 Q3709.1 244.338 3709.1 248.736 L3709.1 262.393 L3704.81 262.393 L3704.81 236.467 L3709.1 236.467 L3709.1 240.495 Q3710.44 238.134 3712.59 237 Q3714.74 235.842 3717.82 235.842 Q3718.26 235.842 3718.8 235.912 Q3719.33 235.958 3719.98 236.074 L3720 240.449 Z\" fill=\"#000000\" fill-rule=\"nonzero\" fill-opacity=\"1\" /><path clip-path=\"url(#clip980)\" d=\"M3736.25 249.361 Q3731.09 249.361 3729.1 250.541 Q3727.11 251.722 3727.11 254.569 Q3727.11 256.838 3728.59 258.18 Q3730.09 259.5 3732.66 259.5 Q3736.2 259.5 3738.33 257 Q3740.48 254.476 3740.48 250.31 L3740.48 249.361 L3736.25 249.361 M3744.74 247.601 L3744.74 262.393 L3740.48 262.393 L3740.48 258.458 Q3739.03 260.819 3736.85 261.953 Q3734.67 263.064 3731.53 263.064 Q3727.55 263.064 3725.18 260.842 Q3722.85 258.597 3722.85 254.847 Q3722.85 250.472 3725.76 248.25 Q3728.7 246.027 3734.51 246.027 L3740.48 246.027 L3740.48 245.611 Q3740.48 242.671 3738.54 241.074 Q3736.62 239.453 3733.12 239.453 Q3730.9 239.453 3728.8 239.986 Q3726.69 240.518 3724.74 241.583 L3724.74 237.648 Q3727.08 236.745 3729.28 236.305 Q3731.48 235.842 3733.56 235.842 Q3739.19 235.842 3741.97 238.759 Q3744.74 241.676 3744.74 247.601 Z\" fill=\"#000000\" fill-rule=\"nonzero\" fill-opacity=\"1\" /><path clip-path=\"url(#clip980)\" d=\"M3757.64 258.504 L3757.64 272.254 L3753.36 272.254 L3753.36 236.467 L3757.64 236.467 L3757.64 240.402 Q3758.98 238.088 3761.02 236.977 Q3763.08 235.842 3765.92 235.842 Q3770.65 235.842 3773.59 239.592 Q3776.55 243.342 3776.55 249.453 Q3776.55 255.564 3773.59 259.314 Q3770.65 263.064 3765.92 263.064 Q3763.08 263.064 3761.02 261.953 Q3758.98 260.819 3757.64 258.504 M3772.13 249.453 Q3772.13 244.754 3770.18 242.092 Q3768.26 239.407 3764.88 239.407 Q3761.5 239.407 3759.56 242.092 Q3757.64 244.754 3757.64 249.453 Q3757.64 254.152 3759.56 256.838 Q3761.5 259.5 3764.88 259.5 Q3768.26 259.5 3770.18 256.838 Q3772.13 254.152 3772.13 249.453 Z\" fill=\"#000000\" fill-rule=\"nonzero\" fill-opacity=\"1\" /><path clip-path=\"url(#clip980)\" d=\"M3805.16 246.745 L3805.16 262.393 L3800.9 262.393 L3800.9 246.884 Q3800.9 243.203 3799.47 241.375 Q3798.03 239.546 3795.16 239.546 Q3791.71 239.546 3789.72 241.745 Q3787.73 243.944 3787.73 247.74 L3787.73 262.393 L3783.45 262.393 L3783.45 226.375 L3787.73 226.375 L3787.73 240.495 Q3789.26 238.157 3791.32 237 Q3793.4 235.842 3796.11 235.842 Q3800.58 235.842 3802.87 238.62 Q3805.16 241.375 3805.16 246.745 Z\" fill=\"#000000\" fill-rule=\"nonzero\" fill-opacity=\"1\" /></svg>\n"
      ]
     },
     "execution_count": 8,
     "metadata": {},
     "output_type": "execute_result"
    }
   ],
   "source": [
    "pstab_1=plot(yaxis=\"stab param\", xaxis=L\"γ\")\n",
    "scatter!(pstab_1,γ_range_1,mean_stab_1, yerr=std_stab_1, label=\"graph\", markershape=:+, markerstrokewidth=1, markersize = 3)\n",
    "#scatter!(pstab_1,γ_range,mean_stab, yerr=std_stab, label=\"pop\", markershape=:+, markerstrokewidth=1, markersize = 3);\n",
    "\n",
    "perr_1=plot(yaxis=\"err BP\", xaxis=L\"γ\")\n",
    "scatter!(perr_1,γ_range_1,mean_err_1, yerr=std_err_1, label=\"graph\", markershape=:+, markerstrokewidth=1, markersize = 3)\n",
    "#scatter!(perr_1,γ_range,mean_err, yerr=std_err, label=\"pop\", markershape=:+, markerstrokewidth=1, markersize = 3);\n",
    "\n",
    "pγ_1= plot(pstab_1, perr_1, size=(1000,600), layout=(1,2), margin=6*Plots.mm)#, plot_title=pTIT)"
   ]
  },
  {
   "cell_type": "markdown",
   "metadata": {},
   "source": [
    "# loop on γ (1 run per γ)"
   ]
  },
  {
   "cell_type": "code",
   "execution_count": null,
   "metadata": {},
   "outputs": [],
   "source": [
    "T=8\n",
    "LAM=1.0\n",
    "pfits = plot(xaxis=\"γ\", title=\"stability parameter: T=\"*string(T)*\", λ=\"*string(LAM));"
   ]
  },
  {
   "cell_type": "code",
   "execution_count": null,
   "metadata": {},
   "outputs": [],
   "source": [
    "N=10000\n",
    "iter=500"
   ]
  },
  {
   "cell_type": "code",
   "execution_count": null,
   "metadata": {
    "scrolled": true
   },
   "outputs": [],
   "source": [
    "extension=\"\"\n",
    "\n",
    "println(\"#1.γ \\t 2.Δ[t=end] \\t 3.λ(geometrical mean) \\t 3.λ(fit)\")\n",
    "res_nbiter = []\n",
    "res_finalΔ = []\n",
    "res_geomean = []\n",
    "res_fit = []\n",
    "\n",
    "g18 = [0.018, 0.0181, 0.0182, 0.0183, 0.0184, 0.0185, 0.0186, 0.0188]\n",
    "g19 = [0.019, 0.0192, 0.0196]\n",
    "g20 = [0.02, 0.0205, 0.021, 0.022, 0.03]\n",
    "GAM_range = vcat(g18,g19,g20)\n",
    "\n",
    "for GAM in GAM_range\n",
    "    foldergam=\"gam\"*string(GAM)*\"/\"\n",
    "    nameparams=\"T\"*string(T)*\"_LAM\"*string(LAM)*\"_GAM\"*string(GAM)*\"_N\"*string(N)*\"_iter\"*string(iter)\n",
    "    namefile = path*foldergam*\"fileres_epid_stab_\"*nameparams*extension\n",
    "    file = readdlm(namefile);\n",
    "    res = file[3:end,1:4];\n",
    "\n",
    "    iter_full=findall(.!isnan.(res[:,1]));\n",
    "    halfiter=Int64(iter/2)+2\n",
    "    iter_Δ = findall([(!isinf(res[j,4])&&!isnan(res[j,4])) for j in iter_full])\n",
    "\n",
    "    log_Δ = log.(res[iter_Δ[halfiter:end],4])\n",
    "\n",
    "    if res[iter_Δ[end],4] < 1\n",
    "        #geometrical mean\n",
    "        ratio_Δ = [abs(res[i,4]/res[i-1,4]) for i in iter_Δ[halfiter:end]]\n",
    "        frac_cut = 3\n",
    "        lsta = Int64(round(length(ratio_Δ)/frac_cut))\n",
    "        lend = length(ratio_Δ)-lsta\n",
    "        lmid=Int64(round((lend+lsta)/2))\n",
    "        gmΔ = prod(ratio_Δ[lsta:lend])^(1/length(lsta:lend))\n",
    "\n",
    "        #linear fit\n",
    "        log_Δ_cut = log_Δ[lsta:lend]\n",
    "        (a,b)=linear_fit(lsta:lend, log_Δ_cut)\n",
    "        sfitΔ = exp(b)\n",
    "        \n",
    "    else\n",
    "        gmΔ=Inf\n",
    "        sfitΔ = Inf\n",
    "    end\n",
    "    println(GAM, \"\\t\", res[iter_Δ[end],4], \"\\t\", gmΔ, \"\\t\", sfitΔ)\n",
    "    append!(res_nbiter, iter_full[end])\n",
    "    append!(res_finalΔ, res[iter_Δ[end],4])\n",
    "    append!(res_geomean, gmΔ)\n",
    "    append!(res_fit, sfitΔ)\n",
    "    \n",
    "end"
   ]
  },
  {
   "cell_type": "code",
   "execution_count": null,
   "metadata": {
    "scrolled": true
   },
   "outputs": [],
   "source": [
    "scatter!(pfits, GAM_range, res_fit, label=\"large IC N=\"*string(N), markershape=:+, markerstrokewidth=1, markersize = 4)\n",
    "#scatter!(pfits, GAM_range, res_geomean, label=\"geo N=\"*string(N), markershape=:+, markerstrokewidth=2, markersize = 4)"
   ]
  },
  {
   "cell_type": "code",
   "execution_count": null,
   "metadata": {},
   "outputs": [],
   "source": [
    "extension=\"_run101\"\n",
    "\n",
    "println(\"#1.γ \\t 2.Δ[t=end] \\t 3.λ(geometrical mean) \\t 3.λ(fit)\")\n",
    "res_nbiter_101 = []\n",
    "res_finalΔ_101 = []\n",
    "res_geomean_101 = []\n",
    "res_fit_101 = []\n",
    "\n",
    "GAM_range_101 = [0.018, 0.0182, 0.0185, 0.019, 0.02]\n",
    "\n",
    "\n",
    "for GAM in GAM_range_101\n",
    "    foldergam=\"gam\"*string(GAM)*\"/\"\n",
    "    nameparams=\"T\"*string(T)*\"_LAM\"*string(LAM)*\"_GAM\"*string(GAM)*\"_N\"*string(N)*\"_iter\"*string(iter)\n",
    "    namefile = path*foldergam*\"fileres_epid_stab_\"*nameparams*extension\n",
    "    file = readdlm(namefile);\n",
    "    res = file[3:end,1:4];\n",
    "\n",
    "    iter_full=findall(.!isnan.(res[:,1]));\n",
    "    halfiter=Int64(iter/2)+2\n",
    "    iter_Δ = findall([(!isinf(res[j,4])&&!isnan(res[j,4])) for j in iter_full])\n",
    "\n",
    "    log_Δ = log.(res[iter_Δ[halfiter:end],4])\n",
    "\n",
    "    if res[iter_Δ[end],4] < 1\n",
    "        #geometrical mean\n",
    "        ratio_Δ = [abs(res[i,4]/res[i-1,4]) for i in iter_Δ[halfiter:end]]\n",
    "        frac_cut = 3\n",
    "        lsta = Int64(round(length(ratio_Δ)/frac_cut))\n",
    "        lend = length(ratio_Δ)-lsta\n",
    "        lmid=Int64(round((lend+lsta)/2))\n",
    "        gmΔ = prod(ratio_Δ[lsta:lend])^(1/length(lsta:lend))\n",
    "\n",
    "        #linear fit\n",
    "        log_Δ_cut = log_Δ[lsta:lend]\n",
    "        (a,b)=linear_fit(lsta:lend, log_Δ_cut)\n",
    "        sfitΔ = exp(b)\n",
    "        \n",
    "    else\n",
    "        gmΔ=Inf\n",
    "        sfitΔ = Inf\n",
    "    end\n",
    "    println(GAM, \"\\t\", res[iter_Δ[end],4], \"\\t\", gmΔ, \"\\t\", sfitΔ)\n",
    "    append!(res_nbiter_101, iter_full[end])\n",
    "    append!(res_finalΔ_101, res[iter_Δ[end],4])\n",
    "    append!(res_geomean_101, gmΔ)\n",
    "    append!(res_fit_101, sfitΔ)\n",
    "    \n",
    "end"
   ]
  },
  {
   "cell_type": "code",
   "execution_count": null,
   "metadata": {},
   "outputs": [],
   "source": [
    "scatter!(pfits, GAM_range_101, res_fit_101, label=\"small IC N=\"*string(N), markershape=:x, markerstrokewidth=1, markersize = 4)\n",
    "#scatter!(pfits, GAM_range_101, res_geomean_101, label=\"geo2 N=\"*string(N), markershape=:x, markerstrokewidth=2, markersize = 4)"
   ]
  },
  {
   "cell_type": "code",
   "execution_count": null,
   "metadata": {},
   "outputs": [],
   "source": [
    "#savefig(pfits, \"checkIC_T\"*string(T)*\"_LAM\"*string(LAM)*\".pdf\")"
   ]
  },
  {
   "cell_type": "code",
   "execution_count": null,
   "metadata": {},
   "outputs": [],
   "source": [
    "fitrange = 0.013:0.001:0.03\n",
    "\n",
    "#fit a_s*(x-c_s)\n",
    "a_s             = 53.308           #+/- 0.7836       (1.47%)\n",
    "c_s             = 0.0165002        #+/- 4.744e-05    (0.2875%)\n",
    "pfs=plot(yaxis=\"(1-stab_param)^2\",xaxis=\"γ\")\n",
    "scatter!(pfs, GAM_range, (1.0 .-res_geomean).^2, label=\"N=\"*string(N), markershape=:+)\n",
    "plot!(pfs, fitrange, a_s.*(fitrange.-c_s), label=\"linear fit\")\n",
    "hline!(pfs, [0], label=\"\")"
   ]
  },
  {
   "cell_type": "code",
   "execution_count": null,
   "metadata": {},
   "outputs": [],
   "source": [
    "#fit lin a_l*x+b_l\n",
    "a_l             = 77.1548          #+/- 1.094        (1.418%)\n",
    "c_l             = 0.0142685        #+/- 6.099e-05    (0.4275%)\n",
    "#fit quad a_q*(x**2)+b_q*x+c_q\n",
    "a_q             = -3440.57         #+/- 662.6        (19.26%)\n",
    "b_q             = 201.457          #+/- 26.36        (13.09%)\n",
    "c_q             = -2.22298         #+/- 0.2613       (11.76%)\n",
    "#find zeros\n",
    "disc=b_q^2-4*a_q*c_q\n",
    "sol1, sol2 = (-b_q-sqrt(disc))/(2*a_q), (-b_q+sqrt(disc))/(2*a_q)"
   ]
  },
  {
   "cell_type": "code",
   "execution_count": null,
   "metadata": {},
   "outputs": [],
   "source": [
    "pflq=plot(yaxis=\"1-stab_param\",xaxis=\"γ\")\n",
    "scatter!(pflq, GAM_range, (1.0 .-res_geomean), label=\"N=\"*string(N), markershape=:+)\n",
    "plot!(pflq, fitrange, a_l.*(fitrange.-c_l), label=\"linear\")\n",
    "plot!(pflq, fitrange, a_q.*(fitrange.^2).+b_q.*fitrange.+c_q, label=\"quadratic\")\n",
    "hline!(pflq, [0], label=\"\")"
   ]
  },
  {
   "cell_type": "code",
   "execution_count": null,
   "metadata": {},
   "outputs": [],
   "source": [
    "plot(pfs, pflq, size=(800,400), margin=6*Plots.mm, plot_title=\"comparison fits (T=\"*string(T)*\", λ=\"*string(LAM)*\")\")"
   ]
  },
  {
   "cell_type": "code",
   "execution_count": null,
   "metadata": {},
   "outputs": [],
   "source": [
    "#savefig(\"fit_stability_parameter_T\"*string(T)*\"_LAM\"*string(LAM)*\".pdf\")"
   ]
  },
  {
   "cell_type": "markdown",
   "metadata": {},
   "source": [
    "# size study at γ=0.0182"
   ]
  },
  {
   "cell_type": "code",
   "execution_count": null,
   "metadata": {
    "scrolled": false
   },
   "outputs": [],
   "source": []
  },
  {
   "cell_type": "code",
   "execution_count": null,
   "metadata": {},
   "outputs": [],
   "source": [
    "T=8\n",
    "LAM=1.0\n",
    "GAM=0.0183\n",
    "path = \"tmp_stab/res_epid_stab/gam\"*string(GAM)*\"/\"\n",
    "iter=500\n",
    "N_range=[50000]#[5000, 10000, 50000, 100000]\n",
    "#runs_range = 1:10\n",
    "runs_range = 101:110"
   ]
  },
  {
   "cell_type": "code",
   "execution_count": null,
   "metadata": {},
   "outputs": [],
   "source": [
    "gam_res = zeros(length(N_range), length(runs_range));\n",
    "err_res = zeros(length(N_range), length(runs_range));\n",
    "list_AUC = []\n",
    "list_pla = []\n",
    "list_inf = [];"
   ]
  },
  {
   "cell_type": "code",
   "execution_count": null,
   "metadata": {},
   "outputs": [],
   "source": [
    "for isiz in 1:length(N_range)\n",
    "    for irun in 1:length(runs_range)\n",
    "        run=runs_range[irun]\n",
    "        N=N_range[isiz]\n",
    "\n",
    "        nameparams = \"_T\"*string(T)*\"_LAM\"*string(LAM)*\"_GAM\"*string(GAM)*\"_N\"*string(N)*\"_iter\"*string(iter)\n",
    "        extension = \"_run\"\n",
    "        namefile = path*\"fileres_epid_stab\"*nameparams*extension*string(run)\n",
    "        nameobs =  path*\"obs_epid_stab\"*nameparams*extension*string(run)\n",
    "\n",
    "        file = readdlm(namefile);\n",
    "        fobs = readdlm(nameobs);\n",
    "\n",
    "        res = file[3:end,1:4]\n",
    "        iter_full=findall(.!isnan.(res[:,1]))\n",
    "        halfiter=Int64(iter/2)+2\n",
    "        iter_Δ = findall([(!isinf(res[j,4])&&!isnan(res[j,4])) for j in iter_full])\n",
    "\n",
    "        if res[iter_Δ[end],4] < 1\n",
    "            #geometrical mean\n",
    "            ratio_Δ = [abs(res[i,4]/res[i-1,4]) for i in iter_Δ[halfiter:end]]\n",
    "            frac_cut = 3\n",
    "            lsta = Int64(round(length(ratio_Δ)/frac_cut))\n",
    "            lend = length(ratio_Δ)-lsta\n",
    "            gmΔ = prod(ratio_Δ[lsta:lend])^(1/length(lsta:lend))        \n",
    "            #linear fit\n",
    "            log_Δ = log.(res[iter_Δ[halfiter:end],4])\n",
    "            log_Δ_cut = log_Δ[lsta:lend]\n",
    "            (a,b)=linear_fit(lsta:lend, log_Δ_cut)\n",
    "            sfitΔ = exp(b)\n",
    "        else\n",
    "            gmΔ=Inf\n",
    "            sfitΔ=Inf\n",
    "        end\n",
    "        \n",
    "        err=res[end-1,2]\n",
    "        err_res[isiz,irun]=err\n",
    "        #@show N, run, err\n",
    "        \n",
    "        gam_res[isiz,irun]=sfitΔ\n",
    "\n",
    "        res_obs = fobs[3:end,:]\n",
    "        half_obs = 3*Int64(round(size(res_obs)[1]/6))\n",
    "        end_obs = size(res_obs)[1]\n",
    "        half_obs, end_obs\n",
    "        inds_AUC=[mod(i,3) == 0 && i>half_obs for i in 1:end_obs]\n",
    "        inds_pla=[mod(i,3) == 1 && i>half_obs for i in 1:end_obs]\n",
    "        inds_inf=[mod(i,3) == 2 && i>half_obs for i in 1:end_obs];\n",
    "        mean_AUC = mean(res_obs[inds_AUC,2:end], dims=1)[1,:]\n",
    "        std_AUC = std(res_obs[inds_AUC,2:end], dims=1)[1,:]\n",
    "        mean_inf = mean(res_obs[inds_inf,2:end], dims=1)[1,:]\n",
    "        std_inf = std(res_obs[inds_inf,2:end], dims=1)[1,:]\n",
    "        mean_pla = mean(res_obs[inds_pla,2:end], dims=1)[1,:]\n",
    "        std_pla = std(res_obs[inds_pla,2:end], dims=1)[1,:];\n",
    "        \n",
    "        push!(list_AUC, [N_range[isiz], run, mean_AUC, std_AUC])\n",
    "        push!(list_pla, [N_range[isiz], run, mean_pla, std_pla])\n",
    "        push!(list_inf, [N_range[isiz], run, mean_inf, std_inf]);\n",
    "    end\n",
    "end"
   ]
  },
  {
   "cell_type": "code",
   "execution_count": null,
   "metadata": {},
   "outputs": [],
   "source": [
    "for isiz in 1:length(N_range)\n",
    "    N=N_range[isiz]\n",
    "    mean_err=mean(err_res[isiz,:])\n",
    "    std_err=std(err_res[isiz,:])\n",
    "    @show isiz, mean_err, std_err\n",
    "end"
   ]
  },
  {
   "cell_type": "code",
   "execution_count": null,
   "metadata": {},
   "outputs": [],
   "source": [
    "permutedims(err_res)"
   ]
  },
  {
   "cell_type": "code",
   "execution_count": null,
   "metadata": {},
   "outputs": [],
   "source": [
    "permutedims(gam_res)"
   ]
  },
  {
   "cell_type": "code",
   "execution_count": null,
   "metadata": {},
   "outputs": [],
   "source": []
  },
  {
   "cell_type": "code",
   "execution_count": null,
   "metadata": {},
   "outputs": [],
   "source": [
    "frac_conv = sum(.!isinf.(gam_res), dims=2)./length(runs_range)\n",
    "mean_stab = zeros(length(N_range))\n",
    "std_stab = zeros(length(N_range));\n",
    "for isiz in 1:length(N_range)\n",
    "    N=N_range[isiz]\n",
    "    indicesconv=.!isinf.(gam_res[isiz,:])\n",
    "    mean_stab[isiz]=mean(gam_res[isiz,indicesconv])\n",
    "    std_stab[isiz]=std(gam_res[isiz,indicesconv])\n",
    "end"
   ]
  },
  {
   "cell_type": "code",
   "execution_count": null,
   "metadata": {},
   "outputs": [],
   "source": [
    "hcat(mean_stab,std_stab)"
   ]
  },
  {
   "cell_type": "code",
   "execution_count": null,
   "metadata": {},
   "outputs": [],
   "source": [
    "pstab=plot(yaxis=\"stab param\", xaxis=\"log_10(size)\")\n",
    "scatter!(pstab,log.(N_range)./log(10),mean_stab, yerr=std_stab, label=\"\");\n",
    "pconv=plot(yaxis=\"fraction runs with Δ converged\", xaxis=\"log_10(size)\")\n",
    "scatter!(pconv, log.(N_range)./log(10),frac_conv, label=\"\");\n",
    "pTIT=\"size comparison at γ=\"*string(GAM)*\" (10runs) (T=\"*string(T)*\", λ=\"*string(LAM)*\")\"\n",
    "plot(pstab, pconv, size=(900,400), margin=6*Plots.mm, plot_title=pTIT)"
   ]
  },
  {
   "cell_type": "code",
   "execution_count": null,
   "metadata": {},
   "outputs": [],
   "source": [
    "#savefig(\"sizestudy_stability_parameter_T\"*string(T)*\"_LAM\"*string(LAM)*\"_γ\"*string(GAM)*\".pdf\")"
   ]
  },
  {
   "cell_type": "code",
   "execution_count": null,
   "metadata": {
    "scrolled": false
   },
   "outputs": [],
   "source": [
    "isinf.(gam_res)"
   ]
  },
  {
   "cell_type": "code",
   "execution_count": null,
   "metadata": {},
   "outputs": [],
   "source": [
    "iconv=22\n",
    "idiv=28;"
   ]
  },
  {
   "cell_type": "code",
   "execution_count": null,
   "metadata": {
    "scrolled": true
   },
   "outputs": [],
   "source": [
    "pAUC = plot(xaxis=\"epid time\", yaxis=\"AUC\")\n",
    "scatter!(pAUC, 1:(T+1), list_AUC[iconv][3], yerr=list_AUC[iconv][4], label=\"Δ converged\", markerstrokecolor = :auto)\n",
    "scatter!(pAUC, 1:(T+1), list_AUC[idiv][3], yerr=list_AUC[idiv][4], label=\"Δ diverged\", markerstrokecolor = :auto);"
   ]
  },
  {
   "cell_type": "code",
   "execution_count": null,
   "metadata": {},
   "outputs": [],
   "source": [
    "ppla = plot(xaxis=\"epid time\", yaxis=\"planted marg\")\n",
    "scatter!(ppla, 1:(T+1), list_pla[iconv][3], yerr=list_pla[iconv][4], label=\"Δ converged\", markerstrokecolor = :auto)\n",
    "scatter!(ppla, 1:(T+1), list_pla[idiv][3], yerr=list_pla[idiv][4], label=\"Δ diverged\", markerstrokecolor = :auto);"
   ]
  },
  {
   "cell_type": "code",
   "execution_count": null,
   "metadata": {},
   "outputs": [],
   "source": [
    "pinf = plot(xaxis=\"epid time\", yaxis=\"inferred marg\")\n",
    "scatter!(pinf, 1:(T+1), list_inf[iconv][3], yerr=list_inf[iconv][4], label=\"Δ converged\", markerstrokecolor = :auto)\n",
    "scatter!(pinf, 1:(T+1), list_inf[idiv][3], yerr=list_inf[idiv][4], label=\"Δ diverged\", markerstrokecolor = :auto);"
   ]
  },
  {
   "cell_type": "code",
   "execution_count": null,
   "metadata": {},
   "outputs": [],
   "source": [
    "TIT=\"comparison 2 runs (γ=\"*string(GAM)*\", T=\"*string(T)*\", λ=\"*string(LAM)*\")\"\n",
    "plot(pAUC, ppla, pinf, size=(1000,400), layout=(1,3), margin=6*Plots.mm, plot_title=TIT)"
   ]
  },
  {
   "cell_type": "code",
   "execution_count": null,
   "metadata": {},
   "outputs": [],
   "source": [
    "#savefig(\"observables_divconvstability_T\"*string(T)*\"_LAM\"*string(LAM)*\"_γ\"*string(GAM)*\".pdf\")"
   ]
  },
  {
   "cell_type": "code",
   "execution_count": null,
   "metadata": {},
   "outputs": [],
   "source": []
  }
 ],
 "metadata": {
  "kernelspec": {
   "display_name": "Julia 1.8.5",
   "language": "julia",
   "name": "julia-1.8"
  },
  "language_info": {
   "file_extension": ".jl",
   "mimetype": "application/julia",
   "name": "julia",
   "version": "1.8.5"
  }
 },
 "nbformat": 4,
 "nbformat_minor": 4
}
