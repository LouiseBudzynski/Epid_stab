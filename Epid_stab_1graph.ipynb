{
 "cells": [
  {
   "cell_type": "code",
   "execution_count": 1,
   "metadata": {},
   "outputs": [
    {
     "data": {
      "text/plain": [
       "build_real_graph (generic function with 1 method)"
      ]
     },
     "execution_count": 1,
     "metadata": {},
     "output_type": "execute_result"
    }
   ],
   "source": [
    "import OffsetArrays\n",
    "using Plots\n",
    "using Revise\n",
    "using StatsBase\n",
    "using ProgressMeter\n",
    "using SparseArrays, LinearAlgebra, IndexedGraphs, Graphs\n",
    "using Distributions\n",
    "srcpath = \"./src\"\n",
    "include(\"$srcpath/bp.jl\") #julia code which contains the bp update\n",
    "include(\"$srcpath/observables.jl\") # julia code for estimating observables\n",
    "include(\"$srcpath/single_instance.jl\") # julia code for estimating observables"
   ]
  },
  {
   "cell_type": "code",
   "execution_count": 60,
   "metadata": {},
   "outputs": [
    {
     "data": {
      "text/plain": [
       "Dirac{Int64}(value=3)"
      ]
     },
     "execution_count": 60,
     "metadata": {},
     "output_type": "execute_result"
    }
   ],
   "source": [
    "λp = 1.0# planted infection rate\n",
    "λi = λp #inferred infection rate\n",
    "\n",
    "T = 8 # discrete time: number of time-steps\n",
    "\n",
    "γp = 0.01 #0.019 # planted autoinfection probability\n",
    "γi = γp # inferred autoinfection probability\n",
    "\n",
    "N = 5000; #population size\n",
    "\n",
    "dilution = 0.0 #dilution of observations. dil=0 means everybody observed once\n",
    "fr = 0.1; #noise in the observation. \n",
    "\n",
    "maxd=3\n",
    "degree_dist = Dirac(maxd) #the distribution of the degree in the graph. Dirac means random regular."
   ]
  },
  {
   "cell_type": "code",
   "execution_count": 61,
   "metadata": {
    "scrolled": true
   },
   "outputs": [
    {
     "data": {
      "text/plain": [
       "pop_dynamics_1graph_stab (generic function with 1 method)"
      ]
     },
     "execution_count": 61,
     "metadata": {},
     "output_type": "execute_result"
    }
   ],
   "source": [
    "include(\"$srcpath/post_infer_1graph.jl\") # julia code for estimating observables"
   ]
  },
  {
   "cell_type": "code",
   "execution_count": 62,
   "metadata": {},
   "outputs": [],
   "source": [
    "M=ParametricModel_1graph(N=N,T=T,γp=γp,λp=λp,γi=γi,λi=λi,fr=fr,dilution=dilution,distribution=degree_dist,maxd=maxd);\n"
   ]
  },
  {
   "cell_type": "code",
   "execution_count": 63,
   "metadata": {},
   "outputs": [
    {
     "name": "stdout",
     "output_type": "stream",
     "text": [
      "#1.iter 2.F\n",
      "1\t1.0129351904006796\n",
      "2\t-0.16115167224818486\n",
      "3\t0.31415902564997317\n",
      "4\t0.41175599894918213\n",
      "5\t0.29256902370525745\n",
      "6\t0.2731023002767108\n",
      "7\t0.2727692082556482\n",
      "8\t0.2727885688719712\n",
      "9\t0.272813057996101\n",
      "10\t0.2727646087030162\n",
      "11\t0.27240816595189865\n",
      "12\t0.27282848334617765\n",
      "13\t0.27503795358651717\n",
      "14\t0.2787070125979573\n",
      "15\t0.28201163763658355\n",
      "16\t0.28449165312826824\n",
      "17\t0.28707776426424797\n",
      "18\t0.28812751863384295\n",
      "19\t0.2757293371551637\n",
      "20\t0.22560330176579965\n"
     ]
    }
   ],
   "source": [
    "pop_dynamics_1graph(M, tot_iter=20)"
   ]
  },
  {
   "cell_type": "code",
   "execution_count": 47,
   "metadata": {},
   "outputs": [
    {
     "name": "stdout",
     "output_type": "stream",
     "text": [
      "#1.iter 2.F\n",
      "1\t1.4504788876145265\n",
      "2\t-0.07316196323949978\n",
      "3\t0.05723069205758174\n",
      "4\t0.10055837386413763\n",
      "5\t0.10511621575756555\n",
      "6\t0.10535782339621944\n",
      "7\t0.10536051517291962\n",
      "8\t0.10536051565788053\n",
      "9\t0.10536051565788043\n",
      "10\t0.10536051565788046\n",
      "11\t0.1053605156578805\n",
      "12\t0.1053605156578805\n",
      "13\t0.10536051565788034\n",
      "14\t0.10536051565788039\n",
      "15\t0.10536051565788039\n",
      "16\t0.10536051565788028\n",
      "17\t0.10536051565788034\n",
      "18\t0.10536051565788032\n",
      "19\t0.10536051565788032\n",
      "20\t0.10536051565788032\n"
     ]
    }
   ],
   "source": [
    "pop_dynamics_1graph(M, tot_iter=20)"
   ]
  },
  {
   "cell_type": "code",
   "execution_count": null,
   "metadata": {},
   "outputs": [],
   "source": []
  }
 ],
 "metadata": {
  "kernelspec": {
   "display_name": "Julia 1.8.5",
   "language": "julia",
   "name": "julia-1.8"
  },
  "language_info": {
   "file_extension": ".jl",
   "mimetype": "application/julia",
   "name": "julia",
   "version": "1.8.5"
  }
 },
 "nbformat": 4,
 "nbformat_minor": 4
}
