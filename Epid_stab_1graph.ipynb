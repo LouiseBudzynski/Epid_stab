{
 "cells": [
  {
   "cell_type": "code",
   "execution_count": 1,
   "metadata": {},
   "outputs": [],
   "source": [
    "using Plots\n",
    "using ProgressMeter\n",
    "using Revise"
   ]
  },
  {
   "cell_type": "code",
   "execution_count": 2,
   "metadata": {},
   "outputs": [
    {
     "data": {
      "text/plain": [
       "pop_dynamics_1graph_stab (generic function with 1 method)"
      ]
     },
     "execution_count": 2,
     "metadata": {},
     "output_type": "execute_result"
    }
   ],
   "source": [
    "import OffsetArrays\n",
    "using StatsBase\n",
    "using Graphs, IndexedGraphs\n",
    "using Distributions,UnPack,OffsetArrays\n",
    "srcpath = \"./src\"\n",
    "include(\"$srcpath/post_infer_1graph.jl\") "
   ]
  },
  {
   "cell_type": "code",
   "execution_count": 6,
   "metadata": {},
   "outputs": [
    {
     "data": {
      "text/plain": [
       "Dirac{Int64}(value=3)"
      ]
     },
     "execution_count": 6,
     "metadata": {},
     "output_type": "execute_result"
    }
   ],
   "source": [
    "T = 8 # discrete time: number of time-steps\n",
    "λp = 1.0# planted infection rate\n",
    "λi = λp #inferred infection rate\n",
    "γp = 0.01 # planted autoinfection probability\n",
    "γi = γp # inferred autoinfection probability\n",
    "N = 500000; #population size\n",
    "dilution = 0.0 #dilution of observations. dil=0 means everybody observed once\n",
    "fr = 0.0; #noise in the observation. \n",
    "maxd=3\n",
    "degree_dist = Dirac(maxd) #the distribution of the degree in the graph. Dirac means random regular."
   ]
  },
  {
   "cell_type": "code",
   "execution_count": 9,
   "metadata": {},
   "outputs": [
    {
     "data": {
      "text/plain": [
       "pop_dynamics_1graph_stab (generic function with 1 method)"
      ]
     },
     "execution_count": 9,
     "metadata": {},
     "output_type": "execute_result"
    }
   ],
   "source": [
    "include(\"$srcpath/post_infer_1graph.jl\") "
   ]
  },
  {
   "cell_type": "code",
   "execution_count": 10,
   "metadata": {},
   "outputs": [
    {
     "name": "stdout",
     "output_type": "stream",
     "text": [
      "length(x[:, 1]) * γi = 5000.0\n",
      "(i, sum(x[:, 1])) = (118, 5000)\n"
     ]
    }
   ],
   "source": [
    "M=ParametricModel_1graph(N=N,T=T,γp=γp,λp=λp, fixseednumber=true,γi=γi,λi=λi,fr=fr,dilution=dilution,distribution=degree_dist,maxd=maxd);\n"
   ]
  },
  {
   "cell_type": "code",
   "execution_count": null,
   "metadata": {},
   "outputs": [],
   "source": []
  },
  {
   "cell_type": "code",
   "execution_count": null,
   "metadata": {},
   "outputs": [],
   "source": [
    "pop_dynamics_1graph(M, tot_iter=40)"
   ]
  },
  {
   "cell_type": "code",
   "execution_count": null,
   "metadata": {},
   "outputs": [],
   "source": [
    "l=rand(1:N)\n",
    "M.belief[:,l]"
   ]
  },
  {
   "cell_type": "code",
   "execution_count": null,
   "metadata": {},
   "outputs": [],
   "source": [
    "pop_dynamics_1graph_stab(M, tot_iter=20)"
   ]
  },
  {
   "cell_type": "code",
   "execution_count": null,
   "metadata": {},
   "outputs": [],
   "source": [
    "#@time calculate_ν_1graph_stab!(M, 8, M.Neigh[8][1], M.Neigh[8][2], true)"
   ]
  },
  {
   "cell_type": "code",
   "execution_count": null,
   "metadata": {},
   "outputs": [],
   "source": [
    "#@time calculate_ν_1graph!(M, 8, M.Neigh[8][1], true)"
   ]
  },
  {
   "cell_type": "code",
   "execution_count": null,
   "metadata": {},
   "outputs": [],
   "source": [
    "#@time update_μ_1graph_stab!(M, 8, M.Neigh[8][1])"
   ]
  },
  {
   "cell_type": "code",
   "execution_count": null,
   "metadata": {},
   "outputs": [],
   "source": [
    "#@time update_μ_1graph!(M, 8, M.Neigh[8][1])"
   ]
  },
  {
   "cell_type": "code",
   "execution_count": null,
   "metadata": {},
   "outputs": [],
   "source": [
    "#@time sweep_1graph_stab!(M, 4,4)"
   ]
  },
  {
   "cell_type": "code",
   "execution_count": null,
   "metadata": {},
   "outputs": [],
   "source": [
    "#@time sweep_1graph!(M)"
   ]
  },
  {
   "cell_type": "code",
   "execution_count": null,
   "metadata": {},
   "outputs": [],
   "source": []
  }
 ],
 "metadata": {
  "kernelspec": {
   "display_name": "Julia 1.8.5",
   "language": "julia",
   "name": "julia-1.8"
  },
  "language_info": {
   "file_extension": ".jl",
   "mimetype": "application/julia",
   "name": "julia",
   "version": "1.8.5"
  }
 },
 "nbformat": 4,
 "nbformat_minor": 4
}
