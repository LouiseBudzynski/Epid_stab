{
 "cells": [
  {
   "cell_type": "code",
   "execution_count": 1,
   "metadata": {},
   "outputs": [],
   "source": [
    "using Plots\n",
    "using ProgressMeter\n",
    "using Revise"
   ]
  },
  {
   "cell_type": "code",
   "execution_count": 2,
   "metadata": {},
   "outputs": [
    {
     "data": {
      "text/plain": [
       "pop_dynamics_1graph_stab (generic function with 1 method)"
      ]
     },
     "execution_count": 2,
     "metadata": {},
     "output_type": "execute_result"
    }
   ],
   "source": [
    "import OffsetArrays\n",
    "using StatsBase\n",
    "using Graphs, IndexedGraphs\n",
    "using Distributions,UnPack,OffsetArrays\n",
    "srcpath = \"./src\"\n",
    "include(\"$srcpath/post_infer_1graph.jl\") "
   ]
  },
  {
   "cell_type": "code",
   "execution_count": 2,
   "metadata": {},
   "outputs": [
    {
     "data": {
      "text/plain": [
       "Dirac{Int64}(value=3)"
      ]
     },
     "execution_count": 2,
     "metadata": {},
     "output_type": "execute_result"
    }
   ],
   "source": [
    "T = 8 # discrete time: number of time-steps\n",
    "λp = 1.0# planted infection rate\n",
    "λi = λp #inferred infection rate\n",
    "γp = 0.005 # planted autoinfection probability\n",
    "γi = γp # inferred autoinfection probability\n",
    "N = 50000; #population size\n",
    "dilution = 0.0 #dilution of observations. dil=0 means everybody observed once\n",
    "fr = 0.0; #noise in the observation. \n",
    "maxd=3\n",
    "degree_dist = Dirac(maxd) #the distribution of the degree in the graph. Dirac means random regular."
   ]
  },
  {
   "cell_type": "code",
   "execution_count": 3,
   "metadata": {},
   "outputs": [],
   "source": [
    "M=ParametricModel_1graph(N=N,T=T,γp=γp,λp=λp,γi=γi,λi=λi,fr=fr,dilution=dilution,distribution=degree_dist,maxd=maxd);\n"
   ]
  },
  {
   "cell_type": "code",
   "execution_count": 4,
   "metadata": {},
   "outputs": [
    {
     "name": "stdout",
     "output_type": "stream",
     "text": [
      "#1.iter 2.F\n",
      "1\t0.0007918347987427842\n",
      "2\t-0.0024847341369558127\n",
      "3\t-0.0002499403475067811\n",
      "4\t8.638291779672726e-5\n",
      "5\t0.00017414637002104426\n",
      "6\t6.165676318109035e-5\n",
      "7\t8.402159807737917e-6\n",
      "8\t-2.248776376945898e-6\n",
      "9\t-4.980907854624093e-6\n",
      "10\t-3.5048081539571287e-6\n",
      "11\t-7.980825577396899e-7\n",
      "12\t2.462604641914368e-7\n",
      "13\t4.649482620880008e-7\n",
      "14\t6.210567703237757e-7\n",
      "15\t7.291625713696703e-7\n",
      "16\t7.705884560709819e-7\n",
      "17\t7.758931652642787e-7\n",
      "18\t7.705038430867717e-7\n",
      "19\t7.649395451880992e-7\n",
      "20\t7.616911910008639e-7\n"
     ]
    }
   ],
   "source": [
    "pop_dynamics_1graph(M, tot_iter=20)"
   ]
  },
  {
   "cell_type": "code",
   "execution_count": 5,
   "metadata": {},
   "outputs": [
    {
     "name": "stdout",
     "output_type": "stream",
     "text": [
      "#1.iter 2.F 3.Δ\n",
      "1\t7.603722240310162e-7\t-1\n",
      "2\t7.597219571471214e-7\t-1\n",
      "3\t7.593963987892494e-7\t-1\n",
      "4\t7.592449279036373e-7\t-1\n",
      "5\t7.591927330940962e-7\t-1\n",
      "6\t7.591872866032645e-7\t-1\n",
      "7\t7.591992948437109e-7\t-1\n",
      "8\t7.592086296062916e-7\t-1\n",
      "9\t7.592234492767602e-7\t-1\n",
      "10\t7.59231973788701e-7\t-1\n",
      "11\t7.592403824673965e-7\t2.3693096263625802e-5\n",
      "12\t7.592403620947153e-7\t2.2570852585184895e-5\n",
      "13\t7.592365355230868e-7\t1.6016057341785814e-5\n",
      "14\t7.592363946605474e-7\t8.504002993265873e-6\n",
      "15\t7.592369645135477e-7\t3.6876251667923113e-6\n",
      "16\t7.592429273063317e-7\t1.72911567594988e-6\n",
      "17\t7.592433714307845e-7\t9.572102237490766e-7\n",
      "18\t7.592433749232441e-7\t5.005665169448119e-7\n",
      "19\t7.592433644458652e-7\t2.2190291446531705e-7\n",
      "20\t7.592433679383248e-7\t8.152123737677424e-8\n"
     ]
    }
   ],
   "source": [
    "pop_dynamics_1graph_stab(M, tot_iter=20)"
   ]
  },
  {
   "cell_type": "code",
   "execution_count": 6,
   "metadata": {},
   "outputs": [
    {
     "data": {
      "text/plain": [
       "10-element OffsetArray(::Vector{Float64}, 0:9) with eltype Float64 with indices 0:9:\n",
       " 0.01821047533739639\n",
       " 0.05266639276984873\n",
       " 0.09701023630291367\n",
       " 0.16469404691782302\n",
       " 0.2380539985079042\n",
       " 0.25167268893862044\n",
       " 0.14726417588718188\n",
       " 0.029538764425052367\n",
       " 0.0008892209132594116\n",
       " 0.0"
      ]
     },
     "execution_count": 6,
     "metadata": {},
     "output_type": "execute_result"
    }
   ],
   "source": [
    "M.belief[:,4363]"
   ]
  },
  {
   "cell_type": "code",
   "execution_count": null,
   "metadata": {},
   "outputs": [],
   "source": [
    "#@time calculate_ν_1graph_stab!(M, 8, M.Neigh[8][1], M.Neigh[8][2], true)"
   ]
  },
  {
   "cell_type": "code",
   "execution_count": null,
   "metadata": {},
   "outputs": [],
   "source": [
    "#@time calculate_ν_1graph!(M, 8, M.Neigh[8][1], true)"
   ]
  },
  {
   "cell_type": "code",
   "execution_count": null,
   "metadata": {},
   "outputs": [],
   "source": [
    "#@time update_μ_1graph_stab!(M, 8, M.Neigh[8][1])"
   ]
  },
  {
   "cell_type": "code",
   "execution_count": null,
   "metadata": {},
   "outputs": [],
   "source": [
    "#@time update_μ_1graph!(M, 8, M.Neigh[8][1])"
   ]
  },
  {
   "cell_type": "code",
   "execution_count": null,
   "metadata": {},
   "outputs": [],
   "source": [
    "#@time sweep_1graph_stab!(M, 4,4)"
   ]
  },
  {
   "cell_type": "code",
   "execution_count": null,
   "metadata": {},
   "outputs": [],
   "source": [
    "#@time sweep_1graph!(M)"
   ]
  },
  {
   "cell_type": "code",
   "execution_count": null,
   "metadata": {},
   "outputs": [],
   "source": []
  }
 ],
 "metadata": {
  "kernelspec": {
   "display_name": "Julia 1.8.5",
   "language": "julia",
   "name": "julia-1.8"
  },
  "language_info": {
   "file_extension": ".jl",
   "mimetype": "application/julia",
   "name": "julia",
   "version": "1.8.5"
  }
 },
 "nbformat": 4,
 "nbformat_minor": 4
}
