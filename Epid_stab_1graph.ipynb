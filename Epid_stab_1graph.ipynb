{
 "cells": [
  {
   "cell_type": "code",
   "execution_count": 1,
   "metadata": {},
   "outputs": [],
   "source": [
    "using Plots\n",
    "using ProgressMeter\n",
    "using Revise"
   ]
  },
  {
   "cell_type": "code",
   "execution_count": 2,
   "metadata": {},
   "outputs": [
    {
     "data": {
      "text/plain": [
       "pop_dynamics_1graph_stab (generic function with 1 method)"
      ]
     },
     "execution_count": 2,
     "metadata": {},
     "output_type": "execute_result"
    }
   ],
   "source": [
    "import OffsetArrays\n",
    "using StatsBase\n",
    "using Graphs, IndexedGraphs\n",
    "using Distributions,UnPack,OffsetArrays\n",
    "srcpath = \"./src\"\n",
    "include(\"$srcpath/post_infer_1graph.jl\") "
   ]
  },
  {
   "cell_type": "code",
   "execution_count": 3,
   "metadata": {},
   "outputs": [
    {
     "data": {
      "text/plain": [
       "Dirac{Int64}(value=3)"
      ]
     },
     "execution_count": 3,
     "metadata": {},
     "output_type": "execute_result"
    }
   ],
   "source": [
    "T = 8 # discrete time: number of time-steps\n",
    "λp = 1.0 # planted infection rate\n",
    "λi = λp # inferred infection rate\n",
    "γp = 0.01 # planted autoinfection probability\n",
    "γi = γp # inferred autoinfection probability\n",
    "N = 5000; # population size\n",
    "dilution = 0.0 # dilution of observations. dil=0 means everybody observed once\n",
    "fr = 0.0; # noise in the observation. \n",
    "maxd=3\n",
    "degree_dist = Dirac(maxd) # distribution of the degree in the graph (Dirac = random regular)."
   ]
  },
  {
   "cell_type": "code",
   "execution_count": 4,
   "metadata": {},
   "outputs": [
    {
     "data": {
      "text/plain": [
       "pop_dynamics_1graph_stab (generic function with 1 method)"
      ]
     },
     "execution_count": 4,
     "metadata": {},
     "output_type": "execute_result"
    }
   ],
   "source": [
    "include(\"$srcpath/post_infer_1graph.jl\") "
   ]
  },
  {
   "cell_type": "code",
   "execution_count": 5,
   "metadata": {},
   "outputs": [],
   "source": [
    "# create one instance (=graph + planted epidemic trajectory + observations)\n",
    "M=ParametricModel_1graph(N=N,T=T,γp=γp,λp=λp, fixseednumber=true,γi=γi,λi=λi,fr=fr,dilution=dilution,distribution=degree_dist,maxd=maxd);"
   ]
  },
  {
   "cell_type": "code",
   "execution_count": 6,
   "metadata": {},
   "outputs": [
    {
     "name": "stdout",
     "output_type": "stream",
     "text": [
      "#1.iter 2.F\n",
      "1\t0.0008058605074344087\n",
      "2\t-0.003305987314370577\n",
      "3\t-0.0005165639090751939\n",
      "4\t-4.4864734895963924e-5\n",
      "5\t0.00020512635123959627\n",
      "6\t0.00032816946922102944\n",
      "7\t0.0004915950233058538\n",
      "8\t-0.0001651807050438947\n",
      "9\t-0.001660770358906302\n",
      "10\t-0.0027700466479785974\n",
      "11\t-0.002472071699971275\n",
      "12\t-0.0009529573882238765\n",
      "13\t0.0005154100899868354\n",
      "14\t0.0012480541752745921\n",
      "15\t0.0014734265386468904\n",
      "16\t0.0014766009610779293\n",
      "17\t0.0013266733226140787\n",
      "18\t0.0010469307050618227\n",
      "19\t0.0006985563990936499\n",
      "20\t0.0003435437763480877\n",
      "21\t2.2936766847124092e-5\n",
      "22\t-0.00023001631455044845\n",
      "23\t-0.0003856972932240751\n",
      "24\t-0.00041800403834713507\n",
      "25\t-0.0003223627248793491\n",
      "26\t-0.00012415986835912917\n",
      "27\t0.00012192726545617916\n",
      "28\t0.00035069819510681556\n",
      "29\t0.0005077432035352103\n",
      "30\t0.000578338752878335\n",
      "31\t0.0005670883717342804\n",
      "32\t0.0004975688633792743\n",
      "33\t0.0003950710846402217\n",
      "34\t0.000282308119359368\n",
      "35\t0.0001784071944108291\n",
      "36\t9.677932294580386e-5\n",
      "37\t4.766246023864369e-5\n",
      "38\t3.611000957826036e-5\n",
      "39\t6.118144058564212e-5\n",
      "40\t0.0001132691070153669\n"
     ]
    }
   ],
   "source": [
    "# Run Belief-Propagation (without stability analysis)\n",
    "# 1. iterations 2. Free-energy\n",
    "pop_dynamics_1graph(M, tot_iter=40)"
   ]
  },
  {
   "cell_type": "code",
   "execution_count": 7,
   "metadata": {},
   "outputs": [
    {
     "name": "stdout",
     "output_type": "stream",
     "text": [
      "#1.iter 2.F 3.Δ\n",
      "1\t0.00017824870907279545\t-1\n",
      "2\t0.00024081151091450011\t-1\n",
      "3\t0.0002890944278507959\t-1\n",
      "4\t0.00031716179090362855\t-1\n",
      "5\t0.00032283321940049063\t-1\n",
      "6\t0.0003091171812200628\t-1\n",
      "7\t0.00028235795095024515\t-1\n",
      "8\t0.0002493196955554595\t-1\n",
      "9\t0.00021699144956510282\t-1\n",
      "10\t0.00019031123568711335\t-1\n",
      "11\t0.00017351776359719224\t2.6075787326414913e-5\n",
      "12\t0.00016822690278931986\t2.8330871965527477e-5\n",
      "13\t0.00017360846180381487\t2.308395711233057e-5\n",
      "14\t0.00018712092140558525\t1.401149083669398e-5\n",
      "15\t0.00020489174126050785\t6.230721038792672e-6\n",
      "16\t0.00022311608417585377\t2.3407666981037325e-6\n",
      "17\t0.00023798921606430667\t1.132882769459611e-6\n",
      "18\t0.0002476044385388377\t6.844529942090983e-7\n",
      "19\t0.00025101872733648633\t4.231473399044752e-7\n",
      "20\t0.00024858059280741143\t2.780723313585006e-7\n"
     ]
    }
   ],
   "source": [
    "# Run Belief-Propagation with stability analysis\n",
    "# 1. iterations 2. Free-energy 3. Stability parameter\n",
    "pop_dynamics_1graph_stab(M, tot_iter=20)"
   ]
  },
  {
   "cell_type": "code",
   "execution_count": null,
   "metadata": {},
   "outputs": [],
   "source": [
    "#@time calculate_ν_1graph_stab!(M, 8, M.Neigh[8][1], M.Neigh[8][2], true)"
   ]
  },
  {
   "cell_type": "code",
   "execution_count": null,
   "metadata": {},
   "outputs": [],
   "source": [
    "#@time calculate_ν_1graph!(M, 8, M.Neigh[8][1], true)"
   ]
  },
  {
   "cell_type": "code",
   "execution_count": null,
   "metadata": {},
   "outputs": [],
   "source": [
    "#@time update_μ_1graph_stab!(M, 8, M.Neigh[8][1])"
   ]
  },
  {
   "cell_type": "code",
   "execution_count": null,
   "metadata": {},
   "outputs": [],
   "source": [
    "#@time update_μ_1graph!(M, 8, M.Neigh[8][1])"
   ]
  },
  {
   "cell_type": "code",
   "execution_count": null,
   "metadata": {},
   "outputs": [],
   "source": [
    "#@time sweep_1graph_stab!(M, 4,4)"
   ]
  },
  {
   "cell_type": "code",
   "execution_count": null,
   "metadata": {},
   "outputs": [],
   "source": [
    "#@time sweep_1graph!(M)"
   ]
  },
  {
   "cell_type": "code",
   "execution_count": null,
   "metadata": {},
   "outputs": [],
   "source": []
  }
 ],
 "metadata": {
  "kernelspec": {
   "display_name": "Julia 1.8.5",
   "language": "julia",
   "name": "julia-1.8"
  },
  "language_info": {
   "file_extension": ".jl",
   "mimetype": "application/julia",
   "name": "julia",
   "version": "1.8.5"
  }
 },
 "nbformat": 4,
 "nbformat_minor": 4
}
