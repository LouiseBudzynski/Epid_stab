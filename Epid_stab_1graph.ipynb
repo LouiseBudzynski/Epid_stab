{
 "cells": [
  {
   "cell_type": "code",
   "execution_count": 1,
   "metadata": {},
   "outputs": [],
   "source": [
    "using Plots\n",
    "using ProgressMeter\n",
    "using Revise"
   ]
  },
  {
   "cell_type": "code",
   "execution_count": 2,
   "metadata": {},
   "outputs": [
    {
     "data": {
      "text/plain": [
       "pop_dynamics_1graph_stab (generic function with 1 method)"
      ]
     },
     "execution_count": 2,
     "metadata": {},
     "output_type": "execute_result"
    }
   ],
   "source": [
    "import OffsetArrays\n",
    "using StatsBase\n",
    "using Graphs, IndexedGraphs\n",
    "using Distributions,UnPack,OffsetArrays\n",
    "srcpath = \"./src\"\n",
    "include(\"$srcpath/post_infer_1graph.jl\") "
   ]
  },
  {
   "cell_type": "code",
   "execution_count": 3,
   "metadata": {},
   "outputs": [
    {
     "data": {
      "text/plain": [
       "Dirac{Int64}(value=3)"
      ]
     },
     "execution_count": 3,
     "metadata": {},
     "output_type": "execute_result"
    }
   ],
   "source": [
    "T = 8 # discrete time: number of time-steps\n",
    "λp = 1.0# planted infection rate\n",
    "λi = λp #inferred infection rate\n",
    "γp = 0.1 # planted autoinfection probability\n",
    "γi = γp # inferred autoinfection probability\n",
    "N = 50000; #population size\n",
    "dilution = 0.0 #dilution of observations. dil=0 means everybody observed once\n",
    "fr = 0.0; #noise in the observation. \n",
    "maxd=3\n",
    "degree_dist = Dirac(maxd) #the distribution of the degree in the graph. Dirac means random regular."
   ]
  },
  {
   "cell_type": "code",
   "execution_count": null,
   "metadata": {},
   "outputs": [],
   "source": []
  },
  {
   "cell_type": "code",
   "execution_count": 34,
   "metadata": {},
   "outputs": [],
   "source": [
    "M=ParametricModel_1graph(N=N,T=T,γp=γp,λp=λp,γi=γi,λi=λi,fr=fr,dilution=dilution,distribution=degree_dist,maxd=maxd);\n"
   ]
  },
  {
   "cell_type": "code",
   "execution_count": 35,
   "metadata": {},
   "outputs": [
    {
     "name": "stdout",
     "output_type": "stream",
     "text": [
      "#1.iter 2.F\n",
      "1\t0.0005918836060125614\n",
      "2\t-0.0021479911252256715\n",
      "3\t-0.000130220584301278\n",
      "4\t-1.4132407954894005e-5\n",
      "5\t-1.6739764611702412e-6\n",
      "6\t-5.458596220705658e-8\n",
      "7\t-2.1940330043435097e-10\n",
      "8\t2.568121999502182e-12\n",
      "9\t2.5972258299589157e-12\n",
      "10\t2.5972258299589157e-12\n",
      "11\t2.5972258299589157e-12\n",
      "12\t2.5972258299589157e-12\n",
      "13\t2.5972258299589157e-12\n",
      "14\t2.5972258299589157e-12\n",
      "15\t2.5972258299589157e-12\n",
      "16\t2.5972258299589157e-12\n",
      "17\t2.5972258299589157e-12\n",
      "18\t2.5972258299589157e-12\n",
      "19\t2.5972258299589157e-12\n",
      "20\t2.5972258299589157e-12\n"
     ]
    }
   ],
   "source": [
    "pop_dynamics_1graph(M, tot_iter=20)"
   ]
  },
  {
   "cell_type": "code",
   "execution_count": 36,
   "metadata": {},
   "outputs": [
    {
     "data": {
      "text/plain": [
       "pop_dynamics_1graph_stab (generic function with 1 method)"
      ]
     },
     "execution_count": 36,
     "metadata": {},
     "output_type": "execute_result"
    }
   ],
   "source": [
    "include(\"$srcpath/post_infer_1graph.jl\") "
   ]
  },
  {
   "cell_type": "code",
   "execution_count": 42,
   "metadata": {},
   "outputs": [
    {
     "name": "stdout",
     "output_type": "stream",
     "text": [
      "#1.iter 2.F\n",
      "1\t2.5972258299589157e-12\n"
     ]
    }
   ],
   "source": [
    "pop_dynamics_1graph(M, tot_iter=1)"
   ]
  },
  {
   "cell_type": "code",
   "execution_count": 43,
   "metadata": {},
   "outputs": [
    {
     "data": {
      "text/plain": [
       "10-element OffsetArray(::Vector{Float64}, 0:9) with eltype Float64 with indices 0:9:\n",
       " 0.1\n",
       " 0.24389999999999998\n",
       " 0.3074215599\n",
       " 0.250201349881639\n",
       " 0.09062192300708213\n",
       " 0.007805187253226046\n",
       " 4.9977934675965144e-5\n",
       " 2.023376924328644e-9\n",
       " 3.3161838949735942e-18\n",
       " 0.0"
      ]
     },
     "execution_count": 43,
     "metadata": {},
     "output_type": "execute_result"
    }
   ],
   "source": [
    "l=rand(1:N)\n",
    "M.belief[:,l]"
   ]
  },
  {
   "cell_type": "code",
   "execution_count": 44,
   "metadata": {},
   "outputs": [
    {
     "data": {
      "text/plain": [
       "0.0009999999999999998"
      ]
     },
     "execution_count": 44,
     "metadata": {},
     "output_type": "execute_result"
    }
   ],
   "source": [
    "z_i=calculate_belief_1graph!(M,l, true)"
   ]
  },
  {
   "cell_type": "code",
   "execution_count": 60,
   "metadata": {},
   "outputs": [
    {
     "data": {
      "text/plain": [
       "10×10 OffsetArray(::Matrix{Float64}, 0:9, 0:9) with eltype Float64 with indices 0:9×0:9:\n",
       " 0.01  0.01    0.01       0.01       0.01       …  0.01         0.01\n",
       " 0.09  0.0171  0.0171     0.0171     0.0171        0.0171       0.0171\n",
       " 0.0   0.0729  0.0250703  0.0250703  0.0250703     0.0250703    0.0250703\n",
       " 0.0   0.0     0.0478297  0.0272406  0.0272406     0.0272406    0.0272406\n",
       " 0.0   0.0     0.0        0.0205891  0.0167739     0.0167739    0.0167739\n",
       " 0.0   0.0     0.0        0.0        0.0038152  …  0.0036842    0.0036842\n",
       " 0.0   0.0     0.0        0.0        0.0           0.000130848  0.000130848\n",
       " 0.0   0.0     0.0        0.0        0.0           1.54454e-7   1.54454e-7\n",
       " 0.0   0.0     0.0        0.0        0.0           2.14704e-13  2.14704e-13\n",
       " 0.0   0.0     0.0        0.0        0.0           0.0          0.0"
      ]
     },
     "execution_count": 60,
     "metadata": {},
     "output_type": "execute_result"
    }
   ],
   "source": [
    "li=rand(1:N)\n",
    "lj=rand(M.Neigh[li])\n",
    "oi=true\n",
    "zψij=calculate_ν_1graph!(M,li,lj,oi)\n",
    "M.ν./=zψij\n"
   ]
  },
  {
   "cell_type": "code",
   "execution_count": 61,
   "metadata": {},
   "outputs": [
    {
     "data": {
      "text/plain": [
       "0.10000000000000002"
      ]
     },
     "execution_count": 61,
     "metadata": {},
     "output_type": "execute_result"
    }
   ],
   "source": [
    "zψij"
   ]
  },
  {
   "cell_type": "code",
   "execution_count": 5,
   "metadata": {},
   "outputs": [
    {
     "name": "stdout",
     "output_type": "stream",
     "text": [
      "#1.iter 2.F 3.Δ\n",
      "1\t7.603722240310162e-7\t-1\n",
      "2\t7.597219571471214e-7\t-1\n",
      "3\t7.593963987892494e-7\t-1\n",
      "4\t7.592449279036373e-7\t-1\n",
      "5\t7.591927330940962e-7\t-1\n",
      "6\t7.591872866032645e-7\t-1\n",
      "7\t7.591992948437109e-7\t-1\n",
      "8\t7.592086296062916e-7\t-1\n",
      "9\t7.592234492767602e-7\t-1\n",
      "10\t7.59231973788701e-7\t-1\n",
      "11\t7.592403824673965e-7\t2.3693096263625802e-5\n",
      "12\t7.592403620947153e-7\t2.2570852585184895e-5\n",
      "13\t7.592365355230868e-7\t1.6016057341785814e-5\n",
      "14\t7.592363946605474e-7\t8.504002993265873e-6\n",
      "15\t7.592369645135477e-7\t3.6876251667923113e-6\n",
      "16\t7.592429273063317e-7\t1.72911567594988e-6\n",
      "17\t7.592433714307845e-7\t9.572102237490766e-7\n",
      "18\t7.592433749232441e-7\t5.005665169448119e-7\n",
      "19\t7.592433644458652e-7\t2.2190291446531705e-7\n",
      "20\t7.592433679383248e-7\t8.152123737677424e-8\n"
     ]
    }
   ],
   "source": [
    "pop_dynamics_1graph_stab(M, tot_iter=20)"
   ]
  },
  {
   "cell_type": "code",
   "execution_count": null,
   "metadata": {},
   "outputs": [],
   "source": [
    "#@time calculate_ν_1graph_stab!(M, 8, M.Neigh[8][1], M.Neigh[8][2], true)"
   ]
  },
  {
   "cell_type": "code",
   "execution_count": null,
   "metadata": {},
   "outputs": [],
   "source": [
    "#@time calculate_ν_1graph!(M, 8, M.Neigh[8][1], true)"
   ]
  },
  {
   "cell_type": "code",
   "execution_count": null,
   "metadata": {},
   "outputs": [],
   "source": [
    "#@time update_μ_1graph_stab!(M, 8, M.Neigh[8][1])"
   ]
  },
  {
   "cell_type": "code",
   "execution_count": null,
   "metadata": {},
   "outputs": [],
   "source": [
    "#@time update_μ_1graph!(M, 8, M.Neigh[8][1])"
   ]
  },
  {
   "cell_type": "code",
   "execution_count": null,
   "metadata": {},
   "outputs": [],
   "source": [
    "#@time sweep_1graph_stab!(M, 4,4)"
   ]
  },
  {
   "cell_type": "code",
   "execution_count": null,
   "metadata": {},
   "outputs": [],
   "source": [
    "#@time sweep_1graph!(M)"
   ]
  },
  {
   "cell_type": "code",
   "execution_count": null,
   "metadata": {},
   "outputs": [],
   "source": []
  }
 ],
 "metadata": {
  "kernelspec": {
   "display_name": "Julia 1.8.5",
   "language": "julia",
   "name": "julia-1.8"
  },
  "language_info": {
   "file_extension": ".jl",
   "mimetype": "application/julia",
   "name": "julia",
   "version": "1.8.5"
  }
 },
 "nbformat": 4,
 "nbformat_minor": 4
}
