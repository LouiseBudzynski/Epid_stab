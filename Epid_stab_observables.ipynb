{
 "cells": [
  {
   "cell_type": "code",
   "execution_count": 53,
   "metadata": {},
   "outputs": [
    {
     "data": {
      "text/plain": [
       "avg_ninf (generic function with 1 method)"
      ]
     },
     "execution_count": 53,
     "metadata": {},
     "output_type": "execute_result"
    }
   ],
   "source": [
    "import OffsetArrays\n",
    "using Plots\n",
    "using Revise\n",
    "using StatsBase\n",
    "using ProgressMeter\n",
    "using SparseArrays, LinearAlgebra, IndexedGraphs, Graphs\n",
    "using Distributions\n",
    "srcpath = \"./src\"\n",
    "include(\"$srcpath/bp.jl\") \n",
    "include(\"$srcpath/bp_stab.jl\") \n",
    "include(\"$srcpath/post_infer.jl\") \n",
    "include(\"$srcpath/observables.jl\")"
   ]
  },
  {
   "cell_type": "code",
   "execution_count": 54,
   "metadata": {},
   "outputs": [
    {
     "data": {
      "text/plain": [
       "Dirac{Int64}(value=3)"
      ]
     },
     "execution_count": 54,
     "metadata": {},
     "output_type": "execute_result"
    }
   ],
   "source": [
    "λp = 1.0# planted infection rate\n",
    "λi = λp #inferred infection rate\n",
    "\n",
    "T = 8 # discrete time: number of time-steps\n",
    "\n",
    "γp = 0.02 #inferred autoinfection probability\n",
    "γi = γp\n",
    "\n",
    "N = 5000; #population size\n",
    "\n",
    "dilution = 0.0 #dilution of observations. dil=0 means everybody observed once\n",
    "fr = 0.0; #noise in the observation. \n",
    "\n",
    "degree_dist = Dirac(3) #the distribution of the degree in the graph. Dirac means random regular."
   ]
  },
  {
   "cell_type": "code",
   "execution_count": 55,
   "metadata": {},
   "outputs": [
    {
     "name": "stdout",
     "output_type": "stream",
     "text": [
      "#1.iter 2.F 3.Δ 4.MMO[t=0] 5.AUC[t=0]\n",
      "1\t0.13708072025290652\t-1\t8.1766\n",
      "2\t-0.014717187113357184\t-1\t5.072\n",
      "3\t0.07996748786830847\t-1\t2.204\n",
      "4\t0.1923164366237789\t-1\t1.165\n",
      "5\t0.24156226773264972\t-1\t0.9944\n",
      "6\t0.2519495711210975\t-1\t0.9796\n",
      "7\t0.25323672523546703\t-1\t0.9784\n",
      "8\t0.25393525379332893\t-1\t0.9782\n",
      "9\t0.2545016269606882\t-1\t0.9842\n",
      "10\t0.25455381230927604\t-1\t0.9806\n",
      "11\t0.25463274062616376\t-1\t0.9772\n",
      "12\t0.25462817672993365\t-1\t0.9756\n",
      "13\t0.2546206522593934\t-1\t0.9832\n",
      "14\t0.2546160556572387\t-1\t0.981\n",
      "15\t0.2546139660586527\t-1\t0.9814\t0.4389992785426562\n",
      "16\t0.2546131025762184\t-1\t0.9788\t0.4536302420161344\n",
      "17\t0.25452347498653727\t-1\t0.983\t0.5327799330893556\n",
      "18\t0.25461258910740225\t-1\t0.9822\t0.5235506415255922\n",
      "19\t0.25461254966124813\t-1\t0.9804\t0.5052112054703871\n",
      "20\t0.25503868377344796\t-1\t0.9818\t0.5\n"
     ]
    }
   ],
   "source": [
    "M = ParametricModel(N=N,T=T,γp=γp,λp=λp,γi=γi,λi=λi,fr=fr,dilution=dilution,distribution=degree_dist);\n",
    "#@time sweep_stab!(M, 3, 4)\n",
    "pop_dynamics_stab(M, tot_iterations = 20, nbstab=0, observ=true);"
   ]
  },
  {
   "cell_type": "code",
   "execution_count": null,
   "metadata": {},
   "outputs": [],
   "source": []
  }
 ],
 "metadata": {
  "kernelspec": {
   "display_name": "Julia 1.8.5",
   "language": "julia",
   "name": "julia-1.8"
  },
  "language_info": {
   "file_extension": ".jl",
   "mimetype": "application/julia",
   "name": "julia",
   "version": "1.8.5"
  }
 },
 "nbformat": 4,
 "nbformat_minor": 4
}
