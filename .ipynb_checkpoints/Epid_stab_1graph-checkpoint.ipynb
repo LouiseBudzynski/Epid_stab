{
 "cells": [
  {
   "cell_type": "code",
   "execution_count": 7,
   "metadata": {},
   "outputs": [
    {
     "data": {
      "text/plain": [
       "pop_dynamics_1graph_stab (generic function with 1 method)"
      ]
     },
     "execution_count": 7,
     "metadata": {},
     "output_type": "execute_result"
    }
   ],
   "source": [
    "import OffsetArrays\n",
    "using Plots\n",
    "using Revise\n",
    "using StatsBase\n",
    "using ProgressMeter\n",
    "using SparseArrays, LinearAlgebra, IndexedGraphs, Graphs\n",
    "srcpath = \"./src\"\n",
    "include(\"$srcpath/bp.jl\") \n",
    "include(\"$srcpath/observables.jl\") \n",
    "include(\"$srcpath/single_instance.jl\") \n",
    "include(\"$srcpath/post_infer_1graph.jl\") "
   ]
  },
  {
   "cell_type": "code",
   "execution_count": 8,
   "metadata": {},
   "outputs": [
    {
     "data": {
      "text/plain": [
       "Dirac{Int64}(value=3)"
      ]
     },
     "execution_count": 8,
     "metadata": {},
     "output_type": "execute_result"
    }
   ],
   "source": [
    "λp = 1.0# planted infection rate\n",
    "λi = λp #inferred infection rate\n",
    "\n",
    "T = 8 # discrete time: number of time-steps\n",
    "\n",
    "γp = 0.01 #0.019 # planted autoinfection probability\n",
    "γi = γp # inferred autoinfection probability\n",
    "\n",
    "N = 5000; #population size\n",
    "\n",
    "dilution = 0.0 #dilution of observations. dil=0 means everybody observed once\n",
    "fr = 0.1; #noise in the observation. \n",
    "\n",
    "maxd=3\n",
    "degree_dist = Dirac(maxd) #the distribution of the degree in the graph. Dirac means random regular."
   ]
  },
  {
   "cell_type": "code",
   "execution_count": 9,
   "metadata": {},
   "outputs": [],
   "source": [
    "M=ParametricModel_1graph(N=N,T=T,γp=γp,λp=λp,γi=γi,λi=λi,fr=fr,dilution=dilution,distribution=degree_dist,maxd=maxd);\n"
   ]
  },
  {
   "cell_type": "code",
   "execution_count": null,
   "metadata": {},
   "outputs": [
    {
     "name": "stdout",
     "output_type": "stream",
     "text": [
      "#1.iter 2.F 3.Δ\n",
      "1\t0.791207859528553\t-1\n",
      "2\t-0.39525224392526\t-1\n",
      "3\t0.05129926112009416\t-1\n",
      "4\t0.25408205368655906\t-1\n",
      "5\t0.1718403855191318\t-1\n",
      "6\t0.11787265186125223\t-1\n",
      "7\t0.10851069893027161\t-1\n",
      "8\t0.1075778420388102\t-1\n",
      "9\t0.10755792291776889\t-1\n"
     ]
    }
   ],
   "source": [
    "pop_dynamics_1graph_stab(M, tot_iter=20)"
   ]
  },
  {
   "cell_type": "code",
   "execution_count": null,
   "metadata": {},
   "outputs": [],
   "source": [
    "pop_dynamics_1graph_stab(M, tot_iter=20)"
   ]
  },
  {
   "cell_type": "code",
   "execution_count": null,
   "metadata": {},
   "outputs": [],
   "source": [
    "#pop_dynamics_1graph(M)"
   ]
  },
  {
   "cell_type": "code",
   "execution_count": null,
   "metadata": {},
   "outputs": [],
   "source": [
    "#M.belief[:,4363]"
   ]
  },
  {
   "cell_type": "code",
   "execution_count": null,
   "metadata": {},
   "outputs": [],
   "source": [
    "#@time calculate_ν_1graph_stab!(M, 8, M.Neigh[8][1], M.Neigh[8][2], true)"
   ]
  },
  {
   "cell_type": "code",
   "execution_count": null,
   "metadata": {},
   "outputs": [],
   "source": [
    "#@time calculate_ν_1graph!(M, 8, M.Neigh[8][1], true)"
   ]
  },
  {
   "cell_type": "code",
   "execution_count": null,
   "metadata": {},
   "outputs": [],
   "source": [
    "#@time update_μ_1graph_stab!(M, 8, M.Neigh[8][1])"
   ]
  },
  {
   "cell_type": "code",
   "execution_count": null,
   "metadata": {},
   "outputs": [],
   "source": [
    "#@time update_μ_1graph!(M, 8, M.Neigh[8][1])"
   ]
  },
  {
   "cell_type": "code",
   "execution_count": null,
   "metadata": {},
   "outputs": [],
   "source": [
    "#@time sweep_1graph_stab!(M, 4,4)"
   ]
  },
  {
   "cell_type": "code",
   "execution_count": null,
   "metadata": {},
   "outputs": [],
   "source": [
    "#@time sweep_1graph!(M)"
   ]
  },
  {
   "cell_type": "code",
   "execution_count": null,
   "metadata": {},
   "outputs": [],
   "source": []
  }
 ],
 "metadata": {
  "kernelspec": {
   "display_name": "Julia 1.8.5",
   "language": "julia",
   "name": "julia-1.8"
  },
  "language_info": {
   "file_extension": ".jl",
   "mimetype": "application/julia",
   "name": "julia",
   "version": "1.8.5"
  }
 },
 "nbformat": 4,
 "nbformat_minor": 4
}
