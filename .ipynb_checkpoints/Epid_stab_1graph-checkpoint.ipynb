{
 "cells": [
  {
   "cell_type": "code",
   "execution_count": 1,
   "metadata": {},
   "outputs": [],
   "source": [
    "using Plots\n",
    "using ProgressMeter\n",
    "using Revise"
   ]
  },
  {
   "cell_type": "code",
   "execution_count": 2,
   "metadata": {},
   "outputs": [
    {
     "data": {
      "text/plain": [
       "pop_dynamics_1graph_stab (generic function with 1 method)"
      ]
     },
     "execution_count": 2,
     "metadata": {},
     "output_type": "execute_result"
    }
   ],
   "source": [
    "import OffsetArrays\n",
    "using StatsBase\n",
    "using Graphs, IndexedGraphs\n",
    "using Distributions,UnPack,OffsetArrays\n",
    "srcpath = \"./src\"\n",
    "include(\"$srcpath/post_infer_1graph.jl\") "
   ]
  },
  {
   "cell_type": "code",
   "execution_count": 3,
   "metadata": {},
   "outputs": [
    {
     "data": {
      "text/plain": [
       "Dirac{Int64}(value=3)"
      ]
     },
     "execution_count": 3,
     "metadata": {},
     "output_type": "execute_result"
    }
   ],
   "source": [
    "T = 8 # discrete time: number of time-steps\n",
    "λp = 1.0# planted infection rate\n",
    "λi = λp #inferred infection rate\n",
    "γp = 0.1 # planted autoinfection probability\n",
    "γi = γp # inferred autoinfection probability\n",
    "N = 5000; #population size\n",
    "dilution = 0.0 #dilution of observations. dil=0 means everybody observed once\n",
    "fr = 0.0; #noise in the observation. \n",
    "maxd=3\n",
    "degree_dist = Dirac(maxd) #the distribution of the degree in the graph. Dirac means random regular.\n",
    "\n",
    "σ0 = 0.01"
   ]
  },
  {
   "cell_type": "code",
   "execution_count": 4,
   "metadata": {},
   "outputs": [],
   "source": [
    "M=ParametricModel_1graph(N=N,T=T,γp=γp,λp=λp,γi=γi,λi=λi,fr=fr,dilution=dilution,distribution=degree_dist,maxd=maxd);\n"
   ]
  },
  {
   "cell_type": "code",
   "execution_count": 5,
   "metadata": {},
   "outputs": [
    {
     "name": "stdout",
     "output_type": "stream",
     "text": [
      "#1.iter 2.F\n",
      "1\t0.0005925662666377321\n",
      "2\t-0.002874731567708659\n",
      "3\t-0.0003163734242269129\n",
      "4\t-2.6993039128865347e-5\n",
      "5\t-5.882933094835607e-6\n",
      "6\t-9.01709777826909e-7\n",
      "7\t-5.978137342026457e-8\n",
      "8\t-7.004928193055094e-10\n",
      "9\t3.9508449845016003e-13\n",
      "10\t5.049514584243298e-13\n",
      "11\t5.049514584243298e-13\n",
      "12\t5.049514584243298e-13\n",
      "13\t5.049514584243298e-13\n",
      "14\t5.049514584243298e-13\n",
      "15\t5.049514584243298e-13\n",
      "16\t5.049514584243298e-13\n",
      "17\t5.049514584243298e-13\n",
      "18\t5.049514584243298e-13\n",
      "19\t5.049514584243298e-13\n",
      "20\t5.049514584243298e-13\n",
      "21\t5.049514584243298e-13\n",
      "22\t5.049514584243298e-13\n",
      "23\t5.049514584243298e-13\n",
      "24\t5.049514584243298e-13\n",
      "25\t5.049514584243298e-13\n",
      "26\t5.049514584243298e-13\n",
      "27\t5.049514584243298e-13\n",
      "28\t5.049514584243298e-13\n",
      "29\t5.049514584243298e-13\n",
      "30\t5.049514584243298e-13\n",
      "31\t5.049514584243298e-13\n",
      "32\t5.049514584243298e-13\n",
      "33\t5.049514584243298e-13\n",
      "34\t5.049514584243298e-13\n",
      "35\t5.049514584243298e-13\n",
      "36\t5.049514584243298e-13\n",
      "37\t5.049514584243298e-13\n",
      "38\t5.049514584243298e-13\n",
      "39\t5.049514584243298e-13\n",
      "40\t5.049514584243298e-13\n"
     ]
    }
   ],
   "source": [
    "pop_dynamics_1graph(M, tot_iter=40)"
   ]
  },
  {
   "cell_type": "code",
   "execution_count": 8,
   "metadata": {},
   "outputs": [
    {
     "data": {
      "text/plain": [
       "10-element OffsetArray(::Vector{Float64}, 0:9) with eltype Float64 with indices 0:9:\n",
       " 0.10000000000000003\n",
       " 0.24389999999999998\n",
       " 0.3074215599000001\n",
       " 0.25020134988163883\n",
       " 0.0906219230070821\n",
       " 0.007805187253226036\n",
       " 4.997793467596517e-5\n",
       " 2.0233769243286453e-9\n",
       " 3.3161838949735942e-18\n",
       " 0.0"
      ]
     },
     "execution_count": 8,
     "metadata": {},
     "output_type": "execute_result"
    }
   ],
   "source": [
    "l=rand(1:N)\n",
    "M.belief[:,l]"
   ]
  },
  {
   "cell_type": "code",
   "execution_count": 9,
   "metadata": {},
   "outputs": [
    {
     "name": "stdout",
     "output_type": "stream",
     "text": [
      "#1.iter 2.conv_crit 3.Δ\n",
      "1\tInf\t-1\n",
      "2\t0.0\t-1\n",
      "3\t0.0\t-1\n",
      "4\t0.0\t-1\n",
      "5\t0.0\t-1\n",
      "6\t0.0\t-1\n",
      "7\t0.0\t-1\n",
      "8\t0.0\t-1\n",
      "9\t0.0\t-1\n",
      "10\t0.0\t-1\n",
      "11\t0.0\t1.1473211164707746e-5\n",
      "12\t0.0\t6.560572567746781e-6\n",
      "13\t0.0\t2.875420646583686e-6\n",
      "14\t0.0\t1.2036939809179948e-6\n",
      "15\t0.0\t4.992670664022581e-7\n",
      "16\t0.0\t1.6884241003821704e-7\n",
      "17\t0.0\t4.179409032204847e-8\n",
      "18\t0.0\t7.0099410213570505e-9\n",
      "19\t0.0\t6.766727720569918e-10\n",
      "20\t0.0\t2.836467517088887e-11\n"
     ]
    }
   ],
   "source": [
    "pop_dynamics_1graph_stab(M, tot_iter=20)"
   ]
  },
  {
   "cell_type": "code",
   "execution_count": null,
   "metadata": {},
   "outputs": [],
   "source": [
    "#@time calculate_ν_1graph_stab!(M, 8, M.Neigh[8][1], M.Neigh[8][2], true)"
   ]
  },
  {
   "cell_type": "code",
   "execution_count": null,
   "metadata": {},
   "outputs": [],
   "source": [
    "#@time calculate_ν_1graph!(M, 8, M.Neigh[8][1], true)"
   ]
  },
  {
   "cell_type": "code",
   "execution_count": null,
   "metadata": {},
   "outputs": [],
   "source": [
    "#@time update_μ_1graph_stab!(M, 8, M.Neigh[8][1])"
   ]
  },
  {
   "cell_type": "code",
   "execution_count": null,
   "metadata": {},
   "outputs": [],
   "source": [
    "#@time update_μ_1graph!(M, 8, M.Neigh[8][1])"
   ]
  },
  {
   "cell_type": "code",
   "execution_count": null,
   "metadata": {},
   "outputs": [],
   "source": [
    "#@time sweep_1graph_stab!(M, 4,4)"
   ]
  },
  {
   "cell_type": "code",
   "execution_count": null,
   "metadata": {},
   "outputs": [],
   "source": [
    "#@time sweep_1graph!(M)"
   ]
  },
  {
   "cell_type": "code",
   "execution_count": null,
   "metadata": {},
   "outputs": [],
   "source": []
  }
 ],
 "metadata": {
  "kernelspec": {
   "display_name": "Julia 1.8.5",
   "language": "julia",
   "name": "julia-1.8"
  },
  "language_info": {
   "file_extension": ".jl",
   "mimetype": "application/julia",
   "name": "julia",
   "version": "1.8.5"
  }
 },
 "nbformat": 4,
 "nbformat_minor": 4
}
