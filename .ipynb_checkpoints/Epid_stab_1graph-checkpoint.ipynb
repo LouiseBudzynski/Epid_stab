{
 "cells": [
  {
   "cell_type": "code",
   "execution_count": 1,
   "metadata": {},
   "outputs": [],
   "source": [
    "using Plots\n",
    "using ProgressMeter\n",
    "using Revise"
   ]
  },
  {
   "cell_type": "code",
   "execution_count": 2,
   "metadata": {},
   "outputs": [
    {
     "data": {
      "text/plain": [
       "pop_dynamics_1graph_stab (generic function with 1 method)"
      ]
     },
     "execution_count": 2,
     "metadata": {},
     "output_type": "execute_result"
    }
   ],
   "source": [
    "import OffsetArrays\n",
    "using StatsBase\n",
    "using Graphs, IndexedGraphs\n",
    "using Distributions,UnPack,OffsetArrays\n",
    "srcpath = \"./src\"\n",
    "include(\"$srcpath/post_infer_1graph.jl\") "
   ]
  },
  {
   "cell_type": "code",
   "execution_count": 3,
   "metadata": {},
   "outputs": [
    {
     "data": {
      "text/plain": [
       "Dirac{Int64}(value=3)"
      ]
     },
     "execution_count": 3,
     "metadata": {},
     "output_type": "execute_result"
    }
   ],
   "source": [
    "T = 8 # discrete time: number of time-steps\n",
    "λp = 1.0# planted infection rate\n",
    "λi = λp #inferred infection rate\n",
    "γp = 0.01 # planted autoinfection probability\n",
    "γi = γp # inferred autoinfection probability\n",
    "N = 500000; #population size\n",
    "dilution = 0.0 #dilution of observations. dil=0 means everybody observed once\n",
    "fr = 0.0; #noise in the observation. \n",
    "maxd=3\n",
    "degree_dist = Dirac(maxd) #the distribution of the degree in the graph. Dirac means random regular."
   ]
  },
  {
   "cell_type": "code",
   "execution_count": 4,
   "metadata": {},
   "outputs": [
    {
     "data": {
      "text/plain": [
       "pop_dynamics_1graph_stab (generic function with 1 method)"
      ]
     },
     "execution_count": 4,
     "metadata": {},
     "output_type": "execute_result"
    }
   ],
   "source": [
    "include(\"$srcpath/post_infer_1graph.jl\") "
   ]
  },
  {
   "cell_type": "code",
   "execution_count": 5,
   "metadata": {},
   "outputs": [],
   "source": [
    "M=ParametricModel_1graph(N=N,T=T,γp=γp,λp=λp, fixseednumber=true,γi=γi,λi=λi,fr=fr,dilution=dilution,distribution=degree_dist,maxd=maxd);\n"
   ]
  },
  {
   "cell_type": "code",
   "execution_count": null,
   "metadata": {},
   "outputs": [],
   "source": []
  },
  {
   "cell_type": "code",
   "execution_count": 6,
   "metadata": {},
   "outputs": [
    {
     "name": "stdout",
     "output_type": "stream",
     "text": [
      "#1.iter 2.F\n",
      "1\t0.0044487424732344225\n",
      "2\t0.0035999419298106804\n",
      "3\t0.01043285539785493\n",
      "4\t0.01305148617022857\n",
      "5\t0.010615751378433314\n",
      "6\t0.006760560179969296\n",
      "7\t0.0047897689982713204\n",
      "8\t0.0023283010458685456\n",
      "9\t-0.002946148126719985\n",
      "10\t-0.008549280584557447\n",
      "11\t-0.009418826761674135\n",
      "12\t-0.0030062637346819974\n",
      "13\t0.00634208164062351\n",
      "14\t0.012564446524434723\n",
      "15\t0.013882364180435891\n",
      "16\t0.01205694285214832\n",
      "17\t0.00923190490658069\n",
      "18\t0.006778550515087321\n",
      "19\t0.005144266578851268\n",
      "20\t0.003950025163528975\n",
      "21\t0.0022038491917587815\n",
      "22\t-0.0009904932733708993\n",
      "23\t-0.004867374228865839\n",
      "24\t-0.0065594311388847415\n",
      "25\t-0.003384326720092911\n",
      "26\t0.0036029797260365448\n",
      "27\t0.009906608081236482\n",
      "28\t0.012361943447345402\n",
      "29\t0.0114894260534863\n",
      "30\t0.00921969233521726\n",
      "31\t0.007012002631071955\n",
      "32\t0.00537906340935966\n",
      "33\t0.004127611761618871\n",
      "34\t0.0025216209051823245\n",
      "35\t-0.00014955940245231614\n",
      "36\t-0.003467340002092067\n",
      "37\t-0.005289743828845676\n",
      "38\t-0.0032949628461510874\n",
      "39\t0.0023237944071283563\n",
      "40\t0.008211085826014635\n"
     ]
    }
   ],
   "source": [
    "pop_dynamics_1graph(M, tot_iter=40)"
   ]
  },
  {
   "cell_type": "code",
   "execution_count": null,
   "metadata": {},
   "outputs": [],
   "source": [
    "l=rand(1:N)\n",
    "M.belief[:,l]"
   ]
  },
  {
   "cell_type": "code",
   "execution_count": null,
   "metadata": {},
   "outputs": [],
   "source": [
    "pop_dynamics_1graph_stab(M, tot_iter=20)"
   ]
  },
  {
   "cell_type": "code",
   "execution_count": null,
   "metadata": {},
   "outputs": [],
   "source": [
    "#@time calculate_ν_1graph_stab!(M, 8, M.Neigh[8][1], M.Neigh[8][2], true)"
   ]
  },
  {
   "cell_type": "code",
   "execution_count": null,
   "metadata": {},
   "outputs": [],
   "source": [
    "#@time calculate_ν_1graph!(M, 8, M.Neigh[8][1], true)"
   ]
  },
  {
   "cell_type": "code",
   "execution_count": null,
   "metadata": {},
   "outputs": [],
   "source": [
    "#@time update_μ_1graph_stab!(M, 8, M.Neigh[8][1])"
   ]
  },
  {
   "cell_type": "code",
   "execution_count": null,
   "metadata": {},
   "outputs": [],
   "source": [
    "#@time update_μ_1graph!(M, 8, M.Neigh[8][1])"
   ]
  },
  {
   "cell_type": "code",
   "execution_count": null,
   "metadata": {},
   "outputs": [],
   "source": [
    "#@time sweep_1graph_stab!(M, 4,4)"
   ]
  },
  {
   "cell_type": "code",
   "execution_count": null,
   "metadata": {},
   "outputs": [],
   "source": [
    "#@time sweep_1graph!(M)"
   ]
  },
  {
   "cell_type": "code",
   "execution_count": null,
   "metadata": {},
   "outputs": [],
   "source": []
  }
 ],
 "metadata": {
  "kernelspec": {
   "display_name": "Julia 1.8.5",
   "language": "julia",
   "name": "julia-1.8"
  },
  "language_info": {
   "file_extension": ".jl",
   "mimetype": "application/julia",
   "name": "julia",
   "version": "1.8.5"
  }
 },
 "nbformat": 4,
 "nbformat_minor": 4
}
