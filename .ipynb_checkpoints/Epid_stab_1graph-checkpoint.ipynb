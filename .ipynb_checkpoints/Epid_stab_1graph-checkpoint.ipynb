{
 "cells": [
  {
   "cell_type": "code",
   "execution_count": 1,
   "metadata": {},
   "outputs": [
    {
     "data": {
      "text/plain": [
       "pop_dynamics_1graph_stab (generic function with 1 method)"
      ]
     },
     "execution_count": 1,
     "metadata": {},
     "output_type": "execute_result"
    }
   ],
   "source": [
    "import OffsetArrays\n",
    "using Plots\n",
    "using Revise\n",
    "using StatsBase\n",
    "using ProgressMeter\n",
    "using SparseArrays, LinearAlgebra, IndexedGraphs, Graphs\n",
    "using Distributions,UnPack,OffsetArrays\n",
    "srcpath = \"./src\"\n",
    "include(\"$srcpath/bp.jl\") \n",
    "include(\"$srcpath/observables.jl\") \n",
    "#include(\"$srcpath/single_instance.jl\") \n",
    "include(\"$srcpath/post_infer_1graph.jl\") "
   ]
  },
  {
   "cell_type": "code",
   "execution_count": 2,
   "metadata": {},
   "outputs": [
    {
     "data": {
      "text/plain": [
       "Dirac{Int64}(value=3)"
      ]
     },
     "execution_count": 2,
     "metadata": {},
     "output_type": "execute_result"
    }
   ],
   "source": [
    "λp = 1.0# planted infection rate\n",
    "λi = λp #inferred infection rate\n",
    "\n",
    "T = 8 # discrete time: number of time-steps\n",
    "\n",
    "γp = 0.01 #0.019 # planted autoinfection probability\n",
    "γi = γp # inferred autoinfection probability\n",
    "\n",
    "N = 50000; #population size\n",
    "\n",
    "dilution = 0.0 #dilution of observations. dil=0 means everybody observed once\n",
    "fr = 0.008; #noise in the observation. \n",
    "\n",
    "maxd=3\n",
    "degree_dist = Dirac(maxd) #the distribution of the degree in the graph. Dirac means random regular."
   ]
  },
  {
   "cell_type": "code",
   "execution_count": 3,
   "metadata": {},
   "outputs": [],
   "source": [
    "M=ParametricModel_1graph(N=N,T=T,γp=γp,λp=λp,γi=γi,λi=λi,fr=fr,dilution=dilution,distribution=degree_dist,maxd=maxd);\n"
   ]
  },
  {
   "cell_type": "code",
   "execution_count": 4,
   "metadata": {},
   "outputs": [
    {
     "name": "stdout",
     "output_type": "stream",
     "text": [
      "#1.iter 2.F 3.Δ\n",
      "1\t-0.7782026832013181\t-1\n",
      "2\t-0.4912599902977294\t-1\n",
      "3\t-0.035213546701865855\t-1\n",
      "4\t0.15656253915067356\t-1\n",
      "5\t0.07375799520677422\t-1\n",
      "6\t0.02249432930151117\t-1\n",
      "7\t0.013062541393557331\t-1\n",
      "8\t0.01229399139448884\t-1\n",
      "9\t0.012274269595001242\t-1\n",
      "10\t0.012303200115278596\t-1\n",
      "11\t0.012514764340688125\t-1\n",
      "12\t0.01246430061731604\t-1\n",
      "13\t0.011568807889620074\t-1\n",
      "14\t0.010422119986476028\t-1\n",
      "15\t0.010060671979439212\t-1\n",
      "16\t0.010903717675455846\t-1\n",
      "17\t0.012376478602196438\t-1\n",
      "18\t0.013224169875828666\t-1\n",
      "19\t0.013378108378972393\t-1\n",
      "20\t0.013367619123747572\t-1\n",
      "21\t0.01329330594922416\t-1\n",
      "22\t0.013111996304087806\t-1\n",
      "23\t0.012858777039847337\t-1\n",
      "24\t0.012568678205391625\t-1\n",
      "25\t0.012290784002004658\t-1\n",
      "26\t0.01207408397435036\t-1\n",
      "27\t0.011954194854410597\t-1\n",
      "28\t0.011927423616133165\t-1\n",
      "29\t0.011996486839551361\t-1\n",
      "30\t0.012126880034419009\t-1\n",
      "31\t0.0122965215415915\t-1\n",
      "32\t0.01247055741537013\t-1\n",
      "33\t0.012601070556626072\t-1\n",
      "34\t0.01266477232620644\t-1\n",
      "35\t0.012672283555066678\t-1\n",
      "36\t0.012623418622806203\t-1\n",
      "37\t0.01254728663321701\t-1\n",
      "38\t0.012460960972057655\t-1\n",
      "39\t0.01238218242607778\t-1\n",
      "40\t0.012317311252709478\t-1\n",
      "41\t0.01227679360373062\t-1\n",
      "42\t0.012267251877006493\t-1\n",
      "43\t0.012284726032083854\t-1\n",
      "44\t0.012324451581013272\t-1\n",
      "45\t0.012374249763154658\t-1\n",
      "46\t0.012419475657470175\t-1\n",
      "47\t0.01245540401728358\t-1\n",
      "48\t0.012475396075063035\t-1\n",
      "49\t0.012479656631859834\t-1\n",
      "50\t0.012468480002869618\t-1\n",
      "51\t0.012447008575750516\t-1\n",
      "52\t0.012422723850227775\t-1\n",
      "53\t0.012399677423409302\t-1\n",
      "54\t0.012381636595682357\t-1\n",
      "55\t0.012370377598740743\t-1\n",
      "56\t0.012366501610068371\t-1\n",
      "57\t0.012371252737480682\t-1\n"
     ]
    },
    {
     "ename": "LoadError",
     "evalue": "InterruptException:",
     "output_type": "error",
     "traceback": [
      "InterruptException:",
      "",
      "Stacktrace:",
      "  [1] Array",
      "    @ ./boot.jl:459 [inlined]",
      "  [2] BitArray",
      "    @ ./bitarray.jl:37 [inlined]",
      "  [3] BitArray",
      "    @ ./bitarray.jl:71 [inlined]",
      "  [4] similar",
      "    @ ./abstractarray.jl:841 [inlined]",
      "  [5] similar",
      "    @ ./abstractarray.jl:840 [inlined]",
      "  [6] similar",
      "    @ ./broadcast.jl:214 [inlined]",
      "  [7] similar",
      "    @ ./broadcast.jl:211 [inlined]",
      "  [8] copy",
      "    @ ./broadcast.jl:885 [inlined]",
      "  [9] materialize",
      "    @ ./broadcast.jl:860 [inlined]",
      " [10] calculate_ν_1graph!(M::ParametricModel_1graph{Dirac{Int64}, Dirac{Int64}, OffsetArray{Float64, 4, Array{Float64, 4}}, OffsetMatrix{Float64, Matrix{Float64}}, OffsetMatrix{Float64, Matrix{Float64}}, OffsetVector{Float64, Vector{Float64}}, Float64}, i::Int64, j::Int64, oi::Bool)",
      "    @ Main ~/Documents/PostDoc_Turin/Projet-Epidemics/Epidemble-RSB/Git/Epid_stab/src/post_infer_1graph.jl:95",
      " [11] sweep_1graph_stab!(M::ParametricModel_1graph{Dirac{Int64}, Dirac{Int64}, OffsetArray{Float64, 4, Array{Float64, 4}}, OffsetMatrix{Float64, Matrix{Float64}}, OffsetMatrix{Float64, Matrix{Float64}}, OffsetVector{Float64, Vector{Float64}}, Float64}, iter::Int64, maxiter::Int64; nbstab::Float64)",
      "    @ Main ~/Documents/PostDoc_Turin/Projet-Epidemics/Epidemble-RSB/Git/Epid_stab/src/post_infer_1graph.jl:236",
      " [12] sweep_1graph_stab!",
      "    @ ~/Documents/PostDoc_Turin/Projet-Epidemics/Epidemble-RSB/Git/Epid_stab/src/post_infer_1graph.jl:225 [inlined]",
      " [13] pop_dynamics_1graph_stab(M::ParametricModel_1graph{Dirac{Int64}, Dirac{Int64}, OffsetArray{Float64, 4, Array{Float64, 4}}, OffsetMatrix{Float64, Matrix{Float64}}, OffsetMatrix{Float64, Matrix{Float64}}, OffsetVector{Float64, Vector{Float64}}, Float64}; tot_iter::Int64)",
      "    @ Main ~/Documents/PostDoc_Turin/Projet-Epidemics/Epidemble-RSB/Git/Epid_stab/src/post_infer_1graph.jl:283",
      " [14] top-level scope",
      "    @ In[4]:1"
     ]
    }
   ],
   "source": [
    "pop_dynamics_1graph_stab(M, tot_iter=500)"
   ]
  },
  {
   "cell_type": "code",
   "execution_count": null,
   "metadata": {},
   "outputs": [],
   "source": [
    "#M.belief[:,4363]"
   ]
  },
  {
   "cell_type": "code",
   "execution_count": null,
   "metadata": {},
   "outputs": [],
   "source": [
    "#@time calculate_ν_1graph_stab!(M, 8, M.Neigh[8][1], M.Neigh[8][2], true)"
   ]
  },
  {
   "cell_type": "code",
   "execution_count": null,
   "metadata": {},
   "outputs": [],
   "source": [
    "#@time calculate_ν_1graph!(M, 8, M.Neigh[8][1], true)"
   ]
  },
  {
   "cell_type": "code",
   "execution_count": null,
   "metadata": {},
   "outputs": [],
   "source": [
    "#@time update_μ_1graph_stab!(M, 8, M.Neigh[8][1])"
   ]
  },
  {
   "cell_type": "code",
   "execution_count": null,
   "metadata": {},
   "outputs": [],
   "source": [
    "#@time update_μ_1graph!(M, 8, M.Neigh[8][1])"
   ]
  },
  {
   "cell_type": "code",
   "execution_count": null,
   "metadata": {},
   "outputs": [],
   "source": [
    "#@time sweep_1graph_stab!(M, 4,4)"
   ]
  },
  {
   "cell_type": "code",
   "execution_count": null,
   "metadata": {},
   "outputs": [],
   "source": [
    "#@time sweep_1graph!(M)"
   ]
  },
  {
   "cell_type": "code",
   "execution_count": null,
   "metadata": {},
   "outputs": [],
   "source": []
  }
 ],
 "metadata": {
  "kernelspec": {
   "display_name": "Julia 1.8.5",
   "language": "julia",
   "name": "julia-1.8"
  },
  "language_info": {
   "file_extension": ".jl",
   "mimetype": "application/julia",
   "name": "julia",
   "version": "1.8.5"
  }
 },
 "nbformat": 4,
 "nbformat_minor": 4
}
