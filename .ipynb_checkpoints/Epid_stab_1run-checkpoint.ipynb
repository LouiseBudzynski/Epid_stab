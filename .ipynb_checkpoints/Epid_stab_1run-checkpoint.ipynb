{
 "cells": [
  {
   "cell_type": "code",
   "execution_count": 31,
   "metadata": {},
   "outputs": [
    {
     "data": {
      "text/plain": [
       "avg_ninf (generic function with 1 method)"
      ]
     },
     "execution_count": 31,
     "metadata": {},
     "output_type": "execute_result"
    }
   ],
   "source": [
    "import OffsetArrays\n",
    "using Plots\n",
    "using Revise\n",
    "using StatsBase\n",
    "using ProgressMeter\n",
    "using SparseArrays, LinearAlgebra, IndexedGraphs, Graphs\n",
    "using Distributions\n",
    "srcpath = \"./src\"\n",
    "include(\"$srcpath/bp.jl\") \n",
    "include(\"$srcpath/bp_stab.jl\") \n",
    "include(\"$srcpath/post_infer.jl\") \n",
    "include(\"$srcpath/observables.jl\")"
   ]
  },
  {
   "cell_type": "code",
   "execution_count": 32,
   "metadata": {
    "scrolled": true
   },
   "outputs": [
    {
     "name": "stdout",
     "output_type": "stream",
     "text": [
      "2 / sqrt(N) = 0.0282842712474619\n"
     ]
    },
    {
     "data": {
      "text/plain": [
       "Dirac{Int64}(value=3)"
      ]
     },
     "execution_count": 32,
     "metadata": {},
     "output_type": "execute_result"
    }
   ],
   "source": [
    "λp = 1.0# planted infection rate\n",
    "λi = λp #inferred infection rate\n",
    "\n",
    "T = 8 # discrete time: number of time-steps\n",
    "\n",
    "γp = 0.03 #inferred autoinfection probability\n",
    "γi = γp\n",
    "\n",
    "N = 5000; #population size\n",
    "@show 2/sqrt(N)\n",
    "\n",
    "dilution = 0.0 #dilution of observations. dil=0 means everybody observed once\n",
    "fr = 0.0; #noise in the observation. \n",
    "\n",
    "degree_dist = Dirac(3) #the distribution of the degree in the graph. Dirac means random regular."
   ]
  },
  {
   "cell_type": "code",
   "execution_count": 33,
   "metadata": {},
   "outputs": [],
   "source": [
    "M_zero = ParametricModel(N=N,T=T,γp=γp,λp=λp,γi=γi,λi=λi,fr=fr,dilution=dilution,distribution=degree_dist);"
   ]
  },
  {
   "cell_type": "code",
   "execution_count": 34,
   "metadata": {},
   "outputs": [],
   "source": [
    "#@time sweep!(M_zero)"
   ]
  },
  {
   "cell_type": "code",
   "execution_count": 35,
   "metadata": {},
   "outputs": [
    {
     "name": "stdout",
     "output_type": "stream",
     "text": [
      "#1.iter 2.F\n",
      "0\t0.1811565311264727\n",
      "1\t-0.2644336813276481\n",
      "2\t0.0646121309255279\n",
      "3\t0.11001802447928348\n",
      "4\t0.11014460734496678\n",
      "5\t0.11016691181230126\n",
      "6\t0.1101445949414061\n",
      "7\t0.11014459489932342\n",
      "8\t0.11014459489929286\n",
      "9\t0.11014459489929286\n",
      "10\t0.11014459489929286\n",
      "11\t0.11014459489929286\n",
      "12\t0.11014459489929286\n",
      "13\t0.11014459489929286\n",
      "14\t0.11014459489929286\n",
      "15\t0.11014459489929286\n",
      "16\t0.11014459489929286\n",
      "17\t0.11014459489929286\n",
      "18\t0.11014459489929286\n",
      "19\t0.11014459489929286\n",
      "20\t0.11014459489929286\n",
      "21\t0.11014459489929286\n",
      "22\t0.11014459489929286\n",
      "23\t0.11014459489929286\n",
      "24\t0.11014459489929286\n",
      "25\t0.11014459489929286\n",
      "26\t0.11014459489929286\n",
      "27\t0.11014459489929286\n",
      "28\t0.11014459489929286\n",
      "29\t0.11014459489929286\n",
      "30\t0.11014459489929286\n",
      "31\t0.11014459489929286\n",
      "32\t0.11014459489929286\n",
      "33\t0.11014459489929286\n",
      "34\t0.11014459489929286\n",
      "35\t0.11014459489929286\n",
      "36\t0.11014459489929286\n",
      "37\t0.11014459489929286\n",
      "38\t0.11014459489929286\n",
      "39\t0.11014459489929286\n"
     ]
    }
   ],
   "source": [
    "F_zero,it_zero = pop_dynamics(M_zero, tot_iterations = 40, stop_at_convergence=false);"
   ]
  },
  {
   "cell_type": "code",
   "execution_count": 21,
   "metadata": {},
   "outputs": [
    {
     "data": {
      "text/plain": [
       "10×10 OffsetArray(::Matrix{Float64}, 0:9, 0:9) with eltype Float64 with indices 0:9×0:9:\n",
       " 0.0  0.0  0.0  0.0  0.0  0.03        0.0  0.0  0.0  0.0\n",
       " 0.0  0.0  0.0  0.0  0.0  0.0847072   0.0  0.0  0.0  0.0\n",
       " 0.0  0.0  0.0  0.0  0.0  0.147869    0.0  0.0  0.0  0.0\n",
       " 0.0  0.0  0.0  0.0  0.0  0.225768    0.0  0.0  0.0  0.0\n",
       " 0.0  0.0  0.0  0.0  0.0  0.265336    0.0  0.0  0.0  0.0\n",
       " 0.0  0.0  0.0  0.0  0.0  0.189232    0.0  0.0  0.0  0.0\n",
       " 0.0  0.0  0.0  0.0  0.0  0.0540213   0.0  0.0  0.0  0.0\n",
       " 0.0  0.0  0.0  0.0  0.0  0.00305756  0.0  0.0  0.0  0.0\n",
       " 0.0  0.0  0.0  0.0  0.0  8.84682e-6  0.0  0.0  0.0  0.0\n",
       " 0.0  0.0  0.0  0.0  0.0  0.0         0.0  0.0  0.0  0.0"
      ]
     },
     "execution_count": 21,
     "metadata": {},
     "output_type": "execute_result"
    }
   ],
   "source": [
    "l=rand(1:N)\n",
    "M_zero.belief[:,:,l]"
   ]
  },
  {
   "cell_type": "code",
   "execution_count": 22,
   "metadata": {},
   "outputs": [],
   "source": [
    "#marg_zero = M_zero.belief |> real;\n",
    "#marg2D_zero = reshape(sum(marg_zero,dims=3) ./ N, T+2,T+2)\n",
    "#ensAUC_zero = avgAUC(marg_zero,M_zero.obs_list,count_obs=true);"
   ]
  },
  {
   "cell_type": "code",
   "execution_count": 23,
   "metadata": {},
   "outputs": [],
   "source": [
    "M = ParametricModel(N=N,T=T,γp=γp,λp=λp,γi=γi,λi=λi,fr=fr,dilution=dilution,distribution=degree_dist);"
   ]
  },
  {
   "cell_type": "code",
   "execution_count": 24,
   "metadata": {},
   "outputs": [],
   "source": [
    "#@time sweep_stab!(M, 3, 4)"
   ]
  },
  {
   "cell_type": "code",
   "execution_count": 25,
   "metadata": {},
   "outputs": [
    {
     "name": "stdout",
     "output_type": "stream",
     "text": [
      "#1.iter 2.conv_crit 3.Δ\n",
      "1\tInf\t-1\t\n",
      "2\t0.27745903490777124\t-1\t\n",
      "3\t0.07918502662695737\t-1\t\n",
      "4\t0.097566437435475\t-1\t\n",
      "5\t0.03445249630834013\t-1\t\n",
      "6\t0.0047461648227180575\t-1\t\n",
      "7\t0.0007728686015511244\t-1\t\n",
      "8\t0.0006868673733286812\t-1\t\n",
      "9\t0.00037593085427189976\t-1\t\n",
      "10\t0.00011397333097740159\t-1\t\n",
      "11\t2.000301264359905e-5\t-1\t\n",
      "12\t1.7833914043308141e-6\t-1\t\n",
      "13\t7.605714991143486e-8\t-1\t\n",
      "14\t4.377174178671339e-10\t-1\t\n",
      "15\t9.067999684475581e-10\t-1\t\n",
      "16\t4.028546385370646e-10\t-1\t\n",
      "17\t1.745146249731988e-10\t-1\t\n",
      "18\t6.81055212226056e-11\t-1\t\n",
      "19\t2.0444090864657483e-11\t-1\t\n",
      "20\t4.240163775648398e-12\t-1\t\n",
      "21\t6.465938895416912e-13\t-1\t\n",
      "22\t4.440892098500626e-14\t-1\t\n",
      "23\t1.7763568394002505e-15\t-1\t\n",
      "24\t0.0\t-1\t\n",
      "25\t0.0\t-1\t\n",
      "26\t0.0\t8.946830255602467e-6\t\n",
      "27\t0.0\t8.886615991864875e-6\t\n",
      "28\t0.0\t5.271527131008875e-6\t\n",
      "29\t0.0\t1.9822871670319024e-6\t\n",
      "30\t0.0\t8.06127982245512e-7\t\n",
      "31\t0.0\t3.7623713326182997e-7\t\n",
      "32\t0.0\t1.372721394004817e-7\t\n",
      "33\t0.0\t3.4909075519744174e-8\t\n",
      "34\t0.0\t5.611064778318513e-9\t\n",
      "35\t0.0\t4.994407166809048e-10\t\n",
      "36\t0.0\t2.2089547144997486e-11\t\n",
      "37\t0.0\t6.809012917416338e-13\t\n",
      "38\t0.0\t2.1396162619856354e-13\t\n",
      "39\t0.0\t1.0492497471231513e-13\t\n",
      "40\t0.0\t4.224448073761722e-14\t\n",
      "41\t0.0\t1.3565755396374868e-14\t\n",
      "42\t0.0\t3.45087628407121e-15\t\n",
      "43\t0.0\t6.874986882537336e-16\t\n",
      "44\t0.0\t1.0835960033369886e-16\t\n",
      "45\t0.0\t1.2661375452321288e-17\t\n",
      "46\t0.0\t1.0868936935922238e-18\t\n",
      "47\t0.0\t1.8623129317994714e-19\t\n",
      "48\t0.0\t7.273363005394342e-20\t\n",
      "49\t0.0\t2.6929497189765783e-20\t\n",
      "50\t0.0\t8.462158944635757e-21\t\n"
     ]
    }
   ],
   "source": [
    "pop_dynamics_stab(M, tot_iterations = 50);"
   ]
  },
  {
   "cell_type": "code",
   "execution_count": null,
   "metadata": {},
   "outputs": [],
   "source": []
  },
  {
   "cell_type": "code",
   "execution_count": 46,
   "metadata": {},
   "outputs": [
    {
     "ename": "LoadError",
     "evalue": "InterruptException:",
     "output_type": "error",
     "traceback": [
      "InterruptException:",
      "",
      "Stacktrace:",
      "  [1] Array",
      "    @ ./boot.jl:459 [inlined]",
      "  [2] Array",
      "    @ ./boot.jl:468 [inlined]",
      "  [3] similar",
      "    @ ./array.jl:378 [inlined]",
      "  [4] similar",
      "    @ ~/.julia/packages/OffsetArrays/hwmnB/src/OffsetArrays.jl:318 [inlined]",
      "  [5] similar",
      "    @ ./abstractarray.jl:795 [inlined]",
      "  [6] _unsafe_getindex(::IndexLinear, ::OffsetArray{Float64, 3, Array{Float64, 3}}, ::UnitRange{Int64}, ::Int64, ::Int64)",
      "    @ Base ./multidimensional.jl:887",
      "  [7] _getindex",
      "    @ ./multidimensional.jl:875 [inlined]",
      "  [8] getindex",
      "    @ ./abstractarray.jl:1241 [inlined]",
      "  [9] avgAUC(marg::OffsetArray{Float64, 3, Array{Float64, 3}}, obs_list::Vector{Bool}; count_obs::Bool)",
      "    @ Main ~/Documents/PostDoc_Turin/Projet-Epidemics/Epidemble-RSB/Git/Epid_stab/src/observables.jl:87",
      " [10] top-level scope",
      "    @ In[46]:3"
     ]
    }
   ],
   "source": [
    "marg = M.belief |> real;\n",
    "marg2D = reshape(sum(marg,dims=3) ./ N, T+2,T+2)\n",
    "ensAUC = avgAUC(marg,M.obs_list,count_obs=true); #set false to see the AUC only on NON observed indiv."
   ]
  },
  {
   "cell_type": "code",
   "execution_count": 48,
   "metadata": {},
   "outputs": [
    {
     "data": {
      "text/plain": [
       "9-element Vector{Float64}:\n",
       " 8.0174\n",
       " 7.3538\n",
       " 6.423\n",
       " 5.5652\n",
       " 4.6602\n",
       " 3.7476\n",
       " 2.8344\n",
       " 1.9188\n",
       " 1.0032"
      ]
     },
     "execution_count": 48,
     "metadata": {},
     "output_type": "execute_result"
    }
   ],
   "source": [
    "avgOverlap(marg)"
   ]
  },
  {
   "cell_type": "code",
   "execution_count": null,
   "metadata": {},
   "outputs": [],
   "source": [
    "sum(abs.(marg2D.-marg2D_zero))/length(marg2D)"
   ]
  },
  {
   "cell_type": "code",
   "execution_count": null,
   "metadata": {},
   "outputs": [],
   "source": [
    "scatter(ensAUC)\n",
    "scatter!(ensAUC_zero)"
   ]
  },
  {
   "cell_type": "code",
   "execution_count": null,
   "metadata": {},
   "outputs": [],
   "source": [
    "pheat = heatmap((marg2D),c=[:white,:blue,:black],xlabel=\"planted\",ylabel=\"inferred\",title=\"Average 2D marginal\")\n",
    "pheat_stab = heatmap((marg2D_zero.-marg2D),c=[:white,:blue,:black],xlabel=\"planted\",ylabel=\"inferred\")\n",
    "plot(pheat,pheat_stab)"
   ]
  },
  {
   "cell_type": "code",
   "execution_count": null,
   "metadata": {},
   "outputs": [],
   "source": [
    "scatter(F)\n",
    "scatter!(F_zero)\n",
    "hline!([0])"
   ]
  },
  {
   "cell_type": "code",
   "execution_count": null,
   "metadata": {},
   "outputs": [],
   "source": []
  },
  {
   "cell_type": "code",
   "execution_count": null,
   "metadata": {},
   "outputs": [],
   "source": []
  }
 ],
 "metadata": {
  "kernelspec": {
   "display_name": "Julia 1.8.5",
   "language": "julia",
   "name": "julia-1.8"
  },
  "language_info": {
   "file_extension": ".jl",
   "mimetype": "application/julia",
   "name": "julia",
   "version": "1.8.5"
  }
 },
 "nbformat": 4,
 "nbformat_minor": 4
}
