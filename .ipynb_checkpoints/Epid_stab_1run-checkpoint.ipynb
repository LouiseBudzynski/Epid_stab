{
 "cells": [
  {
   "cell_type": "code",
   "execution_count": 1,
   "metadata": {},
   "outputs": [
    {
     "data": {
      "text/plain": [
       "avg_ninf (generic function with 1 method)"
      ]
     },
     "execution_count": 1,
     "metadata": {},
     "output_type": "execute_result"
    }
   ],
   "source": [
    "import OffsetArrays\n",
    "using Plots\n",
    "using Revise\n",
    "using StatsBase\n",
    "using ProgressMeter\n",
    "using SparseArrays, LinearAlgebra, IndexedGraphs, Graphs\n",
    "using Distributions\n",
    "srcpath = \"./src\"\n",
    "include(\"$srcpath/bp.jl\") \n",
    "include(\"$srcpath/bp_stab.jl\") \n",
    "include(\"$srcpath/post_infer.jl\") \n",
    "include(\"$srcpath/observables.jl\")"
   ]
  },
  {
   "cell_type": "code",
   "execution_count": 9,
   "metadata": {
    "scrolled": true
   },
   "outputs": [
    {
     "name": "stdout",
     "output_type": "stream",
     "text": [
      "2 / sqrt(N) = 0.0282842712474619\n"
     ]
    },
    {
     "data": {
      "text/plain": [
       "Dirac{Int64}(value=3)"
      ]
     },
     "execution_count": 9,
     "metadata": {},
     "output_type": "execute_result"
    }
   ],
   "source": [
    "λp = 1.0# planted infection rate\n",
    "λi = λp #inferred infection rate\n",
    "\n",
    "T = 8 # discrete time: number of time-steps\n",
    "\n",
    "γp = 0.0054 #inferred autoinfection probability\n",
    "γi = γp\n",
    "\n",
    "σ0 = 0.000001\n",
    "\n",
    "N = 5000; #population size\n",
    "@show 2/sqrt(N)\n",
    "\n",
    "dilution = 0.0 #dilution of observations. dil=0 means everybody observed once\n",
    "fr = 0.0; #noise in the observation. \n",
    "\n",
    "degree_dist = Dirac(3) #the distribution of the degree in the graph. Dirac means random regular."
   ]
  },
  {
   "cell_type": "code",
   "execution_count": 10,
   "metadata": {},
   "outputs": [],
   "source": [
    "M_zero = ParametricModel(N=N,T=T,γp=γp,λp=λp,γi=γi,λi=λi,σ0=σ0,fr=fr,dilution=dilution,distribution=degree_dist);\n",
    "#@time sweep!(M_zero)\n",
    "#F_zero,it_zero = pop_dynamics(M_zero, tot_iterations = 40, stop_at_convergence=false);"
   ]
  },
  {
   "cell_type": "code",
   "execution_count": 11,
   "metadata": {},
   "outputs": [
    {
     "data": {
      "text/plain": [
       "δλ (generic function with 1 method)"
      ]
     },
     "execution_count": 11,
     "metadata": {},
     "output_type": "execute_result"
    }
   ],
   "source": [
    "include(\"$srcpath/post_infer.jl\") "
   ]
  },
  {
   "cell_type": "code",
   "execution_count": 12,
   "metadata": {},
   "outputs": [],
   "source": [
    "M = ParametricModel(N=N,T=T,γp=γp,λp=λp,γi=γi,λi=λi,σ0=σ0,fr=fr,dilution=dilution,distribution=degree_dist);\n",
    "#@time sweep_stab!(M, 3, 4)"
   ]
  },
  {
   "cell_type": "code",
   "execution_count": 13,
   "metadata": {},
   "outputs": [
    {
     "name": "stdout",
     "output_type": "stream",
     "text": [
      "#1.iter 2.F 3.Δ\n",
      "1\t0.15122423670615673\t-1\n",
      "2\t0.044540587711830754\t-1\n",
      "3\t0.20738752761694182\t-1\n",
      "4\t0.40480685813263895\t-1\n",
      "5\t0.5527856795796136\t-1\n",
      "6\t0.594708889477907\t-1\n",
      "7\t0.15591198092400788\t-1\n",
      "8\t-1.5442241389810505\t-1\n",
      "9\t-5.422041138922997\t-1\n",
      "10\t-5.3502807006670725\t-1\n",
      "11\t0.47260241001869446\t-1\n",
      "12\t2.802189623400877\t-1\n",
      "13\t3.640773878690198\t-1\n",
      "14\t3.9382880511037888\t-1\n",
      "15\t3.6949578648017245\t-1\n",
      "16\t3.858878330009531\t-1\n",
      "17\t3.2329440276368797\t-1\n",
      "18\t1.8051405452379254\t-1\n",
      "19\t0.685424053659222\t-1\n",
      "20\t0.4518480833295405\t-1\n",
      "21\t0.4685505998671256\t-1\n",
      "22\t0.4879508278275037\t-1\n",
      "23\t0.5339599093318647\t-1\n",
      "24\t0.4840713511106622\t-1\n",
      "25\t0.5195892931905818\t-1\n",
      "26\t0.5635512396991845\t-1\n",
      "27\t0.591904071634264\t-1\n",
      "28\t0.5856188935857559\t-1\n",
      "29\t0.5748363552795553\t-1\n",
      "30\t0.485345899583617\t-1\n"
     ]
    }
   ],
   "source": [
    "pop_dynamics_stab(M, tot_iterations = 30, nbstab=0);"
   ]
  },
  {
   "cell_type": "code",
   "execution_count": 14,
   "metadata": {},
   "outputs": [
    {
     "data": {
      "text/plain": [
       "10×10 OffsetArray(::Matrix{Float64}, 0:9, 0:9) with eltype Float64 with indices 0:9×0:9:\n",
       " 0.0  0.0  0.0  0.0  0.0  0.0  0.0  0.0  0.0  0.0\n",
       " 0.0  0.0  0.0  0.0  0.0  0.0  0.0  0.0  0.0  0.0\n",
       " 0.0  0.0  0.0  0.0  0.0  0.0  0.0  0.0  0.0  0.0\n",
       " 0.0  0.0  0.0  0.0  0.0  0.0  0.0  0.0  0.0  0.0\n",
       " 0.0  0.0  0.0  0.0  0.0  0.0  0.0  0.0  0.0  0.0\n",
       " 0.0  0.0  0.0  0.0  0.0  0.0  0.0  0.0  0.0  0.0\n",
       " 0.0  0.0  0.0  0.0  0.0  0.0  0.0  0.0  0.0  0.0\n",
       " 0.0  0.0  0.0  0.0  0.0  0.0  0.0  0.0  0.0  0.0\n",
       " 0.0  0.0  0.0  0.0  0.0  0.0  0.0  0.0  1.0  0.0\n",
       " 0.0  0.0  0.0  0.0  0.0  0.0  0.0  0.0  0.0  0.0"
      ]
     },
     "execution_count": 14,
     "metadata": {},
     "output_type": "execute_result"
    }
   ],
   "source": [
    "M.belief[:,:,rand(1:N)]"
   ]
  },
  {
   "cell_type": "code",
   "execution_count": 26,
   "metadata": {},
   "outputs": [
    {
     "data": {
      "text/plain": [
       "10×10 OffsetArray(::Matrix{Float64}, 0:9, 0:9) with eltype Float64 with indices 0:9×0:9:\n",
       " -0.0  -0.0   0.0   0.0  -0.0  -0.0  -0.0   0.0  -0.0  -0.0\n",
       "  0.0  -0.0  -0.0   0.0   0.0  -0.0   0.0   0.0  -0.0  -0.0\n",
       " -0.0   0.0  -0.0  -0.0  -0.0  -0.0  -0.0   0.0  -0.0  -0.0\n",
       "  0.0   0.0  -0.0  -0.0  -0.0   0.0   0.0  -0.0   0.0  -0.0\n",
       "  0.0  -0.0  -0.0  -0.0  -0.0  -0.0  -0.0  -0.0  -0.0  -0.0\n",
       "  0.0   0.0   0.0   0.0  -0.0   0.0   0.0  -0.0   0.0   1.49254e-8\n",
       " -0.0  -0.0   0.0   0.0  -0.0  -0.0   0.0  -0.0   0.0   1.49254e-8\n",
       " -0.0   0.0   0.0  -0.0   0.0  -0.0  -0.0   0.0   0.0  -1.49254e-8\n",
       " -0.0  -0.0  -0.0  -0.0   0.0  -0.0  -0.0  -0.0   0.0   1.49254e-8\n",
       " -0.0  -0.0  -0.0  -0.0  -0.0   0.0   0.0  -0.0  -0.0   1.49254e-8"
      ]
     },
     "execution_count": 26,
     "metadata": {},
     "output_type": "execute_result"
    }
   ],
   "source": [
    "r=rand(1:N)\n",
    "M.mom1μ[:,1,:,1,r]"
   ]
  },
  {
   "cell_type": "code",
   "execution_count": 124,
   "metadata": {},
   "outputs": [
    {
     "data": {
      "text/plain": [
       "10×10 OffsetArray(::Matrix{Float64}, 0:9, 0:9) with eltype Float64 with indices 0:9×0:9:\n",
       " 0.0  0.0  0.0  0.0  0.0  0.00659371   0.0  0.0  0.0  0.0\n",
       " 0.0  0.0  0.0  0.0  0.0  0.00658531   0.0  0.0  0.0  0.0\n",
       " 0.0  0.0  0.0  0.0  0.0  0.00655142   0.0  0.0  0.0  0.0\n",
       " 0.0  0.0  0.0  0.0  0.0  0.00648522   0.0  0.0  0.0  0.0\n",
       " 0.0  0.0  0.0  0.0  0.0  0.00635472   0.0  0.0  0.0  0.0\n",
       " 0.0  0.0  0.0  0.0  0.0  0.0061019    0.0  0.0  0.0  0.0\n",
       " 0.0  0.0  0.0  0.0  0.0  0.00562703   0.0  0.0  0.0  0.0\n",
       " 0.0  0.0  0.0  0.0  0.0  0.00478692   0.0  0.0  0.0  0.0\n",
       " 0.0  0.0  0.0  0.0  0.0  0.00346616   0.0  0.0  0.0  0.0\n",
       " 0.0  0.0  0.0  0.0  0.0  0.000735445  0.0  0.0  0.0  0.0"
      ]
     },
     "execution_count": 124,
     "metadata": {},
     "output_type": "execute_result"
    }
   ],
   "source": [
    "M.μ[:,1,:,1,r]"
   ]
  },
  {
   "cell_type": "code",
   "execution_count": null,
   "metadata": {},
   "outputs": [],
   "source": [
    "marg_zero = M_zero.belief |> real;\n",
    "marg2D_zero = reshape(sum(marg_zero,dims=3) ./ N, T+2,T+2)\n",
    "ensAUC_zero = avgAUC(marg_zero,M_zero.obs_list,count_obs=true); #set false to see the AUC only on NON observed indiv."
   ]
  },
  {
   "cell_type": "code",
   "execution_count": null,
   "metadata": {},
   "outputs": [],
   "source": [
    "marg = M.belief |> real;\n",
    "marg2D = reshape(sum(marg,dims=3) ./ N, T+2,T+2)\n",
    "ensAUC = avgAUC(marg,M.obs_list,count_obs=true); #set false to see the AUC only on NON observed indiv."
   ]
  },
  {
   "cell_type": "code",
   "execution_count": null,
   "metadata": {},
   "outputs": [],
   "source": [
    "pheat = heatmap((marg2D_zero),c=[:white,:blue,:black],xlabel=\"planted\",ylabel=\"inferred\",title=\"Average 2D marginal\")\n",
    "pheat_stab = heatmap(marg2D,c=[:white,:blue,:black],xlabel=\"planted\",ylabel=\"inferred\")\n",
    "plot(pheat,pheat_stab)"
   ]
  },
  {
   "cell_type": "code",
   "execution_count": null,
   "metadata": {},
   "outputs": [],
   "source": []
  },
  {
   "cell_type": "code",
   "execution_count": null,
   "metadata": {},
   "outputs": [],
   "source": []
  }
 ],
 "metadata": {
  "kernelspec": {
   "display_name": "Julia 1.8.5",
   "language": "julia",
   "name": "julia-1.8"
  },
  "language_info": {
   "file_extension": ".jl",
   "mimetype": "application/julia",
   "name": "julia",
   "version": "1.8.5"
  }
 },
 "nbformat": 4,
 "nbformat_minor": 4
}
