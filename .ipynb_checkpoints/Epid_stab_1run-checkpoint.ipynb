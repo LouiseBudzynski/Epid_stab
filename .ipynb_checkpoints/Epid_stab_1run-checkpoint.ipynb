{
 "cells": [
  {
   "cell_type": "code",
   "execution_count": 2,
   "metadata": {},
   "outputs": [
    {
     "data": {
      "text/plain": [
       "avg_ninf (generic function with 1 method)"
      ]
     },
     "execution_count": 2,
     "metadata": {},
     "output_type": "execute_result"
    }
   ],
   "source": [
    "import OffsetArrays\n",
    "using Plots\n",
    "using Revise\n",
    "using StatsBase\n",
    "using ProgressMeter\n",
    "using SparseArrays, LinearAlgebra, IndexedGraphs, Graphs\n",
    "using Distributions\n",
    "srcpath = \"./src\"\n",
    "include(\"$srcpath/bp.jl\") \n",
    "include(\"$srcpath/bp_stab.jl\") \n",
    "include(\"$srcpath/post_infer.jl\") \n",
    "include(\"$srcpath/observables.jl\")"
   ]
  },
  {
   "cell_type": "code",
   "execution_count": 3,
   "metadata": {
    "scrolled": true
   },
   "outputs": [
    {
     "data": {
      "text/plain": [
       "Dirac{Int64}(value=3)"
      ]
     },
     "execution_count": 3,
     "metadata": {},
     "output_type": "execute_result"
    }
   ],
   "source": [
    "λp = 1.0 # planted infection rate\n",
    "λi = λp # inferred infection rate\n",
    "T = 8 # discrete time: number of time-steps\n",
    "γp = 0.016 # planted autoinfection probability\n",
    "γi = γp # inferred autoinfection probability\n",
    "N = 5000; # population size\n",
    "dilution = 0.0 #dilution of observations. dil=0 means everybody observed once\n",
    "fr = 0.0; #noise in the observation. \n",
    "degree_dist = Dirac(3) #distribution of the degree in the graph (Dirac = random regular)."
   ]
  },
  {
   "cell_type": "code",
   "execution_count": 4,
   "metadata": {},
   "outputs": [],
   "source": [
    "# Initialize model + population of messages\n",
    "M_zero = ParametricModel(N=N,T=T,γp=γp,λp=λp,γi=γi,λi=λi,fr=fr,dilution=dilution,distribution=degree_dist);\n",
    "#@time sweep!(M_zero)"
   ]
  },
  {
   "cell_type": "code",
   "execution_count": 5,
   "metadata": {},
   "outputs": [
    {
     "name": "stdout",
     "output_type": "stream",
     "text": [
      "#1.iter 2.F\n",
      "0\t0.22477639475280595\n",
      "1\t-0.21260150780789772\n",
      "2\t0.23853839238826477\n",
      "3\t0.329046664927488\n",
      "4\t0.3295045437377208\n",
      "5\t0.3277065019294125\n",
      "6\t0.3061544890636607\n",
      "7\t0.35312464763403406\n",
      "8\t0.33074588281376494\n",
      "9\t0.32877752856930603\n",
      "10\t0.32427284420053476\n",
      "11\t0.32877992158033886\n",
      "12\t0.32896111136610273\n",
      "13\t0.3270540893974336\n",
      "14\t0.32883420043072253\n",
      "15\t0.3288475299407975\n",
      "16\t0.32873159478036396\n",
      "17\t0.3278307614208417\n",
      "18\t0.3302067103944137\n",
      "19\t0.2994085276579295\n",
      "20\t0.353457838808278\n",
      "21\t0.33463150035947764\n",
      "22\t0.32878285310629146\n",
      "23\t0.3286992317654935\n",
      "24\t0.3288622097291984\n",
      "25\t0.3277090388813667\n",
      "26\t0.32390394766661046\n",
      "27\t0.33262526182835134\n",
      "28\t0.3130451658106438\n",
      "29\t0.3070978148367634\n",
      "30\t0.36423598869623386\n",
      "31\t0.38783846661036075\n",
      "32\t0.3303415494396002\n",
      "33\t0.3261454112048639\n",
      "34\t0.2939325811896764\n",
      "35\t0.4014294099589286\n",
      "36\t0.3339477961211378\n",
      "37\t0.3287770894754387\n",
      "38\t0.3199598445381562\n",
      "39\t0.3376248008397335\n"
     ]
    }
   ],
   "source": [
    "# Run population dynamics (without stability analysis):\n",
    "# 1. iterations 2. Free-energy\n",
    "F_zero,it_zero = pop_dynamics(M_zero, tot_iterations = 40, stop_at_convergence=false);"
   ]
  },
  {
   "cell_type": "code",
   "execution_count": 8,
   "metadata": {},
   "outputs": [
    {
     "name": "stdout",
     "output_type": "stream",
     "text": [
      "#1.iter 2.F 3.Δ\n",
      "1\t0.1458418391594895\t-1\n",
      "2\t8.13554729025256e-5\t-1\n",
      "3\t0.11304931855312254\t-1\n",
      "4\t0.2434257454734296\t-1\n",
      "5\t0.3086608734045167\t-1\n",
      "6\t0.32582145601846\t-1\n",
      "7\t0.3281006791719634\t-1\n",
      "8\t0.3274953873523202\t-1\n",
      "9\t0.3293725567295019\t-1\n",
      "10\t0.328450850077171\t-1\n",
      "11\t0.32939596564853707\t-1\n",
      "12\t0.31668102669025755\t-1\n",
      "13\t0.2938862029860515\t-1\n",
      "14\t0.3267518929884227\t-1\n",
      "15\t0.3984658403812608\t-1\n",
      "16\t0.33850946734373194\t-1\n",
      "17\t0.31963929755729703\t-1\n",
      "18\t0.28764107029164715\t-1\n",
      "19\t0.32525982497632766\t-1\n",
      "20\t0.3248363223789158\t-1\n",
      "21\t0.33471138719630983\t4.6350993740693e-7\n",
      "22\t0.3363955771921648\t7.2548298590333e-7\n",
      "23\t0.3307045609190698\t6.349637988420019e-7\n",
      "24\t0.319615773037015\t3.3109001636122174e-7\n",
      "25\t0.2893882641783772\t1.4297481401890023e-7\n",
      "26\t0.31634937025012105\t8.001889746984742e-8\n",
      "27\t0.33980800490114604\t4.171110807284916e-8\n",
      "28\t0.3408359369874611\t1.6492046425562205e-8\n",
      "29\t0.3306967014849082\t6.698590531451311e-9\n",
      "30\t0.3298857584398299\t4.503532391670523e-9\n",
      "31\t0.3290429889862756\t2.851212412683799e-9\n",
      "32\t0.328800378443465\t2.448208132316117e-9\n",
      "33\t0.3287463513432197\t2.9213501355217714e-9\n",
      "34\t0.3288050791993384\t2.6008418861262286e-9\n",
      "35\t0.3286734128292747\t1.98252875568592e-9\n",
      "36\t0.32739230039276224\t1.5932636681522007e-9\n",
      "37\t0.32885442295608314\t1.2073802652931694e-9\n",
      "38\t0.32240514515419805\t7.577227800088951e-10\n",
      "39\t0.35822262316152903\t7.961940759413146e-10\n",
      "40\t0.4422258770850398\t1.1618916977737132e-9\n"
     ]
    }
   ],
   "source": [
    "M = ParametricModel(N=N,T=T,γp=γp,λp=λp,γi=γi,λi=λi,fr=fr,dilution=dilution,distribution=degree_dist);\n",
    "#@time sweep_stab!(M, 3, 4)\n",
    "\n",
    "# Run population dynamics with stability analysis:\n",
    "# 1. iterations 2. Free-energy 3. Stability parameter\n",
    "pop_dynamics_stab(M, tot_iterations = 40, nbstab=20);"
   ]
  },
  {
   "cell_type": "code",
   "execution_count": null,
   "metadata": {},
   "outputs": [],
   "source": []
  },
  {
   "cell_type": "code",
   "execution_count": null,
   "metadata": {},
   "outputs": [],
   "source": []
  }
 ],
 "metadata": {
  "kernelspec": {
   "display_name": "Julia 1.8.5",
   "language": "julia",
   "name": "julia-1.8"
  },
  "language_info": {
   "file_extension": ".jl",
   "mimetype": "application/julia",
   "name": "julia",
   "version": "1.8.5"
  }
 },
 "nbformat": 4,
 "nbformat_minor": 4
}
