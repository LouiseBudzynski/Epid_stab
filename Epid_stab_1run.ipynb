{
 "cells": [
  {
   "cell_type": "code",
   "execution_count": 1,
   "metadata": {},
   "outputs": [
    {
     "data": {
      "text/plain": [
       "avg_ninf (generic function with 1 method)"
      ]
     },
     "execution_count": 1,
     "metadata": {},
     "output_type": "execute_result"
    }
   ],
   "source": [
    "import OffsetArrays\n",
    "using Plots\n",
    "using Revise\n",
    "using StatsBase\n",
    "using ProgressMeter\n",
    "using SparseArrays, LinearAlgebra, IndexedGraphs, Graphs\n",
    "using Distributions\n",
    "srcpath = \"./src\"\n",
    "include(\"$srcpath/bp.jl\") #julia code which contains the bp update\n",
    "include(\"$srcpath/post_infer.jl\") #definition of the main functions and the types\n",
    "include(\"$srcpath/observables.jl\") # julia code for estimating observables"
   ]
  },
  {
   "cell_type": "code",
   "execution_count": 11,
   "metadata": {
    "scrolled": true
   },
   "outputs": [
    {
     "name": "stdout",
     "output_type": "stream",
     "text": [
      "2 / sqrt(N) = 0.0282842712474619\n"
     ]
    },
    {
     "data": {
      "text/plain": [
       "Dirac{Int64}(value=3)"
      ]
     },
     "execution_count": 11,
     "metadata": {},
     "output_type": "execute_result"
    }
   ],
   "source": [
    "λp = 1.0# planted infection rate\n",
    "λi = λp #inferred infection rate\n",
    "\n",
    "T = 8 # discrete time: number of time-steps\n",
    "\n",
    "γp = 0.1 #0.019 # planted autoinfection probability\n",
    "γi = γp # inferred autoinfection probability\n",
    "\n",
    "N = 5000; #population size\n",
    "@show 2/sqrt(N)\n",
    "\n",
    "dilution = 0.0 #dilution of observations. dil=0 means everybody observed once\n",
    "fr = 0.0; #noise in the observation. \n",
    "\n",
    "degree_dist = Dirac(3) #the distribution of the degree in the graph. Dirac means random regular."
   ]
  },
  {
   "cell_type": "code",
   "execution_count": 55,
   "metadata": {},
   "outputs": [],
   "source": [
    "M_zero = ParametricModel(N=N,T=T,γp=γp,λp=λp,γi=γi,λi=λi,fr=fr,dilution=dilution,distribution=degree_dist);"
   ]
  },
  {
   "cell_type": "code",
   "execution_count": 56,
   "metadata": {},
   "outputs": [],
   "source": [
    "#@time sweep!(M_zero)"
   ]
  },
  {
   "cell_type": "code",
   "execution_count": 57,
   "metadata": {},
   "outputs": [
    {
     "name": "stdout",
     "output_type": "stream",
     "text": [
      "#1.iter 2.err 3.F\n",
      "0\t-1\t-0.2018627106821623\n",
      "1\t-1\t-0.391096365020729\n",
      "2\t-1\t-0.39102746431940466\n",
      "3\t-1\t-0.391014407261827\n",
      "4\t-1\t-0.39101439547166444\n",
      "5\t-1\t-0.39101439547165867\n",
      "6\t-1\t-0.39101439547165867\n",
      "7\t-1\t-0.39101439547165867\n",
      "8\t-1\t-0.39101439547165867\n",
      "9\t-1\t-0.39101439547165867\n",
      "10\t-1\t-0.39101439547165867\n",
      "11\t3.920262300842004e-6\t-0.39101439547165867\n",
      "12\t0.0\t-0.39101439547165867\n",
      "13\t0.0\t-0.39101439547165867\n",
      "14\t0.0\t-0.3910143954716579\n",
      "15\t0.0\t-0.39101439547165867\n",
      "16\t0.0\t-0.39101439547165867\n",
      "17\t0.0\t-0.39101439547165867\n",
      "18\t0.0\t-0.39101439547165867\n",
      "19\t0.0\t-0.39101439547165867\n"
     ]
    }
   ],
   "source": [
    "F_zero,it_zero = pop_dynamics(M_zero, tot_iterations = 20);"
   ]
  },
  {
   "cell_type": "code",
   "execution_count": 58,
   "metadata": {},
   "outputs": [
    {
     "data": {
      "text/plain": [
       "δλ (generic function with 1 method)"
      ]
     },
     "execution_count": 58,
     "metadata": {},
     "output_type": "execute_result"
    }
   ],
   "source": [
    "include(\"$srcpath/post_infer.jl\") #definition of the main functions and the types"
   ]
  },
  {
   "cell_type": "code",
   "execution_count": 59,
   "metadata": {},
   "outputs": [
    {
     "name": "stdout",
     "output_type": "stream",
     "text": [
      "#1.iter 2.err 3.F\n",
      "0\t-1\t-0.2004861810204755\n"
     ]
    }
   ],
   "source": [
    "F_zero,it_zero = pop_dynamics(M_zero, tot_iterations = 1);"
   ]
  },
  {
   "cell_type": "code",
   "execution_count": 60,
   "metadata": {},
   "outputs": [
    {
     "data": {
      "text/plain": [
       "10×10 OffsetArray(::Matrix{Float64}, 0:9, 0:9) with eltype Float64 with indices 0:9×0:9:\n",
       " 0.0  0.0100478    0.0318314    0.0294296    …  0.000256018  0.0\n",
       " 0.0  0.0245066    0.0776368    0.0717788       0.000624427  0.0\n",
       " 0.0  0.0274769    0.087047     0.0804789       0.000700113  0.0\n",
       " 0.0  0.0193088    0.0611701    0.0565546       0.000491987  0.0\n",
       " 0.0  0.010455     0.0331213    0.0306221       0.000266392  0.0\n",
       " 0.0  0.00519425   0.0164554    0.0152138    …  0.000132349  0.0\n",
       " 0.0  0.00230205   0.0072929    0.00674262      5.86563e-5   0.0\n",
       " 0.0  0.000829055  0.00262645   0.00242827      2.11671e-5   0.0\n",
       " 0.0  0.000167973  0.000532139  0.000491987     4.71146e-6   0.0\n",
       " 0.0  0.0          0.0          0.0             0.0          9.25462e-8"
      ]
     },
     "execution_count": 60,
     "metadata": {},
     "output_type": "execute_result"
    }
   ],
   "source": [
    "l=rand(1:N)\n",
    "M_zero.belief[:,:,l]"
   ]
  },
  {
   "cell_type": "code",
   "execution_count": 64,
   "metadata": {},
   "outputs": [
    {
     "data": {
      "text/plain": [
       "2.1865474526405927e-6"
      ]
     },
     "execution_count": 64,
     "metadata": {},
     "output_type": "execute_result"
    }
   ],
   "source": [
    "xi0, sij, sji, d, oi, sympt, ci, ti_obs=rand_disorder(M_zero, degree_dist)\n",
    "neighs = rand(1:N,d)\n",
    "z_i=calculate_belief!(M_zero,l,neighs,xi0,oi,sympt,ci,ti_obs)"
   ]
  },
  {
   "cell_type": "code",
   "execution_count": 65,
   "metadata": {},
   "outputs": [
    {
     "data": {
      "text/plain": [
       "-13.033186763772065"
      ]
     },
     "execution_count": 65,
     "metadata": {},
     "output_type": "execute_result"
    }
   ],
   "source": [
    "log(z_i)"
   ]
  },
  {
   "cell_type": "code",
   "execution_count": 62,
   "metadata": {},
   "outputs": [
    {
     "data": {
      "text/plain": [
       "10×10 OffsetArray(::Matrix{Float64}, 0:9, 0:9) with eltype Float64 with indices 0:9×0:9:\n",
       " 0.0  0.0  0.100035     0.0  0.0  0.0  0.0  0.0  0.0  0.0\n",
       " 0.0  0.0  0.243961     0.0  0.0  0.0  0.0  0.0  0.0  0.0\n",
       " 0.0  0.0  0.30747      0.0  0.0  0.0  0.0  0.0  0.0  0.0\n",
       " 0.0  0.0  0.250145     0.0  0.0  0.0  0.0  0.0  0.0  0.0\n",
       " 0.0  0.0  0.0905509    0.0  0.0  0.0  0.0  0.0  0.0  0.0\n",
       " 0.0  0.0  0.00778379   0.0  0.0  0.0  0.0  0.0  0.0  0.0\n",
       " 0.0  0.0  5.44935e-5   0.0  0.0  0.0  0.0  0.0  0.0  0.0\n",
       " 0.0  0.0  9.65858e-9   0.0  0.0  0.0  0.0  0.0  0.0  0.0\n",
       " 0.0  0.0  1.64591e-14  0.0  0.0  0.0  0.0  0.0  0.0  0.0\n",
       " 0.0  0.0  0.0          0.0  0.0  0.0  0.0  0.0  0.0  0.0"
      ]
     },
     "execution_count": 62,
     "metadata": {},
     "output_type": "execute_result"
    }
   ],
   "source": [
    "M_zero.belief[:,:,l]"
   ]
  },
  {
   "cell_type": "code",
   "execution_count": 63,
   "metadata": {},
   "outputs": [
    {
     "data": {
      "text/plain": [
       "0.9999999999999999"
      ]
     },
     "execution_count": 63,
     "metadata": {},
     "output_type": "execute_result"
    }
   ],
   "source": [
    "sum(M_zero.belief[:,:,l])"
   ]
  },
  {
   "cell_type": "code",
   "execution_count": null,
   "metadata": {},
   "outputs": [],
   "source": [
    "#M_zero.mom1μ\n",
    "#sum(M_zero.mom1μ)./length(M_zero.mom1μ)"
   ]
  },
  {
   "cell_type": "code",
   "execution_count": null,
   "metadata": {},
   "outputs": [],
   "source": [
    "#marg_zero = M_zero.belief |> real;\n",
    "#marg2D_zero = reshape(sum(marg_zero,dims=3) ./ N, T+2,T+2)\n",
    "#ensAUC_zero = avgAUC(marg_zero,M_zero.obs_list,count_obs=true);"
   ]
  },
  {
   "cell_type": "code",
   "execution_count": 5,
   "metadata": {},
   "outputs": [],
   "source": [
    "M = ParametricModel(N=N,T=T,γp=γp,λp=λp,γi=γi,λi=λi,fr=fr,dilution=dilution,distribution=degree_dist);"
   ]
  },
  {
   "cell_type": "code",
   "execution_count": 6,
   "metadata": {},
   "outputs": [
    {
     "name": "stdout",
     "output_type": "stream",
     "text": [
      "#1.iter 2.err 3.F 4. Δ\n",
      "0\t-1\t0.15499788473197143\t-1.0\n",
      "1\t-1\t0.04331987229660154\t-1.0\n",
      "2\t-1\t0.20711930418033037\t-1.0\n",
      "3\t-1\t0.41249110709306436\t-1.0\n",
      "4\t-1\t0.5653547701957508\t-1.0\n"
     ]
    },
    {
     "ename": "LoadError",
     "evalue": "InterruptException:",
     "output_type": "error",
     "traceback": [
      "InterruptException:",
      "",
      "Stacktrace:",
      "  [1] Array",
      "    @ ./boot.jl:471 [inlined]",
      "  [2] similar",
      "    @ ./array.jl:378 [inlined]",
      "  [3] similar",
      "    @ ~/.julia/packages/OffsetArrays/hwmnB/src/OffsetArrays.jl:318 [inlined]",
      "  [4] similar",
      "    @ ./abstractarray.jl:803 [inlined]",
      "  [5] _similar_axes_or_length",
      "    @ ~/.julia/packages/OffsetArrays/hwmnB/src/OffsetArrays.jl:341 [inlined]",
      "  [6] similar",
      "    @ ~/.julia/packages/OffsetArrays/hwmnB/src/OffsetArrays.jl:327 [inlined]",
      "  [7] reducedim_initarray(A::OffsetArray{Float64, 4, Array{Float64, 4}}, region::Int64, init::Float64, #unused#::Type{Float64})",
      "    @ Base ./reducedim.jl:91",
      "  [8] reducedim_initarray",
      "    @ ./reducedim.jl:92 [inlined]",
      "  [9] reducedim_init",
      "    @ ./reducedim.jl:219 [inlined]",
      " [10] _mapreduce_dim",
      "    @ ./reducedim.jl:371 [inlined]",
      " [11] #mapreduce#765",
      "    @ ./reducedim.jl:357 [inlined]",
      " [12] #_sum#799",
      "    @ ./reducedim.jl:1023 [inlined]",
      " [13] _sum",
      "    @ ./reducedim.jl:1023 [inlined]",
      " [14] #_sum#798",
      "    @ ./reducedim.jl:1022 [inlined]",
      " [15] _sum",
      "    @ ./reducedim.jl:1022 [inlined]",
      " [16] #sum#772",
      "    @ ./reducedim.jl:994 [inlined]",
      " [17] original_normalization(M::ParametricModel{Dirac{Int64}, Dirac{Int64}, OffsetMatrix{Float64, Matrix{Float64}}, OffsetArray{Float64, 5, Array{Float64, 5}}, OffsetArray{Float64, 4, Array{Float64, 4}}, OffsetArray{Float64, 3, Array{Float64, 3}}, OffsetVector{Float64, Vector{Float64}}, Float64, Vector{Bool}, Float64}, ν::OffsetArray{Float64, 4, Array{Float64, 4}}, sji::Int64)",
      "    @ Main ~/Documents/PostDoc_Turin/Projet-Epidemics/Epidemble-RSB/Git/Epid_stab/src/bp.jl:444",
      " [18] sweep_stab!(M::ParametricModel{Dirac{Int64}, Dirac{Int64}, OffsetMatrix{Float64, Matrix{Float64}}, OffsetArray{Float64, 5, Array{Float64, 5}}, OffsetArray{Float64, 4, Array{Float64, 4}}, OffsetArray{Float64, 3, Array{Float64, 3}}, OffsetVector{Float64, Vector{Float64}}, Float64, Vector{Bool}, Float64}, iter::Int64, maxiter::Int64; nbstab::Int64)",
      "    @ Main ~/Documents/PostDoc_Turin/Projet-Epidemics/Epidemble-RSB/Git/Epid_stab/src/post_infer.jl:135",
      " [19] pop_dynamics_stab(M::ParametricModel{Dirac{Int64}, Dirac{Int64}, OffsetMatrix{Float64, Matrix{Float64}}, OffsetArray{Float64, 5, Array{Float64, 5}}, OffsetArray{Float64, 4, Array{Float64, 4}}, OffsetArray{Float64, 3, Array{Float64, 3}}, OffsetVector{Float64, Vector{Float64}}, Float64, Vector{Bool}, Float64}; filepr::String, tot_iterations::Int64, nbstab::Int64, tol::Float64, nonlearn_iters::Int64, stop_at_convergence::Bool)",
      "    @ Main ~/Documents/PostDoc_Turin/Projet-Epidemics/Epidemble-RSB/Git/Epid_stab/src/post_infer.jl:280",
      " [20] top-level scope",
      "    @ In[6]:1"
     ]
    }
   ],
   "source": [
    "F,it = pop_dynamics_stab(M, tot_iterations = 100, nbstab=40);"
   ]
  },
  {
   "cell_type": "code",
   "execution_count": null,
   "metadata": {},
   "outputs": [],
   "source": [
    "@time sweep_stab!(M, 3, 4)"
   ]
  },
  {
   "cell_type": "code",
   "execution_count": null,
   "metadata": {},
   "outputs": [],
   "source": [
    "test = rand(-1:2:1, T+2, 2, T+2, 3, N).*0.00001;\n",
    "mean(test), mean(M.μ), mean(M.mom1μ)"
   ]
  },
  {
   "cell_type": "code",
   "execution_count": null,
   "metadata": {},
   "outputs": [],
   "source": [
    "extrema(test), extrema(M.μ), extrema(M.mom1μ)"
   ]
  },
  {
   "cell_type": "code",
   "execution_count": null,
   "metadata": {},
   "outputs": [],
   "source": [
    "std(test), std(M.μ), std(M.mom1μ)"
   ]
  },
  {
   "cell_type": "code",
   "execution_count": null,
   "metadata": {},
   "outputs": [],
   "source": []
  },
  {
   "cell_type": "code",
   "execution_count": null,
   "metadata": {},
   "outputs": [],
   "source": [
    "marg = M.belief |> real;\n",
    "marg2D = reshape(sum(marg,dims=3) ./ N, T+2,T+2)\n",
    "ensAUC = avgAUC(marg,M.obs_list,count_obs=true); #set false to see the AUC only on NON observed indiv."
   ]
  },
  {
   "cell_type": "code",
   "execution_count": null,
   "metadata": {},
   "outputs": [],
   "source": [
    "sum(abs.(marg2D.-marg2D_zero))/length(marg2D)"
   ]
  },
  {
   "cell_type": "code",
   "execution_count": null,
   "metadata": {},
   "outputs": [],
   "source": [
    "scatter(ensAUC)\n",
    "scatter!(ensAUC_zero)"
   ]
  },
  {
   "cell_type": "code",
   "execution_count": null,
   "metadata": {},
   "outputs": [],
   "source": [
    "pheat = heatmap((marg2D),c=[:white,:blue,:black],xlabel=\"planted\",ylabel=\"inferred\",title=\"Average 2D marginal\")\n",
    "pheat_stab = heatmap((marg2D_zero.-marg2D),c=[:white,:blue,:black],xlabel=\"planted\",ylabel=\"inferred\")\n",
    "plot(pheat,pheat_stab)"
   ]
  },
  {
   "cell_type": "code",
   "execution_count": null,
   "metadata": {},
   "outputs": [],
   "source": [
    "scatter(F)\n",
    "scatter!(F_zero)\n",
    "hline!([0])"
   ]
  },
  {
   "cell_type": "code",
   "execution_count": null,
   "metadata": {},
   "outputs": [],
   "source": []
  },
  {
   "cell_type": "code",
   "execution_count": null,
   "metadata": {},
   "outputs": [],
   "source": []
  }
 ],
 "metadata": {
  "kernelspec": {
   "display_name": "Julia 1.8.5",
   "language": "julia",
   "name": "julia-1.8"
  },
  "language_info": {
   "file_extension": ".jl",
   "mimetype": "application/julia",
   "name": "julia",
   "version": "1.8.5"
  }
 },
 "nbformat": 4,
 "nbformat_minor": 4
}
