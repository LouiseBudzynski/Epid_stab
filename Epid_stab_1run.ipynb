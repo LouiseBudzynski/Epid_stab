{
 "cells": [
  {
   "cell_type": "code",
   "execution_count": 1,
   "metadata": {},
   "outputs": [
    {
     "data": {
      "text/plain": [
       "avg_ninf (generic function with 1 method)"
      ]
     },
     "execution_count": 1,
     "metadata": {},
     "output_type": "execute_result"
    }
   ],
   "source": [
    "import OffsetArrays\n",
    "using Plots\n",
    "using Revise\n",
    "using StatsBase\n",
    "using ProgressMeter\n",
    "using SparseArrays, LinearAlgebra, IndexedGraphs, Graphs\n",
    "using Distributions\n",
    "srcpath = \"./src\"\n",
    "include(\"$srcpath/bp.jl\") #julia code which contains the bp update\n",
    "include(\"$srcpath/post_infer.jl\") #definition of the main functions and the types\n",
    "include(\"$srcpath/observables.jl\") # julia code for estimating observables"
   ]
  },
  {
   "cell_type": "code",
   "execution_count": 3,
   "metadata": {
    "scrolled": true
   },
   "outputs": [
    {
     "name": "stdout",
     "output_type": "stream",
     "text": [
      "2 / sqrt(N) = 0.0282842712474619\n"
     ]
    },
    {
     "data": {
      "text/plain": [
       "Dirac{Int64}(value=3)"
      ]
     },
     "execution_count": 3,
     "metadata": {},
     "output_type": "execute_result"
    }
   ],
   "source": [
    "λp = 1.0# planted infection rate\n",
    "λi = λp #inferred infection rate\n",
    "\n",
    "T = 8 # discrete time: number of time-steps\n",
    "\n",
    "γp = 0.1 #0.019 # planted autoinfection probability\n",
    "γi = γp # inferred autoinfection probability\n",
    "\n",
    "N = 5000; #population size\n",
    "@show 2/sqrt(N)\n",
    "\n",
    "dilution = 0.0 #dilution of observations. dil=0 means everybody observed once\n",
    "fr = 0.0; #noise in the observation. \n",
    "\n",
    "degree_dist = Dirac(3) #the distribution of the degree in the graph. Dirac means random regular."
   ]
  },
  {
   "cell_type": "code",
   "execution_count": 4,
   "metadata": {},
   "outputs": [],
   "source": [
    "M_zero = ParametricModel(N=N,T=T,γp=γp,λp=λp,γi=γi,λi=λi,fr=fr,dilution=dilution,distribution=degree_dist);"
   ]
  },
  {
   "cell_type": "code",
   "execution_count": 5,
   "metadata": {},
   "outputs": [
    {
     "name": "stdout",
     "output_type": "stream",
     "text": [
      "#1.iter 2.err 3.F\n",
      "0\t-1\t0.05500729680944642\n",
      "1\t-1\t-0.4664896742362471\n",
      "2\t-1\t-0.39488339016772805\n",
      "3\t-1\t-0.3910153514253878\n",
      "4\t-1\t-0.3910143954716725\n"
     ]
    },
    {
     "data": {
      "text/plain": [
       "([0.05500729680944642, -0.4664896742362471, -0.39488339016772805, -0.3910153514253878, -0.3910143954716725, 0.0, 0.0, 0.0, 0.0, 0.0], 5)"
      ]
     },
     "execution_count": 5,
     "metadata": {},
     "output_type": "execute_result"
    }
   ],
   "source": [
    "F_zero,it_zero = pop_dynamics(M_zero)#, tot_iterations = 100);"
   ]
  },
  {
   "cell_type": "code",
   "execution_count": 26,
   "metadata": {},
   "outputs": [],
   "source": [
    "#M_zero.mom1μ\n",
    "#sum(M_zero.mom1μ)./length(M_zero.mom1μ)"
   ]
  },
  {
   "cell_type": "code",
   "execution_count": 27,
   "metadata": {},
   "outputs": [],
   "source": [
    "#marg_zero = M_zero.belief |> real;\n",
    "#marg2D_zero = reshape(sum(marg_zero,dims=3) ./ N, T+2,T+2)\n",
    "#ensAUC_zero = avgAUC(marg_zero,M_zero.obs_list,count_obs=true);"
   ]
  },
  {
   "cell_type": "code",
   "execution_count": 28,
   "metadata": {},
   "outputs": [],
   "source": [
    "M = ParametricModel(N=N,T=T,γp=γp,λp=λp,γi=γi,λi=λi,fr=fr,dilution=dilution,distribution=degree_dist);"
   ]
  },
  {
   "cell_type": "code",
   "execution_count": 29,
   "metadata": {},
   "outputs": [
    {
     "name": "stdout",
     "output_type": "stream",
     "text": [
      "#1.iter 2.err 3.F 4. Δ\n",
      "0\t-1\t-0.1494314783501977\t-1.0\n",
      "1\t-1\t0.35732613110890377\t-1.0\n",
      "2\t-1\t0.38864305083316286\t-1.0\n",
      "3\t-1\t-0.17889255205963492\t-1.0\n",
      "4\t-1\t-0.3001647265281499\t-1.0\n",
      "5\t-1\t-0.04136481428438128\t-1.0\n",
      "6\t-1\t-0.3474460803118272\t-1.0\n",
      "7\t-1\t-2.5950466438387476\t-1.0\n",
      "8\t-1\t-8.495223530776036\t-1.0\n",
      "9\t-1\t-8.81425495837531\t-1.0\n",
      "10\t-1\t3.9170513067077555\t-1.0\n",
      "11\t5.3887795172730595\t11.001943296682422\t-1.0\n",
      "12\t5.699708198558274\t5.625581453204289\t-1.0\n",
      "13\t5.709761052575355\t1.1367138064396247\t-1.0\n",
      "14\t5.716467302672482\t-0.8743136846284338\t-1.0\n",
      "15\t5.727755697153443\t-1.1408408445867912\t-1.0\n",
      "16\t5.739042869184094\t-1.2678982893371604\t-1.0\n",
      "17\t5.731510510267002\t-2.41215928187276\t-1.0\n",
      "18\t5.06159846278217\t-1.6536072350307456\t-1.0\n",
      "19\t4.022400167497388\t-0.2543244581706589\t-1.0\n",
      "20\t3.971445988440344\t2.931063542207383\t-1.0\n",
      "21\t2.408033354922075\t2.5053139600323395\t-1.0\n",
      "22\t1.699543559630942\t0.6682832210341614\t-1.0\n",
      "23\t1.660174835432859\t0.3117474263187556\t-1.0\n",
      "24\t1.8272497467061481\t-2.7140681732159164\t-1.0\n",
      "25\t2.260761936897041\t-4.743665701585664\t-1.0\n",
      "26\t3.084239484847015\t-7.6211853859928205\t-1.0\n",
      "27\t3.6542861433819707\t-7.823752148641262\t-1.0\n",
      "28\t4.0664991540653235\t4.090139546300459\t-1.0\n",
      "29\t5.8343286462953605\t12.613317095900037\t-1.0\n",
      "30\t6.442729132357964\t9.365035816863749\t-1.0\n",
      "31\t6.488223722819059\t3.7343618076893152\t-1.0\n",
      "32\t6.514412724970234\t-1.1483726753578813\t-1.0\n",
      "33\t6.847937324017011\t-6.405463611293427\t-1.0\n",
      "34\t8.007886549454724\t-13.917723633221874\t-1.0\n",
      "sum-zero belief  at 1.0, 0.007, 0.007\n"
     ]
    },
    {
     "ename": "LoadError",
     "evalue": "MethodError: no method matching log(::Nothing)\n\u001b[0mClosest candidates are:\n\u001b[0m  log(\u001b[91m::StridedMatrix{T} where T\u001b[39m) at ~/dev/julia-1.8.5/share/julia/stdlib/v1.8/LinearAlgebra/src/dense.jl:774\n\u001b[0m  log(\u001b[91m::AbstractGray\u001b[39m) at ~/.julia/packages/ColorVectorSpace/QI5vM/src/ColorVectorSpace.jl:315\n\u001b[0m  log(\u001b[91m::UniformScaling\u001b[39m) at ~/dev/julia-1.8.5/share/julia/stdlib/v1.8/LinearAlgebra/src/uniformscaling.jl:173\n\u001b[0m  ...",
     "output_type": "error",
     "traceback": [
      "MethodError: no method matching log(::Nothing)\n\u001b[0mClosest candidates are:\n\u001b[0m  log(\u001b[91m::StridedMatrix{T} where T\u001b[39m) at ~/dev/julia-1.8.5/share/julia/stdlib/v1.8/LinearAlgebra/src/dense.jl:774\n\u001b[0m  log(\u001b[91m::AbstractGray\u001b[39m) at ~/.julia/packages/ColorVectorSpace/QI5vM/src/ColorVectorSpace.jl:315\n\u001b[0m  log(\u001b[91m::UniformScaling\u001b[39m) at ~/dev/julia-1.8.5/share/julia/stdlib/v1.8/LinearAlgebra/src/uniformscaling.jl:173\n\u001b[0m  ...",
      "",
      "Stacktrace:",
      " [1] sweep_stab!(M::ParametricModel{Dirac{Int64}, Dirac{Int64}, OffsetMatrix{Float64, Matrix{Float64}}, OffsetArray{Float64, 5, Array{Float64, 5}}, OffsetArray{Float64, 4, Array{Float64, 4}}, OffsetArray{Float64, 3, Array{Float64, 3}}, OffsetVector{Float64, Vector{Float64}}, Float64, Vector{Bool}, Float64}, iter::Int64, maxiter::Int64; nbstab::Int64)",
      "   @ Main ~/Documents/PostDoc_Turin/Projet-Epidemics/Epidemble/Git/Epidemble_local_copy/src/post_infer.jl:131",
      " [2] pop_dynamics_stab(M::ParametricModel{Dirac{Int64}, Dirac{Int64}, OffsetMatrix{Float64, Matrix{Float64}}, OffsetArray{Float64, 5, Array{Float64, 5}}, OffsetArray{Float64, 4, Array{Float64, 4}}, OffsetArray{Float64, 3, Array{Float64, 3}}, OffsetVector{Float64, Vector{Float64}}, Float64, Vector{Bool}, Float64}; filepr::String, tot_iterations::Int64, nbstab::Int64, tol::Float64, nonlearn_iters::Int64, stop_at_convergence::Bool)",
      "   @ Main ~/Documents/PostDoc_Turin/Projet-Epidemics/Epidemble/Git/Epidemble_local_copy/src/post_infer.jl:274",
      " [3] top-level scope",
      "   @ In[29]:1"
     ]
    }
   ],
   "source": [
    "F,it = pop_dynamics_stab(M, tot_iterations = 100, nbstab=40);"
   ]
  },
  {
   "cell_type": "code",
   "execution_count": 16,
   "metadata": {},
   "outputs": [
    {
     "data": {
      "text/plain": [
       "(6.0866666666666634e-9, 0.0016666666666666668, 4.324331667368392e-9)"
      ]
     },
     "execution_count": 16,
     "metadata": {},
     "output_type": "execute_result"
    }
   ],
   "source": [
    "test = rand(-1:2:1, T+2, 2, T+2, 3, N).*0.00001;\n",
    "mean(test), mean(M.μ), mean(M.mom1μ)"
   ]
  },
  {
   "cell_type": "code",
   "execution_count": 17,
   "metadata": {},
   "outputs": [
    {
     "data": {
      "text/plain": [
       "((-1.0e-5, 1.0e-5), (0.0, 0.08090472429788192), (-1.334582163922407e-7, 4.109041142782289e-7))"
      ]
     },
     "execution_count": 17,
     "metadata": {},
     "output_type": "execute_result"
    }
   ],
   "source": [
    "extrema(test), extrema(M.μ), extrema(M.mom1μ)"
   ]
  },
  {
   "cell_type": "code",
   "execution_count": 18,
   "metadata": {},
   "outputs": [
    {
     "data": {
      "text/plain": [
       "(9.999999814291046e-6, 0.0029692850196844913, 1.1095832860748813e-8)"
      ]
     },
     "execution_count": 18,
     "metadata": {},
     "output_type": "execute_result"
    }
   ],
   "source": [
    "std(test), std(M.μ), std(M.mom1μ)"
   ]
  },
  {
   "cell_type": "code",
   "execution_count": 10,
   "metadata": {},
   "outputs": [
    {
     "data": {
      "text/plain": [
       "(-7.746640579475731e-16, 2.0479244851529683e-15)"
      ]
     },
     "execution_count": 10,
     "metadata": {},
     "output_type": "execute_result"
    }
   ],
   "source": []
  },
  {
   "cell_type": "code",
   "execution_count": null,
   "metadata": {},
   "outputs": [],
   "source": [
    "marg = M.belief |> real;\n",
    "marg2D = reshape(sum(marg,dims=3) ./ N, T+2,T+2)\n",
    "ensAUC = avgAUC(marg,M.obs_list,count_obs=true); #set false to see the AUC only on NON observed indiv."
   ]
  },
  {
   "cell_type": "code",
   "execution_count": null,
   "metadata": {},
   "outputs": [],
   "source": [
    "sum(abs.(marg2D.-marg2D_zero))/length(marg2D)"
   ]
  },
  {
   "cell_type": "code",
   "execution_count": null,
   "metadata": {},
   "outputs": [],
   "source": [
    "scatter(ensAUC)\n",
    "scatter!(ensAUC_zero)"
   ]
  },
  {
   "cell_type": "code",
   "execution_count": null,
   "metadata": {},
   "outputs": [],
   "source": [
    "pheat = heatmap((marg2D),c=[:white,:blue,:black],xlabel=\"planted\",ylabel=\"inferred\",title=\"Average 2D marginal\")\n",
    "pheat_stab = heatmap((marg2D_zero.-marg2D),c=[:white,:blue,:black],xlabel=\"planted\",ylabel=\"inferred\")\n",
    "plot(pheat,pheat_stab)"
   ]
  },
  {
   "cell_type": "code",
   "execution_count": null,
   "metadata": {},
   "outputs": [],
   "source": [
    "scatter(F)\n",
    "scatter!(F_zero)\n",
    "hline!([0])"
   ]
  },
  {
   "cell_type": "code",
   "execution_count": null,
   "metadata": {},
   "outputs": [],
   "source": []
  },
  {
   "cell_type": "code",
   "execution_count": null,
   "metadata": {},
   "outputs": [],
   "source": []
  }
 ],
 "metadata": {
  "kernelspec": {
   "display_name": "Julia 1.8.5",
   "language": "julia",
   "name": "julia-1.8"
  },
  "language_info": {
   "file_extension": ".jl",
   "mimetype": "application/julia",
   "name": "julia",
   "version": "1.8.5"
  }
 },
 "nbformat": 4,
 "nbformat_minor": 4
}
