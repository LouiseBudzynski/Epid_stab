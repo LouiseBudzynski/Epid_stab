{
 "cells": [
  {
   "cell_type": "code",
   "execution_count": 1,
   "metadata": {},
   "outputs": [
    {
     "data": {
      "text/plain": [
       "avg_ninf (generic function with 1 method)"
      ]
     },
     "execution_count": 1,
     "metadata": {},
     "output_type": "execute_result"
    }
   ],
   "source": [
    "import OffsetArrays\n",
    "using Plots\n",
    "using Revise\n",
    "using StatsBase\n",
    "using ProgressMeter\n",
    "using SparseArrays, LinearAlgebra, IndexedGraphs, Graphs\n",
    "using Distributions\n",
    "srcpath = \"./src\"\n",
    "include(\"$srcpath/bp.jl\") \n",
    "include(\"$srcpath/bp_stab.jl\") \n",
    "include(\"$srcpath/post_infer.jl\") \n",
    "include(\"$srcpath/observables.jl\")"
   ]
  },
  {
   "cell_type": "code",
   "execution_count": 2,
   "metadata": {
    "scrolled": true
   },
   "outputs": [
    {
     "data": {
      "text/plain": [
       "Dirac{Int64}(value=3)"
      ]
     },
     "execution_count": 2,
     "metadata": {},
     "output_type": "execute_result"
    }
   ],
   "source": [
    "λp = 1.0 # planted infection rate\n",
    "λi = λp # inferred infection rate\n",
    "T = 8 # discrete time: number of time-steps\n",
    "γp = 0.016 # planted autoinfection probability\n",
    "γi = γp # inferred autoinfection probability\n",
    "N = 5000; # population size\n",
    "dilution = 0.0 #dilution of observations. dil=0 means everybody observed once\n",
    "fr = 0.0; #noise in the observation. \n",
    "degree_dist = Dirac(3) #distribution of the degree in the graph (Dirac = random regular)."
   ]
  },
  {
   "cell_type": "code",
   "execution_count": 3,
   "metadata": {},
   "outputs": [],
   "source": [
    "# Initialize model + population of messages\n",
    "M_zero = ParametricModel(N=N,T=T,γp=γp,λp=λp,γi=γi,λi=λi,fr=fr,dilution=dilution,distribution=degree_dist);\n",
    "#@time sweep!(M_zero)"
   ]
  },
  {
   "cell_type": "code",
   "execution_count": 4,
   "metadata": {},
   "outputs": [
    {
     "name": "stdout",
     "output_type": "stream",
     "text": [
      "#1.iter 2.F\n",
      "0\t0.22522115983391996\n",
      "1\t-0.23368981456303517\n",
      "2\t0.20319327339738083\n",
      "3\t0.3136306072721418\n",
      "4\t0.32651943243979187\n",
      "5\t0.3403286459720359\n",
      "6\t0.3293406745726257\n",
      "7\t0.32886502701753634\n",
      "8\t0.3321297826682887\n",
      "9\t0.3002121831527402\n",
      "10\t0.35138167084326416\n",
      "11\t0.3299241105076362\n",
      "12\t0.3287630754449754\n",
      "13\t0.3287181226632383\n",
      "14\t0.3288368982863205\n",
      "15\t0.3188007403164811\n",
      "16\t0.3346557686422515\n",
      "17\t0.33199842257986745\n",
      "18\t0.328972875988399\n",
      "19\t0.328770087116558\n",
      "20\t0.28760765548908673\n",
      "21\t0.3882146827905701\n",
      "22\t0.33586104000212363\n",
      "23\t0.3286553266804549\n",
      "24\t0.28655454500778144\n",
      "25\t0.37333513145733593\n",
      "26\t0.347214752005905\n",
      "27\t0.2566911787376754\n",
      "28\t0.3676536046310241\n",
      "29\t0.37578205975653983\n",
      "30\t0.3295133665116053\n",
      "31\t0.32813815170879534\n",
      "32\t0.3274598382371958\n",
      "33\t0.31913604062273515\n",
      "34\t0.276749351263007\n",
      "35\t0.4324274217440281\n",
      "36\t0.33413941789758683\n",
      "37\t0.3282189362351695\n",
      "38\t0.3284740180646826\n",
      "39\t0.3287751109451783\n"
     ]
    }
   ],
   "source": [
    "# Run population dynamics (without stability analysis):\n",
    "# 1. iterations 2. Free-energy\n",
    "F_zero,it_zero = pop_dynamics(M_zero, tot_iterations = 40, stop_at_convergence=false);"
   ]
  },
  {
   "cell_type": "code",
   "execution_count": 5,
   "metadata": {},
   "outputs": [
    {
     "name": "stdout",
     "output_type": "stream",
     "text": [
      "#1.iter 2.F 3.Δ\n",
      "1\t0.14391679127887594\t-1\n",
      "2\t0.00023149597249068332\t-1\n",
      "3\t0.11376907870277393\t-1\n",
      "4\t0.24403128866280235\t-1\n",
      "5\t0.30913809275656606\t-1\n",
      "6\t0.32584664146042724\t-1\n",
      "7\t0.3279886380003108\t-1\n",
      "8\t0.328639231334716\t-1\n",
      "9\t0.329153152258694\t-1\n",
      "10\t0.32947119936930797\t-1\n",
      "11\t0.32953119011189913\t-1\n",
      "12\t0.32699626848508384\t-1\n",
      "13\t0.31573795811987315\t-1\n",
      "14\t0.2991089867900552\t-1\n",
      "15\t0.2861045627206736\t-1\n",
      "16\t0.38688779268506746\t-1\n",
      "17\t0.38647234369778133\t-1\n",
      "18\t0.3736498282866871\t-1\n",
      "19\t0.3362048565619709\t-1\n",
      "20\t0.3009344562218998\t-1\n",
      "21\t0.3126562543575864\t4.717858509523829e-7\n",
      "22\t0.39277088198825566\t7.396045106241913e-7\n",
      "23\t0.35846346190005884\t6.335609815549826e-7\n",
      "24\t0.33092638481646375\t3.2228636610570215e-7\n",
      "25\t0.318039028889217\t1.4021804174424943e-7\n",
      "26\t0.2903018191486706\t8.021937894683199e-8\n",
      "27\t0.31452822658351187\t4.2496230456421016e-8\n",
      "28\t0.34394608642209323\t1.8540798968262846e-8\n",
      "29\t0.32518686951067244\t1.0232966858071322e-8\n",
      "30\t0.3067396645958616\t6.918214866021172e-9\n",
      "31\t0.3188437238787251\t3.2341845161694812e-9\n",
      "32\t0.32812035291691605\t1.2962006169284286e-9\n",
      "33\t0.33036809705253556\t8.627020106641162e-10\n",
      "34\t0.3116037746885926\t1.0105188819667064e-9\n",
      "35\t0.28718258409248804\t1.8070410444729722e-9\n",
      "36\t0.3513026199291205\t2.5163461232338034e-9\n",
      "37\t0.3352296673970024\t2.417919476541337e-9\n",
      "38\t0.33408860777191834\t1.634800940358738e-9\n",
      "39\t0.3306464255790552\t7.925465322988431e-10\n",
      "40\t0.3295022191379326\t5.060590432656309e-10\n"
     ]
    }
   ],
   "source": [
    "M = ParametricModel(N=N,T=T,γp=γp,λp=λp,γi=γi,λi=λi,fr=fr,dilution=dilution,distribution=degree_dist);\n",
    "#@time sweep_stab!(M, 3, 4)\n",
    "\n",
    "# Run population dynamics with stability analysis:\n",
    "# 1. iterations 2. Free-energy 3. Stability parameter\n",
    "pop_dynamics_stab(M, tot_iterations = 40, nbstab=20);"
   ]
  },
  {
   "cell_type": "code",
   "execution_count": null,
   "metadata": {},
   "outputs": [],
   "source": []
  },
  {
   "cell_type": "code",
   "execution_count": null,
   "metadata": {},
   "outputs": [],
   "source": []
  }
 ],
 "metadata": {
  "kernelspec": {
   "display_name": "Julia 1.8.5",
   "language": "julia",
   "name": "julia-1.8"
  },
  "language_info": {
   "file_extension": ".jl",
   "mimetype": "application/julia",
   "name": "julia",
   "version": "1.8.5"
  }
 },
 "nbformat": 4,
 "nbformat_minor": 4
}
