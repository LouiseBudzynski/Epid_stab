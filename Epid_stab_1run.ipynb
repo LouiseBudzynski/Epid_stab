{
 "cells": [
  {
   "cell_type": "code",
   "execution_count": 1,
   "metadata": {},
   "outputs": [
    {
     "data": {
      "text/plain": [
       "avg_ninf (generic function with 1 method)"
      ]
     },
     "execution_count": 1,
     "metadata": {},
     "output_type": "execute_result"
    }
   ],
   "source": [
    "import OffsetArrays\n",
    "using Plots\n",
    "using Revise\n",
    "using StatsBase\n",
    "using ProgressMeter\n",
    "using SparseArrays, LinearAlgebra, IndexedGraphs, Graphs\n",
    "using Distributions\n",
    "srcpath = \"./src\"\n",
    "include(\"$srcpath/bp.jl\") \n",
    "include(\"$srcpath/bp_stab.jl\") \n",
    "include(\"$srcpath/post_infer.jl\") \n",
    "include(\"$srcpath/observables.jl\")"
   ]
  },
  {
   "cell_type": "code",
   "execution_count": 2,
   "metadata": {
    "scrolled": true
   },
   "outputs": [
    {
     "data": {
      "text/plain": [
       "Dirac{Int64}(value=3)"
      ]
     },
     "execution_count": 2,
     "metadata": {},
     "output_type": "execute_result"
    }
   ],
   "source": [
    "λp = 1.0 # planted infection rate\n",
    "λi = λp # inferred infection rate\n",
    "T = 8 # discrete time: number of time-steps\n",
    "γp = 0.016 # planted autoinfection probability\n",
    "γi = γp # inferred autoinfection probability\n",
    "N = 5000; # population size\n",
    "dilution = 0.0 #dilution of observations. dil=0 means everybody observed once\n",
    "fr = 0.0; #noise in the observation. \n",
    "degree_dist = Dirac(3) #distribution of the degree in the graph (Dirac = random regular)."
   ]
  },
  {
   "cell_type": "code",
   "execution_count": 3,
   "metadata": {},
   "outputs": [],
   "source": [
    "# Initialize model + population of messages\n",
    "M_zero = ParametricModel(N=N,T=T,γp=γp,λp=λp,γi=γi,λi=λi,fr=fr,dilution=dilution,distribution=degree_dist);\n",
    "#@time sweep!(M_zero)"
   ]
  },
  {
   "cell_type": "code",
   "execution_count": 4,
   "metadata": {},
   "outputs": [
    {
     "name": "stdout",
     "output_type": "stream",
     "text": [
      "#1.iter 2.F\n",
      "0\t0.21134132279813203\n",
      "1\t-0.22470461413573647\n",
      "2\t0.2362947426767074\n",
      "3\t0.32678866307815335\n",
      "4\t0.32845187537648746\n",
      "5\t0.3618282238601518\n",
      "6\t0.329624315843932\n",
      "7\t0.32864636986198603\n",
      "8\t0.3286921088697272\n",
      "9\t0.3276244148411759\n",
      "10\t0.32050690261411074\n",
      "11\t0.3276392798396802\n",
      "12\t0.3102914179797488\n",
      "13\t0.38245255960851066\n",
      "14\t0.31493585377394046\n",
      "15\t0.32182073049355675\n",
      "16\t0.40658688291428113\n",
      "17\t0.33150432417072734\n",
      "18\t0.3280861964866257\n",
      "19\t0.32855982518877863\n",
      "20\t0.32895997809894323\n",
      "21\t0.3236287493993441\n",
      "22\t0.34010553719448655\n",
      "23\t0.3281916887094936\n",
      "24\t0.32432304498593\n",
      "25\t0.33499919779421616\n",
      "26\t0.3292555347099493\n",
      "27\t0.3287073362459647\n",
      "28\t0.32885736833687695\n",
      "29\t0.32882295822579033\n",
      "30\t0.3287455144432577\n",
      "31\t0.3288031035437729\n",
      "32\t0.32533831439542266\n",
      "33\t0.3277738910855755\n",
      "34\t0.3287895771418698\n",
      "35\t0.32776665901078667\n",
      "36\t0.29047330016920603\n",
      "37\t0.35852756469669694\n",
      "38\t0.3302473676467009\n",
      "39\t0.3164611603597179\n"
     ]
    }
   ],
   "source": [
    "# Run population dynamics (without stability analysis):\n",
    "# 1. iterations 2. Free-energy\n",
    "F_zero,it_zero = pop_dynamics(M_zero, tot_iterations = 40, stop_at_convergence=false);"
   ]
  },
  {
   "cell_type": "code",
   "execution_count": 5,
   "metadata": {},
   "outputs": [
    {
     "name": "stdout",
     "output_type": "stream",
     "text": [
      "#1.iter 2.F 3.Δ\n",
      "1\t0.14503820564638287\t-1\n",
      "2\t-0.0004142612535710793\t-1\n",
      "3\t0.11052480201134281\t-1\n",
      "4\t0.2426877403156737\t-1\n",
      "5\t0.30865623011488247\t-1\n",
      "6\t0.32579704077150584\t-1\n",
      "7\t0.3281025077395335\t-1\n",
      "8\t0.32860575563380723\t-1\n",
      "9\t0.329279397315298\t-1\n",
      "10\t0.3294641254957134\t-1\n",
      "11\t0.3293091998254139\t-1\n",
      "12\t0.32911465750061036\t-1\n",
      "13\t0.3289414698958046\t-1\n",
      "14\t0.3288169420969191\t-1\n",
      "15\t0.32881767514474103\t-1\n",
      "16\t0.32862384325923893\t-1\n",
      "17\t0.3275083975787393\t-1\n",
      "18\t0.3289120216106116\t-1\n",
      "19\t0.3289602071226027\t-1\n",
      "20\t0.3288521434793399\t-1\n",
      "21\t0.3276978963270568\t4.683408920398884e-7\n",
      "22\t0.3290120109087032\t7.248009302635785e-7\n",
      "23\t0.32761962380914855\t6.374307920933108e-7\n",
      "24\t0.32604037851208134\t3.216905919417012e-7\n",
      "25\t0.3289325049165652\t1.3876319907294154e-7\n",
      "26\t0.3274813010590629\t7.999197956318135e-8\n",
      "27\t0.32903513105387866\t4.2739993037406304e-8\n",
      "28\t0.3287450094683663\t1.7402364642407978e-8\n",
      "29\t0.3287895959583609\t8.490207370722055e-9\n",
      "30\t0.3267624356854907\t1.0218197768095145e-8\n",
      "31\t0.3262951858870942\t1.2867172630441247e-8\n",
      "32\t0.32998350680833427\t1.3011965701703552e-8\n",
      "33\t0.3327326991375903\t1.0387652213234025e-8\n",
      "34\t0.31932304099926295\t6.516682018200629e-9\n",
      "35\t0.32145851820259463\t3.4512232466272325e-9\n",
      "36\t0.33286207553847486\t3.5602476246144003e-9\n",
      "37\t0.3317745427570858\t5.24724510384491e-9\n",
      "38\t0.32809111417648046\t6.245873541556218e-9\n",
      "39\t0.32921090848779005\t6.1584461495247454e-9\n",
      "40\t0.32884389487222265\t4.995730679975943e-9\n"
     ]
    }
   ],
   "source": [
    "M = ParametricModel(N=N,T=T,γp=γp,λp=λp,γi=γi,λi=λi,fr=fr,dilution=dilution,distribution=degree_dist);\n",
    "#@time sweep_stab!(M, 3, 4)\n",
    "\n",
    "# Run population dynamics with stability analysis:\n",
    "# 1. iterations 2. Free-energy 3. Stability parameter\n",
    "pop_dynamics_stab(M, tot_iterations = 40, nbstab=20);"
   ]
  },
  {
   "cell_type": "code",
   "execution_count": null,
   "metadata": {},
   "outputs": [],
   "source": []
  },
  {
   "cell_type": "code",
   "execution_count": null,
   "metadata": {},
   "outputs": [],
   "source": []
  }
 ],
 "metadata": {
  "kernelspec": {
   "display_name": "Julia 1.8.5",
   "language": "julia",
   "name": "julia-1.8"
  },
  "language_info": {
   "file_extension": ".jl",
   "mimetype": "application/julia",
   "name": "julia",
   "version": "1.8.5"
  }
 },
 "nbformat": 4,
 "nbformat_minor": 4
}
