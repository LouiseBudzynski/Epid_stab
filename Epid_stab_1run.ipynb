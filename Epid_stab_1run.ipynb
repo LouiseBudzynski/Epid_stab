{
 "cells": [
  {
   "cell_type": "code",
   "execution_count": 43,
   "metadata": {},
   "outputs": [
    {
     "data": {
      "text/plain": [
       "avg_ninf (generic function with 1 method)"
      ]
     },
     "execution_count": 43,
     "metadata": {},
     "output_type": "execute_result"
    }
   ],
   "source": [
    "import OffsetArrays\n",
    "using Plots\n",
    "using Revise\n",
    "using StatsBase\n",
    "using ProgressMeter\n",
    "using SparseArrays, LinearAlgebra, IndexedGraphs, Graphs\n",
    "using Distributions\n",
    "srcpath = \"./src\"\n",
    "include(\"$srcpath/bp.jl\") \n",
    "include(\"$srcpath/bp_stab.jl\") \n",
    "include(\"$srcpath/post_infer.jl\") \n",
    "include(\"$srcpath/observables.jl\")"
   ]
  },
  {
   "cell_type": "code",
   "execution_count": 84,
   "metadata": {
    "scrolled": true
   },
   "outputs": [
    {
     "name": "stdout",
     "output_type": "stream",
     "text": [
      "2 / sqrt(N) = 0.0282842712474619\n"
     ]
    },
    {
     "data": {
      "text/plain": [
       "Dirac{Int64}(value=3)"
      ]
     },
     "execution_count": 84,
     "metadata": {},
     "output_type": "execute_result"
    }
   ],
   "source": [
    "λp = 1.0# planted infection rate\n",
    "λi = λp #inferred infection rate\n",
    "\n",
    "T = 8 # discrete time: number of time-steps\n",
    "\n",
    "γp = 0.01 #0.019 # planted autoinfection probability\n",
    "γi = γp # inferred autoinfection probability\n",
    "\n",
    "N = 5000; #population size\n",
    "@show 2/sqrt(N)\n",
    "\n",
    "dilution = 0.0 #dilution of observations. dil=0 means everybody observed once\n",
    "fr = 0.0; #noise in the observation. \n",
    "\n",
    "degree_dist = Dirac(3) #the distribution of the degree in the graph. Dirac means random regular."
   ]
  },
  {
   "cell_type": "code",
   "execution_count": 85,
   "metadata": {},
   "outputs": [],
   "source": [
    "#M_zero = ParametricModel(N=N,T=T,γp=γp,λp=λp,γi=γi,λi=λi,fr=fr,dilution=dilution,distribution=degree_dist);"
   ]
  },
  {
   "cell_type": "code",
   "execution_count": 86,
   "metadata": {},
   "outputs": [],
   "source": [
    "#@time sweep!(M_zero)"
   ]
  },
  {
   "cell_type": "code",
   "execution_count": 87,
   "metadata": {},
   "outputs": [],
   "source": [
    "#F_zero,it_zero = pop_dynamics(M_zero, tot_iterations = 20);"
   ]
  },
  {
   "cell_type": "code",
   "execution_count": 88,
   "metadata": {},
   "outputs": [],
   "source": [
    "#l=rand(1:N)\n",
    "#M_zero.belief[:,:,l]"
   ]
  },
  {
   "cell_type": "code",
   "execution_count": 89,
   "metadata": {},
   "outputs": [],
   "source": [
    "#marg_zero = M_zero.belief |> real;\n",
    "#marg2D_zero = reshape(sum(marg_zero,dims=3) ./ N, T+2,T+2)\n",
    "#ensAUC_zero = avgAUC(marg_zero,M_zero.obs_list,count_obs=true);"
   ]
  },
  {
   "cell_type": "code",
   "execution_count": 95,
   "metadata": {},
   "outputs": [
    {
     "data": {
      "text/plain": [
       "δλ (generic function with 1 method)"
      ]
     },
     "execution_count": 95,
     "metadata": {},
     "output_type": "execute_result"
    }
   ],
   "source": [
    "include(\"$srcpath/post_infer.jl\") "
   ]
  },
  {
   "cell_type": "code",
   "execution_count": 96,
   "metadata": {},
   "outputs": [],
   "source": [
    "M = ParametricModel(N=N,T=T,γp=γp,λp=λp,γi=γi,λi=λi,fr=fr,dilution=dilution,distribution=degree_dist);"
   ]
  },
  {
   "cell_type": "code",
   "execution_count": 97,
   "metadata": {},
   "outputs": [],
   "source": [
    "#@time sweep_stab!(M, 3, 4)"
   ]
  },
  {
   "cell_type": "code",
   "execution_count": 98,
   "metadata": {},
   "outputs": [
    {
     "name": "stdout",
     "output_type": "stream",
     "text": [
      "#1.iter 2.conv_crit 3.F 4. Δ\n",
      "1\tInf\t-1\t\n",
      "2\t0.1957003936790862\t-1\t\n",
      "3\t0.18821206020500725\t-1\t\n",
      "4\t0.22035799252401134\t-1\t\n",
      "5\t0.13549398175116778\t-1\t\n",
      "6\t0.059839585477716284\t-1\t\n",
      "7\t0.058157211701377776\t-1\t\n",
      "8\t0.07293210952603246\t-1\t\n",
      "9\t0.22665866052239458\t-1\t\n",
      "10\t0.5088183550996064\t-1\t\n",
      "11\t0.4854550873741399\t-1\t\n",
      "12\t0.011156640244035287\t-1\t\n",
      "13\t0.00015034653648449137\t-1\t\n",
      "14\t0.27113270227960484\t-1\t\n",
      "15\t0.3578104191845952\t-1\t\n",
      "16\t0.17380001292193548\t-1\t\n",
      "17\t0.4351068253345183\t-1\t\n",
      "18\t0.5472922597966665\t-1\t\n",
      "19\t0.36329635298906915\t-1\t\n",
      "20\t0.08198443161226088\t-1\t\n",
      "21\t0.18232840650168392\t-1\t\n",
      "22\t0.08667068894458652\t-1\t\n",
      "23\t0.4140022506073251\t-1\t\n",
      "24\t1.010810602492601\t-1\t\n",
      "25\t0.7846761721664564\t-1\t\n",
      "26\t0.31104095048219804\t6.927173872185184e7\t\n",
      "27\t0.16464874133633423\t3.739883189060415e9\t\n",
      "28\t0.2984144542526934\t2.3618472465944546e10\t\n",
      "29\t1.0771990610297806\t3.420614429915289e11\t\n",
      "30\t0.950551683520878\t6.132164512386117e12\t\n",
      "31\t0.17956793500408708\t1.5372920416925216e24\t\n",
      "32\t0.18522713025111592\t4.771996791909052e24\t\n",
      "33\t0.14579010704769857\t1.6916049415233645e25\t\n",
      "34\t0.07628997163719475\t2.0710919365005215e25\t\n",
      "35\t0.41839366282705015\t1.3241729379949602e32\t\n",
      "36\t0.45020496096635476\t9.993398105128056e31\t\n",
      "37\t0.12864453003979825\t1.3477867082942346e33\t\n",
      "38\t0.21210104399009388\t5.0288744918569495e33\t\n",
      "39\t0.8039462144359941\t6.995166939299162e66\t\n",
      "40\t0.5567504193960495\t2.396003894539971e67\t\n",
      "41\t0.2821791058820402\t1.0369998051480699e68\t\n",
      "42\t0.008821778066749886\t1.0824272526770264e71\t\n",
      "43\t0.5324529550941488\t1.256988964756955e74\t\n",
      "44\t0.36263289580963054\t1.811009433298298e74\t\n",
      "45\t0.2857337779897655\t1.0060007121457941e135\t\n",
      "46\t0.7562306405230217\t1.2002605908639376e75\t\n",
      "47\t0.8454723882652662\t1.143981551557115e75\t\n",
      "48\t1.0482129067089438\t8.586172344427415e74\t\n",
      "49\t0.2562829435461982\tInf\t\n",
      "50\t0.47617820382424547\tNaN\t\n"
     ]
    }
   ],
   "source": [
    "pop_dynamics_stab(M, tot_iterations = 50);"
   ]
  },
  {
   "cell_type": "code",
   "execution_count": null,
   "metadata": {},
   "outputs": [],
   "source": []
  },
  {
   "cell_type": "code",
   "execution_count": null,
   "metadata": {},
   "outputs": [],
   "source": [
    "marg = M.belief |> real;\n",
    "marg2D = reshape(sum(marg,dims=3) ./ N, T+2,T+2)\n",
    "ensAUC = avgAUC(marg,M.obs_list,count_obs=true); #set false to see the AUC only on NON observed indiv."
   ]
  },
  {
   "cell_type": "code",
   "execution_count": null,
   "metadata": {},
   "outputs": [],
   "source": [
    "sum(abs.(marg2D.-marg2D_zero))/length(marg2D)"
   ]
  },
  {
   "cell_type": "code",
   "execution_count": null,
   "metadata": {},
   "outputs": [],
   "source": [
    "scatter(ensAUC)\n",
    "scatter!(ensAUC_zero)"
   ]
  },
  {
   "cell_type": "code",
   "execution_count": null,
   "metadata": {},
   "outputs": [],
   "source": [
    "pheat = heatmap((marg2D),c=[:white,:blue,:black],xlabel=\"planted\",ylabel=\"inferred\",title=\"Average 2D marginal\")\n",
    "pheat_stab = heatmap((marg2D_zero.-marg2D),c=[:white,:blue,:black],xlabel=\"planted\",ylabel=\"inferred\")\n",
    "plot(pheat,pheat_stab)"
   ]
  },
  {
   "cell_type": "code",
   "execution_count": null,
   "metadata": {},
   "outputs": [],
   "source": [
    "scatter(F)\n",
    "scatter!(F_zero)\n",
    "hline!([0])"
   ]
  },
  {
   "cell_type": "code",
   "execution_count": null,
   "metadata": {},
   "outputs": [],
   "source": []
  },
  {
   "cell_type": "code",
   "execution_count": null,
   "metadata": {},
   "outputs": [],
   "source": []
  }
 ],
 "metadata": {
  "kernelspec": {
   "display_name": "Julia 1.8.5",
   "language": "julia",
   "name": "julia-1.8"
  },
  "language_info": {
   "file_extension": ".jl",
   "mimetype": "application/julia",
   "name": "julia",
   "version": "1.8.5"
  }
 },
 "nbformat": 4,
 "nbformat_minor": 4
}
