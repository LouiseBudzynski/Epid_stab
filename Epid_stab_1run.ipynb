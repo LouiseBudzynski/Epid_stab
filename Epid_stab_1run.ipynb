{
 "cells": [
  {
   "cell_type": "code",
   "execution_count": 1,
   "metadata": {},
   "outputs": [
    {
     "data": {
      "text/plain": [
       "avg_ninf (generic function with 1 method)"
      ]
     },
     "execution_count": 1,
     "metadata": {},
     "output_type": "execute_result"
    }
   ],
   "source": [
    "import OffsetArrays\n",
    "using Plots\n",
    "using Revise\n",
    "using StatsBase\n",
    "using ProgressMeter\n",
    "using SparseArrays, LinearAlgebra, IndexedGraphs, Graphs\n",
    "using Distributions\n",
    "srcpath = \"./src\"\n",
    "include(\"$srcpath/bp.jl\") #julia code which contains the bp update\n",
    "include(\"$srcpath/post_infer.jl\") #definition of the main functions and the types\n",
    "include(\"$srcpath/observables.jl\") # julia code for estimating observables"
   ]
  },
  {
   "cell_type": "code",
   "execution_count": 2,
   "metadata": {
    "scrolled": true
   },
   "outputs": [
    {
     "name": "stdout",
     "output_type": "stream",
     "text": [
      "2 / sqrt(N) = 0.0282842712474619\n"
     ]
    },
    {
     "data": {
      "text/plain": [
       "Dirac{Int64}(value=3)"
      ]
     },
     "execution_count": 2,
     "metadata": {},
     "output_type": "execute_result"
    }
   ],
   "source": [
    "λp = 1.0# planted infection rate\n",
    "λi = λp #inferred infection rate\n",
    "\n",
    "T = 8 # discrete time: number of time-steps\n",
    "\n",
    "γp = 0.1 #0.019 # planted autoinfection probability\n",
    "γi = γp # inferred autoinfection probability\n",
    "\n",
    "N = 5000; #population size\n",
    "@show 2/sqrt(N)\n",
    "\n",
    "dilution = 0.0 #dilution of observations. dil=0 means everybody observed once\n",
    "fr = 0.0; #noise in the observation. \n",
    "\n",
    "degree_dist = Dirac(3) #the distribution of the degree in the graph. Dirac means random regular."
   ]
  },
  {
   "cell_type": "code",
   "execution_count": 3,
   "metadata": {},
   "outputs": [],
   "source": [
    "M_zero = ParametricModel(N=N,T=T,γp=γp,λp=λp,γi=γi,λi=λi,fr=fr,dilution=dilution,distribution=degree_dist);"
   ]
  },
  {
   "cell_type": "code",
   "execution_count": 4,
   "metadata": {},
   "outputs": [
    {
     "name": "stdout",
     "output_type": "stream",
     "text": [
      "  2.607082 seconds (25.21 M allocations: 1.620 GiB, 9.24% gc time, 64.49% compilation time)\n"
     ]
    },
    {
     "data": {
      "text/plain": [
       "0.06993729216328648"
      ]
     },
     "execution_count": 4,
     "metadata": {},
     "output_type": "execute_result"
    }
   ],
   "source": [
    "@time sweep!(M_zero)"
   ]
  },
  {
   "cell_type": "code",
   "execution_count": 5,
   "metadata": {},
   "outputs": [
    {
     "name": "stdout",
     "output_type": "stream",
     "text": [
      "#1.iter 2.err 3.F\n",
      "0\t-1\t-0.4709943938605553\n",
      "1\t-1\t-0.395455570483116\n",
      "2\t-1\t-0.3910154902316936\n",
      "3\t-1\t-0.3910143954716972\n",
      "4\t-1\t-0.39101439547165867\n",
      "5\t-1\t-0.39101439547165867\n",
      "6\t-1\t-0.39101439547165867\n",
      "7\t-1\t-0.3910143954716579\n",
      "8\t-1\t-0.39101439547165867\n",
      "9\t-1\t-0.39101439547165867\n",
      "10\t-1\t-0.39101439547165867\n",
      "11\t3.284599251323509e-7\t-0.39101439547165867\n",
      "12\t0.0\t-0.39101439547165867\n",
      "13\t0.0\t-0.39101439547165867\n",
      "14\t0.0\t-0.39101439547165867\n",
      "15\t0.0\t-0.39101439547165867\n",
      "16\t0.0\t-0.39101439547165867\n",
      "17\t0.0\t-0.39101439547165867\n",
      "18\t0.0\t-0.39101439547165867\n",
      "19\t0.0\t-0.39101439547165867\n"
     ]
    }
   ],
   "source": [
    "F_zero,it_zero = pop_dynamics(M_zero, tot_iterations = 20);"
   ]
  },
  {
   "cell_type": "code",
   "execution_count": 6,
   "metadata": {},
   "outputs": [
    {
     "data": {
      "text/plain": [
       "10×10 OffsetArray(::Matrix{Float64}, 0:9, 0:9) with eltype Float64 with indices 0:9×0:9:\n",
       " 0.0  0.0  0.1          0.0  0.0  0.0  0.0  0.0  0.0  0.0\n",
       " 0.0  0.0  0.2439       0.0  0.0  0.0  0.0  0.0  0.0  0.0\n",
       " 0.0  0.0  0.307422     0.0  0.0  0.0  0.0  0.0  0.0  0.0\n",
       " 0.0  0.0  0.250201     0.0  0.0  0.0  0.0  0.0  0.0  0.0\n",
       " 0.0  0.0  0.0906219    0.0  0.0  0.0  0.0  0.0  0.0  0.0\n",
       " 0.0  0.0  0.00780519   0.0  0.0  0.0  0.0  0.0  0.0  0.0\n",
       " 0.0  0.0  4.99779e-5   0.0  0.0  0.0  0.0  0.0  0.0  0.0\n",
       " 0.0  0.0  2.02338e-9   0.0  0.0  0.0  0.0  0.0  0.0  0.0\n",
       " 0.0  0.0  3.31618e-18  0.0  0.0  0.0  0.0  0.0  0.0  0.0\n",
       " 0.0  0.0  0.0          0.0  0.0  0.0  0.0  0.0  0.0  0.0"
      ]
     },
     "execution_count": 6,
     "metadata": {},
     "output_type": "execute_result"
    }
   ],
   "source": [
    "M_zero.belief[:,:,186]"
   ]
  },
  {
   "cell_type": "code",
   "execution_count": 7,
   "metadata": {},
   "outputs": [],
   "source": [
    "#M_zero.mom1μ\n",
    "#sum(M_zero.mom1μ)./length(M_zero.mom1μ)"
   ]
  },
  {
   "cell_type": "code",
   "execution_count": 8,
   "metadata": {},
   "outputs": [],
   "source": [
    "#marg_zero = M_zero.belief |> real;\n",
    "#marg2D_zero = reshape(sum(marg_zero,dims=3) ./ N, T+2,T+2)\n",
    "#ensAUC_zero = avgAUC(marg_zero,M_zero.obs_list,count_obs=true);"
   ]
  },
  {
   "cell_type": "code",
   "execution_count": 9,
   "metadata": {},
   "outputs": [],
   "source": [
    "M = ParametricModel(N=N,T=T,γp=γp,λp=λp,γi=γi,λi=λi,fr=fr,dilution=dilution,distribution=degree_dist);"
   ]
  },
  {
   "cell_type": "code",
   "execution_count": 10,
   "metadata": {},
   "outputs": [
    {
     "name": "stdout",
     "output_type": "stream",
     "text": [
      "#1.iter 2.err 3.F 4. Δ\n",
      "0\t-1\t0.39936231795824567\t-1.0\n",
      "1\t-1\t0.15627128685712524\t-1.0\n",
      "2\t-1\t-0.3522791615790455\t-1.0\n",
      "3\t-1\t-0.490256349086055\t-1.0\n",
      "4\t-1\t-0.4866855067623772\t-1.0\n",
      "5\t-1\t-0.4331438261549803\t-1.0\n",
      "6\t-1\t-0.4017927920140915\t-1.0\n",
      "7\t-1\t-0.3925434516612935\t-1.0\n",
      "8\t-1\t-0.3911156828081017\t-1.0\n",
      "9\t-1\t-0.3910176285721842\t-1.0\n",
      "10\t-1\t-0.3910144339858889\t-1.0\n",
      "11\t0.042373924834874545\t-0.39101439559499923\t-1.0\n",
      "12\t0.03830480754548754\t-0.39101439547168554\t-1.0\n",
      "13\t0.02964791973883933\t-0.39101439547165867\t-1.0\n",
      "14\t0.012633028731259585\t-0.39101439547165867\t-1.0\n",
      "15\t0.0032111728500158914\t-0.39101439547165867\t-1.0\n",
      "16\t0.0004562250022193074\t-0.39101439547165867\t-1.0\n",
      "17\t3.0292438980499958e-5\t-0.39101439547165867\t-1.0\n",
      "18\t9.68690095135272e-7\t-0.39101439547165867\t-1.0\n",
      "19\t0.0\t-0.39101439547165867\t-1.0\n",
      "20\t0.0\t-0.39101439547165867\t-1.0\n",
      "21\t0.0\t-0.39101439547165867\t-1.0\n",
      "22\t0.0\t-0.39101439547165867\t-1.0\n",
      "23\t0.0\t-0.39101439547165867\t-1.0\n",
      "24\t0.0\t-0.39101439547165867\t-1.0\n",
      "25\t0.0\t-0.39101439547165867\t-1.0\n",
      "26\t0.0\t-0.39101439547165867\t-1.0\n",
      "27\t0.0\t-0.39101439547165867\t-1.0\n",
      "28\t0.0\t-0.39101439547165867\t-1.0\n",
      "29\t0.0\t-0.39101439547165867\t-1.0\n",
      "30\t0.0\t-0.39101439547165867\t-1.0\n",
      "31\t0.0\t-0.39101439547165867\t-1.0\n",
      "32\t0.0\t-0.39101439547165867\t-1.0\n",
      "33\t0.0\t-0.39101439547165867\t-1.0\n",
      "34\t0.0\t-0.39101439547165867\t-1.0\n",
      "35\t0.0\t-0.39101439547165867\t-1.0\n",
      "36\t0.0\t-0.39101439547165867\t-1.0\n",
      "37\t0.0\t-0.39101439547165867\t-1.0\n",
      "38\t0.0\t-0.39101439547165867\t-1.0\n",
      "39\t0.0\t-0.39101439547165867\t-1.0\n",
      "40\t0.0\t-0.39101439547165867\t-1.0\n",
      "41\t0.0\t-0.39101439547165867\t-1.0\n",
      "42\t0.0\t-0.39101439547165867\t-1.0\n",
      "43\t0.0\t-0.39101439547165867\t-1.0\n",
      "44\t0.0\t-0.39101439547165867\t-1.0\n",
      "45\t0.0\t-0.39101439547165867\t-1.0\n",
      "46\t0.0\t-0.39101439547165867\t-1.0\n",
      "47\t0.0\t-0.39101439547165867\t-1.0\n",
      "48\t0.0\t-0.39101439547165867\t-1.0\n",
      "49\t0.0\t-0.39101439547165867\t-1.0\n",
      "50\t0.0\t-0.39101439547165867\t-1.0\n",
      "51\t0.0\t-0.39101439547165867\t0.0\n",
      "52\t0.0\t-0.39101439547165867\t0.0\n",
      "53\t0.0\t-0.39101439547165867\t0.0\n",
      "54\t0.0\t-0.3910143954716579\t0.0\n",
      "55\t0.0\t-0.39101439547165867\t0.0\n",
      "56\t0.0\t-0.39101439547165867\t0.0\n",
      "57\t0.0\t-0.39101439547165867\t0.0\n",
      "58\t0.0\t-0.39101439547165867\t0.0\n",
      "59\t0.0\t-0.39101439547165867\t0.0\n",
      "60\t0.0\t-0.39101439547165867\t2.858591757223116e-6\n",
      "61\t0.0\t-0.39101439547165867\t1.0826200305831672e-6\n",
      "62\t0.0\t-0.39101439547165867\t2.486101325861234e-7\n",
      "63\t0.0\t-0.39101439547165867\t5.297299166174349e-8\n",
      "64\t0.0\t-0.39101439547165867\t1.1073816245183538e-8\n",
      "65\t0.0\t-0.39101439547165867\t1.5423697337464134e-9\n",
      "66\t0.0\t-0.39101439547165867\t1.1956116998322655e-10\n",
      "67\t0.0\t-0.39101439547165867\t4.030345374052861e-12\n",
      "68\t0.0\t-0.39101439547165867\t4.566394610947577e-14\n",
      "69\t0.0\t-0.39101439547165867\t1.5761360978903303e-16\n",
      "70\t0.0\t-0.3910143954716579\t6.972067954207761e-20\n",
      "71\t0.0\t-0.39101439547165867\t3.2105580189213247e-24\n",
      "72\t0.0\t-0.39101439547165867\t9.59667343903365e-30\n",
      "73\t0.0\t-0.39101439547165867\t5.627270801579108e-31\n",
      "74\t0.0\t-0.39101439547165867\t1.828981378656813e-32\n",
      "75\t0.0\t-0.39101439547165867\t3.836933572091006e-34\n",
      "76\t0.0\t-0.39101439547165867\t4.097729741244502e-36\n",
      "77\t0.0\t-0.39101439547165867\t2.188844170313653e-38\n",
      "78\t0.0\t-0.39101439547165867\t4.4148427603514745e-41\n",
      "79\t0.0\t-0.39101439547165867\t1.8402406035470453e-44\n",
      "80\t0.0\t-0.39101439547165867\t1.0283584249706963e-48\n",
      "81\t0.0\t-0.39101439547165867\t4.254601116853059e-52\n",
      "82\t0.0\t-0.39101439547165867\t3.412752368011345e-54\n",
      "83\t0.0\t-0.39101439547165867\t5.283485343537466e-56\n",
      "84\t0.0\t-0.39101439547165867\t5.558256281400629e-58\n",
      "85\t0.0\t-0.39101439547165867\t4.0707211203568563e-60\n",
      "86\t0.0\t-0.39101439547165867\t2.4117912939431334e-62\n",
      "87\t0.0\t-0.39101439547165867\t1.2239376825566667e-65\n",
      "88\t0.0\t-0.39101439547165867\t5.225493400133196e-69\n",
      "89\t0.0\t-0.39101439547165867\t3.124226617389455e-72\n",
      "90\t0.0\t-0.39101439547165867\t1.8329843595353982e-75\n",
      "91\t0.0\t-0.39101439547165867\t7.02891433565027e-78\n",
      "92\t0.0\t-0.39101439547165867\t8.618906354647519e-80\n",
      "93\t0.0\t-0.39101439547165867\t1.0482032255915729e-81\n",
      "94\t0.0\t-0.39101439547165867\t3.2387929247108076e-84\n",
      "95\t0.0\t-0.39101439547165867\t1.2189501702190197e-86\n",
      "96\t0.0\t-0.39101439547165867\t5.0722033301055575e-90\n",
      "97\t0.0\t-0.39101439547165867\t4.666266579936023e-93\n",
      "98\t0.0\t-0.39101439547165867\t2.1748859550997267e-96\n",
      "99\t0.0\t-0.39101439547165867\t1.1586834356835816e-99\n"
     ]
    }
   ],
   "source": [
    "F,it = pop_dynamics_stab(M, tot_iterations = 100, nbstab=40);"
   ]
  },
  {
   "cell_type": "code",
   "execution_count": 12,
   "metadata": {},
   "outputs": [
    {
     "name": "stdout",
     "output_type": "stream",
     "text": [
      "  0.966316 seconds (9.55 M allocations: 904.584 MiB, 8.06% gc time)\n"
     ]
    },
    {
     "data": {
      "text/plain": [
       "(-0.39101439547165867, 4.243443129635428e-104)"
      ]
     },
     "execution_count": 12,
     "metadata": {},
     "output_type": "execute_result"
    }
   ],
   "source": [
    "@time sweep_stab!(M, 3, 4)"
   ]
  },
  {
   "cell_type": "code",
   "execution_count": 16,
   "metadata": {},
   "outputs": [
    {
     "data": {
      "text/plain": [
       "(6.0866666666666634e-9, 0.0016666666666666668, 4.324331667368392e-9)"
      ]
     },
     "execution_count": 16,
     "metadata": {},
     "output_type": "execute_result"
    }
   ],
   "source": [
    "test = rand(-1:2:1, T+2, 2, T+2, 3, N).*0.00001;\n",
    "mean(test), mean(M.μ), mean(M.mom1μ)"
   ]
  },
  {
   "cell_type": "code",
   "execution_count": 17,
   "metadata": {},
   "outputs": [
    {
     "data": {
      "text/plain": [
       "((-1.0e-5, 1.0e-5), (0.0, 0.08090472429788192), (-1.334582163922407e-7, 4.109041142782289e-7))"
      ]
     },
     "execution_count": 17,
     "metadata": {},
     "output_type": "execute_result"
    }
   ],
   "source": [
    "extrema(test), extrema(M.μ), extrema(M.mom1μ)"
   ]
  },
  {
   "cell_type": "code",
   "execution_count": 18,
   "metadata": {},
   "outputs": [
    {
     "data": {
      "text/plain": [
       "(9.999999814291046e-6, 0.0029692850196844913, 1.1095832860748813e-8)"
      ]
     },
     "execution_count": 18,
     "metadata": {},
     "output_type": "execute_result"
    }
   ],
   "source": [
    "std(test), std(M.μ), std(M.mom1μ)"
   ]
  },
  {
   "cell_type": "code",
   "execution_count": 10,
   "metadata": {},
   "outputs": [
    {
     "data": {
      "text/plain": [
       "(-7.746640579475731e-16, 2.0479244851529683e-15)"
      ]
     },
     "execution_count": 10,
     "metadata": {},
     "output_type": "execute_result"
    }
   ],
   "source": []
  },
  {
   "cell_type": "code",
   "execution_count": null,
   "metadata": {},
   "outputs": [],
   "source": [
    "marg = M.belief |> real;\n",
    "marg2D = reshape(sum(marg,dims=3) ./ N, T+2,T+2)\n",
    "ensAUC = avgAUC(marg,M.obs_list,count_obs=true); #set false to see the AUC only on NON observed indiv."
   ]
  },
  {
   "cell_type": "code",
   "execution_count": null,
   "metadata": {},
   "outputs": [],
   "source": [
    "sum(abs.(marg2D.-marg2D_zero))/length(marg2D)"
   ]
  },
  {
   "cell_type": "code",
   "execution_count": null,
   "metadata": {},
   "outputs": [],
   "source": [
    "scatter(ensAUC)\n",
    "scatter!(ensAUC_zero)"
   ]
  },
  {
   "cell_type": "code",
   "execution_count": null,
   "metadata": {},
   "outputs": [],
   "source": [
    "pheat = heatmap((marg2D),c=[:white,:blue,:black],xlabel=\"planted\",ylabel=\"inferred\",title=\"Average 2D marginal\")\n",
    "pheat_stab = heatmap((marg2D_zero.-marg2D),c=[:white,:blue,:black],xlabel=\"planted\",ylabel=\"inferred\")\n",
    "plot(pheat,pheat_stab)"
   ]
  },
  {
   "cell_type": "code",
   "execution_count": null,
   "metadata": {},
   "outputs": [],
   "source": [
    "scatter(F)\n",
    "scatter!(F_zero)\n",
    "hline!([0])"
   ]
  },
  {
   "cell_type": "code",
   "execution_count": null,
   "metadata": {},
   "outputs": [],
   "source": []
  },
  {
   "cell_type": "code",
   "execution_count": null,
   "metadata": {},
   "outputs": [],
   "source": []
  }
 ],
 "metadata": {
  "kernelspec": {
   "display_name": "Julia 1.8.5",
   "language": "julia",
   "name": "julia-1.8"
  },
  "language_info": {
   "file_extension": ".jl",
   "mimetype": "application/julia",
   "name": "julia",
   "version": "1.8.5"
  }
 },
 "nbformat": 4,
 "nbformat_minor": 4
}
